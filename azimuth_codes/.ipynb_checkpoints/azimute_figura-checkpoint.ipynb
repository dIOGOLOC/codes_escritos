{
 "cells": [
  {
   "cell_type": "code",
   "execution_count": 1,
   "metadata": {},
   "outputs": [],
   "source": [
    "import os\n",
    "import obspy"
   ]
  },
  {
   "cell_type": "code",
   "execution_count": 4,
   "metadata": {},
   "outputs": [],
   "source": [
    "directory = '/home/diogo/dados_doutorado/parnaiba_basin/RF_migration/redeBP-BB/event_data/BPPF/'"
   ]
  },
  {
   "cell_type": "code",
   "execution_count": 15,
   "metadata": {},
   "outputs": [],
   "source": [
    "STA = ['BPPF','BUCO','GENI','GRJU','PRDT','STSN','STSR','TRZN']"
   ]
  },
  {
   "cell_type": "code",
   "execution_count": 14,
   "metadata": {},
   "outputs": [],
   "source": [
    "EQR_files = []\n",
    "for root, dirs, files in os.walk(directory):\n",
    "    for rffiles in files:\n",
    "            if rffiles.endswith('a=2.5.eqr'):\n",
    "                EQR_files.append([root,files])"
   ]
  },
  {
   "cell_type": "code",
   "execution_count": 12,
   "metadata": {},
   "outputs": [
    {
     "data": {
      "text/plain": [
       "('/home/diogo/dados_doutorado/parnaiba_basin/RF_migration/redeBP-BB/event_data/BPPF/2016/273/2016.00.21.09.510000',\n",
       " [],\n",
       " ['BP.BPPF.273.00.21.09.510000.T:a=1.0.eqt',\n",
       "  'BP.BPPF.273.00.21.09.510000.r',\n",
       "  'BP.BPPF.273.00.21.09.510000.e',\n",
       "  'BP.BPPF.273.00.21.09.510000.T:a=0.5.eqt',\n",
       "  'BP.BPPF.273.00.21.09.510000.T:a=2.5.eqr',\n",
       "  'BP.BPPF.273.00.21.09.510000.z',\n",
       "  'BP.BPPF.273.00.21.09.510000.T:a=2.5.eqt',\n",
       "  'BP.BPPF.273.00.21.09.510000.T:a=0.5.eqr',\n",
       "  'BP.BPPF.273.00.21.09.510000.t',\n",
       "  'BP.BPPF.273.00.21.09.510000.n',\n",
       "  'BP.BPPF.273.00.21.09.510000.T:a=1.0.eqr'])"
      ]
     },
     "execution_count": 12,
     "metadata": {},
     "output_type": "execute_result"
    }
   ],
   "source": [
    "EQR_files[0]"
   ]
  },
  {
   "cell_type": "code",
   "execution_count": null,
   "metadata": {},
   "outputs": [],
   "source": []
  }
 ],
 "metadata": {
  "kernelspec": {
   "display_name": "Python 3",
   "language": "python",
   "name": "python3"
  },
  "language_info": {
   "codemirror_mode": {
    "name": "ipython",
    "version": 3
   },
   "file_extension": ".py",
   "mimetype": "text/x-python",
   "name": "python",
   "nbconvert_exporter": "python",
   "pygments_lexer": "ipython3",
   "version": "3.6.4"
  }
 },
 "nbformat": 4,
 "nbformat_minor": 2
}
