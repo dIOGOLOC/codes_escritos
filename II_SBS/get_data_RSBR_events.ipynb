{
 "cells": [
  {
   "cell_type": "code",
   "execution_count": 13,
   "metadata": {},
   "outputs": [],
   "source": [
    "%matplotlib inline"
   ]
  },
  {
   "cell_type": "code",
   "execution_count": 23,
   "metadata": {},
   "outputs": [],
   "source": [
    "import matplotlib.pyplot as plt\n",
    "import obspy\n",
    "import os\n",
    "import numpy as np\n",
    "from obspy.io.sac.sactrace import SACTrace\n",
    "from obspy.clients.fdsn import Client as irisClient\n",
    "from obspy.clients.arclink.client import Client\n",
    "from obspy.taup import TauPyModel\n",
    "from obspy.geodetics import kilometer2degrees\n",
    "from obspy.io.xseed import Parser\n",
    "from obspy.core.inventory import Inventory, Network, Station, Channel, Site"
   ]
  },
  {
   "cell_type": "markdown",
   "metadata": {},
   "source": [
    "### Coletando os dados dos Eventos"
   ]
  },
  {
   "cell_type": "code",
   "execution_count": 24,
   "metadata": {},
   "outputs": [],
   "source": [
    "#NEIC 2016-2017\n",
    "NEIC  = '/home/diogo/dados_doutorado/parnaiba_basin/RF_migration/codes_RF_process_BP/FR_programs/neic.BB'"
   ]
  },
  {
   "cell_type": "code",
   "execution_count": 25,
   "metadata": {},
   "outputs": [],
   "source": [
    "event_info = np.genfromtxt(NEIC,delimiter=',',skip_header=1,usecols=[1,2,3,4])"
   ]
  },
  {
   "cell_type": "code",
   "execution_count": 26,
   "metadata": {},
   "outputs": [],
   "source": [
    "\n",
    "#Guardando as variáves cada evento:\n",
    "\n",
    "ev_time =  np.genfromtxt(NEIC,delimiter=',',dtype='str',skip_header=1,usecols=[0])\n",
    "\n",
    "ev_timeUTC = []\n",
    "ev_year = []\n",
    "ev_month = []\n",
    "ev_day = []\n",
    "ev_julday = []\n",
    "ev_hour = []\n",
    "ev_minute = []\n",
    "ev_second = []\n",
    "ev_microsecond = []\n",
    "\n",
    "for i in ev_time:\n",
    "    temp = obspy.UTCDateTime(i)\n",
    "    ev_year.append(str(temp.year))\n",
    "    ev_month.append(str(\"{0:02.0f}\".format(temp.month)))\n",
    "    ev_julday.append(str(temp.julday))\n",
    "    ev_day.append(str(\"{0:02.0f}\".format(temp.day)))\n",
    "    ev_hour.append(str(temp.hour))\n",
    "    ev_minute.append(str(temp.minute))\n",
    "    ev_second.append(str(temp.second))\n",
    "    ev_microsecond.append(str(temp.microsecond))\n",
    "    ev_timeUTC.append(obspy.UTCDateTime(i))\n",
    "\n",
    "ev_lat = event_info[:,0]\n",
    "ev_long = event_info[:,1]\n",
    "ev_depth = event_info[:,2]\n",
    "ev_mag = event_info[:,3]"
   ]
  },
  {
   "cell_type": "markdown",
   "metadata": {},
   "source": [
    "### Baixando os dados paras a estação SMTB"
   ]
  },
  {
   "cell_type": "code",
   "execution_count": 27,
   "metadata": {},
   "outputs": [],
   "source": [
    "sta_lat_SMTB = -8.8617\n",
    "sta_long_SMTB = -47.5886"
   ]
  },
  {
   "cell_type": "code",
   "execution_count": 28,
   "metadata": {},
   "outputs": [],
   "source": [
    "event_starttime_SMTB = []\n",
    "event_endtime_SMTB = []"
   ]
  },
  {
   "cell_type": "code",
   "execution_count": 33,
   "metadata": {},
   "outputs": [],
   "source": [
    "dist_lst = []\n",
    "az_lst = []\n",
    "baz_lst = []\n",
    "gcarc_lst = []\n",
    "user8_lst = []\n",
    "for i,j in enumerate(ev_timeUTC):\n",
    "        dist, az, baz = obspy.geodetics.gps2dist_azimuth(ev_lat[i], ev_long[i], sta_lat_SMTB,sta_long_SMTB)\n",
    "        if obspy.geodetics.kilometer2degrees(dist/1000) >= 30 and obspy.geodetics.kilometer2degrees(dist/1000) <= 90:\n",
    "            dist_lst.append(dist)\n",
    "            az_lst.append(az)\n",
    "            baz_lst.append(baz)\n",
    "            gcarc = obspy.geodetics.kilometer2degrees(dist/1000)\n",
    "            gcarc_lst.append(gcarc)\n",
    "            model = TauPyModel(model=\"iasp91\")\n",
    "            arrivals = model.get_travel_times(source_depth_in_km=ev_depth[i],distance_in_degree=gcarc, phase_list=[\"P\"])\n",
    "            arr = arrivals[0]\n",
    "            user8_lst.append(arr.ray_param/6371)\n",
    "            event_starttime_SMTB.append(ev_timeUTC[i]+arr.time-500)\n",
    "            event_endtime_SMTB.append(ev_timeUTC[i]+arr.time+(3500))"
   ]
  },
  {
   "cell_type": "code",
   "execution_count": 9,
   "metadata": {},
   "outputs": [],
   "source": [
    "loc_folder = '/home/diogo/dados_doutorado/parnaiba_basin/assessing_data/data_7mb/event_data/'"
   ]
  },
  {
   "cell_type": "code",
   "execution_count": 35,
   "metadata": {},
   "outputs": [
    {
     "ename": "ArcLinkException",
     "evalue": "Timeout waiting for expected b')', got ",
     "output_type": "error",
     "traceback": [
      "\u001b[0;31m---------------------------------------------------------------------------\u001b[0m",
      "\u001b[0;31mArcLinkException\u001b[0m                          Traceback (most recent call last)",
      "\u001b[0;32m<ipython-input-35-563ba2778dba>\u001b[0m in \u001b[0;36m<module>\u001b[0;34m()\u001b[0m\n\u001b[0;32m----> 1\u001b[0;31m \u001b[0mclient\u001b[0m \u001b[0;34m=\u001b[0m \u001b[0mClient\u001b[0m\u001b[0;34m(\u001b[0m\u001b[0muser\u001b[0m\u001b[0;34m=\u001b[0m\u001b[0;34m'locdiogo@gmail.com'\u001b[0m\u001b[0;34m,\u001b[0m\u001b[0mhost\u001b[0m\u001b[0;34m=\u001b[0m\u001b[0;34m'10.3.227.41'\u001b[0m\u001b[0;34m,\u001b[0m \u001b[0mport\u001b[0m\u001b[0;34m=\u001b[0m\u001b[0;36m18001\u001b[0m\u001b[0;34m,\u001b[0m \u001b[0minstitution\u001b[0m\u001b[0;34m=\u001b[0m\u001b[0;34m'UFRN'\u001b[0m\u001b[0;34m,\u001b[0m\u001b[0mtimeout\u001b[0m\u001b[0;34m=\u001b[0m\u001b[0;36m200\u001b[0m\u001b[0;34m)\u001b[0m\u001b[0;34m\u001b[0m\u001b[0m\n\u001b[0m",
      "\u001b[0;32m~/programs/anaconda3/lib/python3.6/site-packages/obspy/clients/arclink/client.py\u001b[0m in \u001b[0;36m__init__\u001b[0;34m(self, user, host, port, password, institution, timeout, dcid_keys, dcid_key_file, debug, command_delay, status_delay)\u001b[0m\n\u001b[1;32m    127\u001b[0m         \u001b[0;31m# silent connection check\u001b[0m\u001b[0;34m\u001b[0m\u001b[0;34m\u001b[0m\u001b[0m\n\u001b[1;32m    128\u001b[0m         \u001b[0mself\u001b[0m\u001b[0;34m.\u001b[0m\u001b[0mdebug\u001b[0m \u001b[0;34m=\u001b[0m \u001b[0;32mFalse\u001b[0m\u001b[0;34m\u001b[0m\u001b[0m\n\u001b[0;32m--> 129\u001b[0;31m         \u001b[0mself\u001b[0m\u001b[0;34m.\u001b[0m\u001b[0m_hello\u001b[0m\u001b[0;34m(\u001b[0m\u001b[0;34m)\u001b[0m\u001b[0;34m\u001b[0m\u001b[0m\n\u001b[0m\u001b[1;32m    130\u001b[0m         \u001b[0mself\u001b[0m\u001b[0;34m.\u001b[0m\u001b[0mdebug\u001b[0m \u001b[0;34m=\u001b[0m \u001b[0mdebug\u001b[0m\u001b[0;34m\u001b[0m\u001b[0m\n\u001b[1;32m    131\u001b[0m         \u001b[0;32mif\u001b[0m \u001b[0mself\u001b[0m\u001b[0;34m.\u001b[0m\u001b[0mdebug\u001b[0m\u001b[0;34m:\u001b[0m\u001b[0;34m\u001b[0m\u001b[0m\n",
      "\u001b[0;32m~/programs/anaconda3/lib/python3.6/site-packages/obspy/clients/arclink/client.py\u001b[0m in \u001b[0;36m_hello\u001b[0;34m(self)\u001b[0m\n\u001b[1;32m    197\u001b[0m         \u001b[0mself\u001b[0m\u001b[0;34m.\u001b[0m\u001b[0m_reconnect\u001b[0m\u001b[0;34m(\u001b[0m\u001b[0;34m)\u001b[0m\u001b[0;34m\u001b[0m\u001b[0m\n\u001b[1;32m    198\u001b[0m         \u001b[0mself\u001b[0m\u001b[0;34m.\u001b[0m\u001b[0m_write_ln\u001b[0m\u001b[0;34m(\u001b[0m\u001b[0;34m'HELLO'\u001b[0m\u001b[0;34m)\u001b[0m\u001b[0;34m\u001b[0m\u001b[0m\n\u001b[0;32m--> 199\u001b[0;31m         \u001b[0mself\u001b[0m\u001b[0;34m.\u001b[0m\u001b[0mversion\u001b[0m \u001b[0;34m=\u001b[0m \u001b[0mself\u001b[0m\u001b[0;34m.\u001b[0m\u001b[0m_read_ln\u001b[0m\u001b[0;34m(\u001b[0m\u001b[0;34mb')'\u001b[0m\u001b[0;34m)\u001b[0m\u001b[0;34m\u001b[0m\u001b[0m\n\u001b[0m\u001b[1;32m    200\u001b[0m         \u001b[0mself\u001b[0m\u001b[0;34m.\u001b[0m\u001b[0mnode\u001b[0m \u001b[0;34m=\u001b[0m \u001b[0mself\u001b[0m\u001b[0;34m.\u001b[0m\u001b[0m_read_ln\u001b[0m\u001b[0;34m(\u001b[0m\u001b[0;34m)\u001b[0m\u001b[0;34m\u001b[0m\u001b[0m\n\u001b[1;32m    201\u001b[0m         \u001b[0;32mif\u001b[0m \u001b[0mself\u001b[0m\u001b[0;34m.\u001b[0m\u001b[0mpassword\u001b[0m\u001b[0;34m:\u001b[0m\u001b[0;34m\u001b[0m\u001b[0m\n",
      "\u001b[0;32m~/programs/anaconda3/lib/python3.6/site-packages/obspy/clients/arclink/client.py\u001b[0m in \u001b[0;36m_read_ln\u001b[0;34m(self, value)\u001b[0m\n\u001b[1;32m    189\u001b[0m         \u001b[0;32mif\u001b[0m \u001b[0mvalue\u001b[0m \u001b[0;32mnot\u001b[0m \u001b[0;32min\u001b[0m \u001b[0mline\u001b[0m\u001b[0;34m:\u001b[0m\u001b[0;34m\u001b[0m\u001b[0m\n\u001b[1;32m    190\u001b[0m             \u001b[0mmsg\u001b[0m \u001b[0;34m=\u001b[0m \u001b[0;34m\"Timeout waiting for expected %s, got %s\"\u001b[0m\u001b[0;34m\u001b[0m\u001b[0m\n\u001b[0;32m--> 191\u001b[0;31m             \u001b[0;32mraise\u001b[0m \u001b[0mArcLinkException\u001b[0m\u001b[0;34m(\u001b[0m\u001b[0mmsg\u001b[0m \u001b[0;34m%\u001b[0m \u001b[0;34m(\u001b[0m\u001b[0mvalue\u001b[0m\u001b[0;34m,\u001b[0m \u001b[0mline\u001b[0m\u001b[0;34m.\u001b[0m\u001b[0mdecode\u001b[0m\u001b[0;34m(\u001b[0m\u001b[0;34m)\u001b[0m\u001b[0;34m)\u001b[0m\u001b[0;34m)\u001b[0m\u001b[0;34m\u001b[0m\u001b[0m\n\u001b[0m\u001b[1;32m    192\u001b[0m         \u001b[0;32mif\u001b[0m \u001b[0mself\u001b[0m\u001b[0;34m.\u001b[0m\u001b[0mdebug\u001b[0m\u001b[0;34m:\u001b[0m\u001b[0;34m\u001b[0m\u001b[0m\n\u001b[1;32m    193\u001b[0m             \u001b[0mprint\u001b[0m\u001b[0;34m(\u001b[0m\u001b[0;34m'... '\u001b[0m \u001b[0;34m+\u001b[0m \u001b[0mline\u001b[0m\u001b[0;34m.\u001b[0m\u001b[0mdecode\u001b[0m\u001b[0;34m(\u001b[0m\u001b[0;34m)\u001b[0m\u001b[0;34m)\u001b[0m\u001b[0;34m\u001b[0m\u001b[0m\n",
      "\u001b[0;31mArcLinkException\u001b[0m: Timeout waiting for expected b')', got "
     ]
    }
   ],
   "source": [
    "client = Client(user='locdiogo@gmail.com',host='10.3.227.41', port=18001, institution='UFRN',timeout=200)"
   ]
  },
  {
   "cell_type": "code",
   "execution_count": 11,
   "metadata": {},
   "outputs": [
    {
     "ename": "ArcLinkException",
     "evalue": "No data available",
     "output_type": "error",
     "traceback": [
      "\u001b[0;31m---------------------------------------------------------------------------\u001b[0m",
      "\u001b[0;31mArcLinkException\u001b[0m                          Traceback (most recent call last)",
      "\u001b[0;32m<ipython-input-11-e53883a4a48c>\u001b[0m in \u001b[0;36m<module>\u001b[0;34m()\u001b[0m\n\u001b[1;32m      1\u001b[0m \u001b[0mst_SMTB_Z\u001b[0m \u001b[0;34m=\u001b[0m \u001b[0;34m[\u001b[0m\u001b[0;34m]\u001b[0m\u001b[0;34m\u001b[0m\u001b[0m\n\u001b[0;32m----> 2\u001b[0;31m \u001b[0mst_SMTB_Z\u001b[0m \u001b[0;34m=\u001b[0m \u001b[0;34m[\u001b[0m\u001b[0mclient\u001b[0m\u001b[0;34m.\u001b[0m\u001b[0mget_waveforms\u001b[0m\u001b[0;34m(\u001b[0m\u001b[0;34m'BR'\u001b[0m\u001b[0;34m,\u001b[0m\u001b[0;34m'SMTB'\u001b[0m\u001b[0;34m,\u001b[0m\u001b[0;34m''\u001b[0m\u001b[0;34m,\u001b[0m\u001b[0;34m'HHZ'\u001b[0m\u001b[0;34m,\u001b[0m\u001b[0mj\u001b[0m\u001b[0;34m,\u001b[0m \u001b[0mevent_endtime_SMTB\u001b[0m\u001b[0;34m[\u001b[0m\u001b[0mi\u001b[0m\u001b[0;34m]\u001b[0m\u001b[0;34m)\u001b[0m \u001b[0;32mfor\u001b[0m \u001b[0mi\u001b[0m\u001b[0;34m,\u001b[0m\u001b[0mj\u001b[0m \u001b[0;32min\u001b[0m \u001b[0menumerate\u001b[0m\u001b[0;34m(\u001b[0m\u001b[0mevent_starttime_SMTB\u001b[0m\u001b[0;34m)\u001b[0m\u001b[0;34m]\u001b[0m\u001b[0;34m\u001b[0m\u001b[0m\n\u001b[0m",
      "\u001b[0;32m<ipython-input-11-e53883a4a48c>\u001b[0m in \u001b[0;36m<listcomp>\u001b[0;34m(.0)\u001b[0m\n\u001b[1;32m      1\u001b[0m \u001b[0mst_SMTB_Z\u001b[0m \u001b[0;34m=\u001b[0m \u001b[0;34m[\u001b[0m\u001b[0;34m]\u001b[0m\u001b[0;34m\u001b[0m\u001b[0m\n\u001b[0;32m----> 2\u001b[0;31m \u001b[0mst_SMTB_Z\u001b[0m \u001b[0;34m=\u001b[0m \u001b[0;34m[\u001b[0m\u001b[0mclient\u001b[0m\u001b[0;34m.\u001b[0m\u001b[0mget_waveforms\u001b[0m\u001b[0;34m(\u001b[0m\u001b[0;34m'BR'\u001b[0m\u001b[0;34m,\u001b[0m\u001b[0;34m'SMTB'\u001b[0m\u001b[0;34m,\u001b[0m\u001b[0;34m''\u001b[0m\u001b[0;34m,\u001b[0m\u001b[0;34m'HHZ'\u001b[0m\u001b[0;34m,\u001b[0m\u001b[0mj\u001b[0m\u001b[0;34m,\u001b[0m \u001b[0mevent_endtime_SMTB\u001b[0m\u001b[0;34m[\u001b[0m\u001b[0mi\u001b[0m\u001b[0;34m]\u001b[0m\u001b[0;34m)\u001b[0m \u001b[0;32mfor\u001b[0m \u001b[0mi\u001b[0m\u001b[0;34m,\u001b[0m\u001b[0mj\u001b[0m \u001b[0;32min\u001b[0m \u001b[0menumerate\u001b[0m\u001b[0;34m(\u001b[0m\u001b[0mevent_starttime_SMTB\u001b[0m\u001b[0;34m)\u001b[0m\u001b[0;34m]\u001b[0m\u001b[0;34m\u001b[0m\u001b[0m\n\u001b[0m",
      "\u001b[0;32m~/programs/anaconda3/lib/python3.6/site-packages/obspy/clients/arclink/client.py\u001b[0m in \u001b[0;36mget_waveforms\u001b[0;34m(self, network, station, location, channel, starttime, endtime, format, compressed, metadata, route)\u001b[0m\n\u001b[1;32m    442\u001b[0m         self.save_waveforms(file_stream, network, station, location, channel,\n\u001b[1;32m    443\u001b[0m                             \u001b[0mstarttime\u001b[0m\u001b[0;34m,\u001b[0m \u001b[0mendtime\u001b[0m\u001b[0;34m,\u001b[0m \u001b[0mformat\u001b[0m\u001b[0;34m=\u001b[0m\u001b[0mformat\u001b[0m\u001b[0;34m,\u001b[0m\u001b[0;34m\u001b[0m\u001b[0m\n\u001b[0;32m--> 444\u001b[0;31m                             compressed=compressed, route=route)\n\u001b[0m\u001b[1;32m    445\u001b[0m         \u001b[0mfile_stream\u001b[0m\u001b[0;34m.\u001b[0m\u001b[0mseek\u001b[0m\u001b[0;34m(\u001b[0m\u001b[0;36m0\u001b[0m\u001b[0;34m,\u001b[0m \u001b[0;36m0\u001b[0m\u001b[0;34m)\u001b[0m\u001b[0;34m\u001b[0m\u001b[0m\n\u001b[1;32m    446\u001b[0m         \u001b[0mstream\u001b[0m \u001b[0;34m=\u001b[0m \u001b[0mread\u001b[0m\u001b[0;34m(\u001b[0m\u001b[0mfile_stream\u001b[0m\u001b[0;34m,\u001b[0m \u001b[0;34m'MSEED'\u001b[0m\u001b[0;34m)\u001b[0m\u001b[0;34m\u001b[0m\u001b[0m\n",
      "\u001b[0;32m~/programs/anaconda3/lib/python3.6/site-packages/obspy/clients/arclink/client.py\u001b[0m in \u001b[0;36msave_waveforms\u001b[0;34m(self, filename, network, station, location, channel, starttime, endtime, format, compressed, route, unpack)\u001b[0m\n\u001b[1;32m    563\u001b[0m         \u001b[0mrdata\u001b[0m \u001b[0;34m=\u001b[0m \u001b[0;34m[\u001b[0m\u001b[0mstarttime\u001b[0m\u001b[0;34m,\u001b[0m \u001b[0mendtime\u001b[0m\u001b[0;34m,\u001b[0m \u001b[0mnetwork\u001b[0m\u001b[0;34m,\u001b[0m \u001b[0mstation\u001b[0m\u001b[0;34m,\u001b[0m \u001b[0mchannel\u001b[0m\u001b[0;34m,\u001b[0m \u001b[0mlocation\u001b[0m\u001b[0;34m]\u001b[0m\u001b[0;34m\u001b[0m\u001b[0m\n\u001b[1;32m    564\u001b[0m         \u001b[0;31m# fetch waveform\u001b[0m\u001b[0;34m\u001b[0m\u001b[0;34m\u001b[0m\u001b[0m\n\u001b[0;32m--> 565\u001b[0;31m         \u001b[0mdata\u001b[0m \u001b[0;34m=\u001b[0m \u001b[0mself\u001b[0m\u001b[0;34m.\u001b[0m\u001b[0m_fetch\u001b[0m\u001b[0;34m(\u001b[0m\u001b[0mrtype\u001b[0m\u001b[0;34m,\u001b[0m \u001b[0mrdata\u001b[0m\u001b[0;34m,\u001b[0m \u001b[0mroute\u001b[0m\u001b[0;34m=\u001b[0m\u001b[0mroute\u001b[0m\u001b[0;34m)\u001b[0m\u001b[0;34m\u001b[0m\u001b[0m\n\u001b[0m\u001b[1;32m    566\u001b[0m         \u001b[0;31m# check if data is still encrypted\u001b[0m\u001b[0;34m\u001b[0m\u001b[0;34m\u001b[0m\u001b[0m\n\u001b[1;32m    567\u001b[0m         \u001b[0;32mif\u001b[0m \u001b[0mdata\u001b[0m\u001b[0;34m.\u001b[0m\u001b[0mstartswith\u001b[0m\u001b[0;34m(\u001b[0m\u001b[0;34mb'Salted__'\u001b[0m\u001b[0;34m)\u001b[0m\u001b[0;34m:\u001b[0m\u001b[0;34m\u001b[0m\u001b[0m\n",
      "\u001b[0;32m~/programs/anaconda3/lib/python3.6/site-packages/obspy/clients/arclink/client.py\u001b[0m in \u001b[0;36m_fetch\u001b[0;34m(self, request_type, request_data, route)\u001b[0m\n\u001b[1;32m    250\u001b[0m             \u001b[0;32mif\u001b[0m \u001b[0mitem\u001b[0m\u001b[0;34m[\u001b[0m\u001b[0;34m'host'\u001b[0m\u001b[0;34m]\u001b[0m \u001b[0;34m==\u001b[0m \u001b[0mself\u001b[0m\u001b[0;34m.\u001b[0m\u001b[0m_client\u001b[0m\u001b[0;34m.\u001b[0m\u001b[0mhost\u001b[0m \u001b[0;32mand\u001b[0m\u001b[0;31m \u001b[0m\u001b[0;31m\\\u001b[0m\u001b[0;34m\u001b[0m\u001b[0m\n\u001b[1;32m    251\u001b[0m                \u001b[0mitem\u001b[0m\u001b[0;34m[\u001b[0m\u001b[0;34m'port'\u001b[0m\u001b[0;34m]\u001b[0m \u001b[0;34m==\u001b[0m \u001b[0mself\u001b[0m\u001b[0;34m.\u001b[0m\u001b[0m_client\u001b[0m\u001b[0;34m.\u001b[0m\u001b[0mport\u001b[0m\u001b[0;34m:\u001b[0m\u001b[0;34m\u001b[0m\u001b[0m\n\u001b[0;32m--> 252\u001b[0;31m                 \u001b[0;32mreturn\u001b[0m \u001b[0mself\u001b[0m\u001b[0;34m.\u001b[0m\u001b[0m_request\u001b[0m\u001b[0;34m(\u001b[0m\u001b[0mrequest_type\u001b[0m\u001b[0;34m,\u001b[0m \u001b[0mrequest_data\u001b[0m\u001b[0;34m)\u001b[0m\u001b[0;34m\u001b[0m\u001b[0m\n\u001b[0m\u001b[1;32m    253\u001b[0m             \u001b[0mself\u001b[0m\u001b[0;34m.\u001b[0m\u001b[0m_client\u001b[0m\u001b[0;34m.\u001b[0m\u001b[0mhost\u001b[0m \u001b[0;34m=\u001b[0m \u001b[0mitem\u001b[0m\u001b[0;34m[\u001b[0m\u001b[0;34m'host'\u001b[0m\u001b[0;34m]\u001b[0m\u001b[0;34m\u001b[0m\u001b[0m\n\u001b[1;32m    254\u001b[0m             \u001b[0mself\u001b[0m\u001b[0;34m.\u001b[0m\u001b[0m_client\u001b[0m\u001b[0;34m.\u001b[0m\u001b[0mport\u001b[0m \u001b[0;34m=\u001b[0m \u001b[0mitem\u001b[0m\u001b[0;34m[\u001b[0m\u001b[0;34m'port'\u001b[0m\u001b[0;34m]\u001b[0m\u001b[0;34m\u001b[0m\u001b[0m\n",
      "\u001b[0;32m~/programs/anaconda3/lib/python3.6/site-packages/obspy/clients/arclink/client.py\u001b[0m in \u001b[0;36m_request\u001b[0;34m(self, request_type, request_data)\u001b[0m\n\u001b[1;32m    327\u001b[0m             \u001b[0mself\u001b[0m\u001b[0;34m.\u001b[0m\u001b[0m_write_ln\u001b[0m\u001b[0;34m(\u001b[0m\u001b[0;34m'PURGE %d'\u001b[0m \u001b[0;34m%\u001b[0m \u001b[0mreq_id\u001b[0m\u001b[0;34m)\u001b[0m\u001b[0;34m\u001b[0m\u001b[0m\n\u001b[1;32m    328\u001b[0m             \u001b[0mself\u001b[0m\u001b[0;34m.\u001b[0m\u001b[0m_bye\u001b[0m\u001b[0;34m(\u001b[0m\u001b[0;34m)\u001b[0m\u001b[0;34m\u001b[0m\u001b[0m\n\u001b[0;32m--> 329\u001b[0;31m             \u001b[0;32mraise\u001b[0m \u001b[0mArcLinkException\u001b[0m\u001b[0;34m(\u001b[0m\u001b[0;34m'No data available'\u001b[0m\u001b[0;34m)\u001b[0m\u001b[0;34m\u001b[0m\u001b[0m\n\u001b[0m\u001b[1;32m    330\u001b[0m         \u001b[0;32melif\u001b[0m \u001b[0;34mb'id=\"NODATA\"'\u001b[0m \u001b[0;32min\u001b[0m \u001b[0mxml_doc\u001b[0m \u001b[0;32mor\u001b[0m \u001b[0;34mb'id=\"ERROR\"'\u001b[0m \u001b[0;32min\u001b[0m \u001b[0mxml_doc\u001b[0m\u001b[0;34m:\u001b[0m\u001b[0;34m\u001b[0m\u001b[0m\n\u001b[1;32m    331\u001b[0m             \u001b[0;31m# cleanup\u001b[0m\u001b[0;34m\u001b[0m\u001b[0;34m\u001b[0m\u001b[0m\n",
      "\u001b[0;31mArcLinkException\u001b[0m: No data available"
     ]
    }
   ],
   "source": [
    "st_SMTB_Z = []\n",
    "st_SMTB_Z = [client.get_waveforms('BR','SMTB','','HHZ',j, event_endtime_SMTB[i]) for i,j in enumerate(event_starttime_SMTB)]"
   ]
  },
  {
   "cell_type": "code",
   "execution_count": null,
   "metadata": {},
   "outputs": [],
   "source": [
    "st_SMTB_N = []\n",
    "\n",
    "st_SMTB_N = [client.get_waveforms('BR','SMTB','','HHN',j, event_endtime_SMTB[i]) for i,j in enumerate(event_starttime_SMTB)]"
   ]
  },
  {
   "cell_type": "code",
   "execution_count": null,
   "metadata": {},
   "outputs": [],
   "source": [
    "st_SMTB_E = []\n",
    "\n",
    "st_SMTB_E = [client.get_waveforms('BR','SMTB','','HHE',j, event_endtime_SMTB[i]) for i,j in enumerate(event_starttime_SMTB)]"
   ]
  },
  {
   "cell_type": "code",
   "execution_count": null,
   "metadata": {},
   "outputs": [],
   "source": [
    "for k,l in enumerate(st_SMTB_Z):\n",
    "    try:\n",
    "        j = l[0].stats.starttime\n",
    "        folder_loc_string = loc_folder+'SMTB'+'/'+str(j.year)+'/'+str(\"{0:0=3d}\".format(j.julday))+'/'+str(j.year)+'.'+str(j.hour)+'.'+str(j.minute)+'.'+str(j.second)+'.'+str(j.microsecond)\n",
    "        os.makedirs(folder_loc_string,exist_ok=True)\n",
    "        headerHHZ = {'kstnm': 'SMTB', 'kcmpnm': 'HHZ', 'stla': sta_lat_SMTB, 'stlo': sta_long_SMTB, 'evdp': ev_depth[k],  \n",
    "                     'evla': ev_lat[k], 'evlo': ev_long[k], 'mag': ev_mag[k], 'nzhour': int(ev_hour[k]),\n",
    "                     'nzjday': int(ev_julday[k]), 'nzmin': int(ev_minute[k]),'nzmsec': float(ev_microsecond[k])/10000, 'nzsec': int(ev_second[k]), 'nzyear': int(ev_year[k]),\n",
    "                     'cmpaz': 0.0, 'cmpinc': 0.0, 'dist': dist_lst[k]/1000, 'gcarc': gcarc_lst[k], 'az': az_lst[k], 'baz': baz_lst[k], \n",
    "                     'user8': user8_lst[k],'delta':l[0].stats.delta,'npts':l[0].stats.npts}\n",
    "        sacHHZ = SACTrace(data=l[0].data, **headerHHZ)\n",
    "        sacHHZ.write(folder_loc_string+'/BR.SMTB.'+str(j.year)+'.'+str(j.hour)+'.'+str(j.minute)+'.'+str(j.second)+'.'+str(j.microsecond)+'.z')\n",
    "        \n",
    "        headerHHY = {'kstnm': 'SMTB', 'kcmpnm': 'HHN', 'stla': sta_lat_SMTB, 'stlo': sta_long_SMTB, 'evdp': ev_depth[k],\n",
    "                     'evla': ev_lat[k], 'evlo': ev_long[k], 'mag': ev_mag[k], 'nzhour': int(ev_hour[k]),\n",
    "                     'nzjday': int(ev_julday[k]), 'nzmin': int(ev_minute[k]), 'nzmsec': float(ev_microsecond[k])/10000,'nzsec': int(ev_second[k]), 'nzyear': int(ev_year[k]),\n",
    "                     'cmpaz': 0.0, 'cmpinc': 90.0, 'dist': dist_lst[k]/1000, 'gcarc': gcarc_lst[k], 'az': az_lst[k], 'baz': baz_lst[k],\n",
    "                     'user8': user8_lst[k],'delta':st_SMTB_N[k][0].stats.delta,'npts':st_SMTB_N[k][0].stats.npts}\n",
    "        sacHHY = SACTrace(data=st_SMTB_N[k][0].data, **headerHHY)\n",
    "        sacHHY.write(folder_loc_string+'/BR.SMTB.'+str(j.year)+'.'+str(j.hour)+'.'+str(j.minute)+'.'+str(j.second)+'.'+str(j.microsecond)+'.n')\n",
    "        \n",
    "        headerHHX = {'kstnm': 'SMTB', 'kcmpnm': 'HHE', 'stla': sta_lat_SMTB, 'stlo': sta_long_SMTB, 'evdp': ev_depth[k],  \n",
    "                     'evla': ev_lat[k], 'evlo': ev_long[k], 'mag': ev_mag[k], 'nzhour': int(ev_hour[k]),\n",
    "                     'nzjday': int(ev_julday[k]), 'nzmin': int(ev_minute[k]),\n",
    "                     'nzmsec': float(ev_microsecond[k])/10000, 'nzsec': int(ev_second[k]), 'nzyear': int(ev_year[k]),\n",
    "                     'cmpaz': 90.0, 'cmpinc': 90.0,'dist': dist_lst[k]/1000, 'gcarc': gcarc_lst[k], 'az': az_lst[k], 'baz': baz_lst[k], \n",
    "                    'user8': user8_lst[k],'delta':st_SMTB_E[k][0].stats.delta,'npts':st_SMTB_E[k][0].stats.npts}\n",
    "        sacHHX = SACTrace(data=st_SMTB_E[k][0].data, **headerHHX)\n",
    "        sacHHX.write(folder_loc_string+'/BR.SMTB.'+str(j.year)+'.'+str(j.hour)+'.'+str(j.minute)+'.'+str(j.second)+'.'+str(j.microsecond)+'.e')\n",
    "\n",
    "    except:\n",
    "        print('Deu RUIM')"
   ]
  },
  {
   "cell_type": "markdown",
   "metadata": {},
   "source": [
    "### Baixando os dados paras a estação ROSB"
   ]
  },
  {
   "cell_type": "code",
   "execution_count": null,
   "metadata": {},
   "outputs": [],
   "source": [
    "sta_lat_ROSB = -2.8967\n",
    "sta_long_ROSB = -44.1246"
   ]
  },
  {
   "cell_type": "code",
   "execution_count": null,
   "metadata": {},
   "outputs": [],
   "source": [
    "event_starttime_ROSB = []\n",
    "event_endtime_ROSB = []"
   ]
  },
  {
   "cell_type": "code",
   "execution_count": null,
   "metadata": {},
   "outputs": [],
   "source": [
    "dist_lst = []\n",
    "az_lst = []\n",
    "baz_lst = []\n",
    "gcarc_lst = []\n",
    "user8_lst = []\n",
    "for i,j in enumerate(ev_timeUTC):\n",
    "        dist, az, baz = obspy.geodetics.gps2dist_azimuth(ev_lat[i], ev_long[i], sta_lat_ROSB,sta_long_ROSB)\n",
    "        dist_lst.append(dist)\n",
    "        az_lst.append(az)\n",
    "        baz_lst.append(baz)\n",
    "        gcarc = obspy.geodetics.kilometer2degrees(dist/1000)\n",
    "        gcarc_lst.append(gcarc)\n",
    "        model = TauPyModel(model=\"iasp91\")\n",
    "        arrivals = model.get_travel_times(source_depth_in_km=ev_depth[i],distance_in_degree=gcarc, phase_list=[\"P\"])\n",
    "        arr = arrivals[0]\n",
    "        user8_lst.append(arr.ray_param/6371)\n",
    "        event_starttime_ROSB.append(ev_timeUTC[i]+arr.time-500)\n",
    "        event_endtime_ROSB.append(ev_timeUTC[i]+arr.time+(3500))"
   ]
  },
  {
   "cell_type": "code",
   "execution_count": null,
   "metadata": {},
   "outputs": [],
   "source": [
    "st_ROSB_Z = []\n",
    "\n",
    "st_ROSB_Z = [client.get_waveforms('BR','ROSB','','HHZ',j, event_endtime_ROSB[i]) for i,j in enumerate(event_starttime_ROSB)]"
   ]
  },
  {
   "cell_type": "code",
   "execution_count": null,
   "metadata": {},
   "outputs": [],
   "source": [
    "st_ROSB_N = []\n",
    "\n",
    "st_ROSB_N = [client.get_waveforms('BR','ROSB','','HHN',j, event_endtime_ROSB[i]) for i,j in enumerate(event_starttime_ROSB)]"
   ]
  },
  {
   "cell_type": "code",
   "execution_count": null,
   "metadata": {},
   "outputs": [],
   "source": [
    "st_ROSB_E = []\n",
    "\n",
    "st_ROSB_E = [client.get_waveforms('BR','ROSB','','HHE',j, event_endtime_ROSB[i]) for i,j in enumerate(event_starttime_ROSB)]"
   ]
  },
  {
   "cell_type": "code",
   "execution_count": null,
   "metadata": {},
   "outputs": [],
   "source": [
    "for k,l in enumerate(st_ROSB_Z):\n",
    "    try:\n",
    "        j = l[0].stats.starttime\n",
    "        folder_loc_string = loc_folder+'ROSB'+'/'+str(j.year)+'/'+str(\"{0:0=3d}\".format(j.julday))+'/'+str(j.year)+'.'+str(j.hour)+'.'+str(j.minute)+'.'+str(j.second)+'.'+str(j.microsecond)\n",
    "        os.makedirs(folder_loc_string,exist_ok=True)\n",
    "        headerHHZ = {'kstnm': 'ROSB', 'kcmpnm': 'HHZ', 'stla': sta_lat_ROSB, 'stlo': sta_long_ROSB, 'evdp': ev_depth[k],  \n",
    "                     'evla': ev_lat[k], 'evlo': ev_long[k], 'mag': ev_mag[k], 'nzhour': int(ev_hour[k]),\n",
    "                     'nzjday': int(ev_julday[k]), 'nzmin': int(ev_minute[k]),'nzmsec': float(ev_microsecond[k])/10000, 'nzsec': int(ev_second[k]), 'nzyear': int(ev_year[k]),\n",
    "                     'cmpaz': 0.0, 'cmpinc': 0.0, 'dist': dist_lst[k]/1000, 'gcarc': gcarc_lst[k], 'az': az_lst[k], 'baz': baz_lst[k], \n",
    "                     'user8': user8_lst[k],'delta':l[0].stats.delta,'npts':l[0].stats.npts}\n",
    "        sacHHZ = SACTrace(data=l[0].data, **headerHHZ)\n",
    "        sacHHZ.write(folder_loc_string+'/BR.ROSB.'+str(j.year)+'.'+str(j.hour)+'.'+str(j.minute)+'.'+str(j.second)+'.'+str(j.microsecond)+'.z')\n",
    "        \n",
    "        headerHHY = {'kstnm': 'ROSB', 'kcmpnm': 'HHN', 'stla': sta_lat_ROSB, 'stlo': sta_long_ROSB, 'evdp': ev_depth[k],\n",
    "                     'evla': ev_lat[k], 'evlo': ev_long[k], 'mag': ev_mag[k], 'nzhour': int(ev_hour[k]),\n",
    "                     'nzjday': int(ev_julday[k]), 'nzmin': int(ev_minute[k]), 'nzmsec': float(ev_microsecond[k])/10000,'nzsec': int(ev_second[k]), 'nzyear': int(ev_year[k]),\n",
    "                     'cmpaz': 0.0, 'cmpinc': 90.0, 'dist': dist_lst[k]/1000, 'gcarc': gcarc_lst[k], 'az': az_lst[k], 'baz': baz_lst[k],\n",
    "                     'user8': user8_lst[k],'delta':st_ROSB_N[k][0].stats.delta,'npts':st_ROSB_N[k][0].stats.npts}\n",
    "        sacHHY = SACTrace(data=st_ROSB_N[k][0].data, **headerHHY)\n",
    "        sacHHY.write(folder_loc_string+'/BR.ROSB.'+str(j.year)+'.'+str(j.hour)+'.'+str(j.minute)+'.'+str(j.second)+'.'+str(j.microsecond)+'.n')\n",
    "        \n",
    "        headerHHX = {'kstnm': 'ROSB', 'kcmpnm': 'HHE', 'stla': sta_lat_ROSB, 'stlo': sta_long_ROSB, 'evdp': ev_depth[k],  \n",
    "                     'evla': ev_lat[k], 'evlo': ev_long[k], 'mag': ev_mag[k], 'nzhour': int(ev_hour[k]),\n",
    "                     'nzjday': int(ev_julday[k]), 'nzmin': int(ev_minute[k]),\n",
    "                     'nzmsec': float(ev_microsecond[k])/10000, 'nzsec': int(ev_second[k]), 'nzyear': int(ev_year[k]),\n",
    "                     'cmpaz': 90.0, 'cmpinc': 90.0,'dist': dist_lst[k]/1000, 'gcarc': gcarc_lst[k], 'az': az_lst[k], 'baz': baz_lst[k], \n",
    "                     'user8': user8_lst[k],'delta':st_ROSB_E[k][0].stats.delta,'npts':st_ROSB_E[k][0].stats.npts}\n",
    "        sacHHX = SACTrace(data=st_ROSB_E[k][0].data, **headerHHX)\n",
    "        sacHHX.write(folder_loc_string+'/BR.ROSB.'+str(j.year)+'.'+str(j.hour)+'.'+str(j.minute)+'.'+str(j.second)+'.'+str(j.microsecond)+'.e')\n",
    "\n",
    "    except:\n",
    "        print('Deu RUIM')"
   ]
  },
  {
   "cell_type": "code",
   "execution_count": null,
   "metadata": {},
   "outputs": [],
   "source": []
  }
 ],
 "metadata": {
  "kernelspec": {
   "display_name": "Python 3",
   "language": "python",
   "name": "python3"
  },
  "language_info": {
   "codemirror_mode": {
    "name": "ipython",
    "version": 3
   },
   "file_extension": ".py",
   "mimetype": "text/x-python",
   "name": "python",
   "nbconvert_exporter": "python",
   "pygments_lexer": "ipython3",
   "version": "3.7.3"
  }
 },
 "nbformat": 4,
 "nbformat_minor": 2
}
