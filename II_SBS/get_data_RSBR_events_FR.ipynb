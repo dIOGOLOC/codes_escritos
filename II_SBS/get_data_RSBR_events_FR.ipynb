{
 "cells": [
  {
   "cell_type": "code",
   "execution_count": 1,
   "metadata": {},
   "outputs": [],
   "source": [
    "%matplotlib inline"
   ]
  },
  {
   "cell_type": "code",
   "execution_count": 2,
   "metadata": {},
   "outputs": [],
   "source": [
    "import matplotlib.pyplot as plt\n",
    "import obspy\n",
    "import os\n",
    "import numpy as np\n",
    "from obspy.io.sac.sactrace import SACTrace\n",
    "from obspy.clients.fdsn import Client as irisClient\n",
    "from obspy.clients.arclink.client import Client\n",
    "from obspy.taup import TauPyModel\n",
    "from obspy.geodetics import kilometer2degrees\n",
    "from obspy.io.xseed import Parser\n",
    "from obspy.core.inventory import Inventory, Network, Station, Channel, Site"
   ]
  },
  {
   "cell_type": "markdown",
   "metadata": {},
   "source": [
    "### Coletando os dados dos Eventos"
   ]
  },
  {
   "cell_type": "code",
   "execution_count": 3,
   "metadata": {},
   "outputs": [],
   "source": [
    "#NEIC 2016-2017\n",
    "NEIC  = '/home/diogo/dados_doutorado/parnaiba_basin/assessing_data/assessing_codes/NEIC_7mb.csv'"
   ]
  },
  {
   "cell_type": "code",
   "execution_count": 4,
   "metadata": {},
   "outputs": [],
   "source": [
    "event_info = np.genfromtxt(NEIC,delimiter=',',skip_header=1,usecols=[1,2,3,4])"
   ]
  },
  {
   "cell_type": "code",
   "execution_count": 5,
   "metadata": {},
   "outputs": [],
   "source": [
    "\n",
    "#Guardando as variáves cada evento:\n",
    "\n",
    "ev_time =  np.genfromtxt(NEIC,delimiter=',',dtype='str',skip_header=1,usecols=[0])\n",
    "\n",
    "ev_timeUTC = []\n",
    "ev_year = []\n",
    "ev_month = []\n",
    "ev_day = []\n",
    "ev_julday = []\n",
    "ev_hour = []\n",
    "ev_minute = []\n",
    "ev_second = []\n",
    "ev_microsecond = []\n",
    "\n",
    "for i in ev_time:\n",
    "    temp = obspy.UTCDateTime(i)\n",
    "    ev_year.append(str(temp.year))\n",
    "    ev_month.append(str(\"{0:02.0f}\".format(temp.month)))\n",
    "    ev_julday.append(str(temp.julday))\n",
    "    ev_day.append(str(\"{0:02.0f}\".format(temp.day)))\n",
    "    ev_hour.append(str(temp.hour))\n",
    "    ev_minute.append(str(temp.minute))\n",
    "    ev_second.append(str(temp.second))\n",
    "    ev_microsecond.append(str(temp.microsecond))\n",
    "    ev_timeUTC.append(obspy.UTCDateTime(i))\n",
    "\n",
    "ev_lat = event_info[:,0]\n",
    "ev_long = event_info[:,1]\n",
    "ev_depth = event_info[:,2]\n",
    "ev_mag = event_info[:,3]"
   ]
  },
  {
   "cell_type": "markdown",
   "metadata": {},
   "source": [
    "### Baixando os dados paras a estação SMTB"
   ]
  },
  {
   "cell_type": "code",
   "execution_count": 6,
   "metadata": {},
   "outputs": [],
   "source": [
    "sta_lat_SMTB = -8.8617\n",
    "sta_long_SMTB = -47.5886"
   ]
  },
  {
   "cell_type": "code",
   "execution_count": 7,
   "metadata": {},
   "outputs": [],
   "source": [
    "event_starttime_SMTB = []\n",
    "event_endtime_SMTB = []"
   ]
  },
  {
   "cell_type": "code",
   "execution_count": 8,
   "metadata": {},
   "outputs": [],
   "source": [
    "dist_lst = []\n",
    "az_lst = []\n",
    "baz_lst = []\n",
    "gcarc_lst = []\n",
    "user8_lst = []\n",
    "for i,j in enumerate(ev_timeUTC):\n",
    "        dist, az, baz = obspy.geodetics.gps2dist_azimuth(ev_lat[i], ev_long[i], sta_lat_SMTB,sta_long_SMTB)\n",
    "        dist_lst.append(dist)\n",
    "        az_lst.append(az)\n",
    "        baz_lst.append(baz)\n",
    "        gcarc = obspy.geodetics.kilometer2degrees(dist/1000)\n",
    "        gcarc_lst.append(gcarc)\n",
    "        model = TauPyModel(model=\"iasp91\")\n",
    "        arrivals = model.get_travel_times(source_depth_in_km=ev_depth[i],distance_in_degree=gcarc, phase_list=[\"P\"])\n",
    "        arr = arrivals[0]\n",
    "        user8_lst.append(arr.ray_param/6371)\n",
    "        event_starttime_SMTB.append(ev_timeUTC[i]+arr.time-10)\n",
    "        event_endtime_SMTB.append(ev_timeUTC[i]+arr.time+(110))"
   ]
  },
  {
   "cell_type": "code",
   "execution_count": 9,
   "metadata": {},
   "outputs": [],
   "source": [
    "loc_folder = '/home/diogo/dados_doutorado/parnaiba_basin/assessing_data/data_7mb/FR_data/'"
   ]
  },
  {
   "cell_type": "code",
   "execution_count": 10,
   "metadata": {},
   "outputs": [],
   "source": [
    "client = Client(user='locdiogo@gmail.com',host='seisrequest.iag.usp.br', port=18001, institution='UFRN')"
   ]
  },
  {
   "cell_type": "code",
   "execution_count": 11,
   "metadata": {},
   "outputs": [],
   "source": [
    "st_SMTB_Z = []\n",
    "st_SMTB_Z = [client.get_waveforms('BR','SMTB','','HHZ',j, event_endtime_SMTB[i]) for i,j in enumerate(event_starttime_SMTB)]"
   ]
  },
  {
   "cell_type": "code",
   "execution_count": 12,
   "metadata": {},
   "outputs": [],
   "source": [
    "st_SMTB_N = []\n",
    "\n",
    "st_SMTB_N = [client.get_waveforms('BR','SMTB','','HHN',j, event_endtime_SMTB[i]) for i,j in enumerate(event_starttime_SMTB)]"
   ]
  },
  {
   "cell_type": "code",
   "execution_count": 13,
   "metadata": {},
   "outputs": [],
   "source": [
    "st_SMTB_E = []\n",
    "\n",
    "st_SMTB_E = [client.get_waveforms('BR','SMTB','','HHE',j, event_endtime_SMTB[i]) for i,j in enumerate(event_starttime_SMTB)]"
   ]
  },
  {
   "cell_type": "code",
   "execution_count": 14,
   "metadata": {},
   "outputs": [
    {
     "name": "stderr",
     "output_type": "stream",
     "text": [
      "/home/diogo/programs/anaconda3/lib/python3.6/site-packages/obspy/io/sac/arrayio.py:511: UserWarning: Non-integers may be truncated: nzmsec = 98.0\n",
      "  warnings.warn(msg.format(hdr, value))\n",
      "/home/diogo/programs/anaconda3/lib/python3.6/site-packages/obspy/io/sac/arrayio.py:511: UserWarning: Non-integers may be truncated: nzmsec = 78.0\n",
      "  warnings.warn(msg.format(hdr, value))\n",
      "/home/diogo/programs/anaconda3/lib/python3.6/site-packages/obspy/io/sac/arrayio.py:511: UserWarning: Non-integers may be truncated: nzmsec = 71.0\n",
      "  warnings.warn(msg.format(hdr, value))\n",
      "/home/diogo/programs/anaconda3/lib/python3.6/site-packages/obspy/io/sac/arrayio.py:511: UserWarning: Non-integers may be truncated: nzmsec = 86.0\n",
      "  warnings.warn(msg.format(hdr, value))\n",
      "/home/diogo/programs/anaconda3/lib/python3.6/site-packages/obspy/io/sac/arrayio.py:511: UserWarning: Non-integers may be truncated: nzmsec = 1.0\n",
      "  warnings.warn(msg.format(hdr, value))\n"
     ]
    }
   ],
   "source": [
    "for k,l in enumerate(st_SMTB_Z):\n",
    "    try:\n",
    "        j = l[0].stats.starttime\n",
    "        folder_loc_string = loc_folder+'SMTB'+'/'+str(j.year)+'/'+str(\"{0:0=3d}\".format(j.julday))+'/'+str(j.year)+'.'+str(j.hour)+'.'+str(j.minute)+'.'+str(j.second)+'.'+str(j.microsecond)\n",
    "        os.makedirs(folder_loc_string,exist_ok=True)\n",
    "        headerHHZ = {'kstnm': 'SMTB', 'kcmpnm': 'HHZ', 'stla': sta_lat_SMTB, 'stlo': sta_long_SMTB, 'evdp': ev_depth[k],  \n",
    "                     'evla': ev_lat[k], 'evlo': ev_long[k], 'mag': ev_mag[k], 'nzhour': int(ev_hour[k]),\n",
    "                     'nzjday': int(ev_julday[k]), 'nzmin': int(ev_minute[k]),'nzmsec': float(ev_microsecond[k])/10000, 'nzsec': int(ev_second[k]), 'nzyear': int(ev_year[k]),\n",
    "                     'cmpaz': 0.0, 'cmpinc': 0.0, 'dist': dist_lst[k]/1000, 'gcarc': gcarc_lst[k], 'az': az_lst[k], 'baz': baz_lst[k], \n",
    "                     'user8': user8_lst[k],'delta':l[0].stats.delta,'npts':l[0].stats.npts}\n",
    "        sacHHZ = SACTrace(data=l[0].data, **headerHHZ)\n",
    "        sacHHZ.write(folder_loc_string+'/BR.SMTB.'+str(j.year)+'.'+str(j.hour)+'.'+str(j.minute)+'.'+str(j.second)+'.'+str(j.microsecond)+'.z')\n",
    "        \n",
    "        headerHHY = {'kstnm': 'SMTB', 'kcmpnm': 'HHN', 'stla': sta_lat_SMTB, 'stlo': sta_long_SMTB, 'evdp': ev_depth[k],\n",
    "                     'evla': ev_lat[k], 'evlo': ev_long[k], 'mag': ev_mag[k], 'nzhour': int(ev_hour[k]),\n",
    "                     'nzjday': int(ev_julday[k]), 'nzmin': int(ev_minute[k]), 'nzmsec': float(ev_microsecond[k])/10000,'nzsec': int(ev_second[k]), 'nzyear': int(ev_year[k]),\n",
    "                     'cmpaz': 0.0, 'cmpinc': 90.0, 'dist': dist_lst[k]/1000, 'gcarc': gcarc_lst[k], 'az': az_lst[k], 'baz': baz_lst[k],\n",
    "                     'user8': user8_lst[k],'delta':st_SMTB_N[k][0].stats.delta,'npts':st_SMTB_N[k][0].stats.npts}\n",
    "        sacHHY = SACTrace(data=st_SMTB_N[k][0].data, **headerHHY)\n",
    "        sacHHY.write(folder_loc_string+'/BR.SMTB.'+str(j.year)+'.'+str(j.hour)+'.'+str(j.minute)+'.'+str(j.second)+'.'+str(j.microsecond)+'.n')\n",
    "        \n",
    "        headerHHX = {'kstnm': 'SMTB', 'kcmpnm': 'HHE', 'stla': sta_lat_SMTB, 'stlo': sta_long_SMTB, 'evdp': ev_depth[k],  \n",
    "                     'evla': ev_lat[k], 'evlo': ev_long[k], 'mag': ev_mag[k], 'nzhour': int(ev_hour[k]),\n",
    "                     'nzjday': int(ev_julday[k]), 'nzmin': int(ev_minute[k]),\n",
    "                     'nzmsec': float(ev_microsecond[k])/10000, 'nzsec': int(ev_second[k]), 'nzyear': int(ev_year[k]),\n",
    "                     'cmpaz': 90.0, 'cmpinc': 90.0,'dist': dist_lst[k]/1000, 'gcarc': gcarc_lst[k], 'az': az_lst[k], 'baz': baz_lst[k], \n",
    "                    'user8': user8_lst[k],'delta':st_SMTB_E[k][0].stats.delta,'npts':st_SMTB_E[k][0].stats.npts}\n",
    "        sacHHX = SACTrace(data=st_SMTB_E[k][0].data, **headerHHX)\n",
    "        sacHHX.write(folder_loc_string+'/BR.SMTB.'+str(j.year)+'.'+str(j.hour)+'.'+str(j.minute)+'.'+str(j.second)+'.'+str(j.microsecond)+'.e')\n",
    "\n",
    "    except:\n",
    "        print('Deu RUIM')"
   ]
  },
  {
   "cell_type": "markdown",
   "metadata": {},
   "source": [
    "### Baixando os dados paras a estação ROSB"
   ]
  },
  {
   "cell_type": "code",
   "execution_count": 19,
   "metadata": {},
   "outputs": [],
   "source": [
    "sta_lat_ROSB = -2.8967\n",
    "sta_long_ROSB = -44.1246"
   ]
  },
  {
   "cell_type": "code",
   "execution_count": 20,
   "metadata": {},
   "outputs": [],
   "source": [
    "event_starttime_ROSB = []\n",
    "event_endtime_ROSB = []"
   ]
  },
  {
   "cell_type": "code",
   "execution_count": 21,
   "metadata": {},
   "outputs": [],
   "source": [
    "dist_lst = []\n",
    "az_lst = []\n",
    "baz_lst = []\n",
    "gcarc_lst = []\n",
    "user8_lst = []\n",
    "for i,j in enumerate(ev_timeUTC):\n",
    "        dist, az, baz = obspy.geodetics.gps2dist_azimuth(ev_lat[i], ev_long[i], sta_lat_ROSB,sta_long_ROSB)\n",
    "        dist_lst.append(dist)\n",
    "        az_lst.append(az)\n",
    "        baz_lst.append(baz)\n",
    "        gcarc = obspy.geodetics.kilometer2degrees(dist/1000)\n",
    "        gcarc_lst.append(gcarc)\n",
    "        model = TauPyModel(model=\"iasp91\")\n",
    "        arrivals = model.get_travel_times(source_depth_in_km=ev_depth[i],distance_in_degree=gcarc, phase_list=[\"P\"])\n",
    "        arr = arrivals[0]\n",
    "        user8_lst.append(arr.ray_param/6371)\n",
    "        event_starttime_ROSB.append(ev_timeUTC[i]+arr.time-10)\n",
    "        event_endtime_ROSB.append(ev_timeUTC[i]+arr.time+(110))"
   ]
  },
  {
   "cell_type": "code",
   "execution_count": 22,
   "metadata": {},
   "outputs": [],
   "source": [
    "st_ROSB_Z = []\n",
    "\n",
    "st_ROSB_Z = [client.get_waveforms('BR','ROSB','','HHZ',j, event_endtime_ROSB[i]) for i,j in enumerate(event_starttime_ROSB)]"
   ]
  },
  {
   "cell_type": "code",
   "execution_count": 23,
   "metadata": {},
   "outputs": [],
   "source": [
    "st_ROSB_N = []\n",
    "\n",
    "st_ROSB_N = [client.get_waveforms('BR','ROSB','','HHN',j, event_endtime_ROSB[i]) for i,j in enumerate(event_starttime_ROSB)]"
   ]
  },
  {
   "cell_type": "code",
   "execution_count": 24,
   "metadata": {},
   "outputs": [],
   "source": [
    "st_ROSB_E = []\n",
    "\n",
    "st_ROSB_E = [client.get_waveforms('BR','ROSB','','HHE',j, event_endtime_ROSB[i]) for i,j in enumerate(event_starttime_ROSB)]"
   ]
  },
  {
   "cell_type": "code",
   "execution_count": 25,
   "metadata": {},
   "outputs": [
    {
     "name": "stderr",
     "output_type": "stream",
     "text": [
      "/home/diogo/programs/anaconda3/lib/python3.6/site-packages/obspy/io/sac/arrayio.py:511: UserWarning: Non-integers may be truncated: nzmsec = 98.0\n",
      "  warnings.warn(msg.format(hdr, value))\n",
      "/home/diogo/programs/anaconda3/lib/python3.6/site-packages/obspy/io/sac/arrayio.py:511: UserWarning: Non-integers may be truncated: nzmsec = 78.0\n",
      "  warnings.warn(msg.format(hdr, value))\n",
      "/home/diogo/programs/anaconda3/lib/python3.6/site-packages/obspy/io/sac/arrayio.py:511: UserWarning: Non-integers may be truncated: nzmsec = 71.0\n",
      "  warnings.warn(msg.format(hdr, value))\n",
      "/home/diogo/programs/anaconda3/lib/python3.6/site-packages/obspy/io/sac/arrayio.py:511: UserWarning: Non-integers may be truncated: nzmsec = 86.0\n",
      "  warnings.warn(msg.format(hdr, value))\n",
      "/home/diogo/programs/anaconda3/lib/python3.6/site-packages/obspy/io/sac/arrayio.py:511: UserWarning: Non-integers may be truncated: nzmsec = 1.0\n",
      "  warnings.warn(msg.format(hdr, value))\n"
     ]
    }
   ],
   "source": [
    "for k,l in enumerate(st_ROSB_Z):\n",
    "    try:\n",
    "        j = l[0].stats.starttime\n",
    "        folder_loc_string = loc_folder+'ROSB'+'/'+str(j.year)+'/'+str(\"{0:0=3d}\".format(j.julday))+'/'+str(j.year)+'.'+str(j.hour)+'.'+str(j.minute)+'.'+str(j.second)+'.'+str(j.microsecond)\n",
    "        os.makedirs(folder_loc_string,exist_ok=True)\n",
    "        headerHHZ = {'kstnm': 'ROSB', 'kcmpnm': 'HHZ', 'stla': sta_lat_ROSB, 'stlo': sta_long_ROSB, 'evdp': ev_depth[k],  \n",
    "                     'evla': ev_lat[k], 'evlo': ev_long[k], 'mag': ev_mag[k], 'nzhour': int(ev_hour[k]),\n",
    "                     'nzjday': int(ev_julday[k]), 'nzmin': int(ev_minute[k]),'nzmsec': float(ev_microsecond[k])/10000, 'nzsec': int(ev_second[k]), 'nzyear': int(ev_year[k]),\n",
    "                     'cmpaz': 0.0, 'cmpinc': 0.0, 'dist': dist_lst[k]/1000, 'gcarc': gcarc_lst[k], 'az': az_lst[k], 'baz': baz_lst[k], \n",
    "                     'user8': user8_lst[k],'delta':l[0].stats.delta,'npts':l[0].stats.npts}\n",
    "        sacHHZ = SACTrace(data=l[0].data, **headerHHZ)\n",
    "        sacHHZ.write(folder_loc_string+'/BR.ROSB.'+str(j.year)+'.'+str(j.hour)+'.'+str(j.minute)+'.'+str(j.second)+'.'+str(j.microsecond)+'.z')\n",
    "        \n",
    "        headerHHY = {'kstnm': 'ROSB', 'kcmpnm': 'HHN', 'stla': sta_lat_ROSB, 'stlo': sta_long_ROSB, 'evdp': ev_depth[k],\n",
    "                     'evla': ev_lat[k], 'evlo': ev_long[k], 'mag': ev_mag[k], 'nzhour': int(ev_hour[k]),\n",
    "                     'nzjday': int(ev_julday[k]), 'nzmin': int(ev_minute[k]), 'nzmsec': float(ev_microsecond[k])/10000,'nzsec': int(ev_second[k]), 'nzyear': int(ev_year[k]),\n",
    "                     'cmpaz': 0.0, 'cmpinc': 90.0, 'dist': dist_lst[k]/1000, 'gcarc': gcarc_lst[k], 'az': az_lst[k], 'baz': baz_lst[k],\n",
    "                     'user8': user8_lst[k],'delta':st_ROSB_N[k][0].stats.delta,'npts':st_ROSB_N[k][0].stats.npts}\n",
    "        sacHHY = SACTrace(data=st_ROSB_N[k][0].data, **headerHHY)\n",
    "        sacHHY.write(folder_loc_string+'/BR.ROSB.'+str(j.year)+'.'+str(j.hour)+'.'+str(j.minute)+'.'+str(j.second)+'.'+str(j.microsecond)+'.n')\n",
    "        \n",
    "        headerHHX = {'kstnm': 'ROSB', 'kcmpnm': 'HHE', 'stla': sta_lat_ROSB, 'stlo': sta_long_ROSB, 'evdp': ev_depth[k],  \n",
    "                     'evla': ev_lat[k], 'evlo': ev_long[k], 'mag': ev_mag[k], 'nzhour': int(ev_hour[k]),\n",
    "                     'nzjday': int(ev_julday[k]), 'nzmin': int(ev_minute[k]),\n",
    "                     'nzmsec': float(ev_microsecond[k])/10000, 'nzsec': int(ev_second[k]), 'nzyear': int(ev_year[k]),\n",
    "                     'cmpaz': 90.0, 'cmpinc': 90.0,'dist': dist_lst[k]/1000, 'gcarc': gcarc_lst[k], 'az': az_lst[k], 'baz': baz_lst[k], \n",
    "                     'user8': user8_lst[k],'delta':st_ROSB_E[k][0].stats.delta,'npts':st_ROSB_E[k][0].stats.npts}\n",
    "        sacHHX = SACTrace(data=st_ROSB_E[k][0].data, **headerHHX)\n",
    "        sacHHX.write(folder_loc_string+'/BR.ROSB.'+str(j.year)+'.'+str(j.hour)+'.'+str(j.minute)+'.'+str(j.second)+'.'+str(j.microsecond)+'.e')\n",
    "\n",
    "    except:\n",
    "        print('Deu RUIM')"
   ]
  },
  {
   "cell_type": "code",
   "execution_count": null,
   "metadata": {},
   "outputs": [],
   "source": []
  }
 ],
 "metadata": {
  "kernelspec": {
   "display_name": "Python 3",
   "language": "python",
   "name": "python3"
  },
  "language_info": {
   "codemirror_mode": {
    "name": "ipython",
    "version": 3
   },
   "file_extension": ".py",
   "mimetype": "text/x-python",
   "name": "python",
   "nbconvert_exporter": "python",
   "pygments_lexer": "ipython3",
   "version": "3.6.4"
  }
 },
 "nbformat": 4,
 "nbformat_minor": 2
}
