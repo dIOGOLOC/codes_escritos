{
 "cells": [
  {
   "cell_type": "code",
   "execution_count": 1,
   "metadata": {},
   "outputs": [],
   "source": [
    "%matplotlib inline"
   ]
  },
  {
   "cell_type": "code",
   "execution_count": 2,
   "metadata": {},
   "outputs": [],
   "source": [
    "import matplotlib.pyplot as plt\n",
    "import obspy\n",
    "import os\n",
    "import glob\n",
    "import numpy as np\n",
    "from matplotlib.dates import YearLocator, MonthLocator, DayLocator, HourLocator, MinuteLocator, SecondLocator, DateFormatter\n",
    "import matplotlib.dates as mdates\n",
    "import matplotlib as mpl\n",
    "import datetime\n",
    "from matplotlib.ticker import MultipleLocator, FormatStrFormatter"
   ]
  },
  {
   "cell_type": "markdown",
   "metadata": {},
   "source": [
    "# Colotando os arquivos SOH para um dada estação:"
   ]
  },
  {
   "cell_type": "code",
   "execution_count": 3,
   "metadata": {},
   "outputs": [],
   "source": [
    "stations = ['BPPF', 'BUCO', 'GENI', 'GRJU', 'PRDT', 'STSN', 'STSR', 'TRZN']"
   ]
  },
  {
   "cell_type": "code",
   "execution_count": 4,
   "metadata": {},
   "outputs": [
    {
     "name": "stdout",
     "output_type": "stream",
     "text": [
      "CPU times: user 0 ns, sys: 0 ns, total: 0 ns\n",
      "Wall time: 4.29 µs\n"
     ]
    }
   ],
   "source": [
    "%time\n",
    "\n",
    "#Pasta com os arquivos SOH\n",
    "soh_files_folder = '/home/diogo/dados_doutorado/parnaiba_basin/assessing_data/soh_files/'\n",
    "\n",
    "data_lst = []\n",
    "datalstS = []\n",
    "for root, dirs, files in os.walk(soh_files_folder):\n",
    "    for datafile in files:\n",
    "        if datafile.endswith('.miniseed'):\n",
    "            data_lst.append(os.path.join(root, datafile))    \n",
    "datalstS = sorted(data_lst)"
   ]
  },
  {
   "cell_type": "code",
   "execution_count": 5,
   "metadata": {},
   "outputs": [],
   "source": [
    "BPPF_files = []\n",
    "BUCO_files = []\n",
    "GENI_files = []\n",
    "GRJU_files = []\n",
    "PRDT_files = []\n",
    "STSN_files = []\n",
    "STSR_files = []\n",
    "TRZN_files = []"
   ]
  },
  {
   "cell_type": "code",
   "execution_count": 6,
   "metadata": {},
   "outputs": [],
   "source": [
    "for k,j in enumerate(datalstS):\n",
    "            if 'BPPF'  in j:\n",
    "                BPPF_files.append(j)\n",
    "            elif 'BUCO' in j:\n",
    "                BUCO_files.append(j)\n",
    "            elif 'GENI' in j:\n",
    "                GENI_files.append(j)\n",
    "            elif 'GRJU' in j:\n",
    "                GRJU_files.append(j)\n",
    "            elif 'PRDT' in j:\n",
    "                PRDT_files.append(j)\n",
    "            elif 'STSN' in j:\n",
    "                STSN_files.append(j)\n",
    "            elif 'STSR' in j:\n",
    "                STSR_files.append(j)\n",
    "            else:\n",
    "                TRZN_files.append(j)\n"
   ]
  },
  {
   "cell_type": "code",
   "execution_count": 7,
   "metadata": {},
   "outputs": [],
   "source": [
    "sta_files = [BPPF_files,BUCO_files,GENI_files,GRJU_files,PRDT_files,STSN_files,STSR_files,TRZN_files]"
   ]
  },
  {
   "cell_type": "code",
   "execution_count": 8,
   "metadata": {},
   "outputs": [],
   "source": [
    "dir_names = [[]]*len(sta_files)\n",
    "\n",
    "for i,j in enumerate(sta_files):\n",
    "    dir_names[i] = [i.split('/BP.')[0] for i in j]"
   ]
  },
  {
   "cell_type": "code",
   "execution_count": 9,
   "metadata": {},
   "outputs": [],
   "source": [
    "dir_name = [[]]*len(sta_files)\n",
    "\n",
    "for i,j in enumerate(dir_names):\n",
    "    dir_name[i] = sorted(list(set(j)))"
   ]
  },
  {
   "cell_type": "code",
   "execution_count": 10,
   "metadata": {},
   "outputs": [
    {
     "name": "stdout",
     "output_type": "stream",
     "text": [
      "CPU times: user 0 ns, sys: 0 ns, total: 0 ns\n",
      "Wall time: 4.53 µs\n"
     ]
    }
   ],
   "source": [
    "%time\n",
    "\n",
    "soh_files = [[]]*len(dir_name)\n",
    "soh_n_files = [[]]*len(dir_name)\n",
    "\n",
    "for i,j in enumerate(dir_name):\n",
    "    files = [sorted(glob.glob(k+'/*.miniseed'))[-1] for k in j]\n",
    "    n_files = [len(glob.glob(k+'/*.miniseed')) for k in j]\n",
    "    soh_files[i] = files\n",
    "    soh_n_files[i] = n_files"
   ]
  },
  {
   "cell_type": "code",
   "execution_count": 11,
   "metadata": {},
   "outputs": [],
   "source": [
    "date_sta = [[]]*len(soh_files)\n",
    "\n",
    "for i,j in enumerate(soh_files):\n",
    "    channel_lst = [obspy.read(l,headonly=True) for l in j]\n",
    "    endtime = [x[0].stats.endtime for x in channel_lst]    \n",
    "    date_sta[i] = endtime"
   ]
  },
  {
   "cell_type": "code",
   "execution_count": 12,
   "metadata": {},
   "outputs": [],
   "source": [
    "date_lst = [[]]*len(date_sta)\n",
    "for i,l in enumerate(date_sta):\n",
    "    date_lista = [datetime.date(j.year,j.month,j.day) for j in l]\n",
    "    date_lst[i] = date_lista"
   ]
  },
  {
   "cell_type": "code",
   "execution_count": 13,
   "metadata": {},
   "outputs": [
    {
     "data": {
      "text/plain": [
       "Text(0.4,0.9,'Número de horas registradas por dia')"
      ]
     },
     "execution_count": 13,
     "metadata": {},
     "output_type": "execute_result"
    },
    {
     "data": {
      "image/png": "[encoded data removed]",
      "text/plain": [
       "<matplotlib.figure.Figure at 0x7efbabbd63c8>"
      ]
     },
     "metadata": {},
     "output_type": "display_data"
    }
   ],
   "source": [
    "days = DayLocator()   # every year\n",
    "months = MonthLocator()  # every month\n",
    "yearsFmt = DateFormatter('%Y-%m')\n",
    "\n",
    "\n",
    "\n",
    "fig, ax = plt.subplots(nrows=len(date_lst), ncols=1,figsize=(20,10),sharex=True)\n",
    "plt.subplots_adjust(hspace=.1)\n",
    "\n",
    "for i,j in enumerate(date_lst):\n",
    "    x = j\n",
    "    y = soh_n_files[i]\n",
    "    maximo = max(y)\n",
    "    minimo = min(y)\n",
    "    xlim1 = x[:-1]\n",
    "    xlim2 = x[1:]\n",
    "    color_param = [((k - minimo)/(maximo - minimo)) for k in y]\n",
    "\n",
    "    for k,l in enumerate(xlim1):\n",
    "        ax[i].axvspan(xmin=l,xmax=xlim2[k],color = plt.cm.bone_r(color_param[k]))\n",
    "    ax[i].xaxis.set_major_locator(months)\n",
    "    ax[i].xaxis.set_major_formatter(yearsFmt)\n",
    "    ax[i].xaxis.set_minor_locator(days)\n",
    "    ax[i].set_ylim(0,0.5)\n",
    "    ax[i].set_yticks([])\n",
    "    ax[i].set_ylabel(stations[i],rotation=0, fontsize=20, labelpad=50)\n",
    "    plt.setp(ax[i].xaxis.get_majorticklabels(), rotation=30 )\n",
    "\n",
    "\n",
    "cmap = plt.get_cmap('bone_r')\n",
    "cax = fig.add_axes([0.7, 0.01, 0.2, 0.02])\n",
    "\n",
    "norm = mpl.colors.Normalize(vmin=0,vmax=24)\n",
    "sm = plt.cm.ScalarMappable(cmap=cmap, norm=norm)\n",
    "sm.set_array([])\n",
    "plt.colorbar(sm,cax=cax,ticks=np.linspace(0,24,7),boundaries=np.arange(0,25,1),orientation='horizontal')\n",
    "fig.text(0.4,0.9,'Número de horas registradas por dia')"
   ]
  },
  {
   "cell_type": "markdown",
   "metadata": {},
   "source": [
    "## Importando as datas das coletas das estações"
   ]
  },
  {
   "cell_type": "code",
   "execution_count": 14,
   "metadata": {},
   "outputs": [],
   "source": [
    "dias_coleta = np.loadtxt('/home/diogo/dados_doutorado/parnaiba_basin/assessing_data/soh_files/dias_coleta.txt',dtype=str)"
   ]
  },
  {
   "cell_type": "code",
   "execution_count": 15,
   "metadata": {},
   "outputs": [],
   "source": [
    "BPPF_coleta = []\n",
    "BUCO_coleta = []\n",
    "GENI_coleta = []\n",
    "GRJU_coleta = []\n",
    "PRDT_coleta = []\n",
    "STSN_coleta = []\n",
    "STSR_coleta = []\n",
    "TRZN_coleta = []\n",
    "\n",
    "for k,j in enumerate(dias_coleta):\n",
    "            if 'BPPF'  in j:\n",
    "                BPPF_coleta.append(j[5:])\n",
    "            elif 'BUCO' in j:\n",
    "                BUCO_coleta.append(j[5:])\n",
    "            elif 'GENI' in j:\n",
    "                GENI_coleta.append(j[5:])\n",
    "            elif 'GRJU' in j:\n",
    "                GRJU_coleta.append(j[5:])\n",
    "            elif 'PRDT' in j:\n",
    "                PRDT_coleta.append(j[5:])\n",
    "            elif 'STSN' in j:\n",
    "                STSN_coleta.append(j[5:])\n",
    "            elif 'STSR' in j:\n",
    "                STSR_coleta.append(j[5:])\n",
    "            else:\n",
    "                TRZN_coleta.append(j[5:])"
   ]
  },
  {
   "cell_type": "code",
   "execution_count": 16,
   "metadata": {},
   "outputs": [],
   "source": [
    "sta_coleta = [BPPF_coleta,BUCO_coleta,GENI_coleta,GRJU_coleta,PRDT_coleta,STSN_coleta,STSR_coleta,TRZN_coleta]"
   ]
  },
  {
   "cell_type": "code",
   "execution_count": 17,
   "metadata": {},
   "outputs": [],
   "source": [
    "date_coleta = [[]]*len(sta_coleta)\n",
    "for i,j in enumerate(sta_coleta):\n",
    "    coleta_lista = [datetime.date(int(k[0:4]),int(k[5:7]),int(k[8:10])) for k in j]\n",
    "    date_coleta[i] = coleta_lista"
   ]
  },
  {
   "cell_type": "code",
   "execution_count": 18,
   "metadata": {},
   "outputs": [
    {
     "data": {
      "image/png": "[encoded data removed]",
      "text/plain": [
       "<matplotlib.figure.Figure at 0x7efba1d675c0>"
      ]
     },
     "metadata": {},
     "output_type": "display_data"
    }
   ],
   "source": [
    "days = DayLocator()   # every year\n",
    "months = MonthLocator()  # every month\n",
    "yearsFmt = DateFormatter('%Y-%m')\n",
    "\n",
    "\n",
    "fig, ax = plt.subplots(nrows=len(date_lst), ncols=1,figsize=(20,10),sharex=True)\n",
    "plt.subplots_adjust(hspace=.1)\n",
    "\n",
    "for i,j in enumerate(date_lst):\n",
    "    x = j\n",
    "    y = soh_n_files[i]\n",
    "    maximo = max(y)\n",
    "    minimo = min(y)\n",
    "    xlim1 = x[:-1]\n",
    "    xlim2 = x[1:]\n",
    "    color_param = [((k - minimo)/(maximo - minimo)) for k in y]\n",
    "\n",
    "    for k,l in enumerate(xlim1):\n",
    "        ax[i].axvspan(xmin=l,xmax=xlim2[k],color = plt.cm.bone_r(color_param[k]))\n",
    "    [ax[i].axvline(k,color='b', linestyle='-',lw=3) for k in date_coleta[i]]\n",
    "    ax[i].xaxis.set_major_locator(months)\n",
    "    ax[i].xaxis.set_major_formatter(yearsFmt)\n",
    "    ax[i].xaxis.set_minor_locator(days)\n",
    "    ax[i].set_ylim(0,0.5)\n",
    "    ax[i].set_xlim(datetime.date(2016,4,1),datetime.date(2017,11,1))\n",
    "    ax[i].set_yticks([])\n",
    "    ax[i].set_ylabel(stations[i],rotation=0, fontsize=20, labelpad=50, horizontalalignment='center',verticalalignment='center')\n",
    "    plt.setp(ax[i].xaxis.get_majorticklabels(), rotation=30)\n",
    "\n",
    "\n",
    "cmap = plt.get_cmap('bone_r')\n",
    "cax = fig.add_axes([0.7, 0.027, 0.2, 0.02])\n",
    "\n",
    "norm = mpl.colors.Normalize(vmin=0,vmax=24)\n",
    "sm = plt.cm.ScalarMappable(cmap=cmap, norm=norm)\n",
    "sm.set_array([])\n",
    "cbar = plt.colorbar(sm,cax=cax,ticks=np.linspace(0,24,7),boundaries=np.arange(0,25,1),orientation='horizontal')\n",
    "cbar.ax.set_title('Número de arquivos por dia')\n",
    "\n",
    "#fig.text(0.2,0.9,'Número de arquivos por dia e datas das coletas de dados',fontsize=25)\n",
    "fig.savefig(soh_files_folder+'data_sta_dia.png',dpi=300)"
   ]
  },
  {
   "cell_type": "code",
   "execution_count": null,
   "metadata": {},
   "outputs": [],
   "source": []
  }
 ],
 "metadata": {
  "kernelspec": {
   "display_name": "Python 3",
   "language": "python",
   "name": "python3"
  },
  "language_info": {
   "codemirror_mode": {
    "name": "ipython",
    "version": 3
   },
   "file_extension": ".py",
   "mimetype": "text/x-python",
   "name": "python",
   "nbconvert_exporter": "python",
   "pygments_lexer": "ipython3",
   "version": "3.6.3"
  }
 },
 "nbformat": 4,
 "nbformat_minor": 2
}
