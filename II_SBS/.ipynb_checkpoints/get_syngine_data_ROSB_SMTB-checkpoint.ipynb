{
 "cells": [
  {
   "cell_type": "code",
   "execution_count": 14,
   "metadata": {},
   "outputs": [],
   "source": [
    "%matplotlib inline"
   ]
  },
  {
   "cell_type": "code",
   "execution_count": 15,
   "metadata": {},
   "outputs": [],
   "source": [
    "import matplotlib.pyplot as plt\n",
    "plt.style.use('ggplot')\n",
    "import obspy\n",
    "import os\n",
    "from obspy.clients.fdsn import Client\n",
    "from obspy.clients.syngine import Client as SyngineClient\n",
    "from obspy.taup import TauPyModel\n",
    "from obspy.geodetics import kilometer2degrees\n",
    "from obspy.io.xseed import Parser\n",
    "from obspy.signal.cross_correlation import xcorr,xcorr_3c"
   ]
  },
  {
   "cell_type": "markdown",
   "metadata": {},
   "source": [
    "# Coletando os dados das estações ROSB e SMTB"
   ]
  },
  {
   "cell_type": "code",
   "execution_count": 16,
   "metadata": {},
   "outputs": [],
   "source": [
    "ev_list = []\n",
    "ev_listS = []\n",
    "\n",
    "for root, dirs, files in os.walk('/home/diogo/dados_doutorado/parnaiba_basin/assessing_data/STA_data/'):\n",
    "    for datafile in files:\n",
    "        if datafile.startswith('BR.'):\n",
    "            ev_list.append(os.path.join(root, datafile))\n",
    "ev_listS = sorted(ev_list)"
   ]
  },
  {
   "cell_type": "code",
   "execution_count": 17,
   "metadata": {},
   "outputs": [],
   "source": [
    "ev = obspy.Stream()\n",
    "for i,j in enumerate(ev_listS):\n",
    "    ev += obspy.read(j)"
   ]
  },
  {
   "cell_type": "code",
   "execution_count": 18,
   "metadata": {},
   "outputs": [],
   "source": [
    "event_DD = []\n",
    "event_MM = []\n",
    "event_YYYY = []\n",
    "event_hh = []\n",
    "event_mm = []\n",
    "event_julday = []\n",
    "event_depth = []\n",
    "event_lat = []\n",
    "event_long = []\n",
    "event_dist = []\n",
    "event_sta = []\n",
    "event_channel = []\n",
    "sta_lat = []\n",
    "sta_long = []\n",
    "sta_channel = []\n",
    "event_starttime = []\n",
    "event_endtime = []\n",
    "event_gcarc = []\n",
    "\n",
    "for i,j in enumerate(ev):\n",
    "    event_time = (j.stats.starttime)\n",
    "    sta_channel.append(j.stats.channel[-1])\n",
    "    event_starttime.append(j.stats.starttime)\n",
    "    event_endtime.append(j.stats.endtime)\n",
    "    event_DD.append(\"{0:02.0f}\".format(event_time.day))\n",
    "    event_MM.append(\"{0:02.0f}\".format(event_time.month))\n",
    "    event_YYYY.append(event_time.year)\n",
    "    event_hh.append(\"{0:02.0f}\".format(event_time.hour))\n",
    "    event_mm.append(\"{0:02.0f}\".format(event_time.minute))\n",
    "    event_julday.append(event_time.julday)\n",
    "    event_depth.append(j.stats.sac.evdp)\n",
    "    event_lat.append(j.stats.sac.evla)\n",
    "    event_long.append(j.stats.sac.evlo)\n",
    "    event_dist.append(j.stats.sac.dist)\n",
    "    event_sta.append(j.stats.sac.kstnm)\n",
    "    event_gcarc.append(j.stats.sac.gcarc)\n",
    "    event_channel.append(j.stats.sac.kcmpnm[-1])\n",
    "    sta_lat.append(j.stats.sac.stla)\n",
    "    sta_long.append(j.stats.sac.stlo)"
   ]
  },
  {
   "cell_type": "code",
   "execution_count": 19,
   "metadata": {},
   "outputs": [],
   "source": [
    "eventid_lst = []\n",
    "for k,l in enumerate(ev):\n",
    "    eventid_lst.append('GCMT:C'+str(event_YYYY[k])+str(event_MM[k])+str(event_DD[k])+str(event_hh[k])+str(event_mm[k])+'A')\n",
    "\n",
    "eventid_lst = sorted(list(set(eventid_lst)))"
   ]
  },
  {
   "cell_type": "code",
   "execution_count": 20,
   "metadata": {},
   "outputs": [],
   "source": [
    "initial_time = [str(i) for i in event_starttime]\n",
    "initial_time = sorted(list(set(initial_time)))\n",
    "starttime_lst = [obspy.UTCDateTime(i) for i in initial_time] "
   ]
  },
  {
   "cell_type": "code",
   "execution_count": 21,
   "metadata": {},
   "outputs": [],
   "source": [
    "lat_lst = list(set(sta_lat))\n",
    "long_lst = list(set(sta_long))\n",
    "sta_lst = list(set(event_sta))"
   ]
  },
  {
   "cell_type": "code",
   "execution_count": 22,
   "metadata": {},
   "outputs": [],
   "source": [
    "bulk_lst = []\n",
    "for k,l in enumerate(sta_lst):\n",
    "    bulk_lst.append({\"latitude\": lat_lst[k], \"longitude\": long_lst[k], \"stationcode\": sta_lst[k],\"networkcode\": 'BR'})"
   ]
  },
  {
   "cell_type": "markdown",
   "metadata": {},
   "source": [
    "## Calculando os sismogramas sintéticos através do servidor da Syngine IRIS"
   ]
  },
  {
   "cell_type": "code",
   "execution_count": 23,
   "metadata": {},
   "outputs": [
    {
     "name": "stdout",
     "output_type": "stream",
     "text": [
      "Evento GCMT:C201604162358A\n",
      "Evento GCMT:C201605280946A\n",
      "Problema no Evento: GCMT:C201605280946A\n",
      "Evento GCMT:C201608190732A\n",
      "Evento GCMT:C201608290429A\n",
      "Problema no Evento: GCMT:C201608290429A\n",
      "Evento GCMT:C201612251422A\n",
      "CPU times: user 988 ms, sys: 196 ms, total: 1.18 s\n",
      "Wall time: 1min 16s\n"
     ]
    }
   ],
   "source": [
    "%%time\n",
    "\n",
    "c_s = SyngineClient()\n",
    "#model = [\"ak135f_2s\", \"iasp91_2s\", \"prem_a_2s\"]\n",
    "model = \"ak135f_2s\"\n",
    "\n",
    "\n",
    "st_synth = []\n",
    "for k,l in enumerate(eventid_lst):\n",
    "    try:\n",
    "        print('Evento '+l)\n",
    "        st_synth.append(obspy.Stream(c_s.get_waveforms_bulk(model=model, \n",
    "                                                bulk=bulk_lst, \n",
    "                                                eventid=eventid_lst[k],\n",
    "                                                dt=\"0.01\",units=\"displacement\",starttime=\"P-500\", endtime=\"P+3000\",\n",
    "                                                format='saczip')))\n",
    "    except:\n",
    "        print('Problema no Evento: '+eventid_lst[k])"
   ]
  },
  {
   "cell_type": "code",
   "execution_count": 24,
   "metadata": {},
   "outputs": [],
   "source": [
    "syn = []\n",
    "syn = [item for sublist in st_synth for item in sublist]"
   ]
  },
  {
   "cell_type": "code",
   "execution_count": 25,
   "metadata": {},
   "outputs": [],
   "source": [
    "loc_folder = '/home/diogo/dados_doutorado/parnaiba_basin/assessing_data/SYN_data/'"
   ]
  },
  {
   "cell_type": "code",
   "execution_count": 26,
   "metadata": {},
   "outputs": [
    {
     "name": "stdout",
     "output_type": "stream",
     "text": [
      "CPU times: user 596 ms, sys: 8 ms, total: 604 ms\n",
      "Wall time: 616 ms\n"
     ]
    }
   ],
   "source": [
    "%%time\n",
    "\n",
    "for k,t in enumerate(syn):\n",
    "        j = t.stats.starttime\n",
    "        folder_loc_string = loc_folder+t.stats.station+'/'+str(j.year)+'/'+str(\"{0:0=3d}\".format(j.julday))+'/'+str(j.year)+'.'+str(j.hour)+'.'+str(j.minute)+'.'+str(j.second)\n",
    "        os.makedirs(folder_loc_string,exist_ok=True)\n",
    "        t.write(folder_loc_string+'/SYN.'+t.stats.network+'.'+t.stats.station+'.'+str(j.year)+'.'+str(j.hour)+'.'+str(j.minute)+'.'+str(j.second)+'.'+t.stats.channel[-1],format='SAC')"
   ]
  },
  {
   "cell_type": "code",
   "execution_count": null,
   "metadata": {},
   "outputs": [],
   "source": []
  }
 ],
 "metadata": {
  "kernelspec": {
   "display_name": "Python 3",
   "language": "python",
   "name": "python3"
  },
  "language_info": {
   "codemirror_mode": {
    "name": "ipython",
    "version": 3
   },
   "file_extension": ".py",
   "mimetype": "text/x-python",
   "name": "python",
   "nbconvert_exporter": "python",
   "pygments_lexer": "ipython3",
   "version": "3.6.3"
  }
 },
 "nbformat": 4,
 "nbformat_minor": 2
}
