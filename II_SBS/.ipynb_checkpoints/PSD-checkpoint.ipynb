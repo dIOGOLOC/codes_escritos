{
 "cells": [
  {
   "cell_type": "code",
   "execution_count": 1,
   "metadata": {},
   "outputs": [],
   "source": [
    "from __future__ import print_function\n",
    "import matplotlib.pyplot as plt\n",
    "\n",
    "import obspy \n",
    "import numpy as np\n",
    "import matplotlib.pyplot as plt\n",
    "from obspy import read, Stream,read_inventory\n",
    "import os\n",
    "import glob\n",
    "from obspy.io.xseed import Parser\n",
    "from obspy import read_inventory\n",
    "from obspy.signal import PPSD\n",
    "from obspy.imaging.cm import pqlx\n",
    "plt.style.use('ggplot')"
   ]
  },
  {
   "cell_type": "markdown",
   "metadata": {},
   "source": [
    "## Importando o inventário com os dados da REDE BP:"
   ]
  },
  {
   "cell_type": "code",
   "execution_count": 2,
   "metadata": {},
   "outputs": [],
   "source": [
    "inv = read_inventory('/home/diogo/dados_doutorado/parnaiba_basin/assessing_data/xml_file/BP.xml')\n",
    "stations = ['BPPF', 'BUCO', 'GENI', 'GRJU', 'PRDT', 'STSN', 'STSR', 'TRZN']"
   ]
  },
  {
   "cell_type": "code",
   "execution_count": 3,
   "metadata": {},
   "outputs": [
    {
     "name": "stdout",
     "output_type": "stream",
     "text": [
      "CPU times: user 0 ns, sys: 0 ns, total: 0 ns\n",
      "Wall time: 3.34 µs\n"
     ]
    }
   ],
   "source": [
    "\n",
    "\n",
    "#Pasta com os arquivos:\n",
    "miniseed_files_folder = '/home/diogo/dados_doutorado/parnaiba_basin/assessing_data/PSD_data/'\n",
    "\n",
    "data_lst_early = []\n",
    "datalstS_early = []\n",
    "data_lst_mid = []\n",
    "datalstS_mid = []\n",
    "data_lst_late = []\n",
    "datalstS_late = []\n",
    "for i in stations:\n",
    "    for root, dirs, files in os.walk(miniseed_files_folder):\n",
    "        for direc in dirs:\n",
    "            if '/early/' in os.path.join(root, direc):\n",
    "                data_lst_early.append(os.path.join(root, direc))\n",
    "            elif '/mid/' in os.path.join(root, direc):\n",
    "                data_lst_mid.append(os.path.join(root, direc))\n",
    "            elif '/late/' in os.path.join(root, direc):\n",
    "                data_lst_late.append(os.path.join(root, direc))\n",
    "\n",
    "datalstS_early = sorted(list(set(data_lst_early)))\n",
    "datalstS_mid = sorted(list(set(data_lst_mid)))\n",
    "datalstS_late = sorted(list(set(data_lst_late)))\n",
    "%time"
   ]
  },
  {
   "cell_type": "code",
   "execution_count": 4,
   "metadata": {},
   "outputs": [],
   "source": [
    "sta_lst = [i.split('/')[7] for i in datalstS_late]"
   ]
  },
  {
   "cell_type": "code",
   "execution_count": 5,
   "metadata": {},
   "outputs": [],
   "source": [
    "channel = [i.split('/')[-1] for i in datalstS_late]"
   ]
  },
  {
   "cell_type": "markdown",
   "metadata": {},
   "source": [
    "# EARLY "
   ]
  },
  {
   "cell_type": "code",
   "execution_count": 6,
   "metadata": {},
   "outputs": [
    {
     "name": "stdout",
     "output_type": "stream",
     "text": [
      "CPU times: user 0 ns, sys: 0 ns, total: 0 ns\n",
      "Wall time: 4.29 µs\n",
      "CPU times: user 0 ns, sys: 0 ns, total: 0 ns\n",
      "Wall time: 3.81 µs\n",
      "CPU times: user 0 ns, sys: 0 ns, total: 0 ns\n",
      "Wall time: 4.53 µs\n"
     ]
    },
    {
     "name": "stderr",
     "output_type": "stream",
     "text": [
      "/home/diogo/programs/anaconda3/lib/python3.6/site-packages/obspy/signal/spectral_estimation.py:770: MaskedArrayFutureWarning: setting an item on a masked array which has a shared mask will not copy the mask and also change the original mask array in the future.\n",
      "Check the NumPy 1.11 release notes for more information.\n",
      "  tr.data[tr.data.mask] = 0.0\n"
     ]
    },
    {
     "name": "stdout",
     "output_type": "stream",
     "text": [
      "CPU times: user 0 ns, sys: 0 ns, total: 0 ns\n",
      "Wall time: 3.81 µs\n"
     ]
    },
    {
     "name": "stderr",
     "output_type": "stream",
     "text": [
      "/home/diogo/programs/anaconda3/lib/python3.6/site-packages/obspy/signal/spectral_estimation.py:770: MaskedArrayFutureWarning: setting an item on a masked array which has a shared mask will not copy the mask and also change the original mask array in the future.\n",
      "Check the NumPy 1.11 release notes for more information.\n",
      "  tr.data[tr.data.mask] = 0.0\n"
     ]
    },
    {
     "name": "stdout",
     "output_type": "stream",
     "text": [
      "CPU times: user 0 ns, sys: 0 ns, total: 0 ns\n",
      "Wall time: 5.01 µs\n"
     ]
    },
    {
     "name": "stderr",
     "output_type": "stream",
     "text": [
      "/home/diogo/programs/anaconda3/lib/python3.6/site-packages/obspy/signal/spectral_estimation.py:770: MaskedArrayFutureWarning: setting an item on a masked array which has a shared mask will not copy the mask and also change the original mask array in the future.\n",
      "Check the NumPy 1.11 release notes for more information.\n",
      "  tr.data[tr.data.mask] = 0.0\n"
     ]
    },
    {
     "name": "stdout",
     "output_type": "stream",
     "text": [
      "CPU times: user 0 ns, sys: 0 ns, total: 0 ns\n",
      "Wall time: 4.05 µs\n"
     ]
    },
    {
     "name": "stderr",
     "output_type": "stream",
     "text": [
      "/home/diogo/programs/anaconda3/lib/python3.6/site-packages/obspy/signal/spectral_estimation.py:770: MaskedArrayFutureWarning: setting an item on a masked array which has a shared mask will not copy the mask and also change the original mask array in the future.\n",
      "Check the NumPy 1.11 release notes for more information.\n",
      "  tr.data[tr.data.mask] = 0.0\n"
     ]
    },
    {
     "name": "stdout",
     "output_type": "stream",
     "text": [
      "CPU times: user 0 ns, sys: 0 ns, total: 0 ns\n",
      "Wall time: 4.53 µs\n"
     ]
    },
    {
     "name": "stderr",
     "output_type": "stream",
     "text": [
      "/home/diogo/programs/anaconda3/lib/python3.6/site-packages/obspy/signal/spectral_estimation.py:770: MaskedArrayFutureWarning: setting an item on a masked array which has a shared mask will not copy the mask and also change the original mask array in the future.\n",
      "Check the NumPy 1.11 release notes for more information.\n",
      "  tr.data[tr.data.mask] = 0.0\n"
     ]
    },
    {
     "name": "stdout",
     "output_type": "stream",
     "text": [
      "CPU times: user 0 ns, sys: 0 ns, total: 0 ns\n",
      "Wall time: 3.81 µs\n"
     ]
    },
    {
     "name": "stderr",
     "output_type": "stream",
     "text": [
      "/home/diogo/programs/anaconda3/lib/python3.6/site-packages/obspy/signal/spectral_estimation.py:770: MaskedArrayFutureWarning: setting an item on a masked array which has a shared mask will not copy the mask and also change the original mask array in the future.\n",
      "Check the NumPy 1.11 release notes for more information.\n",
      "  tr.data[tr.data.mask] = 0.0\n"
     ]
    },
    {
     "name": "stdout",
     "output_type": "stream",
     "text": [
      "CPU times: user 0 ns, sys: 0 ns, total: 0 ns\n",
      "Wall time: 3.81 µs\n"
     ]
    },
    {
     "name": "stderr",
     "output_type": "stream",
     "text": [
      "/home/diogo/programs/anaconda3/lib/python3.6/site-packages/obspy/signal/spectral_estimation.py:770: MaskedArrayFutureWarning: setting an item on a masked array which has a shared mask will not copy the mask and also change the original mask array in the future.\n",
      "Check the NumPy 1.11 release notes for more information.\n",
      "  tr.data[tr.data.mask] = 0.0\n"
     ]
    },
    {
     "name": "stdout",
     "output_type": "stream",
     "text": [
      "CPU times: user 0 ns, sys: 0 ns, total: 0 ns\n",
      "Wall time: 3.81 µs\n"
     ]
    },
    {
     "name": "stderr",
     "output_type": "stream",
     "text": [
      "/home/diogo/programs/anaconda3/lib/python3.6/site-packages/obspy/signal/spectral_estimation.py:770: MaskedArrayFutureWarning: setting an item on a masked array which has a shared mask will not copy the mask and also change the original mask array in the future.\n",
      "Check the NumPy 1.11 release notes for more information.\n",
      "  tr.data[tr.data.mask] = 0.0\n"
     ]
    },
    {
     "name": "stdout",
     "output_type": "stream",
     "text": [
      "CPU times: user 0 ns, sys: 0 ns, total: 0 ns\n",
      "Wall time: 3.81 µs\n"
     ]
    },
    {
     "name": "stderr",
     "output_type": "stream",
     "text": [
      "/home/diogo/programs/anaconda3/lib/python3.6/site-packages/obspy/signal/spectral_estimation.py:770: MaskedArrayFutureWarning: setting an item on a masked array which has a shared mask will not copy the mask and also change the original mask array in the future.\n",
      "Check the NumPy 1.11 release notes for more information.\n",
      "  tr.data[tr.data.mask] = 0.0\n"
     ]
    },
    {
     "name": "stdout",
     "output_type": "stream",
     "text": [
      "CPU times: user 0 ns, sys: 0 ns, total: 0 ns\n",
      "Wall time: 4.29 µs\n"
     ]
    },
    {
     "name": "stderr",
     "output_type": "stream",
     "text": [
      "ERROR:root:Internal Python error in the inspect module.\n",
      "Below is the traceback from this internal error.\n",
      "\n"
     ]
    },
    {
     "name": "stdout",
     "output_type": "stream",
     "text": [
      "Traceback (most recent call last):\n",
      "  File \"/home/diogo/programs/anaconda3/lib/python3.6/site-packages/IPython/core/interactiveshell.py\", line 2910, in run_code\n",
      "    exec(code_obj, self.user_global_ns, self.user_ns)\n",
      "  File \"<ipython-input-6-ab9d798834e7>\", line 11, in <module>\n",
      "    ppsd.add(st)\n",
      "  File \"/home/diogo/programs/anaconda3/lib/python3.6/site-packages/obspy/signal/spectral_estimation.py\", line 733, in add\n",
      "    success = self.__process(slice)\n",
      "  File \"/home/diogo/programs/anaconda3/lib/python3.6/site-packages/obspy/signal/spectral_estimation.py\", line 805, in __process\n",
      "    resp = self._get_response(tr)\n",
      "  File \"/home/diogo/programs/anaconda3/lib/python3.6/site-packages/obspy/signal/spectral_estimation.py\", line 1097, in _get_response\n",
      "    return self._get_response_from_inventory(tr)\n",
      "  File \"/home/diogo/programs/anaconda3/lib/python3.6/site-packages/obspy/signal/spectral_estimation.py\", line 1112, in _get_response_from_inventory\n",
      "    t_samp=self.delta, nfft=self.nfft, output=\"VEL\")\n",
      "  File \"/home/diogo/programs/anaconda3/lib/python3.6/site-packages/obspy/core/inventory/response.py\", line 1431, in get_evalresp_response\n",
      "    freqs, output=output, start_stage=start_stage, end_stage=end_stage)\n",
      "  File \"/home/diogo/programs/anaconda3/lib/python3.6/site-packages/obspy/core/inventory/response.py\", line 1393, in get_evalresp_response_for_frequencies\n",
      "    end_stage=end_stage)\n",
      "  File \"/home/diogo/programs/anaconda3/lib/python3.6/site-packages/obspy/core/inventory/response.py\", line 1352, in _call_eval_resp_for_frequencies\n",
      "    output, out_units, -1, 0, 0)\n",
      "KeyboardInterrupt\n",
      "\n",
      "During handling of the above exception, another exception occurred:\n",
      "\n",
      "Traceback (most recent call last):\n",
      "  File \"/home/diogo/programs/anaconda3/lib/python3.6/site-packages/IPython/core/interactiveshell.py\", line 1828, in showtraceback\n",
      "    stb = value._render_traceback_()\n",
      "AttributeError: 'KeyboardInterrupt' object has no attribute '_render_traceback_'\n",
      "\n",
      "During handling of the above exception, another exception occurred:\n",
      "\n",
      "Traceback (most recent call last):\n",
      "  File \"/home/diogo/programs/anaconda3/lib/python3.6/site-packages/IPython/core/ultratb.py\", line 1090, in get_records\n",
      "    return _fixed_getinnerframes(etb, number_of_lines_of_context, tb_offset)\n",
      "  File \"/home/diogo/programs/anaconda3/lib/python3.6/site-packages/IPython/core/ultratb.py\", line 311, in wrapped\n",
      "    return f(*args, **kwargs)\n",
      "  File \"/home/diogo/programs/anaconda3/lib/python3.6/site-packages/IPython/core/ultratb.py\", line 345, in _fixed_getinnerframes\n",
      "    records = fix_frame_records_filenames(inspect.getinnerframes(etb, context))\n",
      "  File \"/home/diogo/programs/anaconda3/lib/python3.6/inspect.py\", line 1480, in getinnerframes\n",
      "    frameinfo = (tb.tb_frame,) + getframeinfo(tb, context)\n",
      "  File \"/home/diogo/programs/anaconda3/lib/python3.6/inspect.py\", line 1438, in getframeinfo\n",
      "    filename = getsourcefile(frame) or getfile(frame)\n",
      "  File \"/home/diogo/programs/anaconda3/lib/python3.6/inspect.py\", line 693, in getsourcefile\n",
      "    if getattr(getmodule(object, filename), '__loader__', None) is not None:\n",
      "  File \"/home/diogo/programs/anaconda3/lib/python3.6/inspect.py\", line 739, in getmodule\n",
      "    os.path.realpath(f)] = module.__name__\n",
      "  File \"/home/diogo/programs/anaconda3/lib/python3.6/posixpath.py\", line 386, in realpath\n",
      "    path, ok = _joinrealpath(filename[:0], filename, {})\n",
      "  File \"/home/diogo/programs/anaconda3/lib/python3.6/posixpath.py\", line 420, in _joinrealpath\n",
      "    if not islink(newpath):\n",
      "  File \"/home/diogo/programs/anaconda3/lib/python3.6/posixpath.py\", line 169, in islink\n",
      "    st = os.lstat(path)\n",
      "KeyboardInterrupt\n"
     ]
    },
    {
     "ename": "KeyboardInterrupt",
     "evalue": "",
     "output_type": "error",
     "traceback": [
      "\u001b[0;31m---------------------------------------------------------------------------\u001b[0m"
     ]
    }
   ],
   "source": [
    "for k,l in enumerate(datalstS_early):\n",
    "    os.makedirs('/home/diogo/dados_doutorado/parnaiba_basin/assessing_data/PSD_data/PSD_output/'+sta_lst[k],exist_ok=True)\n",
    "    st = read(l+'/*')\n",
    "    st.merge()\n",
    "    tr = st.select(id=st[0].id)[0]\n",
    "\n",
    "    tr.stats.station = sta_lst[k]\n",
    "\n",
    "    ppsd = PPSD(tr.stats, metadata=inv)\n",
    "\n",
    "    ppsd.add(st)\n",
    "\n",
    "    ppsd.plot(show_coverage=False,filename='/home/diogo/dados_doutorado/parnaiba_basin/assessing_data/PSD_data/PSD_output/'+sta_lst[k]+'/'+sta_lst[k]+'_PPSD_early_'+channel[k]+'.pdf')\n",
    "\n",
    "    ppsd.plot(show_coverage=False,cmap=pqlx,filename='/home/diogo/dados_doutorado/parnaiba_basin/assessing_data/PSD_data/PSD_output/'+sta_lst[k]+'/'+sta_lst[k]+'_PPSD_pqlx_early_'+channel[k]+'.pdf')\n",
    "    %time\n"
   ]
  },
  {
   "cell_type": "markdown",
   "metadata": {},
   "source": [
    "# MID "
   ]
  },
  {
   "cell_type": "code",
   "execution_count": null,
   "metadata": {},
   "outputs": [],
   "source": [
    "for k,l in enumerate(datalstS_mid):\n",
    "    os.makedirs('/home/diogo/dados_doutorado/parnaiba_basin/assessing_data/PSD_data/PSD_output/'+sta_lst[k],exist_ok=True)\n",
    "    st = read(l+'/*')\n",
    "    st.merge()\n",
    "    tr = st.select(id=st[0].id)[0]\n",
    "\n",
    "    tr.stats.station = sta_lst[k]\n",
    "\n",
    "    ppsd = PPSD(tr.stats, metadata=inv)\n",
    "\n",
    "    ppsd.add(st)\n",
    "\n",
    "    ppsd.plot(show_coverage=False,filename='/home/diogo/dados_doutorado/parnaiba_basin/assessing_data/PSD_data/PSD_output/'+sta_lst[k]+'/'+sta_lst[k]+'_PPSD_mid_'+channel[k]+'.pdf')\n",
    "\n",
    "    ppsd.plot(show_coverage=False,cmap=pqlx,filename='/home/diogo/dados_doutorado/parnaiba_basin/assessing_data/PSD_data/PSD_output/'+sta_lst[k]+'/'+sta_lst[k]+'_PPSD_pqlx_mid_'+channel[k]+'.pdf')\n",
    "    %time\n"
   ]
  },
  {
   "cell_type": "markdown",
   "metadata": {},
   "source": [
    "# LATE "
   ]
  },
  {
   "cell_type": "code",
   "execution_count": null,
   "metadata": {},
   "outputs": [],
   "source": [
    "for k,l in enumerate(datalstS_late):\n",
    "    os.makedirs('/home/diogo/dados_doutorado/parnaiba_basin/assessing_data/PSD_data/PSD_output/'+sta_lst[k],exist_ok=True)\n",
    "    st = read(l+'/*')\n",
    "    st.merge()\n",
    "    tr = st.select(id=st[0].id)[0]\n",
    "\n",
    "    tr.stats.station = sta_lst[k]\n",
    "\n",
    "    ppsd = PPSD(tr.stats, metadata=inv)\n",
    "\n",
    "    ppsd.add(st)\n",
    "\n",
    "    ppsd.plot(show_coverage=False,filename='/home/diogo/dados_doutorado/parnaiba_basin/assessing_data/PSD_data/PSD_output/'+sta_lst[k]+'/'+sta_lst[k]+'_PPSD_late_'+channel[k]+'.pdf')\n",
    "\n",
    "    ppsd.plot(show_coverage=False,cmap=pqlx,filename='/home/diogo/dados_doutorado/parnaiba_basin/assessing_data/PSD_data/PSD_output/'+sta_lst[k]+'/'+sta_lst[k]+'_PPSD_pqlx_late_'+channel[k]+'.pdf')\n",
    "    %time\n"
   ]
  },
  {
   "cell_type": "code",
   "execution_count": null,
   "metadata": {},
   "outputs": [],
   "source": []
  }
 ],
 "metadata": {
  "kernelspec": {
   "display_name": "Python 3",
   "language": "python",
   "name": "python3"
  },
  "language_info": {
   "codemirror_mode": {
    "name": "ipython",
    "version": 3
   },
   "file_extension": ".py",
   "mimetype": "text/x-python",
   "name": "python",
   "nbconvert_exporter": "python",
   "pygments_lexer": "ipython3",
   "version": "3.6.3"
  }
 },
 "nbformat": 4,
 "nbformat_minor": 2
}
