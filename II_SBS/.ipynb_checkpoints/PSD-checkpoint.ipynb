{
 "cells": [
  {
   "cell_type": "code",
   "execution_count": 1,
   "metadata": {},
   "outputs": [],
   "source": [
    "from __future__ import print_function\n",
    "import matplotlib.pyplot as plt\n",
    "\n",
    "import obspy \n",
    "import numpy as np\n",
    "import matplotlib.pyplot as plt\n",
    "from obspy import read, Stream,read_inventory\n",
    "import os\n",
    "import glob\n",
    "from obspy.io.xseed import Parser\n",
    "from obspy import read_inventory\n",
    "from obspy.signal import PPSD\n",
    "from obspy.imaging.cm import pqlx\n",
    "plt.style.use('ggplot')"
   ]
  },
  {
   "cell_type": "markdown",
   "metadata": {},
   "source": [
    "## Importando o inventário com os dados da REDE BP:"
   ]
  },
  {
   "cell_type": "code",
   "execution_count": 15,
   "metadata": {},
   "outputs": [],
   "source": [
    "inv = read_inventory('/home/diogo/dados_doutorado/parnaiba_basin/assessing_data/xml_file/BP.xml')\n",
    "stations = ['BPPF', 'BUCO', 'GENI', 'GRJU', 'PRDT', 'STSN', 'STSR', 'TRZN']"
   ]
  },
  {
   "cell_type": "code",
   "execution_count": 26,
   "metadata": {},
   "outputs": [
    {
     "name": "stdout",
     "output_type": "stream",
     "text": [
      "CPU times: user 0 ns, sys: 0 ns, total: 0 ns\n",
      "Wall time: 4.05 µs\n"
     ]
    }
   ],
   "source": [
    "\n",
    "\n",
    "#Pasta com os arquivos:\n",
    "miniseed_files_folder = '/home/diogo/dados_doutorado/parnaiba_basin/assessing_data/PSD_data/'\n",
    "\n",
    "data_lst_early = []\n",
    "datalstS_early = []\n",
    "data_lst_late = []\n",
    "datalstS_late = []\n",
    "for i in stations:\n",
    "    for root, dirs, files in os.walk(miniseed_files_folder):\n",
    "        for direc in dirs:\n",
    "            if '/early/' in os.path.join(root, direc):\n",
    "                data_lst_early.append(os.path.join(root, direc))\n",
    "            elif '/late/' in os.path.join(root, direc):\n",
    "                data_lst_late.append(os.path.join(root, direc))\n",
    "\n",
    "datalstS_early = sorted(list(set(data_lst_early)))\n",
    "datalstS_late = sorted(list(set(data_lst_late)))\n",
    "%time"
   ]
  },
  {
   "cell_type": "code",
   "execution_count": 27,
   "metadata": {},
   "outputs": [],
   "source": [
    "sta_lst = [i.split('/')[7] for i in datalstS_late]"
   ]
  },
  {
   "cell_type": "code",
   "execution_count": 28,
   "metadata": {},
   "outputs": [],
   "source": [
    "channel = [i.split('/')[-1] for i in datalstS_late]"
   ]
  },
  {
   "cell_type": "markdown",
   "metadata": {},
   "source": [
    "# EARLY "
   ]
  },
  {
   "cell_type": "code",
   "execution_count": 25,
   "metadata": {},
   "outputs": [
    {
     "name": "stdout",
     "output_type": "stream",
     "text": [
      "CPU times: user 0 ns, sys: 0 ns, total: 0 ns\n",
      "Wall time: 4.77 µs\n",
      "CPU times: user 0 ns, sys: 0 ns, total: 0 ns\n",
      "Wall time: 4.29 µs\n",
      "CPU times: user 0 ns, sys: 0 ns, total: 0 ns\n",
      "Wall time: 3.81 µs\n"
     ]
    },
    {
     "name": "stderr",
     "output_type": "stream",
     "text": [
      "/home/diogo/programs/anaconda3/lib/python3.6/site-packages/obspy/signal/spectral_estimation.py:770: MaskedArrayFutureWarning: setting an item on a masked array which has a shared mask will not copy the mask and also change the original mask array in the future.\n",
      "Check the NumPy 1.11 release notes for more information.\n",
      "  tr.data[tr.data.mask] = 0.0\n"
     ]
    },
    {
     "name": "stdout",
     "output_type": "stream",
     "text": [
      "CPU times: user 0 ns, sys: 0 ns, total: 0 ns\n",
      "Wall time: 5.01 µs\n"
     ]
    },
    {
     "name": "stderr",
     "output_type": "stream",
     "text": [
      "/home/diogo/programs/anaconda3/lib/python3.6/site-packages/obspy/signal/spectral_estimation.py:770: MaskedArrayFutureWarning: setting an item on a masked array which has a shared mask will not copy the mask and also change the original mask array in the future.\n",
      "Check the NumPy 1.11 release notes for more information.\n",
      "  tr.data[tr.data.mask] = 0.0\n"
     ]
    },
    {
     "name": "stdout",
     "output_type": "stream",
     "text": [
      "CPU times: user 0 ns, sys: 0 ns, total: 0 ns\n",
      "Wall time: 5.25 µs\n"
     ]
    },
    {
     "name": "stderr",
     "output_type": "stream",
     "text": [
      "/home/diogo/programs/anaconda3/lib/python3.6/site-packages/obspy/signal/spectral_estimation.py:770: MaskedArrayFutureWarning: setting an item on a masked array which has a shared mask will not copy the mask and also change the original mask array in the future.\n",
      "Check the NumPy 1.11 release notes for more information.\n",
      "  tr.data[tr.data.mask] = 0.0\n"
     ]
    },
    {
     "name": "stdout",
     "output_type": "stream",
     "text": [
      "CPU times: user 0 ns, sys: 0 ns, total: 0 ns\n",
      "Wall time: 3.81 µs\n"
     ]
    }
   ],
   "source": [
    "for k,l in enumerate(datalstS_early):\n",
    "    os.makedirs('/home/diogo/dados_doutorado/parnaiba_basin/assessing_data/PSD_data/PSD_output/'+sta_lst[k],exist_ok=True)\n",
    "    st = read(l+'/*')\n",
    "    st.merge()\n",
    "    tr = st.select(id=st[0].id)[0]\n",
    "\n",
    "    tr.stats.station = sta_lst[k]\n",
    "\n",
    "    ppsd = PPSD(tr.stats, metadata=inv)\n",
    "\n",
    "    ppsd.add(st)\n",
    "\n",
    "    ppsd.plot(show_coverage=False,cmap=pqlx,filename='/home/diogo/dados_doutorado/parnaiba_basin/assessing_data/PSD_data/PSD_output/'+sta_lst[k]+'/'+sta_lst[k]+'_PPSD_pqlx_early_'+channel[k]+'.pdf')\n",
    "    %time\n"
   ]
  },
  {
   "cell_type": "markdown",
   "metadata": {},
   "source": [
    "# LATE "
   ]
  },
  {
   "cell_type": "code",
   "execution_count": null,
   "metadata": {},
   "outputs": [
    {
     "name": "stderr",
     "output_type": "stream",
     "text": [
      "/home/diogo/programs/anaconda3/lib/python3.6/site-packages/obspy/signal/spectral_estimation.py:770: MaskedArrayFutureWarning: setting an item on a masked array which has a shared mask will not copy the mask and also change the original mask array in the future.\n",
      "Check the NumPy 1.11 release notes for more information.\n",
      "  tr.data[tr.data.mask] = 0.0\n"
     ]
    }
   ],
   "source": [
    "for k,l in enumerate(datalstS_late):\n",
    "    os.makedirs('/home/diogo/dados_doutorado/parnaiba_basin/assessing_data/PSD_data/PSD_output/'+sta_lst[k],exist_ok=True)\n",
    "    st = read(l+'/*')\n",
    "    st.merge()\n",
    "    tr = st.select(id=st[0].id)[0]\n",
    "\n",
    "    tr.stats.station = sta_lst[k]\n",
    "\n",
    "    ppsd = PPSD(tr.stats, metadata=inv)\n",
    "\n",
    "    ppsd.add(st)\n",
    "\n",
    "    ppsd.plot(show_coverage=False,cmap=pqlx,filename='/home/diogo/dados_doutorado/parnaiba_basin/assessing_data/PSD_data/PSD_output/'+sta_lst[k]+'/'+sta_lst[k]+'_PPSD_pqlx_late_'+channel[k]+'.pdf')\n",
    "    %time\n"
   ]
  },
  {
   "cell_type": "code",
   "execution_count": null,
   "metadata": {},
   "outputs": [],
   "source": [
    "\n",
    "\n",
    "\n",
    "\n",
    "\n",
    "\n",
    "\n",
    "\n",
    "\n",
    "\n",
    "\n",
    "\n",
    "\n",
    "\n",
    "\n",
    "\n",
    "\n",
    "\n",
    "\n",
    "\n",
    "\n",
    "\n",
    "\n",
    "\n",
    "\n",
    "\n",
    "\n",
    "\n",
    "\n",
    "\n",
    "\n",
    "\n",
    "\n",
    "\n",
    "\n",
    "\n",
    "\n",
    "\n",
    "\n",
    "\n",
    "\n",
    "\n",
    "\n",
    "\n",
    "\n",
    "\n",
    "\n",
    "\n",
    "\n",
    "\n",
    "\n",
    "\n",
    "\n",
    "\n",
    "\n",
    "\n",
    "\n",
    "\n",
    "\n",
    "\n",
    "\n",
    "\n",
    "\n",
    "\n",
    "\n",
    "\n",
    "\n",
    "\n",
    "\n",
    "\n",
    "\n",
    "\n",
    "\n",
    "\n",
    "\n",
    "\n",
    "\n",
    "\n",
    "\n",
    "\n",
    "\n",
    "\n",
    "\n",
    "\n",
    "\n",
    "\n",
    "\n",
    "\n",
    "\n",
    "\n",
    "\n",
    "\n",
    "\n",
    "\n",
    "\n",
    "\n",
    "\n",
    "\n",
    "\n",
    "\n",
    "\n",
    "\n",
    "\n",
    "\n",
    "\n",
    "\n",
    "\n",
    "\n",
    "\n",
    "\n",
    "\n",
    "\n",
    "\n",
    "\n",
    "\n",
    "\n",
    "\n",
    "\n",
    "\n",
    "\n",
    "\n",
    "\n",
    "\n",
    "\n",
    "\n"
   ]
  }
 ],
 "metadata": {
  "kernelspec": {
   "display_name": "Python 3",
   "language": "python",
   "name": "python3"
  },
  "language_info": {
   "codemirror_mode": {
    "name": "ipython",
    "version": 3
   },
   "file_extension": ".py",
   "mimetype": "text/x-python",
   "name": "python",
   "nbconvert_exporter": "python",
   "pygments_lexer": "ipython3",
   "version": "3.6.4"
  }
 },
 "nbformat": 4,
 "nbformat_minor": 2
}
