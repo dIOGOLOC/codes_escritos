{
 "cells": [
  {
   "cell_type": "code",
   "execution_count": 9,
   "metadata": {},
   "outputs": [],
   "source": [
    "import os"
   ]
  },
  {
   "cell_type": "code",
   "execution_count": 6,
   "metadata": {},
   "outputs": [],
   "source": [
    "ev_list = []\n",
    "ev_listS = []\n",
    "\n",
    "for root, dirs, files in os.walk('/home/diogo/dados_doutorado/parnaiba_basin/assessing_data/PSD_data/PSD_output'):\n",
    "    for datafile in files:\n",
    "        if datafile.endswith('.pdf'):\n",
    "            ev_list.append(os.path.join(root, datafile))\n",
    "ev_listS = sorted(ev_list)"
   ]
  },
  {
   "cell_type": "code",
   "execution_count": 10,
   "metadata": {},
   "outputs": [],
   "source": [
    "png_lst = [i.split('.pdf')[0] for i in ev_listS]"
   ]
  },
  {
   "cell_type": "code",
   "execution_count": 13,
   "metadata": {},
   "outputs": [],
   "source": [
    "for i,j in enumerate(ev_listS):\n",
    "    os.system('convert -verbose -density 500 '+j+' -quality 100 '+png_lst[i]+'.png')"
   ]
  },
  {
   "cell_type": "code",
   "execution_count": null,
   "metadata": {},
   "outputs": [],
   "source": []
  }
 ],
 "metadata": {
  "kernelspec": {
   "display_name": "Python 3",
   "language": "python",
   "name": "python3"
  },
  "language_info": {
   "codemirror_mode": {
    "name": "ipython",
    "version": 3
   },
   "file_extension": ".py",
   "mimetype": "text/x-python",
   "name": "python",
   "nbconvert_exporter": "python",
   "pygments_lexer": "ipython3",
   "version": "3.6.3"
  }
 },
 "nbformat": 4,
 "nbformat_minor": 2
}
