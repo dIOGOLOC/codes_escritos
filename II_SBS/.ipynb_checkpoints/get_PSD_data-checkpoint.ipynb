{
 "cells": [
  {
   "cell_type": "code",
   "execution_count": 1,
   "metadata": {},
   "outputs": [],
   "source": [
    "import numpy as np\n",
    "import obspy as op\n",
    "import glob\n",
    "import os\n",
    "import shutil"
   ]
  },
  {
   "cell_type": "markdown",
   "metadata": {},
   "source": [
    "## Buscando os arquivos .miniseed na pasta Soh"
   ]
  },
  {
   "cell_type": "code",
   "execution_count": 2,
   "metadata": {},
   "outputs": [
    {
     "name": "stdout",
     "output_type": "stream",
     "text": [
      "CPU times: user 0 ns, sys: 0 ns, total: 0 ns\n",
      "Wall time: 3.34 µs\n"
     ]
    }
   ],
   "source": [
    "%time\n",
    "\n",
    "#Pasta para salvar os arquivos:\n",
    "miniseed_files_folder = '/home/diogo/dados_doutorado/parnaiba_basin/assessing_data/PSD_data/'\n",
    "#Pasta com os arquivos SOH\n",
    "raw_data = '/media/diogo/BP-PABIP/DADOS/redeBP-BB/'\n",
    "\n",
    "stations = ['BPPF', 'BUCO', 'GENI', 'GRJU', 'PRDT', 'STSN', 'STSR', 'TRZN']\n",
    "\n",
    "data_lst = []\n",
    "datalstS = []\n",
    "for i in stations:\n",
    "    for root, dirs, files in os.walk('/media/diogo/BP-PABIP/DADOS/redeBP-BB/'+i):\n",
    "        for datafile in files:\n",
    "            if datafile.endswith('.miniseed') and  'soh' not in os.path.join(root, datafile):\n",
    "                data_lst.append(os.path.join(root, datafile))    \n",
    "datalstS = sorted(data_lst)"
   ]
  },
  {
   "cell_type": "code",
   "execution_count": 3,
   "metadata": {},
   "outputs": [],
   "source": [
    "BPPF_files = []\n",
    "BUCO_files = []\n",
    "GENI_files = []\n",
    "GRJU_files = []\n",
    "PRDT_files = []\n",
    "STSN_files = []\n",
    "STSR_files = []\n",
    "TRZN_files = []"
   ]
  },
  {
   "cell_type": "code",
   "execution_count": 4,
   "metadata": {},
   "outputs": [],
   "source": [
    "for k,j in enumerate(datalstS):\n",
    "            if 'BPPF'  in j:\n",
    "                BPPF_files.append(j)\n",
    "            elif 'BUCO' in j:\n",
    "                BUCO_files.append(j)\n",
    "            elif 'GENI' in j:\n",
    "                GENI_files.append(j)\n",
    "            elif 'GRJU' in j:\n",
    "                GRJU_files.append(j)\n",
    "            elif 'PRDT' in j:\n",
    "                PRDT_files.append(j)\n",
    "            elif 'STSN' in j:\n",
    "                STSN_files.append(j)\n",
    "            elif 'STSR' in j:\n",
    "                STSR_files.append(j)\n",
    "            else:\n",
    "                TRZN_files.append(j)"
   ]
  },
  {
   "cell_type": "code",
   "execution_count": 5,
   "metadata": {},
   "outputs": [],
   "source": [
    "sta = [BPPF_files,BUCO_files,GENI_files,GRJU_files,PRDT_files,STSN_files,STSR_files,TRZN_files]"
   ]
  },
  {
   "cell_type": "markdown",
   "metadata": {},
   "source": [
    "## Copiando os arquivos para meu computador"
   ]
  },
  {
   "cell_type": "code",
   "execution_count": 6,
   "metadata": {},
   "outputs": [],
   "source": [
    "for k,j in enumerate(sta):\n",
    "    \n",
    "        data_hour_HHX = [i for i in  j if 'HHX' in i ]\n",
    "        data_hour_HHY = [i for i in  j if 'HHY' in i ]\n",
    "        data_hour_HHZ = [i for i in  j if 'HHZ' in i ]\n",
    "\n",
    "        sta_lst_HHX = [i.split('/')[6] for i in data_hour_HHX]\n",
    "        file_name_HHX = [i.split('/')[-1] for i in data_hour_HHX]\n",
    "\n",
    "        sta_lst_HHY = [i.split('/')[6] for i in data_hour_HHY]\n",
    "        file_name_HHY = [i.split('/')[-1] for i in data_hour_HHY]\n",
    "\n",
    "        sta_lst_HHZ = [i.split('/')[6] for i in data_hour_HHZ]\n",
    "        file_name_HHZ = [i.split('/')[-1] for i in data_hour_HHZ]\n",
    "\n",
    "        # Quantidade de arquivos a serem copiados:\n",
    "\n",
    "        n1=720\n",
    "\n",
    "        for i,j in enumerate(data_hour_HHX[:n1]):\n",
    "            os.makedirs(miniseed_files_folder+sta_lst_HHX[i]+'/early/HHX', exist_ok=True)\n",
    "            shutil.copy2(j,miniseed_files_folder+sta_lst_HHX[i]+'/early/HHX/'+file_name_HHX[i])\n",
    "\n",
    "        for i,j in enumerate(data_hour_HHY[:n1]):\n",
    "            os.makedirs(miniseed_files_folder+sta_lst_HHY[i]+'/early/HHY', exist_ok=True)\n",
    "            shutil.copy2(j,miniseed_files_folder+sta_lst_HHY[i]+'/early/HHY/'+file_name_HHY[i])\n",
    "\n",
    "        for i,j in enumerate(data_hour_HHZ[:n1]):\n",
    "            os.makedirs(miniseed_files_folder+sta_lst_HHZ[i]+'/early/HHZ', exist_ok=True)\n",
    "            shutil.copy2(j,miniseed_files_folder+sta_lst_HHZ[i]+'/early/HHZ/'+file_name_HHZ[i])\n",
    "            \n",
    "        n3=720\n",
    "\n",
    "        for i,j in enumerate(data_hour_HHX[-n3:]):\n",
    "            os.makedirs(miniseed_files_folder+sta_lst_HHX[i]+'/late/HHX', exist_ok=True)\n",
    "            shutil.copy2(j,miniseed_files_folder+sta_lst_HHX[i]+'/late/HHX/'+file_name_HHX[i])\n",
    "\n",
    "        for i,j in enumerate(data_hour_HHY[-n3:]):\n",
    "            os.makedirs(miniseed_files_folder+sta_lst_HHY[i]+'/late/HHY', exist_ok=True)\n",
    "            shutil.copy2(j,miniseed_files_folder+sta_lst_HHY[i]+'/late/HHY/'+file_name_HHY[i])\n",
    "\n",
    "        for i,j in enumerate(data_hour_HHZ[-n3:]):\n",
    "            os.makedirs(miniseed_files_folder+sta_lst_HHZ[i]+'/late/HHZ', exist_ok=True)\n",
    "            shutil.copy2(j,miniseed_files_folder+sta_lst_HHZ[i]+'/late/HHZ/'+file_name_HHZ[i])"
   ]
  },
  {
   "cell_type": "code",
   "execution_count": null,
   "metadata": {},
   "outputs": [],
   "source": []
  }
 ],
 "metadata": {
  "kernelspec": {
   "display_name": "Python 3",
   "language": "python",
   "name": "python3"
  },
  "language_info": {
   "codemirror_mode": {
    "name": "ipython",
    "version": 3
   },
   "file_extension": ".py",
   "mimetype": "text/x-python",
   "name": "python",
   "nbconvert_exporter": "python",
   "pygments_lexer": "ipython3",
   "version": "3.6.3"
  }
 },
 "nbformat": 4,
 "nbformat_minor": 2
}
