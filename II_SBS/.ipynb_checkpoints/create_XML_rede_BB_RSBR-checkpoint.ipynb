{
 "cells": [
  {
   "cell_type": "code",
   "execution_count": 1,
   "metadata": {},
   "outputs": [],
   "source": [
    "%matplotlib inline"
   ]
  },
  {
   "cell_type": "code",
   "execution_count": 2,
   "metadata": {},
   "outputs": [],
   "source": [
    "from __future__ import print_function\n",
    "import matplotlib.pyplot as plt\n",
    "\n",
    "import obspy \n",
    "import numpy as np\n",
    "import matplotlib.pyplot as plt\n",
    "from obspy import read, Stream,read_inventory\n",
    "import os\n",
    "import glob\n",
    "from obspy.io.xseed import Parser\n",
    "from obspy import read_inventory\n",
    "from obspy.signal import PPSD\n",
    "from obspy.clients.nrl import NRL\n",
    "from obspy.core.inventory import Inventory, Network, Station, Channel, Site"
   ]
  },
  {
   "cell_type": "markdown",
   "metadata": {},
   "source": [
    "# Buscando no IRIS DMC Library of Nominal Responses a resposta instrumental para o equipamento"
   ]
  },
  {
   "cell_type": "code",
   "execution_count": 3,
   "metadata": {},
   "outputs": [],
   "source": [
    "# By default this accesses the NRL online. Offline copies of the NRL can\n",
    "# also be used instead\n",
    "nrl = NRL()\n",
    "# The contents of the NRL can be explored interactively in a Python prompt,\n",
    "# see API documentation of NRL submodule:\n",
    "# http://docs.obspy.org/packages/obspy.clients.nrl.html\n",
    "# Here we assume that the end point of data logger and sensor are already\n",
    "# known:\n",
    "response = nrl.get_response( # doctest: +SKIP\n",
    "    sensor_keys = ['Nanometrics','Trillium Compact','120 s'],\n",
    "    datalogger_keys = ['Nanometrics','Meridian Compact','40 Vpp (1)','Off','100'])"
   ]
  },
  {
   "cell_type": "code",
   "execution_count": 13,
   "metadata": {},
   "outputs": [
    {
     "data": {
      "text/plain": [
       "Select the coil resistance for this L-4C: (3 items):\n",
       "  '2000 Ohms', '500 Ohms', '5500 Ohms'"
      ]
     },
     "execution_count": 13,
     "metadata": {},
     "output_type": "execute_result"
    }
   ],
   "source": [
    "nrl.sensors['Sercel/Mark Products']['L-4C']"
   ]
  },
  {
   "cell_type": "code",
   "execution_count": 10,
   "metadata": {},
   "outputs": [
    {
     "data": {
      "text/plain": [
       "('L-4C, 1 Hz, 51.5 V/m/s, Rc=500 Ohms, Rs=810 Ohms',\n",
       " 'http://ds.iris.edu/NRL/sensors/sercel/RESP.XX.NS153..SHZ.L4C.500.810.1.51_5')"
      ]
     },
     "execution_count": 10,
     "metadata": {},
     "output_type": "execute_result"
    }
   ],
   "source": [
    "nrl.sensors['Sercel/Mark Products']['L-4C']['500 Ohms']['810 Ohms']"
   ]
  },
  {
   "cell_type": "code",
   "execution_count": 9,
   "metadata": {},
   "outputs": [
    {
     "data": {
      "text/plain": [
       "('L-4C, 1 Hz, 171 V/m/s, Rc=5500 Ohms, Rs=8905 Ohms',\n",
       " 'http://ds.iris.edu/NRL/sensors/sercel/RESP.XX.NS155..SHZ.L4C.5500.8905.1.171')"
      ]
     },
     "execution_count": 9,
     "metadata": {},
     "output_type": "execute_result"
    }
   ],
   "source": [
    "nrl.sensors['Sercel/Mark Products']['L-4C']['5500 Ohms']['8905 Ohms']"
   ]
  },
  {
   "cell_type": "code",
   "execution_count": 4,
   "metadata": {},
   "outputs": [
    {
     "data": {
      "text/plain": [
       "('RT131A-02, DC to >500 Hz, > +/-3g clip level, +/-10V full scale voltage, SF1500L filter',\n",
       " 'http://ds.iris.edu/NRL/sensors/reftek/RESP.XX.NS132..BNZ.RT131A02.DC_500.3G.10V.SF1500S')"
      ]
     },
     "execution_count": 4,
     "metadata": {},
     "output_type": "execute_result"
    }
   ],
   "source": [
    "nrl.sensors['REF TEK']['RT 131 (also 130-SMA)']['131A-02 (also 130-SMA)']['SF1500S']"
   ]
  },
  {
   "cell_type": "code",
   "execution_count": 28,
   "metadata": {},
   "outputs": [
    {
     "data": {
      "text/plain": [
       "('RT131A-02, DC to >500 Hz, > +/-4g clip level, +/-10V full scale voltage, SF1600 filter',\n",
       " 'http://ds.iris.edu/NRL/sensors/reftek/RESP.XX.NS378..BNZ.RT131A02.DC_500.4G.10V.SF1600')"
      ]
     },
     "execution_count": 28,
     "metadata": {},
     "output_type": "execute_result"
    }
   ],
   "source": [
    "nrl.sensors['REF TEK']['RT 131 (also 130-SMA)']['131A-02 (also 130-SMA)']['SF1600']"
   ]
  },
  {
   "cell_type": "code",
   "execution_count": 14,
   "metadata": {},
   "outputs": [
    {
     "data": {
      "text/plain": [
       "Select the analog filter type (3 items):\n",
       "  'SF1500S', 'SF1600', 'SF3000L'"
      ]
     },
     "execution_count": 14,
     "metadata": {},
     "output_type": "execute_result"
    }
   ],
   "source": [
    "nrl.sensors['REF TEK']['RT 131 (also 130-SMA)']['131A-02 (also 130-SMA)']"
   ]
  },
  {
   "cell_type": "code",
   "execution_count": 5,
   "metadata": {},
   "outputs": [
    {
     "ename": "KeyError",
     "evalue": "'RT 131 (also 130-SMA)'",
     "output_type": "error",
     "traceback": [
      "\u001b[0;31m---------------------------------------------------------------------------\u001b[0m",
      "\u001b[0;31mKeyError\u001b[0m                                  Traceback (most recent call last)",
      "\u001b[0;32m<ipython-input-5-ca1fbe47c75d>\u001b[0m in \u001b[0;36m<module>\u001b[0;34m()\u001b[0m\n\u001b[1;32m      1\u001b[0m response = nrl.get_response( # doctest: +SKIP\n\u001b[1;32m      2\u001b[0m     \u001b[0msensor_keys\u001b[0m \u001b[0;34m=\u001b[0m \u001b[0;34m[\u001b[0m\u001b[0;34m'Sercel/Mark Products'\u001b[0m\u001b[0;34m,\u001b[0m\u001b[0;34m'L-4C'\u001b[0m\u001b[0;34m,\u001b[0m\u001b[0;34m'5500 Ohms'\u001b[0m\u001b[0;34m,\u001b[0m\u001b[0;34m'8905 Ohms'\u001b[0m\u001b[0;34m]\u001b[0m\u001b[0;34m,\u001b[0m\u001b[0;34m\u001b[0m\u001b[0m\n\u001b[0;32m----> 3\u001b[0;31m     datalogger_keys = ['REF TEK','RT 131 (also 130-SMA)','131A-02 (also 130-SMA)','SF1500S'])\n\u001b[0m",
      "\u001b[0;32m~/programs/anaconda3/lib/python3.6/site-packages/obspy/clients/nrl/client.py\u001b[0m in \u001b[0;36mget_response\u001b[0;34m(self, datalogger_keys, sensor_keys)\u001b[0m\n\u001b[1;32m    211\u001b[0m             \u001b[0mStage\u001b[0m \u001b[0;36m10\u001b[0m\u001b[0;34m:\u001b[0m \u001b[0mCoefficients\u001b[0m\u001b[0;34m...\u001b[0m \u001b[0;32mfrom\u001b[0m \u001b[0mCOUNTS\u001b[0m \u001b[0mto\u001b[0m \u001b[0mCOUNTS\u001b[0m\u001b[0;34m,\u001b[0m \u001b[0mgain\u001b[0m\u001b[0;34m:\u001b[0m \u001b[0;36m1\u001b[0m\u001b[0;34m\u001b[0m\u001b[0m\n\u001b[1;32m    212\u001b[0m         \"\"\"\n\u001b[0;32m--> 213\u001b[0;31m         \u001b[0mdl_resp\u001b[0m \u001b[0;34m=\u001b[0m \u001b[0mself\u001b[0m\u001b[0;34m.\u001b[0m\u001b[0mget_datalogger_response\u001b[0m\u001b[0;34m(\u001b[0m\u001b[0mdatalogger_keys\u001b[0m\u001b[0;34m)\u001b[0m\u001b[0;34m\u001b[0m\u001b[0m\n\u001b[0m\u001b[1;32m    214\u001b[0m         \u001b[0msensor_resp\u001b[0m \u001b[0;34m=\u001b[0m \u001b[0mself\u001b[0m\u001b[0;34m.\u001b[0m\u001b[0mget_sensor_response\u001b[0m\u001b[0;34m(\u001b[0m\u001b[0msensor_keys\u001b[0m\u001b[0;34m)\u001b[0m\u001b[0;34m\u001b[0m\u001b[0m\n\u001b[1;32m    215\u001b[0m \u001b[0;34m\u001b[0m\u001b[0m\n",
      "\u001b[0;32m~/programs/anaconda3/lib/python3.6/site-packages/obspy/clients/nrl/client.py\u001b[0m in \u001b[0;36mget_datalogger_response\u001b[0;34m(self, datalogger_keys)\u001b[0m\n\u001b[1;32m    158\u001b[0m         \u001b[0mdatalogger\u001b[0m \u001b[0;34m=\u001b[0m \u001b[0mself\u001b[0m\u001b[0;34m.\u001b[0m\u001b[0mdataloggers\u001b[0m\u001b[0;34m\u001b[0m\u001b[0m\n\u001b[1;32m    159\u001b[0m         \u001b[0;32mfor\u001b[0m \u001b[0mkey\u001b[0m \u001b[0;32min\u001b[0m \u001b[0mdatalogger_keys\u001b[0m\u001b[0;34m:\u001b[0m\u001b[0;34m\u001b[0m\u001b[0m\n\u001b[0;32m--> 160\u001b[0;31m             \u001b[0mdatalogger\u001b[0m \u001b[0;34m=\u001b[0m \u001b[0mdatalogger\u001b[0m\u001b[0;34m[\u001b[0m\u001b[0mkey\u001b[0m\u001b[0;34m]\u001b[0m\u001b[0;34m\u001b[0m\u001b[0m\n\u001b[0m\u001b[1;32m    161\u001b[0m \u001b[0;34m\u001b[0m\u001b[0m\n\u001b[1;32m    162\u001b[0m         \u001b[0;31m# Parse to an inventory object and return a response object.\u001b[0m\u001b[0;34m\u001b[0m\u001b[0;34m\u001b[0m\u001b[0m\n",
      "\u001b[0;32m~/programs/anaconda3/lib/python3.6/site-packages/obspy/clients/nrl/client.py\u001b[0m in \u001b[0;36m__getitem__\u001b[0;34m(self, name)\u001b[0m\n\u001b[1;32m    248\u001b[0m \u001b[0;34m\u001b[0m\u001b[0m\n\u001b[1;32m    249\u001b[0m     \u001b[0;32mdef\u001b[0m \u001b[0m__getitem__\u001b[0m\u001b[0;34m(\u001b[0m\u001b[0mself\u001b[0m\u001b[0;34m,\u001b[0m \u001b[0mname\u001b[0m\u001b[0;34m)\u001b[0m\u001b[0;34m:\u001b[0m\u001b[0;34m\u001b[0m\u001b[0m\n\u001b[0;32m--> 250\u001b[0;31m         \u001b[0mvalue\u001b[0m \u001b[0;34m=\u001b[0m \u001b[0msuper\u001b[0m\u001b[0;34m(\u001b[0m\u001b[0mNRLDict\u001b[0m\u001b[0;34m,\u001b[0m \u001b[0mself\u001b[0m\u001b[0;34m)\u001b[0m\u001b[0;34m.\u001b[0m\u001b[0m__getitem__\u001b[0m\u001b[0;34m(\u001b[0m\u001b[0mname\u001b[0m\u001b[0;34m)\u001b[0m\u001b[0;34m\u001b[0m\u001b[0m\n\u001b[0m\u001b[1;32m    251\u001b[0m         \u001b[0;31m# if encountering a not yet parsed NRL Path, expand it now\u001b[0m\u001b[0;34m\u001b[0m\u001b[0;34m\u001b[0m\u001b[0m\n\u001b[1;32m    252\u001b[0m         \u001b[0;32mif\u001b[0m \u001b[0misinstance\u001b[0m\u001b[0;34m(\u001b[0m\u001b[0mvalue\u001b[0m\u001b[0;34m,\u001b[0m \u001b[0mNRLPath\u001b[0m\u001b[0;34m)\u001b[0m\u001b[0;34m:\u001b[0m\u001b[0;34m\u001b[0m\u001b[0m\n",
      "\u001b[0;31mKeyError\u001b[0m: 'RT 131 (also 130-SMA)'"
     ]
    }
   ],
   "source": [
    "response = nrl.get_response( # doctest: +SKIP\n",
    "    sensor_keys = ['Sercel/Mark Products','L-4C','5500 Ohms','8905 Ohms'],\n",
    "    datalogger_keys = ['REF TEK','RT 131 (also 130-SMA)','131A-02 (also 130-SMA)','SF1600'])"
   ]
  },
  {
   "cell_type": "markdown",
   "metadata": {},
   "source": [
    "# Criando o inventório:"
   ]
  },
  {
   "cell_type": "code",
   "execution_count": 75,
   "metadata": {},
   "outputs": [],
   "source": [
    "inv = Inventory(\n",
    "    # We'll add networks later.\n",
    "    networks=[],\n",
    "    # The source should be the id whoever create the file.\n",
    "    source=\"LabSis UFRN - rede BP\")"
   ]
  },
  {
   "cell_type": "markdown",
   "metadata": {},
   "source": [
    "# Criando a lista com a rede:"
   ]
  },
  {
   "cell_type": "code",
   "execution_count": 76,
   "metadata": {},
   "outputs": [],
   "source": [
    "net = Network(\n",
    "    # This is the network code according to the SEED standard.\n",
    "    code=\"BP\",\n",
    "    # A list of stations. We'll add one later.\n",
    "    stations=[],\n",
    "    description=\"Rede de 8 estações Nanometrics Trillium Compact\",\n",
    "    # Start-and end dates are optional.\n",
    "    start_date=obspy.UTCDateTime(2016,4,1))"
   ]
  },
  {
   "cell_type": "markdown",
   "metadata": {},
   "source": [
    "# Criando a lista com as estações da rede:"
   ]
  },
  {
   "cell_type": "code",
   "execution_count": 77,
   "metadata": {},
   "outputs": [],
   "source": [
    "sta_txt = os.listdir('/home/diogo/dados_doutorado/parnaiba_basin/assessing_data/xml_file/')"
   ]
  },
  {
   "cell_type": "code",
   "execution_count": 78,
   "metadata": {},
   "outputs": [],
   "source": [
    "stations_lst = [np.loadtxt('/home/diogo/dados_doutorado/parnaiba_basin/assessing_data/xml_file/'+i,dtype='str',delimiter=',') for i in sta_txt]"
   ]
  },
  {
   "cell_type": "code",
   "execution_count": 79,
   "metadata": {},
   "outputs": [],
   "source": [
    "for i,j in enumerate(stations_lst):\n",
    "    sta = Station(\n",
    "        # This is the station code according to the SEED standard.\n",
    "        code=j[0],\n",
    "        latitude=float(j[1]),\n",
    "        longitude=float(j[2]),\n",
    "        elevation=float(j[3]),\n",
    "        creation_date=obspy.UTCDateTime(int(j[4]),int(j[5]),int(j[6])),\n",
    "        site=Site(name=\"BP station\"))\n",
    "    \n",
    "    cha_HHZ = Channel(\n",
    "        # This is the channel code according to the SEED standard.\n",
    "        code=\"HHZ\",\n",
    "        # This is the location code according to the SEED standard.\n",
    "        location_code=\"\",\n",
    "        # Note that these coordinates can differ from the station coordinates.\n",
    "        latitude=float(j[1]),\n",
    "        longitude=float(j[2]),\n",
    "        elevation=float(j[3]),\n",
    "        depth=0.0,\n",
    "        azimuth=0.0,\n",
    "        dip=-90.0,\n",
    "        sample_rate=100)\n",
    "\n",
    "    cha_HHE = Channel(\n",
    "        # This is the channel code according to the SEED standard.\n",
    "        code=\"HHX\",\n",
    "        # This is the location code according to the SEED standard.\n",
    "        location_code=\"\",\n",
    "        # Note that these coordinates can differ from the station coordinates.\n",
    "        latitude=float(j[1]),\n",
    "        longitude=float(j[2]),\n",
    "        elevation=float(j[3]),\n",
    "        depth=0.0,\n",
    "        azimuth=90.0,\n",
    "        dip=0.0,\n",
    "        sample_rate=100)\n",
    "\n",
    "    cha_HHN = Channel(\n",
    "        # This is the channel code according to the SEED standard.\n",
    "        code=\"HHY\",\n",
    "        # This is the location code according to the SEED standard.\n",
    "        location_code=\"\",\n",
    "        # Note that these coordinates can differ from the station coordinates.\n",
    "        latitude=float(j[1]),\n",
    "        longitude=float(j[2]),\n",
    "        elevation=float(j[3]),\n",
    "        depth=0.0,\n",
    "        azimuth=0.0,\n",
    "        dip=0.0,\n",
    "        sample_rate=100)\n",
    "    \n",
    "    # Now tie it all together.\n",
    "    cha_HHZ.response = response\n",
    "    cha_HHN.response = response\n",
    "    cha_HHE.response = response\n",
    "    channel_sta = [cha_HHZ,cha_HHN,cha_HHE]\n",
    "    for k in channel_sta:\n",
    "        sta.channels.append(k)\n",
    "    net.stations.append(sta)\n"
   ]
  },
  {
   "cell_type": "code",
   "execution_count": 80,
   "metadata": {},
   "outputs": [],
   "source": [
    "inv.networks.append(net)  "
   ]
  },
  {
   "cell_type": "code",
   "execution_count": 81,
   "metadata": {},
   "outputs": [
    {
     "data": {
      "text/plain": [
       "Inventory created at 2017-11-05T01:57:06.429410Z\n",
       "\tCreated by: ObsPy 1.1.0\n",
       "\t\t    https://www.obspy.org\n",
       "\tSending institution: LabSis UFRN - rede BP\n",
       "\tContains:\n",
       "\t\tNetworks (1):\n",
       "\t\t\tBP\n",
       "\t\tStations (8):\n",
       "\t\t\tBP.BPPF (BP station)\n",
       "\t\t\tBP.BUCO (BP station)\n",
       "\t\t\tBP.GENI (BP station)\n",
       "\t\t\tBP.GRJU (BP station)\n",
       "\t\t\tBP.PRDT (BP station)\n",
       "\t\t\tBP.STSN (BP station)\n",
       "\t\t\tBP.STSR (BP station)\n",
       "\t\t\tBP.TRZN (BP station)\n",
       "\t\tChannels (24):\n",
       "\t\t\tBP.BPPF..HHZ, BP.BPPF..HHX, BP.BPPF..HHY, BP.BUCO..HHZ, \n",
       "\t\t\tBP.BUCO..HHX, BP.BUCO..HHY, BP.GENI..HHZ, BP.GENI..HHX, \n",
       "\t\t\tBP.GENI..HHY, BP.GRJU..HHZ, BP.GRJU..HHX, BP.GRJU..HHY, \n",
       "\t\t\tBP.PRDT..HHZ, BP.PRDT..HHX, BP.PRDT..HHY, BP.STSN..HHZ, \n",
       "\t\t\tBP.STSN..HHX, BP.STSN..HHY, BP.STSR..HHZ, BP.STSR..HHX, \n",
       "\t\t\tBP.STSR..HHY, BP.TRZN..HHZ, BP.TRZN..HHX, BP.TRZN..HHY"
      ]
     },
     "execution_count": 81,
     "metadata": {},
     "output_type": "execute_result"
    }
   ],
   "source": [
    "inv"
   ]
  },
  {
   "cell_type": "code",
   "execution_count": 86,
   "metadata": {},
   "outputs": [],
   "source": [
    "inv.write(\"/home/diogo/dados_doutorado/parnaiba_basin/assessing_data/xml_file/BP.xml\", format=\"stationxml\", validate=True)"
   ]
  },
  {
   "cell_type": "code",
   "execution_count": null,
   "metadata": {},
   "outputs": [],
   "source": []
  }
 ],
 "metadata": {
  "kernelspec": {
   "display_name": "Python 3",
   "language": "python",
   "name": "python3"
  },
  "language_info": {
   "codemirror_mode": {
    "name": "ipython",
    "version": 3
   },
   "file_extension": ".py",
   "mimetype": "text/x-python",
   "name": "python",
   "nbconvert_exporter": "python",
   "pygments_lexer": "ipython3",
   "version": "3.6.4"
  }
 },
 "nbformat": 4,
 "nbformat_minor": 2
}
