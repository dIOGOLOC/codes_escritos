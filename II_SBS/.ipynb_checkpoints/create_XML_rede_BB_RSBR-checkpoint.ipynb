{
 "cells": [
  {
   "cell_type": "code",
   "execution_count": 2,
   "metadata": {},
   "outputs": [],
   "source": [
    "%matplotlib inline"
   ]
  },
  {
   "cell_type": "code",
   "execution_count": 4,
   "metadata": {},
   "outputs": [],
   "source": [
    "from __future__ import print_function\n",
    "import matplotlib.pyplot as plt\n",
    "\n",
    "import obspy \n",
    "import numpy as np\n",
    "import matplotlib.pyplot as plt\n",
    "from obspy import read, Stream,read_inventory\n",
    "import os\n",
    "import glob\n",
    "from obspy.io.xseed import Parser\n",
    "from obspy import read_inventory\n",
    "from obspy.signal import PPSD\n",
    "from obspy.clients.nrl import NRL\n",
    "from obspy.core.inventory import Inventory, Network, Station, Channel, Site"
   ]
  },
  {
   "cell_type": "markdown",
   "metadata": {},
   "source": [
    "# Buscando no IRIS DMC Library of Nominal Responses a resposta instrumental para o equipamento"
   ]
  },
  {
   "cell_type": "code",
   "execution_count": 57,
   "metadata": {},
   "outputs": [],
   "source": [
    "# By default this accesses the NRL online. Offline copies of the NRL can\n",
    "# also be used instead\n",
    "nrl = NRL()\n",
    "# The contents of the NRL can be explored interactively in a Python prompt,\n",
    "# see API documentation of NRL submodule:\n",
    "# http://docs.obspy.org/packages/obspy.clients.nrl.html\n",
    "# Here we assume that the end point of data logger and sensor are already\n",
    "# known:\n",
    "response = nrl.get_response( # doctest: +SKIP\n",
    "    sensor_keys = ['Nanometrics','Trillium Compact','120 s'],\n",
    "    datalogger_keys = ['Nanometrics','Meridian Compact','40 Vpp (1)','Off','100'])"
   ]
  },
  {
   "cell_type": "markdown",
   "metadata": {},
   "source": [
    "# Criando o inventório:"
   ]
  },
  {
   "cell_type": "code",
   "execution_count": 75,
   "metadata": {},
   "outputs": [],
   "source": [
    "inv = Inventory(\n",
    "    # We'll add networks later.\n",
    "    networks=[],\n",
    "    # The source should be the id whoever create the file.\n",
    "    source=\"LabSis UFRN - rede BP\")"
   ]
  },
  {
   "cell_type": "markdown",
   "metadata": {},
   "source": [
    "# Criando a lista com a rede:"
   ]
  },
  {
   "cell_type": "code",
   "execution_count": 76,
   "metadata": {},
   "outputs": [],
   "source": [
    "net = Network(\n",
    "    # This is the network code according to the SEED standard.\n",
    "    code=\"BP\",\n",
    "    # A list of stations. We'll add one later.\n",
    "    stations=[],\n",
    "    description=\"Rede de 8 estações Nanometrics Trillium Compact\",\n",
    "    # Start-and end dates are optional.\n",
    "    start_date=obspy.UTCDateTime(2016,4,1))"
   ]
  },
  {
   "cell_type": "markdown",
   "metadata": {},
   "source": [
    "# Criando a lista com as estações da rede:"
   ]
  },
  {
   "cell_type": "code",
   "execution_count": 77,
   "metadata": {},
   "outputs": [],
   "source": [
    "sta_txt = os.listdir('/home/diogo/dados_doutorado/parnaiba_basin/assessing_data/xml_file/')"
   ]
  },
  {
   "cell_type": "code",
   "execution_count": 78,
   "metadata": {},
   "outputs": [],
   "source": [
    "stations_lst = [np.loadtxt('/home/diogo/dados_doutorado/parnaiba_basin/assessing_data/xml_file/'+i,dtype='str',delimiter=',') for i in sta_txt]"
   ]
  },
  {
   "cell_type": "code",
   "execution_count": 79,
   "metadata": {},
   "outputs": [],
   "source": [
    "for i,j in enumerate(stations_lst):\n",
    "    sta = Station(\n",
    "        # This is the station code according to the SEED standard.\n",
    "        code=j[0],\n",
    "        latitude=float(j[1]),\n",
    "        longitude=float(j[2]),\n",
    "        elevation=float(j[3]),\n",
    "        creation_date=obspy.UTCDateTime(int(j[4]),int(j[5]),int(j[6])),\n",
    "        site=Site(name=\"BP station\"))\n",
    "    \n",
    "    cha_HHZ = Channel(\n",
    "        # This is the channel code according to the SEED standard.\n",
    "        code=\"HHZ\",\n",
    "        # This is the location code according to the SEED standard.\n",
    "        location_code=\"\",\n",
    "        # Note that these coordinates can differ from the station coordinates.\n",
    "        latitude=float(j[1]),\n",
    "        longitude=float(j[2]),\n",
    "        elevation=float(j[3]),\n",
    "        depth=0.0,\n",
    "        azimuth=0.0,\n",
    "        dip=-90.0,\n",
    "        sample_rate=100)\n",
    "\n",
    "    cha_HHE = Channel(\n",
    "        # This is the channel code according to the SEED standard.\n",
    "        code=\"HHX\",\n",
    "        # This is the location code according to the SEED standard.\n",
    "        location_code=\"\",\n",
    "        # Note that these coordinates can differ from the station coordinates.\n",
    "        latitude=float(j[1]),\n",
    "        longitude=float(j[2]),\n",
    "        elevation=float(j[3]),\n",
    "        depth=0.0,\n",
    "        azimuth=90.0,\n",
    "        dip=0.0,\n",
    "        sample_rate=100)\n",
    "\n",
    "    cha_HHN = Channel(\n",
    "        # This is the channel code according to the SEED standard.\n",
    "        code=\"HHY\",\n",
    "        # This is the location code according to the SEED standard.\n",
    "        location_code=\"\",\n",
    "        # Note that these coordinates can differ from the station coordinates.\n",
    "        latitude=float(j[1]),\n",
    "        longitude=float(j[2]),\n",
    "        elevation=float(j[3]),\n",
    "        depth=0.0,\n",
    "        azimuth=0.0,\n",
    "        dip=0.0,\n",
    "        sample_rate=100)\n",
    "    \n",
    "    # Now tie it all together.\n",
    "    cha_HHZ.response = response\n",
    "    cha_HHN.response = response\n",
    "    cha_HHE.response = response\n",
    "    channel_sta = [cha_HHZ,cha_HHN,cha_HHE]\n",
    "    for k in channel_sta:\n",
    "        sta.channels.append(k)\n",
    "    net.stations.append(sta)\n"
   ]
  },
  {
   "cell_type": "code",
   "execution_count": 80,
   "metadata": {},
   "outputs": [],
   "source": [
    "inv.networks.append(net)  "
   ]
  },
  {
   "cell_type": "code",
   "execution_count": 81,
   "metadata": {},
   "outputs": [
    {
     "data": {
      "text/plain": [
       "Inventory created at 2017-11-05T01:57:06.429410Z\n",
       "\tCreated by: ObsPy 1.1.0\n",
       "\t\t    https://www.obspy.org\n",
       "\tSending institution: LabSis UFRN - rede BP\n",
       "\tContains:\n",
       "\t\tNetworks (1):\n",
       "\t\t\tBP\n",
       "\t\tStations (8):\n",
       "\t\t\tBP.BPPF (BP station)\n",
       "\t\t\tBP.BUCO (BP station)\n",
       "\t\t\tBP.GENI (BP station)\n",
       "\t\t\tBP.GRJU (BP station)\n",
       "\t\t\tBP.PRDT (BP station)\n",
       "\t\t\tBP.STSN (BP station)\n",
       "\t\t\tBP.STSR (BP station)\n",
       "\t\t\tBP.TRZN (BP station)\n",
       "\t\tChannels (24):\n",
       "\t\t\tBP.BPPF..HHZ, BP.BPPF..HHX, BP.BPPF..HHY, BP.BUCO..HHZ, \n",
       "\t\t\tBP.BUCO..HHX, BP.BUCO..HHY, BP.GENI..HHZ, BP.GENI..HHX, \n",
       "\t\t\tBP.GENI..HHY, BP.GRJU..HHZ, BP.GRJU..HHX, BP.GRJU..HHY, \n",
       "\t\t\tBP.PRDT..HHZ, BP.PRDT..HHX, BP.PRDT..HHY, BP.STSN..HHZ, \n",
       "\t\t\tBP.STSN..HHX, BP.STSN..HHY, BP.STSR..HHZ, BP.STSR..HHX, \n",
       "\t\t\tBP.STSR..HHY, BP.TRZN..HHZ, BP.TRZN..HHX, BP.TRZN..HHY"
      ]
     },
     "execution_count": 81,
     "metadata": {},
     "output_type": "execute_result"
    }
   ],
   "source": [
    "inv"
   ]
  },
  {
   "cell_type": "code",
   "execution_count": 86,
   "metadata": {},
   "outputs": [],
   "source": [
    "inv.write(\"/home/diogo/dados_doutorado/parnaiba_basin/assessing_data/xml_file/BP.xml\", format=\"stationxml\", validate=True)"
   ]
  },
  {
   "cell_type": "code",
   "execution_count": null,
   "metadata": {},
   "outputs": [],
   "source": []
  }
 ],
 "metadata": {
  "kernelspec": {
   "display_name": "Python 3",
   "language": "python",
   "name": "python3"
  },
  "language_info": {
   "codemirror_mode": {
    "name": "ipython",
    "version": 3
   },
   "file_extension": ".py",
   "mimetype": "text/x-python",
   "name": "python",
   "nbconvert_exporter": "python",
   "pygments_lexer": "ipython3",
   "version": "3.6.3"
  }
 },
 "nbformat": 4,
 "nbformat_minor": 2
}
