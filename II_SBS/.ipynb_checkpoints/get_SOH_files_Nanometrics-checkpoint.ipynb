{
 "cells": [
  {
   "cell_type": "code",
   "execution_count": 1,
   "metadata": {},
   "outputs": [],
   "source": [
    "import numpy as np\n",
    "import obspy as op\n",
    "import glob\n",
    "import os\n",
    "import shutil"
   ]
  },
  {
   "cell_type": "markdown",
   "metadata": {},
   "source": [
    "## Buscando os arquivos .miniseed na pasta Soh"
   ]
  },
  {
   "cell_type": "code",
   "execution_count": 2,
   "metadata": {},
   "outputs": [
    {
     "name": "stdout",
     "output_type": "stream",
     "text": [
      "CPU times: user 0 ns, sys: 0 ns, total: 0 ns\n",
      "Wall time: 4.05 µs\n"
     ]
    }
   ],
   "source": [
    "%time\n",
    "\n",
    "#Pasta para salvar os arquivos:\n",
    "soh_files_folder = '/home/diogo/dados_doutorado/parnaiba_basin/assessing_data/soh_files/'\n",
    "#Pasta com os arquivos SOH\n",
    "raw_data = '/media/diogo/BP-PABIP/DADOS/redeBP-BB/'\n",
    "\n",
    "stations = ['BPPF', 'BUCO', 'GENI', 'GRJU', 'PRDT', 'STSN', 'STSR', 'TRZN']\n",
    "\n",
    "data_lst = []\n",
    "datalstS = []\n",
    "for i in stations:\n",
    "    for root, dirs, files in os.walk('/media/diogo/BP-PABIP/DADOS/redeBP-BB/'+i):\n",
    "        for datafile in files:\n",
    "            if datafile.endswith('.miniseed') and '/soh' in os.path.join(root, datafile):\n",
    "                data_lst.append(os.path.join(root, datafile))    \n",
    "datalstS = sorted(data_lst)"
   ]
  },
  {
   "cell_type": "markdown",
   "metadata": {},
   "source": [
    "## Recolhendo informações dos arquivos"
   ]
  },
  {
   "cell_type": "code",
   "execution_count": 3,
   "metadata": {},
   "outputs": [],
   "source": [
    "coleta_lst = [i.split('/')[7] for i in datalstS]\n",
    "sta_lst = [i.split('/')[6] for i in datalstS]\n",
    "file_ano = [i.split('/')[8] for i in datalstS]\n",
    "file_mes = [i.split('/')[9] for i in datalstS]\n",
    "file_dia = [i.split('/')[10] for i in datalstS]\n",
    "file_name = [i.split('/')[-1] for i in datalstS]"
   ]
  },
  {
   "cell_type": "code",
   "execution_count": 4,
   "metadata": {},
   "outputs": [],
   "source": [
    "ano_coleta = ['20'+i[:2] for i in coleta_lst]\n",
    "mes_coleta = [i[2:4] for i in coleta_lst]\n",
    "dia_coleta = [i[4:6] for i in coleta_lst]"
   ]
  },
  {
   "cell_type": "code",
   "execution_count": 5,
   "metadata": {},
   "outputs": [],
   "source": [
    "sta_coleta = [','.join([sta_lst[i],ano_coleta[i],mes_coleta[i],dia_coleta[i]]) for i,j in enumerate(coleta_lst)]"
   ]
  },
  {
   "cell_type": "code",
   "execution_count": 6,
   "metadata": {},
   "outputs": [],
   "source": [
    "data_coleta = sorted(list(set(sta_coleta)))"
   ]
  },
  {
   "cell_type": "code",
   "execution_count": 7,
   "metadata": {},
   "outputs": [],
   "source": [
    "np.savetxt(soh_files_folder+'dias_coleta.txt',data_coleta, fmt='%s') "
   ]
  },
  {
   "cell_type": "markdown",
   "metadata": {},
   "source": [
    "## Copiando os arquivos para meu computador"
   ]
  },
  {
   "cell_type": "code",
   "execution_count": 8,
   "metadata": {},
   "outputs": [],
   "source": [
    "sta_lst = [i.split('/')[6] for i in datalstS]\n",
    "file_ano = [i.split('/')[8] for i in datalstS]\n",
    "file_mes = [i.split('/')[9] for i in datalstS]\n",
    "file_dia = [i.split('/')[10] for i in datalstS]\n",
    "file_name = [i.split('/')[-1] for i in datalstS]"
   ]
  },
  {
   "cell_type": "code",
   "execution_count": 9,
   "metadata": {},
   "outputs": [],
   "source": [
    "for i,j in enumerate(datalstS):\n",
    "    os.makedirs(soh_files_folder+sta_lst[i]+'/'+file_ano[i]+'/'+file_mes[i]+'/'+file_dia[i], exist_ok=True)\n",
    "    shutil.copy2(j,soh_files_folder+sta_lst[i]+'/'+file_ano[i]+'/'+file_mes[i]+'/'+file_dia[i]+'/'+file_name[i])"
   ]
  },
  {
   "cell_type": "code",
   "execution_count": null,
   "metadata": {},
   "outputs": [],
   "source": []
  }
 ],
 "metadata": {
  "kernelspec": {
   "display_name": "Python 3",
   "language": "python",
   "name": "python3"
  },
  "language_info": {
   "codemirror_mode": {
    "name": "ipython",
    "version": 3
   },
   "file_extension": ".py",
   "mimetype": "text/x-python",
   "name": "python",
   "nbconvert_exporter": "python",
   "pygments_lexer": "ipython3",
   "version": "3.6.3"
  }
 },
 "nbformat": 4,
 "nbformat_minor": 2
}
