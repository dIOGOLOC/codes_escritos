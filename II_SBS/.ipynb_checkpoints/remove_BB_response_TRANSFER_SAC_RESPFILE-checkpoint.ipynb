{
 "cells": [
  {
   "cell_type": "code",
   "execution_count": 1,
   "metadata": {},
   "outputs": [],
   "source": [
    "%matplotlib inline"
   ]
  },
  {
   "cell_type": "code",
   "execution_count": 2,
   "metadata": {},
   "outputs": [],
   "source": [
    "import matplotlib.pyplot as plt\n",
    "import obspy\n",
    "import os\n",
    "from obspy.clients.fdsn import Client as irisClient\n",
    "from obspy.clients.arclink.client import Client\n",
    "from obspy.taup import TauPyModel\n",
    "from obspy.geodetics import kilometer2degrees\n",
    "from obspy.io.xseed import Parser\n",
    "from scipy.stats.stats import pearsonr\n",
    "from obspy.signal.invsim import corn_freq_2_paz\n",
    "import numpy as np\n",
    "from obspy.signal.cross_correlation import xcorr"
   ]
  },
  {
   "cell_type": "markdown",
   "metadata": {},
   "source": [
    "# Coletando os arquivos das estações"
   ]
  },
  {
   "cell_type": "code",
   "execution_count": 3,
   "metadata": {},
   "outputs": [],
   "source": [
    "ev_BB_list = []\n",
    "ev_BB_listS = []\n",
    "\n",
    "for root, dirs, files in os.walk('/home/diogo/dados_doutorado/parnaiba_basin/assessing_data/STA_data/'):\n",
    "    for datafile in files:\n",
    "        if datafile.startswith('BP'):\n",
    "            ev_BB_list.append(os.path.join(root, datafile))\n",
    "ev_BB_listS = sorted(ev_BB_list)"
   ]
  },
  {
   "cell_type": "code",
   "execution_count": 5,
   "metadata": {},
   "outputs": [],
   "source": [
    "ev_BB_lst = [i.split('/')for i in ev_BB_listS]"
   ]
  },
  {
   "cell_type": "code",
   "execution_count": 6,
   "metadata": {},
   "outputs": [],
   "source": [
    "ev_BB_dir1 = ['/'.join(i[:-1]) for i in ev_BB_lst]"
   ]
  },
  {
   "cell_type": "code",
   "execution_count": 7,
   "metadata": {},
   "outputs": [],
   "source": [
    "ev_BB_dir = sorted(list(set(ev_BB_dir1)))"
   ]
  },
  {
   "cell_type": "markdown",
   "metadata": {},
   "source": [
    "# Retirando a resposta instrumental das estações"
   ]
  },
  {
   "cell_type": "code",
   "execution_count": 8,
   "metadata": {},
   "outputs": [],
   "source": [
    "for i,j in enumerate(ev_BB_dir):\n",
    "    os.chdir(j)\n",
    "    os.system('sh /home/diogo/dados_doutorado/parnaiba_basin/assessing_data/RESP_file/remove_response.sh')"
   ]
  },
  {
   "cell_type": "code",
   "execution_count": null,
   "metadata": {},
   "outputs": [],
   "source": []
  }
 ],
 "metadata": {
  "kernelspec": {
   "display_name": "Python 3",
   "language": "python",
   "name": "python3"
  },
  "language_info": {
   "codemirror_mode": {
    "name": "ipython",
    "version": 3
   },
   "file_extension": ".py",
   "mimetype": "text/x-python",
   "name": "python",
   "nbconvert_exporter": "python",
   "pygments_lexer": "ipython3",
   "version": "3.6.3"
  }
 },
 "nbformat": 4,
 "nbformat_minor": 2
}
