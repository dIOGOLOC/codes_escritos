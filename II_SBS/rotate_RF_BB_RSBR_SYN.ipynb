{
 "cells": [
  {
   "cell_type": "code",
   "execution_count": 1,
   "metadata": {},
   "outputs": [],
   "source": [
    "import obspy\n",
    "import os"
   ]
  },
  {
   "cell_type": "markdown",
   "metadata": {},
   "source": [
    "# Coletando os dados das estações e os dados sintéticos"
   ]
  },
  {
   "cell_type": "code",
   "execution_count": 4,
   "metadata": {},
   "outputs": [],
   "source": [
    "ev_list = []\n",
    "ev_listS = []\n",
    "\n",
    "for root, dirs, files in os.walk('/home/diogo/dados_doutorado/parnaiba_basin/assessing_data/FR_data/'):\n",
    "    for direc in dirs:\n",
    "        if direc.endswith('00'):\n",
    "            ev_list.append(os.path.join(root, direc))\n",
    "ev_listS = sorted(ev_list)"
   ]
  },
  {
   "cell_type": "code",
   "execution_count": 7,
   "metadata": {},
   "outputs": [],
   "source": [
    "ev_list_syn = []\n",
    "ev_list_synS = []\n",
    "\n",
    "for root, dirs, files in os.walk('/home/diogo/dados_doutorado/parnaiba_basin/assessing_data/SYN_data_FR/'):\n",
    "    for direc in dirs:\n",
    "        if direc.startswith('2016.'):\n",
    "            ev_list_syn.append(os.path.join(root, direc))\n",
    "ev_list_synS = sorted(ev_list_syn)"
   ]
  },
  {
   "cell_type": "markdown",
   "metadata": {},
   "source": [
    "# Interpolando os dados das estações e os dados sintéticos"
   ]
  },
  {
   "cell_type": "code",
   "execution_count": 9,
   "metadata": {},
   "outputs": [],
   "source": [
    "for i,j in enumerate(ev_listS):\n",
    "    os.chdir(j)\n",
    "    os.system('/home/diogo/dados_doutorado/parnaiba_basin/assessing_data/assessing_codes/scripts_sh/interpolate.sh')"
   ]
  },
  {
   "cell_type": "code",
   "execution_count": 10,
   "metadata": {},
   "outputs": [],
   "source": [
    "for i,j in enumerate(ev_list_syn):\n",
    "    os.chdir(j)\n",
    "    os.system('/home/diogo/dados_doutorado/parnaiba_basin/assessing_data/assessing_codes/scripts_sh/interpolate_syn.sh')"
   ]
  },
  {
   "cell_type": "markdown",
   "metadata": {},
   "source": [
    "# Rotacionando os dados das estações e os dados sintéticos"
   ]
  },
  {
   "cell_type": "code",
   "execution_count": 12,
   "metadata": {},
   "outputs": [],
   "source": [
    "for i,j in enumerate(ev_listS):\n",
    "    os.chdir(j)\n",
    "    os.system('/home/diogo/dados_doutorado/parnaiba_basin/assessing_data/assessing_codes/scripts_sh/rotate.sh')"
   ]
  },
  {
   "cell_type": "code",
   "execution_count": 13,
   "metadata": {},
   "outputs": [],
   "source": [
    "for i,j in enumerate(ev_list_syn):\n",
    "    os.chdir(j)\n",
    "    os.system('/home/diogo/dados_doutorado/parnaiba_basin/assessing_data/assessing_codes/scripts_sh/rotate_syn.sh')"
   ]
  },
  {
   "cell_type": "markdown",
   "metadata": {},
   "source": [
    "# Calculando RF para os dados das estações e os dados sintéticos"
   ]
  },
  {
   "cell_type": "code",
   "execution_count": 14,
   "metadata": {},
   "outputs": [],
   "source": [
    "for i,j in enumerate(ev_listS):\n",
    "    os.chdir(j)\n",
    "    os.system('/home/diogo/dados_doutorado/parnaiba_basin/assessing_data/assessing_codes/scripts_sh/iter.sh')"
   ]
  },
  {
   "cell_type": "code",
   "execution_count": 15,
   "metadata": {},
   "outputs": [],
   "source": [
    "for i,j in enumerate(ev_list_syn):\n",
    "    os.chdir(j)\n",
    "    os.system('/home/diogo/dados_doutorado/parnaiba_basin/assessing_data/assessing_codes/scripts_sh/iter.sh')"
   ]
  },
  {
   "cell_type": "code",
   "execution_count": null,
   "metadata": {},
   "outputs": [],
   "source": []
  }
 ],
 "metadata": {
  "kernelspec": {
   "display_name": "Python 3",
   "language": "python",
   "name": "python3"
  },
  "language_info": {
   "codemirror_mode": {
    "name": "ipython",
    "version": 3
   },
   "file_extension": ".py",
   "mimetype": "text/x-python",
   "name": "python",
   "nbconvert_exporter": "python",
   "pygments_lexer": "ipython3",
   "version": "3.6.3"
  }
 },
 "nbformat": 4,
 "nbformat_minor": 2
}
