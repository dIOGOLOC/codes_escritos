{
 "cells": [
  {
   "cell_type": "code",
   "execution_count": 1,
   "metadata": {},
   "outputs": [],
   "source": [
    "%matplotlib inline"
   ]
  },
  {
   "cell_type": "code",
   "execution_count": 2,
   "metadata": {},
   "outputs": [],
   "source": [
    "import matplotlib.pyplot as plt\n",
    "import obspy\n",
    "import os\n",
    "from obspy.clients.fdsn import Client as irisClient\n",
    "from obspy.clients.arclink.client import Client\n",
    "from obspy.taup import TauPyModel\n",
    "from obspy.geodetics import kilometer2degrees\n",
    "from obspy.io.xseed import Parser\n",
    "from scipy.stats.stats import pearsonr\n",
    "from obspy.signal.invsim import corn_freq_2_paz\n",
    "import numpy as np\n",
    "from obspy.signal.cross_correlation import  xcorr_max,correlate\n",
    "from obspy.signal import rotate\n",
    "from mpl_toolkits.basemap import Basemap\n",
    "import shapefile\n",
    "from obspy.clients.fdsn import Client"
   ]
  },
  {
   "cell_type": "markdown",
   "metadata": {},
   "source": [
    "### Coletando os arquivos da estação SMTB "
   ]
  },
  {
   "cell_type": "code",
   "execution_count": 3,
   "metadata": {},
   "outputs": [],
   "source": [
    "ev_list = []\n",
    "ev_listS = []\n",
    "\n",
    "for root, dirs, files in os.walk('/home/diogo/dados_doutorado/parnaiba_basin/assessing_data/data_7mb/event_data/SMTB/'):\n",
    "    for datafile in files:\n",
    "        if datafile.startswith('BR'):\n",
    "            ev_list.append(os.path.join(root, datafile))\n",
    "ev_listS = sorted(ev_list)"
   ]
  },
  {
   "cell_type": "code",
   "execution_count": 4,
   "metadata": {},
   "outputs": [],
   "source": [
    "ev_SMTB_event = [i.split('/')[10] for i in ev_listS]"
   ]
  },
  {
   "cell_type": "code",
   "execution_count": 5,
   "metadata": {},
   "outputs": [],
   "source": [
    "ev_SMTB = [i[:7] for i in ev_SMTB_event]"
   ]
  },
  {
   "cell_type": "code",
   "execution_count": 6,
   "metadata": {},
   "outputs": [],
   "source": [
    "event_SMTB = sorted(list(set(ev_SMTB)))"
   ]
  },
  {
   "cell_type": "code",
   "execution_count": 7,
   "metadata": {},
   "outputs": [],
   "source": [
    "events_files = [[] for x in range(len(event_SMTB))]\n",
    "for i,j in enumerate(ev_listS):\n",
    "    for k,l in enumerate(event_SMTB):\n",
    "        if l in j:\n",
    "            events_files[k].append(j)"
   ]
  },
  {
   "cell_type": "markdown",
   "metadata": {},
   "source": [
    "### Coletando os arquivos das estações da rede BP "
   ]
  },
  {
   "cell_type": "code",
   "execution_count": 8,
   "metadata": {},
   "outputs": [],
   "source": [
    "ev_BB_list = []\n",
    "ev_BB_listS = []\n",
    "\n",
    "for root, dirs, files in os.walk('/home/diogo/dados_doutorado/parnaiba_basin/assessing_data/data_7mb/event_data/'):\n",
    "    for datafile in files:\n",
    "        if datafile.startswith('BP'):\n",
    "            ev_BB_list.append(os.path.join(root, datafile))\n",
    "ev_BB_listS = sorted(ev_BB_list)"
   ]
  },
  {
   "cell_type": "code",
   "execution_count": 9,
   "metadata": {},
   "outputs": [],
   "source": [
    "BB_STA_1 = [i.split('/')[8] for i in ev_BB_listS]"
   ]
  },
  {
   "cell_type": "code",
   "execution_count": 10,
   "metadata": {},
   "outputs": [],
   "source": [
    "BB_STA = sorted(list(set(BB_STA_1)))"
   ]
  },
  {
   "cell_type": "code",
   "execution_count": 11,
   "metadata": {},
   "outputs": [],
   "source": [
    "BPPF_files = []\n",
    "BUCO_files = []\n",
    "GENI_files = []\n",
    "GRJU_files = []\n",
    "PRDT_files = []\n",
    "STSN_files = []\n",
    "STSR_files = []\n",
    "TRZN_files = []"
   ]
  },
  {
   "cell_type": "code",
   "execution_count": 12,
   "metadata": {},
   "outputs": [],
   "source": [
    "for k,j in enumerate(ev_BB_listS):\n",
    "            if 'BPPF'  in j:\n",
    "                BPPF_files.append(j)\n",
    "            elif 'BUCO' in j:\n",
    "                BUCO_files.append(j)\n",
    "            elif 'GENI' in j:\n",
    "                GENI_files.append(j)\n",
    "            elif 'GRJU' in j:\n",
    "                GRJU_files.append(j)\n",
    "            elif 'PRDT' in j:\n",
    "                PRDT_files.append(j)\n",
    "            elif 'STSN' in j:\n",
    "                STSN_files.append(j)\n",
    "            elif 'STSR' in j:\n",
    "                STSR_files.append(j)\n",
    "            else:\n",
    "                TRZN_files.append(j)"
   ]
  },
  {
   "cell_type": "code",
   "execution_count": 13,
   "metadata": {},
   "outputs": [],
   "source": [
    "events_BPPF_files = [[] for x in range(len(event_SMTB))]\n",
    "events_BUCO_files = [[] for x in range(len(event_SMTB))]\n",
    "events_GENI_files = [[] for x in range(len(event_SMTB))]\n",
    "events_GRJU_files = [[] for x in range(len(event_SMTB))]\n",
    "events_PRDT_files = [[] for x in range(len(event_SMTB))]\n",
    "events_STSN_files = [[] for x in range(len(event_SMTB))]\n",
    "events_STSR_files = [[] for x in range(len(event_SMTB))]\n",
    "events_TRZN_files = [[] for x in range(len(event_SMTB))]"
   ]
  },
  {
   "cell_type": "code",
   "execution_count": 14,
   "metadata": {},
   "outputs": [],
   "source": [
    "for i,j in enumerate(BPPF_files):\n",
    "    for k,l in enumerate(event_SMTB):\n",
    "        if l  in j:\n",
    "            events_BPPF_files[k].append(j)\n",
    "\n",
    "                \n",
    "for i,j in enumerate(BUCO_files):\n",
    "    for k,l in enumerate(event_SMTB):\n",
    "        if l in j:\n",
    "             events_BUCO_files[k].append(j)\n",
    "\n",
    "\n",
    "for i,j in enumerate(GENI_files):\n",
    "    for k,l in enumerate(event_SMTB):\n",
    "        if l in j:\n",
    "            events_GENI_files[k].append(j)\n",
    "            \n",
    "            \n",
    "for i,j in enumerate(GRJU_files):\n",
    "    for k,l in enumerate(event_SMTB):\n",
    "        if l in j:\n",
    "            events_GRJU_files[k].append(j)\n",
    "            \n",
    "            \n",
    "for i,j in enumerate(PRDT_files):\n",
    "    for k,l in enumerate(event_SMTB):\n",
    "        if l in j:\n",
    "             events_PRDT_files[k].append(j)\n",
    "                \n",
    "                \n",
    "                \n",
    "for i,j in enumerate(STSN_files):\n",
    "    for k,l in enumerate(event_SMTB):\n",
    "        if l in j:\n",
    "            events_STSN_files[k].append(j)\n",
    "            \n",
    "            \n",
    "            \n",
    "for i,j in enumerate(STSR_files):\n",
    "    for k,l in enumerate(event_SMTB):\n",
    "        if l in j:\n",
    "             events_STSR_files[k].append(j)\n",
    "                \n",
    "                \n",
    "for i,j in enumerate(TRZN_files):\n",
    "    for k,l in enumerate(event_SMTB):\n",
    "        if l in j:\n",
    "            events_TRZN_files[k].append(j)"
   ]
  },
  {
   "cell_type": "markdown",
   "metadata": {},
   "source": [
    "### Comparando os arquivos das estações da rede BP com a estação SMTB"
   ]
  },
  {
   "cell_type": "code",
   "execution_count": 19,
   "metadata": {},
   "outputs": [],
   "source": [
    "event_select = '2016.14.'"
   ]
  },
  {
   "cell_type": "code",
   "execution_count": 20,
   "metadata": {},
   "outputs": [],
   "source": [
    "st_SMTB = obspy.Stream()\n",
    "for i,j in enumerate(events_files[-1]):\n",
    "    st_SMTB += obspy.read(j)"
   ]
  },
  {
   "cell_type": "code",
   "execution_count": 21,
   "metadata": {},
   "outputs": [],
   "source": [
    "st_BPPF = obspy.Stream()\n",
    "for i,j in enumerate(events_BPPF_files[-1]):\n",
    "    st_BPPF += obspy.read(j)\n",
    "            \n",
    "st_BUCO  = obspy.Stream()\n",
    "for i,j in enumerate(events_BUCO_files[-1]):\n",
    "            st_BUCO += obspy.read(j)\n",
    "            \n",
    "st_GENI = obspy.Stream()\n",
    "for i,j in enumerate(events_GENI_files[-1]):\n",
    "            st_GENI += obspy.read(j)\n",
    "            \n",
    "st_GRJU = obspy.Stream()\n",
    "for i,j in enumerate(events_GRJU_files[-1]):\n",
    "            st_GRJU += obspy.read(j)\n",
    "\n",
    "st_PRDT = obspy.Stream()\n",
    "for i,j in enumerate(events_PRDT_files[-1]):\n",
    "            st_PRDT += obspy.read(j)\n",
    "            \n",
    "st_STSN = obspy.Stream()\n",
    "for i,j in enumerate(events_STSN_files[-1]):\n",
    "            st_STSN += obspy.read(j)\n",
    "            \n",
    "st_STSR = obspy.Stream()\n",
    "for i,j in enumerate(events_STSR_files[-1]):\n",
    "            st_STSR += obspy.read(j)\n",
    "            \n",
    "st_TRZN = obspy.Stream()\n",
    "for i,j in enumerate(events_TRZN_files[-1]):\n",
    "            st_TRZN += obspy.read(j)"
   ]
  },
  {
   "cell_type": "code",
   "execution_count": 22,
   "metadata": {},
   "outputs": [],
   "source": [
    "st = [st_SMTB,st_BPPF,st_BUCO,st_GENI,st_GRJU,st_PRDT,st_STSN,st_STSR,st_TRZN]"
   ]
  },
  {
   "cell_type": "markdown",
   "metadata": {},
   "source": [
    "# Filtrando os dados obtidos para o intervalo de frequência das ondas de corpo (50 s - 100 s)"
   ]
  },
  {
   "cell_type": "code",
   "execution_count": 23,
   "metadata": {},
   "outputs": [],
   "source": [
    "freqmin=0.006\n",
    "freqmax=0.02"
   ]
  },
  {
   "cell_type": "code",
   "execution_count": 24,
   "metadata": {},
   "outputs": [],
   "source": [
    "for i,j in enumerate(st):\n",
    "        j.detrend(\"demean\")\n",
    "        j.taper(0.05)\n",
    "        j.filter(\"bandpass\", freqmin=freqmin, freqmax=freqmax)\n",
    "        j.decimate(factor=10, strict_length=False)"
   ]
  },
  {
   "cell_type": "markdown",
   "metadata": {},
   "source": [
    "### Rotacionando segundo o BAZ os arquivos das estações da rede BP e da estação SMTB"
   ]
  },
  {
   "cell_type": "code",
   "execution_count": 25,
   "metadata": {},
   "outputs": [],
   "source": [
    "for i,j in enumerate(st):\n",
    "        j.rotate(method='NE->RT', back_azimuth=j[0].stats.sac.baz)"
   ]
  },
  {
   "cell_type": "code",
   "execution_count": 26,
   "metadata": {},
   "outputs": [],
   "source": [
    "st_BP = [st_BPPF,st_BUCO,st_GENI,st_GRJU,st_PRDT,st_STSN,st_STSR,st_TRZN]"
   ]
  },
  {
   "cell_type": "code",
   "execution_count": 27,
   "metadata": {},
   "outputs": [],
   "source": [
    "st_BP_lst = [item for sublist in st_BP for item in sublist]"
   ]
  },
  {
   "cell_type": "code",
   "execution_count": 28,
   "metadata": {},
   "outputs": [],
   "source": [
    "baz_lst = np.arange(0,360.1,0.1)"
   ]
  },
  {
   "cell_type": "code",
   "execution_count": 138,
   "metadata": {},
   "outputs": [
    {
     "name": "stdout",
     "output_type": "stream",
     "text": [
      "CPU times: user 692 ms, sys: 444 ms, total: 1.14 s\n",
      "Wall time: 1.15 s\n"
     ]
    }
   ],
   "source": [
    "%%time\n",
    "\n",
    "R = []\n",
    "T = []\n",
    "Z = []\n",
    "for i,j in enumerate(baz_lst):\n",
    "    data = rotate.rotate_ne_rt(st_STSR[1].data, st_STSR[0].data,  j)\n",
    "    R.append(data[0])\n",
    "    T.append(data[1])"
   ]
  },
  {
   "cell_type": "code",
   "execution_count": 139,
   "metadata": {},
   "outputs": [],
   "source": [
    "SMTB_T = st_SMTB[0].data\n",
    "SMTB_R = st_SMTB[1].data"
   ]
  },
  {
   "cell_type": "code",
   "execution_count": 140,
   "metadata": {},
   "outputs": [
    {
     "name": "stdout",
     "output_type": "stream",
     "text": [
      "CPU times: user 34.8 s, sys: 156 ms, total: 34.9 s\n",
      "Wall time: 34.9 s\n"
     ]
    }
   ],
   "source": [
    "%%time\n",
    "\n",
    "xcorr_RESULT_R = []\n",
    "xcorr_RESULT_T = []\n",
    "\n",
    "\n",
    "for i,j in enumerate(T):\n",
    "    xcorr_RESULT_T.append(correlate(SMTB_T,T[i],shift=2000))\n",
    "    xcorr_RESULT_R.append(correlate(SMTB_R,R[i],shift=2000))"
   ]
  },
  {
   "cell_type": "code",
   "execution_count": 141,
   "metadata": {},
   "outputs": [
    {
     "name": "stdout",
     "output_type": "stream",
     "text": [
      "CPU times: user 80 ms, sys: 0 ns, total: 80 ms\n",
      "Wall time: 79.5 ms\n"
     ]
    }
   ],
   "source": [
    "%%time\n",
    "\n",
    "xcorr_max_R = []\n",
    "xcorr_max_T = []\n",
    "\n",
    "\n",
    "for i,j in enumerate(T):\n",
    "    xcorr_max_R.append(xcorr_max(xcorr_RESULT_R[i]))\n",
    "    xcorr_max_T.append(xcorr_max(xcorr_RESULT_T[i]))"
   ]
  },
  {
   "cell_type": "code",
   "execution_count": 142,
   "metadata": {},
   "outputs": [
    {
     "data": {
      "text/plain": [
       "(-902, -0.7100080579155821)"
      ]
     },
     "execution_count": 142,
     "metadata": {},
     "output_type": "execute_result"
    }
   ],
   "source": [
    "xcorr_max_R[1]"
   ]
  },
  {
   "cell_type": "code",
   "execution_count": 149,
   "metadata": {},
   "outputs": [
    {
     "name": "stdout",
     "output_type": "stream",
     "text": [
      "CPU times: user 7.76 s, sys: 24 ms, total: 7.78 s\n",
      "Wall time: 7.78 s\n"
     ]
    },
    {
     "data": {
      "image/png": "[encoded data removed]",
      "text/plain": [
       "<matplotlib.figure.Figure at 0x7fd5cef21cc0>"
      ]
     },
     "metadata": {},
     "output_type": "display_data"
    }
   ],
   "source": [
    "%%time\n",
    "for i,j in enumerate(xcorr_max_R):\n",
    "    plt.plot(baz_lst[i],j[1],'ok')\n",
    "    #plt.ylim(0.5,0.85)\n",
    "    plt.xlim(-4,369)"
   ]
  },
  {
   "cell_type": "code",
   "execution_count": 150,
   "metadata": {},
   "outputs": [
    {
     "name": "stdout",
     "output_type": "stream",
     "text": [
      "CPU times: user 6.96 s, sys: 20 ms, total: 6.98 s\n",
      "Wall time: 7.01 s\n"
     ]
    },
    {
     "data": {
      "image/png": "[encoded data removed]",
      "text/plain": [
       "<matplotlib.figure.Figure at 0x7fd5cdce9320>"
      ]
     },
     "metadata": {},
     "output_type": "display_data"
    }
   ],
   "source": [
    "%%time\n",
    "for i,j in enumerate(xcorr_max_R):\n",
    "    plt.plot(baz_lst[i],xcorr_max_T[i][1],'ok')\n",
    "    #plt.ylim(0.5,0.85)\n",
    "    plt.xlim(-4,369)"
   ]
  },
  {
   "cell_type": "code",
   "execution_count": 111,
   "metadata": {},
   "outputs": [
    {
     "ename": "ValueError",
     "evalue": "The truth value of an array with more than one element is ambiguous. Use a.any() or a.all()",
     "output_type": "error",
     "traceback": [
      "\u001b[0;31m---------------------------------------------------------------------------\u001b[0m",
      "\u001b[0;31mValueError\u001b[0m                                Traceback (most recent call last)",
      "\u001b[0;32m<ipython-input-111-c7ae7897d801>\u001b[0m in \u001b[0;36m<module>\u001b[0;34m()\u001b[0m\n\u001b[0;32m----> 1\u001b[0;31m \u001b[0mmaxima_T\u001b[0m\u001b[0;34m,\u001b[0m \u001b[0mindex_max_T\u001b[0m \u001b[0;34m=\u001b[0m \u001b[0mmax\u001b[0m\u001b[0;34m(\u001b[0m\u001b[0;34m(\u001b[0m\u001b[0mval\u001b[0m\u001b[0;34m,\u001b[0m \u001b[0midx\u001b[0m\u001b[0;34m)\u001b[0m \u001b[0;32mfor\u001b[0m \u001b[0midx\u001b[0m\u001b[0;34m,\u001b[0m \u001b[0mval\u001b[0m \u001b[0;32min\u001b[0m \u001b[0menumerate\u001b[0m\u001b[0;34m(\u001b[0m\u001b[0mxcorr_RESULT_T\u001b[0m\u001b[0;34m)\u001b[0m\u001b[0;34m)\u001b[0m\u001b[0;34m\u001b[0m\u001b[0m\n\u001b[0m\u001b[1;32m      2\u001b[0m \u001b[0mmaxima_R\u001b[0m\u001b[0;34m,\u001b[0m \u001b[0mindex_max_R\u001b[0m \u001b[0;34m=\u001b[0m \u001b[0mmax\u001b[0m\u001b[0;34m(\u001b[0m\u001b[0;34m(\u001b[0m\u001b[0mval\u001b[0m\u001b[0;34m,\u001b[0m \u001b[0midx\u001b[0m\u001b[0;34m)\u001b[0m \u001b[0;32mfor\u001b[0m \u001b[0midx\u001b[0m\u001b[0;34m,\u001b[0m \u001b[0mval\u001b[0m \u001b[0;32min\u001b[0m \u001b[0menumerate\u001b[0m\u001b[0;34m(\u001b[0m\u001b[0mxcorr_RESULT_R\u001b[0m\u001b[0;34m)\u001b[0m\u001b[0;34m)\u001b[0m\u001b[0;34m\u001b[0m\u001b[0m\n",
      "\u001b[0;31mValueError\u001b[0m: The truth value of an array with more than one element is ambiguous. Use a.any() or a.all()"
     ]
    }
   ],
   "source": [
    "maxima_T, index_max_T = max((val, idx) for idx, val in enumerate(xcorr_RESULT_T))\n",
    "maxima_R, index_max_R = max((val, idx) for idx, val in enumerate(xcorr_RESULT_R))"
   ]
  },
  {
   "cell_type": "code",
   "execution_count": 88,
   "metadata": {},
   "outputs": [
    {
     "data": {
      "text/plain": [
       "(0.7979022422928773, 21)"
      ]
     },
     "execution_count": 88,
     "metadata": {},
     "output_type": "execute_result"
    }
   ],
   "source": [
    "maxima_T, index_max_T"
   ]
  },
  {
   "cell_type": "code",
   "execution_count": 89,
   "metadata": {},
   "outputs": [
    {
     "data": {
      "text/plain": [
       "(0.8589442224483712, 3)"
      ]
     },
     "execution_count": 89,
     "metadata": {},
     "output_type": "execute_result"
    }
   ],
   "source": [
    "maxima_R, index_max_R"
   ]
  },
  {
   "cell_type": "code",
   "execution_count": 90,
   "metadata": {},
   "outputs": [
    {
     "data": {
      "text/plain": [
       "[<matplotlib.lines.Line2D at 0x7fd5d98f24a8>]"
      ]
     },
     "execution_count": 90,
     "metadata": {},
     "output_type": "execute_result"
    },
    {
     "data": {
      "image/png": "[encoded data removed]",
      "text/plain": [
       "<matplotlib.figure.Figure at 0x7fd5d4235f98>"
      ]
     },
     "metadata": {},
     "output_type": "display_data"
    }
   ],
   "source": [
    "f, axarr = plt.subplots(figsize=(20, 10),nrows=2, ncols=2,sharex=True,sharey=True)\n",
    "\n",
    "axarr[0,0].plot(R[index_max_R],'k',lw=4)\n",
    "axarr[0,1].plot(st_STSR[1],'k',lw=4)\n",
    "axarr[0,0].plot(st_SMTB[1],'r',lw=2)\n",
    "axarr[0,1].plot(st_SMTB[1],'r',lw=2)\n",
    "\n",
    "axarr[1,0].plot(T[index_max_T],'k',lw=4)\n",
    "axarr[1,1].plot(st_STSR[0],'k',lw=4)\n",
    "axarr[1,0].plot(st_SMTB[0],'r',lw=2)\n",
    "axarr[1,1].plot(st_SMTB[0],'r',lw=2)"
   ]
  },
  {
   "cell_type": "code",
   "execution_count": 92,
   "metadata": {},
   "outputs": [
    {
     "ename": "NameError",
     "evalue": "name 'st_STSR_orig' is not defined",
     "output_type": "error",
     "traceback": [
      "\u001b[0;31m---------------------------------------------------------------------------\u001b[0m",
      "\u001b[0;31mNameError\u001b[0m                                 Traceback (most recent call last)",
      "\u001b[0;32m<ipython-input-92-a9c6bf8155a0>\u001b[0m in \u001b[0;36m<module>\u001b[0;34m()\u001b[0m\n\u001b[0;32m----> 1\u001b[0;31m \u001b[0mprint\u001b[0m\u001b[0;34m(\u001b[0m\u001b[0mst_STSR_orig\u001b[0m\u001b[0;34m[\u001b[0m\u001b[0;36m1\u001b[0m\u001b[0;34m]\u001b[0m\u001b[0;34m.\u001b[0m\u001b[0mstats\u001b[0m\u001b[0;34m.\u001b[0m\u001b[0msac\u001b[0m\u001b[0;34m.\u001b[0m\u001b[0mbaz\u001b[0m\u001b[0;34m)\u001b[0m\u001b[0;34m\u001b[0m\u001b[0m\n\u001b[0m",
      "\u001b[0;31mNameError\u001b[0m: name 'st_STSR_orig' is not defined"
     ]
    }
   ],
   "source": [
    "print(st_STSR_orig[1].stats.sac.baz)"
   ]
  },
  {
   "cell_type": "code",
   "execution_count": 93,
   "metadata": {},
   "outputs": [
    {
     "data": {
      "text/plain": [
       "(30, 210)"
      ]
     },
     "execution_count": 93,
     "metadata": {},
     "output_type": "execute_result"
    }
   ],
   "source": [
    "baz_lst[index_max_R], baz_lst[index_max_T]"
   ]
  },
  {
   "cell_type": "code",
   "execution_count": null,
   "metadata": {},
   "outputs": [],
   "source": [
    "K = np.array(xcorr_RESULT_R)\n",
    "casa = np.argsort(K)\n"
   ]
  },
  {
   "cell_type": "code",
   "execution_count": null,
   "metadata": {},
   "outputs": [],
   "source": [
    "index_max_R"
   ]
  },
  {
   "cell_type": "code",
   "execution_count": null,
   "metadata": {},
   "outputs": [],
   "source": [
    "index_max_T"
   ]
  },
  {
   "cell_type": "code",
   "execution_count": null,
   "metadata": {},
   "outputs": [],
   "source": [
    "casa[:3]"
   ]
  },
  {
   "cell_type": "code",
   "execution_count": null,
   "metadata": {},
   "outputs": [],
   "source": [
    "print([baz_lst[i] for i in casa[:5]])"
   ]
  },
  {
   "cell_type": "code",
   "execution_count": null,
   "metadata": {},
   "outputs": [],
   "source": [
    "print([xcorr_RESULT_R[i] for i in casa[:5]])"
   ]
  },
  {
   "cell_type": "code",
   "execution_count": null,
   "metadata": {},
   "outputs": [],
   "source": []
  },
  {
   "cell_type": "markdown",
   "metadata": {},
   "source": [
    "### Coletando os arquivos da estação ROSB "
   ]
  },
  {
   "cell_type": "code",
   "execution_count": null,
   "metadata": {},
   "outputs": [],
   "source": [
    "ev_list_ROSB = []\n",
    "ev_list_ROSBS = []\n",
    "\n",
    "for root, dirs, files in os.walk('/home/diogo/dados_doutorado/parnaiba_basin/assessing_data/STA_data/ROSB/'):\n",
    "    for datafile in files:\n",
    "        if datafile.startswith('BR'):\n",
    "            ev_list_ROSB.append(os.path.join(root, datafile))\n",
    "ev_list_ROSBS = sorted(ev_list_ROSB)"
   ]
  },
  {
   "cell_type": "code",
   "execution_count": null,
   "metadata": {},
   "outputs": [],
   "source": [
    "ev_ROSB_event = [i.split('/')[10] for i in ev_list_ROSB]"
   ]
  },
  {
   "cell_type": "code",
   "execution_count": null,
   "metadata": {},
   "outputs": [],
   "source": [
    "ev_ROSB = [i[:7] for i in ev_ROSB_event]"
   ]
  },
  {
   "cell_type": "code",
   "execution_count": null,
   "metadata": {},
   "outputs": [],
   "source": [
    "event_ROSB = sorted(list(set(ev_ROSB)))"
   ]
  },
  {
   "cell_type": "code",
   "execution_count": null,
   "metadata": {},
   "outputs": [],
   "source": [
    "events_files_ROSB = [[] for x in range(len(event_ROSB))]\n",
    "for i,j in enumerate(ev_list_ROSBS):\n",
    "    for k,l in enumerate(event_ROSB):\n",
    "        if l in j:\n",
    "            events_files_ROSB[k].append(j)"
   ]
  },
  {
   "cell_type": "code",
   "execution_count": null,
   "metadata": {},
   "outputs": [],
   "source": [
    "st_ROSB = obspy.Stream()\n",
    "for i,j in enumerate(events_files_ROSB[0]):\n",
    "    st_ROSB += obspy.read(j)"
   ]
  },
  {
   "cell_type": "markdown",
   "metadata": {},
   "source": [
    "# Filtrando os dados obtidos para o intervalo de frequência das ondas de corpo (50 s - 100 s)"
   ]
  },
  {
   "cell_type": "code",
   "execution_count": null,
   "metadata": {},
   "outputs": [],
   "source": [
    "for i,j in enumerate(st_ROSB):\n",
    "        j.detrend(\"demean\")\n",
    "        j.taper(0.05)\n",
    "        j.filter(\"bandpass\", freqmin=0.01, freqmax=0.02)\n",
    "        j.decimate(factor=10, strict_length=False)"
   ]
  },
  {
   "cell_type": "code",
   "execution_count": null,
   "metadata": {},
   "outputs": [],
   "source": [
    "st_ROSB"
   ]
  },
  {
   "cell_type": "markdown",
   "metadata": {},
   "source": [
    "### Rotacionando segundo o BAZ os arquivos das estações da rede BP e da estação ROSB"
   ]
  },
  {
   "cell_type": "code",
   "execution_count": null,
   "metadata": {},
   "outputs": [],
   "source": [
    "st_ROSB.rotate(method='NE->RT', back_azimuth=st_ROSB[0].stats.sac.baz)"
   ]
  },
  {
   "cell_type": "markdown",
   "metadata": {},
   "source": [
    "# Comparando os arquivos das estações da rede BP com as estações ROSB e SMTB"
   ]
  },
  {
   "cell_type": "markdown",
   "metadata": {},
   "source": [
    "### Componente Z"
   ]
  },
  {
   "cell_type": "code",
   "execution_count": null,
   "metadata": {},
   "outputs": [],
   "source": [
    "ROSB_Z = st_ROSB[2::3]\n",
    "st_BP_Z = st_BP_lst[2::3]\n",
    "SMTB_Z = st_SMTB[2::3]"
   ]
  },
  {
   "cell_type": "code",
   "execution_count": null,
   "metadata": {},
   "outputs": [],
   "source": [
    "f, axarr = plt.subplots(figsize=(20, 30),nrows=len(st_BP_Z), ncols=2,sharex=True)\n",
    "for i,j in enumerate(st_BP_Z):\n",
    "    axarr[i,0].plot(ROSB_Z[0].times(),ROSB_Z[0].data,'r',lw=2,label=ROSB_Z[0].stats.station)\n",
    "    axarr[i,0].plot(j.times(),j.data,'k',lw=2,label=j.stats.station)\n",
    "    axarr[i,0].set_yticks([])\n",
    "    axarr[i,0].set_xlim(0,2000)\n",
    "    axarr[i,0].legend(loc='upper right')\n",
    "    \n",
    "    axarr[i,1].plot(SMTB_Z[0].times(),SMTB_Z[0].data,'r',lw=2,label=SMTB_Z[0].stats.station)\n",
    "    axarr[i,1].plot(j.times(),j.data,'k',lw=2,label=j.stats.station)\n",
    "    axarr[i,1].set_yticks([])\n",
    "    axarr[i,1].set_xlim(0,2000)\n",
    "    axarr[i,1].legend(loc='upper right')"
   ]
  },
  {
   "cell_type": "markdown",
   "metadata": {},
   "source": [
    "### Componente N"
   ]
  },
  {
   "cell_type": "code",
   "execution_count": null,
   "metadata": {},
   "outputs": [],
   "source": [
    "SMTB_N = st_SMTB[1::3]\n",
    "ROSB_N = st_ROSB[1::3]\n",
    "st_BP_N = st_BP_lst[1::3]"
   ]
  },
  {
   "cell_type": "code",
   "execution_count": null,
   "metadata": {},
   "outputs": [],
   "source": [
    "f, axarr = plt.subplots(figsize=(20, 30),nrows=len(st_BP_N), ncols=2,sharex=True)\n",
    "for i,j in enumerate(st_BP_N):\n",
    "    axarr[i,0].plot(ROSB_N[0].times(),ROSB_N[0].data,'r',lw=2,label=ROSB_N[0].stats.station)\n",
    "    axarr[i,0].plot(j.times(),j.data,'k',lw=2,label=j.stats.station)\n",
    "    axarr[i,0].set_yticks([])\n",
    "    axarr[i,0].set_xlim(0,2000)\n",
    "    axarr[i,0].legend(loc='upper right')\n",
    "    \n",
    "    axarr[i,1].plot(SMTB_N[0].times(),SMTB_N[0].data,'r',lw=2,label=SMTB_N[0].stats.station)\n",
    "    axarr[i,1].plot(j.times(),j.data,'k',lw=2,label=j.stats.station)\n",
    "    axarr[i,1].set_yticks([])\n",
    "    axarr[i,1].set_xlim(0,2000)\n",
    "    axarr[i,1].legend(loc='upper right')"
   ]
  },
  {
   "cell_type": "markdown",
   "metadata": {},
   "source": [
    "### Componente E"
   ]
  },
  {
   "cell_type": "code",
   "execution_count": null,
   "metadata": {},
   "outputs": [],
   "source": [
    "SMTB_E = st_SMTB[::3]\n",
    "st_BP_E = st_BP_lst[::3]\n",
    "ROSB_E = st_ROSB[::3]"
   ]
  },
  {
   "cell_type": "code",
   "execution_count": null,
   "metadata": {
    "scrolled": true
   },
   "outputs": [],
   "source": [
    "f, axarr = plt.subplots(figsize=(20, 30),nrows=len(st_BP_E), ncols=2,sharex=True)\n",
    "for i,j in enumerate(st_BP_E):\n",
    "    axarr[i,0].plot(ROSB_E[0].times(),ROSB_E[0].data,'r',lw=2,label=ROSB_E[0].stats.station)\n",
    "    axarr[i,0].plot(j.times(),j.data,'k',lw=2,label=j.stats.station)\n",
    "    axarr[i,0].set_yticks([])\n",
    "    axarr[i,0].set_xlim(0,2000)\n",
    "    axarr[i,0].legend(loc='upper right')\n",
    "    \n",
    "    axarr[i,1].plot(SMTB_E[0].times(),SMTB_E[0].data,'r',lw=2,label=SMTB_E[0].stats.station)\n",
    "    axarr[i,1].plot(j.times(),j.data,'k',lw=2,label=j.stats.station)\n",
    "    axarr[i,1].set_yticks([])\n",
    "    axarr[i,1].set_xlim(0,2000)\n",
    "    axarr[i,1].legend(loc='upper right')"
   ]
  },
  {
   "cell_type": "code",
   "execution_count": null,
   "metadata": {},
   "outputs": [],
   "source": []
  }
 ],
 "metadata": {
  "kernelspec": {
   "display_name": "Python 3",
   "language": "python",
   "name": "python3"
  },
  "language_info": {
   "codemirror_mode": {
    "name": "ipython",
    "version": 3
   },
   "file_extension": ".py",
   "mimetype": "text/x-python",
   "name": "python",
   "nbconvert_exporter": "python",
   "pygments_lexer": "ipython3",
   "version": "3.6.4"
  }
 },
 "nbformat": 4,
 "nbformat_minor": 2
}
