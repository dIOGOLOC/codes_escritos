{
 "cells": [
  {
   "cell_type": "code",
   "execution_count": 2,
   "metadata": {},
   "outputs": [
    {
     "name": "stderr",
     "output_type": "stream",
     "text": [
      "/home/diogoloc/programs/anaconda3/lib/python3.7/site-packages/obspy/clients/arclink/__init__.py:178: ObsPyDeprecationWarning: The ArcLink protocol will be deprecated in the near future. Please, use the client contacting the routing service provided by EIDA: https://docs.obspy.org/packages/obspy.clients.fdsn.html#basic-routing-clients-usage\n",
      "  warnings.warn(msg, category=ObsPyDeprecationWarning)\n"
     ]
    }
   ],
   "source": [
    "import matplotlib.pyplot as plt\n",
    "import pandas as pd\n",
    "import obspy\n",
    "import os\n",
    "import glob\n",
    "import json\n",
    "import numpy as np\n",
    "\n",
    "from matplotlib.dates import YearLocator, MonthLocator, DayLocator, HourLocator, MinuteLocator, SecondLocator, DateFormatter\n",
    "import matplotlib.dates as mdates\n",
    "import matplotlib as mpl\n",
    "import datetime\n",
    "\n",
    "from obspy import UTCDateTime\n",
    "from matplotlib.ticker import MultipleLocator, FormatStrFormatter\n",
    "from obspy.signal import PPSD\n",
    "from obspy.clients.arclink.client import Client\n",
    "from mpl_toolkits.axes_grid1.inset_locator import inset_axes\n"
   ]
  },
  {
   "cell_type": "markdown",
   "metadata": {},
   "source": [
    "# STATIONs DATA"
   ]
  },
  {
   "cell_type": "code",
   "execution_count": 3,
   "metadata": {},
   "outputs": [],
   "source": [
    "#Location,OBS,Latitude,Longitude,Depth,Date\n",
    "#1,21,25°36.5352S 43°2.3486W 2116m 04/08/2019 09:00\n",
    "#2,17,25°29.4058S 42°36.8792W 2135m 27/07/2019 04:50\n",
    "#3,18,24°33.2667S 42°31.0872W 1747m 28/07/2019 10:37\n",
    "#4,22,22°31.5231S 39°50.7157W 1986m 01/08/2019 09:00\n",
    "#5,20,21°56.1179S 39°39.2846W 1942m 02/08/2019 02:30\n",
    "#6,19,21°16.3103S 40°6.8231W 1059m 02/08/2019 10:00"
   ]
  },
  {
   "cell_type": "code",
   "execution_count": 4,
   "metadata": {},
   "outputs": [],
   "source": [
    "#ID;NAME;STATUS;LAT;LON;ELEV\n",
    "#1517;OBS21;FUNDO;-25.60892;-43.039143333333;2116\n",
    "#1520;OBS17;OK;-25.490096666667;-42.614653333333;2135\n",
    "#1518;OBS18;SEMI;-24.554445;-42.51812;1747\n",
    "#1519;OBS22;FUNDO;-22.525385;-39.845261666667;1986\n",
    "#1573;OBS20;SEMI;-21.935298333333;-39.654743333333;1942\n",
    "#1516;OBS19;OK;-21.271838333333;-40.113718333333;1059"
   ]
  },
  {
   "cell_type": "code",
   "execution_count": 5,
   "metadata": {},
   "outputs": [],
   "source": [
    "#NAME;SIGLA;STATUS;LAT;LON;ELEV\n",
    "#SAPINHOÁ;OBS21;FUNDO;-25.60892;-43.039143333333;2116\n",
    "#LULA;OBS17;OK;-25.490096666667;-42.614653333333;2135\n",
    "#BUZIOS;OBS18;SEMI;-24.554445;-42.51812;1747\n",
    "#MARLIN;OBS22;FUNDO;-22.525385;-39.845261666667;1986\n",
    "#RONCADOR;OBS20;SEMI;-21.935298333333;-39.654743333333;1942\n",
    "#JUBARTE;OBS19;OK;-21.271838333333;-40.113718333333;1059"
   ]
  },
  {
   "cell_type": "markdown",
   "metadata": {},
   "source": [
    "# Configuration file\n"
   ]
  },
  {
   "cell_type": "code",
   "execution_count": 54,
   "metadata": {},
   "outputs": [],
   "source": [
    "FILES_DIR = '/home/diogoloc/Insync/locdiogo@gmail.com/OneDrive - Shared/OBS_Dados/'\n",
    "FIGURE_DIR = '/home/diogoloc/dados_posdoc/ON_MAR/obs_data/Figuras_avaliacao/'\n",
    "\n",
    "OBS_NAME = 'OBS_Jubarte'\n",
    "SENSOR_NAME = '1516'\n",
    "\n",
    "DEPLOY_DAY = UTCDateTime('2019-08-02') #roncador\n",
    "RECOVER_DAY = UTCDateTime('2020-06-17') #roncador\n",
    "\n",
    "#DEPLOY_DAY = UTCDateTime('2019-08-02') #roncador\n",
    "#RECOVER_DAY = UTCDateTime('2020-06-16') #roncador\n",
    "\n",
    "#DEPLOY_DAY = UTCDateTime('2019-07-27') #buzios\n",
    "#RECOVER_DAY = UTCDateTime('2020-06-15') #buzios\n",
    "\n",
    "#DEPLOY_DAY = UTCDateTime('2019-08-02') #lula\n",
    "#RECOVER_DAY = UTCDateTime('2020-06-14') #lula\n",
    "\n",
    "\n",
    "# ================\n",
    "# MULTIPROCESSING\n",
    "# ================\n",
    "num_processes = 12"
   ]
  },
  {
   "cell_type": "markdown",
   "metadata": {},
   "source": [
    "# Função para procurar arquivos: "
   ]
  },
  {
   "cell_type": "code",
   "execution_count": 55,
   "metadata": {},
   "outputs": [],
   "source": [
    "def filelist(basedir,ext):\n",
    "    \"\"\"\n",
    "    Returns the list of files in *basedir* whose are in the specified period\n",
    "    \"\"\"\n",
    "    files = []\n",
    "    for folder in os.listdir(basedir):\n",
    "        if folder.endswith(ext):\n",
    "            print(folder)\n",
    "            folder_path = os.path.join(basedir, folder)\n",
    "            s = glob.glob(folder_path+'/*')\n",
    "            files.append(s)\n",
    "    files = sorted(files)\n",
    "    return files"
   ]
  },
  {
   "cell_type": "markdown",
   "metadata": {},
   "source": [
    "# Mass Positions"
   ]
  },
  {
   "cell_type": "code",
   "execution_count": 56,
   "metadata": {},
   "outputs": [
    {
     "name": "stdout",
     "output_type": "stream",
     "text": [
      "151600\n"
     ]
    }
   ],
   "source": [
    "files = filelist(FILES_DIR+OBS_NAME,'00')"
   ]
  },
  {
   "cell_type": "code",
   "execution_count": 57,
   "metadata": {},
   "outputs": [],
   "source": [
    "files_sensor = sorted([item for sublist in files for item in sublist if SENSOR_NAME in item])"
   ]
  },
  {
   "cell_type": "code",
   "execution_count": 58,
   "metadata": {},
   "outputs": [],
   "source": [
    "Mass_Position_line = []\n",
    "for i in files_sensor:\n",
    "    with open(i,'r',encoding='latin-1') as f:\n",
    "        lines = f.readlines()\n",
    "        Mass_Position_line.append([k for k in lines if 'Mass Positions' in k])\n",
    "        f.close()"
   ]
  },
  {
   "cell_type": "code",
   "execution_count": 59,
   "metadata": {},
   "outputs": [],
   "source": [
    "Mass_Position_lines = [item for sublist in Mass_Position_line for item in sublist]"
   ]
  },
  {
   "cell_type": "code",
   "execution_count": 60,
   "metadata": {},
   "outputs": [],
   "source": [
    "time_x = []\n",
    "pos_Z = []\n",
    "pos_N = []\n",
    "pos_E = []\n",
    "\n",
    "for i in Mass_Position_lines:\n",
    "    time = UTCDateTime(i.split(' Mass Positions ')[0])\n",
    "    time_x.append(datetime.date(time.year,time.month,time.day))\n",
    "    pos_Z.append(float(i.split(' Mass Positions ')[1].split('%')[0]))\n",
    "    pos_N.append(float(i.split(' Mass Positions ')[1].split('%')[1]))\n",
    "    pos_E.append(float(i.split(' Mass Positions ')[1].split('%')[2]))"
   ]
  },
  {
   "cell_type": "markdown",
   "metadata": {},
   "source": [
    "## CENTRE UNIT"
   ]
  },
  {
   "cell_type": "code",
   "execution_count": 61,
   "metadata": {},
   "outputs": [],
   "source": [
    "CENTRE_line = []\n",
    "for i in files_sensor:\n",
    "    with open(i,'r',encoding='latin-1') as f:\n",
    "        lines = f.readlines()\n",
    "        CENTRE_line.append([k for k in lines if 'CENTRE UNIT' in k])\n",
    "        f.close()"
   ]
  },
  {
   "cell_type": "code",
   "execution_count": 62,
   "metadata": {},
   "outputs": [],
   "source": [
    "CENTRE_lines = [item for sublist in CENTRE_line for item in sublist]\n",
    "\n",
    "time_x_center = []\n",
    "pos_center = []\n",
    "\n",
    "for i in CENTRE_lines:\n",
    "    time = UTCDateTime(i.split(' CENTRE UNIT ')[0])\n",
    "    time_x_center.append(datetime.date(time.year,time.month,time.day))\n",
    "    pos_center.append(0)"
   ]
  },
  {
   "cell_type": "markdown",
   "metadata": {},
   "source": [
    "### Ploting DATA"
   ]
  },
  {
   "cell_type": "code",
   "execution_count": 63,
   "metadata": {},
   "outputs": [
    {
     "name": "stderr",
     "output_type": "stream",
     "text": [
      "Locator attempting to generate 1075 ticks ([737225.0, ..., 738299.0]), which exceeds Locator.MAXTICKS (1000).\n",
      "Locator attempting to generate 1075 ticks ([737225.0, ..., 738299.0]), which exceeds Locator.MAXTICKS (1000).\n",
      "Locator attempting to generate 1075 ticks ([737225.0, ..., 738299.0]), which exceeds Locator.MAXTICKS (1000).\n",
      "Locator attempting to generate 1075 ticks ([737225.0, ..., 738299.0]), which exceeds Locator.MAXTICKS (1000).\n",
      "Locator attempting to generate 1075 ticks ([737225.0, ..., 738299.0]), which exceeds Locator.MAXTICKS (1000).\n",
      "Locator attempting to generate 1075 ticks ([737225.0, ..., 738299.0]), which exceeds Locator.MAXTICKS (1000).\n",
      "Locator attempting to generate 1075 ticks ([737225.0, ..., 738299.0]), which exceeds Locator.MAXTICKS (1000).\n",
      "Locator attempting to generate 1075 ticks ([737225.0, ..., 738299.0]), which exceeds Locator.MAXTICKS (1000).\n",
      "Locator attempting to generate 1075 ticks ([737225.0, ..., 738299.0]), which exceeds Locator.MAXTICKS (1000).\n",
      "Locator attempting to generate 1075 ticks ([737225.0, ..., 738299.0]), which exceeds Locator.MAXTICKS (1000).\n",
      "Locator attempting to generate 1075 ticks ([737225.0, ..., 738299.0]), which exceeds Locator.MAXTICKS (1000).\n",
      "Locator attempting to generate 1075 ticks ([737225.0, ..., 738299.0]), which exceeds Locator.MAXTICKS (1000).\n",
      "Locator attempting to generate 1075 ticks ([737225.0, ..., 738299.0]), which exceeds Locator.MAXTICKS (1000).\n",
      "Locator attempting to generate 1075 ticks ([737225.0, ..., 738299.0]), which exceeds Locator.MAXTICKS (1000).\n",
      "Locator attempting to generate 1075 ticks ([737225.0, ..., 738299.0]), which exceeds Locator.MAXTICKS (1000).\n",
      "Locator attempting to generate 1075 ticks ([737225.0, ..., 738299.0]), which exceeds Locator.MAXTICKS (1000).\n",
      "Locator attempting to generate 1075 ticks ([737225.0, ..., 738299.0]), which exceeds Locator.MAXTICKS (1000).\n",
      "Locator attempting to generate 1075 ticks ([737225.0, ..., 738299.0]), which exceeds Locator.MAXTICKS (1000).\n",
      "Locator attempting to generate 1075 ticks ([737225.0, ..., 738299.0]), which exceeds Locator.MAXTICKS (1000).\n",
      "Locator attempting to generate 1075 ticks ([737225.0, ..., 738299.0]), which exceeds Locator.MAXTICKS (1000).\n",
      "Locator attempting to generate 1075 ticks ([737225.0, ..., 738299.0]), which exceeds Locator.MAXTICKS (1000).\n",
      "Locator attempting to generate 1075 ticks ([737225.0, ..., 738299.0]), which exceeds Locator.MAXTICKS (1000).\n",
      "Locator attempting to generate 1075 ticks ([737225.0, ..., 738299.0]), which exceeds Locator.MAXTICKS (1000).\n",
      "Locator attempting to generate 1075 ticks ([737225.0, ..., 738299.0]), which exceeds Locator.MAXTICKS (1000).\n",
      "Locator attempting to generate 1075 ticks ([737225.0, ..., 738299.0]), which exceeds Locator.MAXTICKS (1000).\n",
      "Locator attempting to generate 1075 ticks ([737225.0, ..., 738299.0]), which exceeds Locator.MAXTICKS (1000).\n",
      "Locator attempting to generate 1075 ticks ([737225.0, ..., 738299.0]), which exceeds Locator.MAXTICKS (1000).\n",
      "Locator attempting to generate 1075 ticks ([737225.0, ..., 738299.0]), which exceeds Locator.MAXTICKS (1000).\n",
      "Locator attempting to generate 1075 ticks ([737225.0, ..., 738299.0]), which exceeds Locator.MAXTICKS (1000).\n",
      "Locator attempting to generate 1075 ticks ([737225.0, ..., 738299.0]), which exceeds Locator.MAXTICKS (1000).\n",
      "Locator attempting to generate 1075 ticks ([737225.0, ..., 738299.0]), which exceeds Locator.MAXTICKS (1000).\n",
      "Locator attempting to generate 1075 ticks ([737225.0, ..., 738299.0]), which exceeds Locator.MAXTICKS (1000).\n",
      "Locator attempting to generate 1075 ticks ([737225.0, ..., 738299.0]), which exceeds Locator.MAXTICKS (1000).\n",
      "Locator attempting to generate 1075 ticks ([737225.0, ..., 738299.0]), which exceeds Locator.MAXTICKS (1000).\n",
      "Locator attempting to generate 1075 ticks ([737225.0, ..., 738299.0]), which exceeds Locator.MAXTICKS (1000).\n",
      "Locator attempting to generate 1075 ticks ([737225.0, ..., 738299.0]), which exceeds Locator.MAXTICKS (1000).\n",
      "Locator attempting to generate 1075 ticks ([737225.0, ..., 738299.0]), which exceeds Locator.MAXTICKS (1000).\n",
      "Locator attempting to generate 1075 ticks ([737225.0, ..., 738299.0]), which exceeds Locator.MAXTICKS (1000).\n",
      "Locator attempting to generate 1075 ticks ([737225.0, ..., 738299.0]), which exceeds Locator.MAXTICKS (1000).\n",
      "Locator attempting to generate 1075 ticks ([737225.0, ..., 738299.0]), which exceeds Locator.MAXTICKS (1000).\n",
      "Locator attempting to generate 1075 ticks ([737225.0, ..., 738299.0]), which exceeds Locator.MAXTICKS (1000).\n",
      "Locator attempting to generate 1075 ticks ([737225.0, ..., 738299.0]), which exceeds Locator.MAXTICKS (1000).\n",
      "Locator attempting to generate 1075 ticks ([737225.0, ..., 738299.0]), which exceeds Locator.MAXTICKS (1000).\n",
      "Locator attempting to generate 1075 ticks ([737225.0, ..., 738299.0]), which exceeds Locator.MAXTICKS (1000).\n",
      "Locator attempting to generate 1075 ticks ([737225.0, ..., 738299.0]), which exceeds Locator.MAXTICKS (1000).\n",
      "Locator attempting to generate 1075 ticks ([737225.0, ..., 738299.0]), which exceeds Locator.MAXTICKS (1000).\n",
      "Locator attempting to generate 1075 ticks ([737225.0, ..., 738299.0]), which exceeds Locator.MAXTICKS (1000).\n",
      "Locator attempting to generate 1075 ticks ([737225.0, ..., 738299.0]), which exceeds Locator.MAXTICKS (1000).\n",
      "Locator attempting to generate 1075 ticks ([737225.0, ..., 738299.0]), which exceeds Locator.MAXTICKS (1000).\n",
      "Locator attempting to generate 1075 ticks ([737225.0, ..., 738299.0]), which exceeds Locator.MAXTICKS (1000).\n",
      "Locator attempting to generate 1075 ticks ([737225.0, ..., 738299.0]), which exceeds Locator.MAXTICKS (1000).\n",
      "Locator attempting to generate 1075 ticks ([737225.0, ..., 738299.0]), which exceeds Locator.MAXTICKS (1000).\n",
      "Locator attempting to generate 1075 ticks ([737225.0, ..., 738299.0]), which exceeds Locator.MAXTICKS (1000).\n",
      "Locator attempting to generate 1075 ticks ([737225.0, ..., 738299.0]), which exceeds Locator.MAXTICKS (1000).\n",
      "Locator attempting to generate 1075 ticks ([737225.0, ..., 738299.0]), which exceeds Locator.MAXTICKS (1000).\n",
      "Locator attempting to generate 1075 ticks ([737225.0, ..., 738299.0]), which exceeds Locator.MAXTICKS (1000).\n",
      "Locator attempting to generate 1075 ticks ([737225.0, ..., 738299.0]), which exceeds Locator.MAXTICKS (1000).\n",
      "Locator attempting to generate 1075 ticks ([737225.0, ..., 738299.0]), which exceeds Locator.MAXTICKS (1000).\n",
      "Locator attempting to generate 1075 ticks ([737225.0, ..., 738299.0]), which exceeds Locator.MAXTICKS (1000).\n",
      "Locator attempting to generate 1075 ticks ([737225.0, ..., 738299.0]), which exceeds Locator.MAXTICKS (1000).\n",
      "Locator attempting to generate 1075 ticks ([737225.0, ..., 738299.0]), which exceeds Locator.MAXTICKS (1000).\n",
      "Locator attempting to generate 1075 ticks ([737225.0, ..., 738299.0]), which exceeds Locator.MAXTICKS (1000).\n",
      "Locator attempting to generate 1075 ticks ([737225.0, ..., 738299.0]), which exceeds Locator.MAXTICKS (1000).\n",
      "Locator attempting to generate 1075 ticks ([737225.0, ..., 738299.0]), which exceeds Locator.MAXTICKS (1000).\n",
      "Locator attempting to generate 1075 ticks ([737225.0, ..., 738299.0]), which exceeds Locator.MAXTICKS (1000).\n",
      "Locator attempting to generate 1075 ticks ([737225.0, ..., 738299.0]), which exceeds Locator.MAXTICKS (1000).\n",
      "Locator attempting to generate 1075 ticks ([737225.0, ..., 738299.0]), which exceeds Locator.MAXTICKS (1000).\n",
      "Locator attempting to generate 1075 ticks ([737225.0, ..., 738299.0]), which exceeds Locator.MAXTICKS (1000).\n",
      "Locator attempting to generate 1075 ticks ([737225.0, ..., 738299.0]), which exceeds Locator.MAXTICKS (1000).\n",
      "Locator attempting to generate 1075 ticks ([737225.0, ..., 738299.0]), which exceeds Locator.MAXTICKS (1000).\n",
      "Locator attempting to generate 1075 ticks ([737225.0, ..., 738299.0]), which exceeds Locator.MAXTICKS (1000).\n",
      "Locator attempting to generate 1075 ticks ([737225.0, ..., 738299.0]), which exceeds Locator.MAXTICKS (1000).\n",
      "Locator attempting to generate 1075 ticks ([737225.0, ..., 738299.0]), which exceeds Locator.MAXTICKS (1000).\n",
      "Locator attempting to generate 1075 ticks ([737225.0, ..., 738299.0]), which exceeds Locator.MAXTICKS (1000).\n",
      "Locator attempting to generate 1075 ticks ([737225.0, ..., 738299.0]), which exceeds Locator.MAXTICKS (1000).\n"
     ]
    },
    {
     "name": "stderr",
     "output_type": "stream",
     "text": [
      "Locator attempting to generate 1075 ticks ([737225.0, ..., 738299.0]), which exceeds Locator.MAXTICKS (1000).\n",
      "Locator attempting to generate 1075 ticks ([737225.0, ..., 738299.0]), which exceeds Locator.MAXTICKS (1000).\n",
      "Locator attempting to generate 1075 ticks ([737225.0, ..., 738299.0]), which exceeds Locator.MAXTICKS (1000).\n",
      "Locator attempting to generate 1075 ticks ([737225.0, ..., 738299.0]), which exceeds Locator.MAXTICKS (1000).\n",
      "Locator attempting to generate 1075 ticks ([737225.0, ..., 738299.0]), which exceeds Locator.MAXTICKS (1000).\n",
      "Locator attempting to generate 1075 ticks ([737225.0, ..., 738299.0]), which exceeds Locator.MAXTICKS (1000).\n",
      "Locator attempting to generate 1075 ticks ([737225.0, ..., 738299.0]), which exceeds Locator.MAXTICKS (1000).\n",
      "Locator attempting to generate 1075 ticks ([737225.0, ..., 738299.0]), which exceeds Locator.MAXTICKS (1000).\n",
      "Locator attempting to generate 1075 ticks ([737225.0, ..., 738299.0]), which exceeds Locator.MAXTICKS (1000).\n",
      "Locator attempting to generate 1075 ticks ([737225.0, ..., 738299.0]), which exceeds Locator.MAXTICKS (1000).\n",
      "Locator attempting to generate 1075 ticks ([737225.0, ..., 738299.0]), which exceeds Locator.MAXTICKS (1000).\n",
      "Locator attempting to generate 1075 ticks ([737225.0, ..., 738299.0]), which exceeds Locator.MAXTICKS (1000).\n",
      "Locator attempting to generate 1075 ticks ([737225.0, ..., 738299.0]), which exceeds Locator.MAXTICKS (1000).\n",
      "Locator attempting to generate 1075 ticks ([737225.0, ..., 738299.0]), which exceeds Locator.MAXTICKS (1000).\n",
      "Locator attempting to generate 1075 ticks ([737225.0, ..., 738299.0]), which exceeds Locator.MAXTICKS (1000).\n",
      "Locator attempting to generate 1075 ticks ([737225.0, ..., 738299.0]), which exceeds Locator.MAXTICKS (1000).\n",
      "Locator attempting to generate 1075 ticks ([737225.0, ..., 738299.0]), which exceeds Locator.MAXTICKS (1000).\n",
      "Locator attempting to generate 1075 ticks ([737225.0, ..., 738299.0]), which exceeds Locator.MAXTICKS (1000).\n",
      "Locator attempting to generate 1075 ticks ([737225.0, ..., 738299.0]), which exceeds Locator.MAXTICKS (1000).\n",
      "Locator attempting to generate 1075 ticks ([737225.0, ..., 738299.0]), which exceeds Locator.MAXTICKS (1000).\n",
      "Locator attempting to generate 1075 ticks ([737225.0, ..., 738299.0]), which exceeds Locator.MAXTICKS (1000).\n",
      "Locator attempting to generate 1075 ticks ([737225.0, ..., 738299.0]), which exceeds Locator.MAXTICKS (1000).\n",
      "Locator attempting to generate 1075 ticks ([737225.0, ..., 738299.0]), which exceeds Locator.MAXTICKS (1000).\n",
      "Locator attempting to generate 1075 ticks ([737225.0, ..., 738299.0]), which exceeds Locator.MAXTICKS (1000).\n",
      "Locator attempting to generate 1075 ticks ([737225.0, ..., 738299.0]), which exceeds Locator.MAXTICKS (1000).\n",
      "Locator attempting to generate 1075 ticks ([737225.0, ..., 738299.0]), which exceeds Locator.MAXTICKS (1000).\n",
      "Locator attempting to generate 1075 ticks ([737225.0, ..., 738299.0]), which exceeds Locator.MAXTICKS (1000).\n",
      "Locator attempting to generate 1075 ticks ([737225.0, ..., 738299.0]), which exceeds Locator.MAXTICKS (1000).\n",
      "Locator attempting to generate 1075 ticks ([737225.0, ..., 738299.0]), which exceeds Locator.MAXTICKS (1000).\n",
      "Locator attempting to generate 1075 ticks ([737225.0, ..., 738299.0]), which exceeds Locator.MAXTICKS (1000).\n",
      "Locator attempting to generate 1075 ticks ([737225.0, ..., 738299.0]), which exceeds Locator.MAXTICKS (1000).\n",
      "Locator attempting to generate 1075 ticks ([737225.0, ..., 738299.0]), which exceeds Locator.MAXTICKS (1000).\n",
      "Locator attempting to generate 1075 ticks ([737225.0, ..., 738299.0]), which exceeds Locator.MAXTICKS (1000).\n",
      "Locator attempting to generate 1075 ticks ([737225.0, ..., 738299.0]), which exceeds Locator.MAXTICKS (1000).\n",
      "Locator attempting to generate 1075 ticks ([737225.0, ..., 738299.0]), which exceeds Locator.MAXTICKS (1000).\n",
      "Locator attempting to generate 1075 ticks ([737225.0, ..., 738299.0]), which exceeds Locator.MAXTICKS (1000).\n",
      "Locator attempting to generate 1075 ticks ([737225.0, ..., 738299.0]), which exceeds Locator.MAXTICKS (1000).\n",
      "Locator attempting to generate 1075 ticks ([737225.0, ..., 738299.0]), which exceeds Locator.MAXTICKS (1000).\n",
      "Locator attempting to generate 1075 ticks ([737225.0, ..., 738299.0]), which exceeds Locator.MAXTICKS (1000).\n",
      "Locator attempting to generate 1075 ticks ([737225.0, ..., 738299.0]), which exceeds Locator.MAXTICKS (1000).\n",
      "Locator attempting to generate 1075 ticks ([737225.0, ..., 738299.0]), which exceeds Locator.MAXTICKS (1000).\n",
      "Locator attempting to generate 1075 ticks ([737225.0, ..., 738299.0]), which exceeds Locator.MAXTICKS (1000).\n",
      "Locator attempting to generate 1075 ticks ([737225.0, ..., 738299.0]), which exceeds Locator.MAXTICKS (1000).\n",
      "Locator attempting to generate 1075 ticks ([737225.0, ..., 738299.0]), which exceeds Locator.MAXTICKS (1000).\n",
      "Locator attempting to generate 1075 ticks ([737225.0, ..., 738299.0]), which exceeds Locator.MAXTICKS (1000).\n"
     ]
    },
    {
     "data": {
      "image/png": "[encoded data removed]",
      "text/plain": [
       "<Figure size 1080x1080 with 3 Axes>"
      ]
     },
     "metadata": {
      "needs_background": "light"
     },
     "output_type": "display_data"
    }
   ],
   "source": [
    "days = DayLocator()   # every year\n",
    "months = MonthLocator()  # every month\n",
    "yearsFmt = DateFormatter('%Y-%m-%d')\n",
    "\n",
    "fig, (ax,ax1,ax2) = plt.subplots(nrows=3,ncols=1,figsize=(15,15))\n",
    "\n",
    "\n",
    "\n",
    "ax.vlines(datetime.date(DEPLOY_DAY.year,DEPLOY_DAY.month,DEPLOY_DAY.day),-100,100,colors='r',linestyles='dashed',label='Início')\n",
    "ax.vlines(datetime.date(RECOVER_DAY.year,RECOVER_DAY.month,RECOVER_DAY.day),-100,100,colors='k',linestyles='dashed',label='Final')\n",
    "ax.plot(time_x, pos_Z,'ok')\n",
    "ax.plot(time_x_center, pos_center,'^r',label='CENTRE UNIT')\n",
    "\n",
    "ax.set_ylabel('Mass Z Position (percentage)')\n",
    "ax.set_ylim(-100,100)\n",
    "ax.yaxis.set_major_locator(MultipleLocator(25))\n",
    "ax.yaxis.set_minor_locator(MultipleLocator(5))\n",
    "ax.xaxis.set_major_locator(months)\n",
    "ax.xaxis.set_major_formatter(yearsFmt)\n",
    "ax.xaxis.set_minor_locator(days)\n",
    "ax.legend(loc='lower right')\n",
    "ax.grid(True)\n",
    "\n",
    "ax1.vlines(datetime.date(DEPLOY_DAY.year,DEPLOY_DAY.month,DEPLOY_DAY.day),-100,100,colors='r',linestyles='dashed',label='Início')\n",
    "ax1.vlines(datetime.date(RECOVER_DAY.year,RECOVER_DAY.month,RECOVER_DAY.day),-100,100,colors='k',linestyles='dashed',label='Final')\n",
    "ax1.plot(time_x, pos_N,'ok')\n",
    "ax1.plot(time_x_center, pos_center,'^r',label='CENTRE UNIT')\n",
    "\n",
    "ax1.set_ylabel('Mass N Position (percentage)')\n",
    "ax1.set_ylim(-100,100)\n",
    "ax1.yaxis.set_major_locator(MultipleLocator(25))\n",
    "ax1.yaxis.set_minor_locator(MultipleLocator(5))\n",
    "ax1.xaxis.set_major_locator(months)\n",
    "ax1.xaxis.set_major_formatter(yearsFmt)\n",
    "ax1.xaxis.set_minor_locator(days)\n",
    "ax1.legend(loc='lower right')\n",
    "ax1.grid(True)\n",
    "\n",
    "\n",
    "ax2.vlines(datetime.date(DEPLOY_DAY.year,DEPLOY_DAY.month,DEPLOY_DAY.day),-100,100,colors='r',linestyles='dashed',label='Início')\n",
    "ax2.vlines(datetime.date(RECOVER_DAY.year,RECOVER_DAY.month,RECOVER_DAY.day),-100,100,colors='k',linestyles='dashed',label='Final')\n",
    "ax2.plot(time_x, pos_E,'ok')\n",
    "ax2.plot(time_x_center, pos_center,'^r',label='CENTRE UNIT')\n",
    "\n",
    "ax2.set_ylabel('Mass E Position (percentage)')\n",
    "ax2.set_ylim(-100,100)\n",
    "ax2.yaxis.set_major_locator(MultipleLocator(25))\n",
    "ax2.yaxis.set_minor_locator(MultipleLocator(5))\n",
    "ax2.xaxis.set_major_locator(months)\n",
    "ax2.xaxis.set_major_formatter(yearsFmt)\n",
    "ax2.xaxis.set_minor_locator(days)\n",
    "ax2.legend(loc='lower right')\n",
    "ax2.grid(True)\n",
    "\n",
    "# rotates and right aligns the x labels, and moves the bottom of the\n",
    "# axes up to make room for them\n",
    "fig.autofmt_xdate()\n",
    "\n",
    "fig.suptitle(OBS_NAME+' - Sensor:'+SENSOR_NAME)\n",
    "fig.savefig(FIGURE_DIR+OBS_NAME+'_MASS_POSITIONS.png', dpi=300, facecolor='w')"
   ]
  },
  {
   "cell_type": "markdown",
   "metadata": {},
   "source": [
    "# Temperature"
   ]
  },
  {
   "cell_type": "code",
   "execution_count": 64,
   "metadata": {},
   "outputs": [],
   "source": [
    "temperature_line = []\n",
    "system_reboot_line = [] \n",
    "for i in files_sensor:\n",
    "    with open(i,'r',encoding='latin-1') as f:\n",
    "        lines = f.readlines()\n",
    "        temperature_line.append([k for k in lines if 'Temperature' in k])\n",
    "        system_reboot_line.append([k for k in lines if 'System re-boot at ' in k])\n",
    "        f.close()"
   ]
  },
  {
   "cell_type": "code",
   "execution_count": 65,
   "metadata": {},
   "outputs": [],
   "source": [
    "temperature_lines = [item for sublist in temperature_line for item in sublist]\n",
    "system_reboot_lines = [item for sublist in system_reboot_line for item in sublist]"
   ]
  },
  {
   "cell_type": "code",
   "execution_count": 66,
   "metadata": {},
   "outputs": [],
   "source": [
    "temperature = []\n",
    "\n",
    "for i in temperature_lines:\n",
    "    temperature.append(float((i.split('Temperature')[1].split('C')[0]).split(\"'\")[0]))"
   ]
  },
  {
   "cell_type": "code",
   "execution_count": 67,
   "metadata": {},
   "outputs": [],
   "source": [
    "time_x_temp = []\n",
    "for i in system_reboot_lines:\n",
    "    time_temp = UTCDateTime(i.split('at')[1].split('\\n')[0])\n",
    "    time_x_temp.append(datetime.date(time_temp.year,time_temp.month,time_temp.day))"
   ]
  },
  {
   "cell_type": "code",
   "execution_count": 68,
   "metadata": {},
   "outputs": [
    {
     "data": {
      "image/png": "[encoded data removed]",
      "text/plain": [
       "<Figure size 1080x576 with 1 Axes>"
      ]
     },
     "metadata": {
      "needs_background": "light"
     },
     "output_type": "display_data"
    }
   ],
   "source": [
    "days = DayLocator()   # every year\n",
    "months = MonthLocator()  # every month\n",
    "yearsFmt = DateFormatter('%Y-%m-%d')\n",
    "\n",
    "fig, ax = plt.subplots(nrows=1,ncols=1,figsize=(15,8))\n",
    "\n",
    "ax.vlines(datetime.date(DEPLOY_DAY.year,DEPLOY_DAY.month,DEPLOY_DAY.day),-100,100,colors='r',linestyles='dashed',label='Início')\n",
    "ax.vlines(datetime.date(RECOVER_DAY.year,RECOVER_DAY.month,RECOVER_DAY.day),-100,100,colors='k',linestyles='dashed',label='Final')\n",
    "ax.plot(time_x_temp, temperature,'ok',label='Re-boot data')\n",
    "\n",
    "ax.set_ylabel('TEMPERATURE and RE-BOOT SYSTEM')\n",
    "ax.set_ylim(0,100)\n",
    "ax.yaxis.set_major_locator(MultipleLocator(25))\n",
    "ax.yaxis.set_minor_locator(MultipleLocator(5))\n",
    "ax.xaxis.set_major_locator(months)\n",
    "ax.xaxis.set_major_formatter(yearsFmt)\n",
    "ax.xaxis.set_minor_locator(days)\n",
    "ax.legend(loc='upper left')\n",
    "ax.grid(True)\n",
    "\n",
    "\n",
    "# rotates and right aligns the x labels, and moves the bottom of the\n",
    "# axes up to make room for them\n",
    "fig.autofmt_xdate()\n",
    "\n",
    "fig.suptitle(OBS_NAME+' - Sensor:'+SENSOR_NAME)\n",
    "fig.savefig(FIGURE_DIR+OBS_NAME+'_TEMPERATURE_REBOOT.png', dpi=300, facecolor='w')"
   ]
  },
  {
   "cell_type": "code",
   "execution_count": null,
   "metadata": {},
   "outputs": [],
   "source": []
  },
  {
   "cell_type": "code",
   "execution_count": null,
   "metadata": {},
   "outputs": [],
   "source": []
  }
 ],
 "metadata": {
  "kernelspec": {
   "display_name": "Python 3",
   "language": "python",
   "name": "python3"
  },
  "language_info": {
   "codemirror_mode": {
    "name": "ipython",
    "version": 3
   },
   "file_extension": ".py",
   "mimetype": "text/x-python",
   "name": "python",
   "nbconvert_exporter": "python",
   "pygments_lexer": "ipython3",
   "version": "3.7.6"
  }
 },
 "nbformat": 4,
 "nbformat_minor": 4
}
