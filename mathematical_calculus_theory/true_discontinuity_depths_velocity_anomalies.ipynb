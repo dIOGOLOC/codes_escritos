{
 "cells": [
  {
   "cell_type": "markdown",
   "metadata": {},
   "source": [
    "# Determination of the true discontinuity depths and velocity anomalies above a discontinuity using apparent depths"
   ]
  },
  {
   "cell_type": "markdown",
   "metadata": {},
   "source": [
    "### Imaging mantle discontinuities using multiply-reflected P-to-S conversions\n",
    "Stephen S. Gao, Kelly H. Liu"
   ]
  },
  {
   "cell_type": "markdown",
   "metadata": {},
   "source": [
    "After the moveout corrections, the arrival times and the corresponding discontinuity depths can be related using depth–time–velocity relations for vertically incident waves. Under the assumption of a constant velocity structure beneath the area sampled by the $Pds$ and $Ppds$ phases, the arrival time difference between the converted S-wave and the direct P-wave can be expressed as:"
   ]
  },
  {
   "cell_type": "markdown",
   "metadata": {},
   "source": [
    "$$\n",
    "T_{s - p}^{(Pds)} = \\frac{H_{T}}{V_{s0} + \\delta V_{s}} - \\frac{H_{T}}{V_{p0} + \\delta V_{p}}(1)\n",
    "$$"
   ]
  },
  {
   "cell_type": "markdown",
   "metadata": {},
   "source": [
    "and that for $Ppds$ is:"
   ]
  },
  {
   "cell_type": "markdown",
   "metadata": {},
   "source": [
    "$$\n",
    "T_{s - p}^{(Ppds)} = \\frac{H_{T}}{V_{s0} + \\delta V_{s}} + \\frac{H_{T}}{V_{p0} + \\delta V_{p}} (2)\n",
    "$$"
   ]
  },
  {
   "cell_type": "markdown",
   "metadata": {},
   "source": [
    "where:\n",
    "\n",
    "$H_{T}$ is the true depth of the discontinuity;\n",
    "<br>\n",
    "<br>\n",
    "$V_{p0}$ and $V_{s0}$ are the mean P- and S-wave velocities in the IASP91 standard Earth model above the discontinuity;\n",
    "<br>\n",
    "<br>\n",
    "$\\delta V_{p}$ and $\\delta V_{w}$ are the P- and S-wave velocity anomalies.\n",
    "<br>\n",
    "<br>\n",
    "The use of the velocities in the standard Earth model leads to an apparent depth of $H_{A}$ , and the corresponding travel-times are the same as those in Eqs. (1) and (2) and can be expressed as:"
   ]
  },
  {
   "cell_type": "markdown",
   "metadata": {},
   "source": [
    "$$\n",
    "T_{s - p}^{(Pds)} = \\frac{H_{A}^{(Pds)}}{V_{s0}}  -  \\frac{H_{A}^{(Pds)}}{V_{p0}} (3)\n",
    "$$"
   ]
  },
  {
   "cell_type": "markdown",
   "metadata": {},
   "source": [
    "and:"
   ]
  },
  {
   "cell_type": "markdown",
   "metadata": {},
   "source": [
    "$$\n",
    "T_{s - p}^{(Ppds)} = \\frac{H_{A}^{(Ppds)}}{V_{s0}}  +  \\frac{H_{A}^{(Ppds)}}{V_{p0}} (4)\n",
    "$$"
   ]
  },
  {
   "cell_type": "markdown",
   "metadata": {},
   "source": [
    "Equating Eqs. (1) and (3) to find the $H_{A}^{(Pds)}$, we get:"
   ]
  },
  {
   "cell_type": "markdown",
   "metadata": {},
   "source": [
    "$$\n",
    " \\frac{H_{T}}{V_{s0} + \\delta V_{s}} - \\frac{H_{T}}{V_{p0} + \\delta V_{p}} = \\frac{H_{A}^{(Pds)}}{V_{s0}}  -  \\frac{H_{A}^{(Pds)}}{V_{p0}}\n",
    "$$"
   ]
  },
  {
   "cell_type": "markdown",
   "metadata": {},
   "source": [
    "*  isolating $H_{A}^{(Pds)}$ and $H_{T}$:"
   ]
  },
  {
   "cell_type": "markdown",
   "metadata": {},
   "source": [
    "$$\n",
    " (\\frac{1}{V_{s0} + \\delta V_{s}} - \\frac{1}{V_{p0} + \\delta V_{p}}) .  H_{T} = (\\frac{1}{V_{s0}}  -  \\frac{1}{V_{p0}}) . H_{A}^{(Pds)}\n",
    "$$"
   ]
  },
  {
   "cell_type": "markdown",
   "metadata": {},
   "source": [
    "*  isolating $H_{A}^{(Pds)}$:"
   ]
  },
  {
   "cell_type": "markdown",
   "metadata": {},
   "source": [
    "$$\n",
    " \\frac{(V_{p0} + \\delta V_{p}) - (V_{s0} + \\delta V_{s})}{(V_{s0} + \\delta V_{s}) . (V_{p0} + \\delta V_{p})} . H_{T} = \\frac{V_{p0}-V_{s0}}{V_{p0} . V_{s0}} .  H_{A}^{(Pds)}\n",
    "$$\n",
    "<br>\n",
    "<br>\n",
    "$$\n",
    " \\frac{V_{p0} + \\delta V_{p} - V_{s0} - \\delta V_{s}}{(V_{s0} + \\delta V_{s}) . (V_{p0} + \\delta V_{p})} . H_{T} = \\frac{V_{p0}-V_{s0}}{V_{p0} . V_{s0}} .  H_{A}^{(Pds)}\n",
    "$$\n",
    "<br>\n",
    "<br>\n",
    "$$\n",
    "H_{A}^{(Pds)} = \\frac{V_{p0} . V_{s0}}{V_{p0}-V_{s0}} . \\frac{V_{p0} + \\delta V_{p} - V_{s0} - \\delta V_{s}}{(V_{s0} + \\delta V_{s}) . (V_{p0} + \\delta V_{p})} . H_{T} (5)\n",
    "$$\n",
    "<br>\n",
    "<br>\n",
    "<br>\n",
    "<br>"
   ]
  },
  {
   "cell_type": "markdown",
   "metadata": {},
   "source": [
    "Equating Eqs. (2) and (4) to find the $H_{A}^{(Ppds)}$, we have:"
   ]
  },
  {
   "cell_type": "markdown",
   "metadata": {},
   "source": [
    "$$\n",
    "\\frac{H_{T}}{V_{s0} + \\delta V_{s}} + \\frac{H_{T}}{V_{p0} + \\delta V_{p}} = \\frac{H_{A}^{(Ppds)}}{V_{s0}}  +  \\frac{H_{A}^{(Ppds)}}{V_{p0}}\n",
    "$$"
   ]
  },
  {
   "cell_type": "markdown",
   "metadata": {},
   "source": [
    "*  isolating $H_{A}^{(Ppds)}$ and $H_{T}$:"
   ]
  },
  {
   "cell_type": "markdown",
   "metadata": {},
   "source": [
    "$$\n",
    " (\\frac{1}{V_{s0} + \\delta V_{s}} + \\frac{1}{V_{p0} + \\delta V_{p}}) .  H_{T} = (\\frac{1}{V_{s0}}  +  \\frac{1}{V_{p0}}) . H_{A}^{(Ppds)}\n",
    "$$"
   ]
  },
  {
   "cell_type": "markdown",
   "metadata": {},
   "source": [
    "*  isolating $H_{A}^{(Ppds)}$:"
   ]
  },
  {
   "cell_type": "markdown",
   "metadata": {},
   "source": [
    "$$\n",
    " \\frac{(V_{p0} + \\delta V_{p}) + (V_{s0} + \\delta V_{s})}{(V_{s0} + \\delta V_{s}) . (V_{p0} + \\delta V_{p})} . H_{T} = \\frac{V_{p0}-V_{s0}}{V_{p0} . V_{s0}} .  H_{A}^{(Ppds)}\n",
    "$$\n",
    "<br>\n",
    "<br>\n",
    "$$\n",
    " \\frac{V_{p0} + \\delta V_{p} + V_{s0} + \\delta V_{s}}{(V_{s0} + \\delta V_{s}) . (V_{p0} + \\delta V_{p})} . H_{T} = \\frac{V_{p0} + V_{s0}}{V_{p0} . V_{s0}} .  H_{A}^{(Ppds)}\n",
    "$$\n",
    "<br>\n",
    "<br>\n",
    "$$\n",
    "H_{A}^{(Ppds)} = \\frac{V_{p0} . V_{s0}}{V_{p0} + V_{s0}} . \\frac{V_{p0} + \\delta V_{p} + V_{s0} + \\delta V_{s}}{(V_{s0} + \\delta V_{s}) . (V_{p0} + \\delta V_{p})} . H_{T} (6)\n",
    "$$\n",
    "<br>\n",
    "<br>\n",
    "<br>\n",
    "<br>"
   ]
  },
  {
   "cell_type": "markdown",
   "metadata": {},
   "source": [
    "Taking the ratio of the equations (5) e (6) results in:"
   ]
  },
  {
   "cell_type": "markdown",
   "metadata": {},
   "source": [
    "$$\n",
    "\\frac{H_{A}^{(Pds)}}{H_{A}^{(Ppds)}}\n",
    "$$\n",
    "<br>\n",
    "<br>"
   ]
  },
  {
   "cell_type": "markdown",
   "metadata": {},
   "source": [
    "$$\n",
    "\\frac{H_{A}^{(Pds)}}{H_{A}^{(Ppds)}} = \\frac{\\frac{V_{p0} . V_{s0}}{V_{p0}-V_{s0}} . \\frac{V_{p0} + \\delta V_{p} - V_{s0} - \\delta V_{s}}{(V_{s0} + \\delta V_{s}) . (V_{p0} + \\delta V_{p})} . H_{T}}{\\frac{V_{p0} . V_{s0}}{V_{p0} + V_{s0}} . \\frac{V_{p0} + \\delta V_{p} + V_{s0} + \\delta V_{s}}{(V_{s0} + \\delta V_{s}) . (V_{p0} + \\delta V_{p})} . H_{T}}\n",
    "$$"
   ]
  },
  {
   "cell_type": "markdown",
   "metadata": {},
   "source": [
    "* taking $\\alpha$ as $V_{p0} − V_{s0}$ , and $\\beta$ as $V_{p0} + V_{s0}$, we have:"
   ]
  },
  {
   "cell_type": "markdown",
   "metadata": {},
   "source": [
    "$$\n",
    "\\frac{H_{A}^{(Pds)}}{H_{A}^{(Ppds)}} = \\frac{\\frac{V_{p0} . V_{s0}}{\\alpha} . \\frac{\\alpha + \\delta V_{p} - \\delta V_{s}}{(V_{s0} + \\delta V_{s}) . (V_{p0} + \\delta V_{p})} . H_{T}}{\\frac{V_{p0} . V_{s0}}{\\beta} . \\frac{\\beta + \\delta V_{p} + \\delta V_{s}}{(V_{s0} + \\delta V_{s}) . (V_{p0} + \\delta V_{p})} . H_{T}}\n",
    "$$\n",
    "<br>\n",
    "<br>\n"
   ]
  },
  {
   "cell_type": "markdown",
   "metadata": {},
   "source": [
    "$$\n",
    "\\frac{H_{A}^{(Pds)}}{H_{A}^{(Ppds)}} = \\frac{\\frac{(V_{p0} . V_{s0}) . (\\alpha + \\delta V_{p} - \\delta V_{s})}{\\alpha . (V_{s0} + \\delta V_{s}) . (V_{p0} + \\delta V_{p})} . H_{T}}{\\frac{(V_{p0} . V_{s0}). (\\beta + \\delta V_{p} + \\delta V_{s})}{\\beta . (V_{s0} + \\delta V_{s}) . (V_{p0} + \\delta V_{p})} . H_{T}}\n",
    "$$"
   ]
  },
  {
   "cell_type": "markdown",
   "metadata": {},
   "source": [
    "$$\n",
    "\\frac{H_{A}^{(Pds)}}{H_{A}^{(Ppds)}} = \\frac{(V_{p0} . V_{s0}) . (\\alpha + \\delta V_{p} - \\delta V_{s})}{\\alpha . (V_{s0} + \\delta V_{s}) . (V_{p0} + \\delta V_{p})} . H_{T} . (\\frac{\\beta . (V_{s0} + \\delta V_{s}) . (V_{p0} + \\delta V_{p})}{(V_{p0} . V_{s0}). (\\beta + \\delta V_{p} + \\delta V_{s})} . \\frac{1}{H_{T}})\n",
    "$$"
   ]
  },
  {
   "cell_type": "markdown",
   "metadata": {},
   "source": [
    "$$\n",
    "\\frac{H_{A}^{(Pds)}}{H_{A}^{(Ppds)}} = \\frac{\\alpha + \\delta V_{p} - \\delta V_{s}}{\\alpha}. \\frac{\\beta}{\\beta + \\delta V_{p} + \\delta V_{s}}\n",
    "$$"
   ]
  },
  {
   "cell_type": "markdown",
   "metadata": {},
   "source": [
    "* reorganizing some terms, we get:"
   ]
  },
  {
   "cell_type": "markdown",
   "metadata": {},
   "source": [
    "$$\n",
    "\\frac{H_{A}^{(Pds)}}{H_{A}^{(Ppds)}} = \\frac{(\\alpha + \\delta V_{p} - \\delta V_{s})}{(\\beta + \\delta V_{p} + \\delta V_{s})}. \\frac{\\beta}{\\alpha} (7)\n",
    "$$"
   ]
  },
  {
   "cell_type": "markdown",
   "metadata": {},
   "source": [
    "Eq. (7) indicates that $H_{A}^{(Pds)}=H_{A}^{(Ppds)}=H_{T}$ when the real velocities are the same as those in the standard Earth model (i.e.,$\\delta V_{p} = \\delta V_{s} = 0$). The apparent depths obtained from $Pds$ and $Ppds$\n",
    "are different when the real velocities are different from those in the standard Earth model. Thus the discrepancies between the apparent depths using $Pds$ and $Ppds$ are diagnostics of velocity anomalies above the discontinuities.\n",
    "\n",
    "Under the assumption that the fractional P- and S-wave velocity anomalies are proportional, i.e.,"
   ]
  },
  {
   "cell_type": "markdown",
   "metadata": {},
   "source": [
    "$$\n",
    "\\frac{\\delta V_{s}}{V_{s0}}  = \\gamma  \\frac{\\delta V_{p}}{V_{p0}} (8)\n",
    "$$"
   ]
  },
  {
   "cell_type": "markdown",
   "metadata": {},
   "source": [
    "where $\\gamma$ is a constant, we can solve for $\\delta V_{p}$ using Eqs. (7) and (8), i.e.,"
   ]
  },
  {
   "cell_type": "markdown",
   "metadata": {},
   "source": [
    "* isolating $\\delta V_{s}$ in equation (8):"
   ]
  },
  {
   "cell_type": "markdown",
   "metadata": {},
   "source": [
    "$$\n",
    "\\frac{\\delta V_{s}}{V_{s0}}  = \\gamma . \\frac{\\delta V_{p}}{V_{p0}}\n",
    "$$\n",
    "<br>\n",
    "<br>\n",
    "$$\n",
    "\\delta V_{s} = \\gamma . \\frac{\\delta V_{p}.V_{s0}}{V_{p0}}\n",
    "$$\n",
    "<br>\n",
    "<br>\n",
    "$$\n",
    "\\delta V_{s} = \\delta V_{p} . \\frac{\\gamma.V_{s0}}{V_{p0}}(9)\n",
    "$$"
   ]
  },
  {
   "cell_type": "markdown",
   "metadata": {},
   "source": [
    "* developing the eq.(7):"
   ]
  },
  {
   "cell_type": "markdown",
   "metadata": {},
   "source": [
    "$$\n",
    "\\frac{H_{A}^{(Pds)}}{H_{A}^{(Ppds)}} = \\frac{(\\alpha + \\delta V_{p} - \\delta V_{s})}{(\\beta + \\delta V_{p} + \\delta V_{s})}. \\frac{\\beta}{\\alpha} (7)\n",
    "$$"
   ]
  },
  {
   "cell_type": "markdown",
   "metadata": {},
   "source": [
    "$$\n",
    "\\frac{(H_{A}^{(Pds)} . \\alpha)}{(H_{A}^{(Ppds)} . \\beta}) = \\frac{(\\alpha + \\delta V_{p} - \\delta V_{s})}{(\\beta + \\delta V_{p} + \\delta V_{s})}\n",
    "$$"
   ]
  },
  {
   "cell_type": "markdown",
   "metadata": {},
   "source": [
    "$$\n",
    "(H_{A}^{(Pds)} . \\alpha . \\beta) + (H_{A}^{(Pds)} . \\alpha . \\delta V_{p}) + (H_{A}^{(Pds)} . \\alpha . \\delta V_{s}) = (H_{A}^{(Ppds)} . \\beta . \\alpha) + (H_{A}^{(Ppds)} . \\beta . \\delta V_{p}) - (H_{A}^{(Ppds)} . \\beta . \\delta V_{s}) (10)\n",
    "$$"
   ]
  },
  {
   "cell_type": "markdown",
   "metadata": {},
   "source": [
    "* isolating $\\delta V_{p}$ and $\\delta V_{s}$ in equation (10):"
   ]
  },
  {
   "cell_type": "markdown",
   "metadata": {},
   "source": [
    "$$\n",
    "(H_{A}^{(Pds)} . \\alpha . \\beta) + (H_{A}^{(Pds)} . \\alpha . \\delta V_{p}) + (H_{A}^{(Pds)} . \\alpha . \\delta V_{s}) = (H_{A}^{(Ppds)} . \\beta . \\alpha) + (H_{A}^{(Ppds)} . \\beta . \\delta V_{p}) - (H_{A}^{(Ppds)} . \\beta . \\delta V_{s})\n",
    "$$"
   ]
  },
  {
   "cell_type": "markdown",
   "metadata": {},
   "source": [
    "$$\n",
    "(H_{A}^{(Pds)} . \\alpha . \\delta V_{p}) + (H_{A}^{(Pds)} . \\alpha . \\delta V_{s}) - (H_{A}^{(Ppds)} . \\beta . \\delta V_{p}) + (H_{A}^{(Ppds)} . \\beta . \\delta V_{s}) = (H_{A}^{(Ppds)} . \\beta . \\alpha) - (H_{A}^{(Pds)} . \\alpha . \\beta) (11)\n",
    "$$"
   ]
  },
  {
   "cell_type": "markdown",
   "metadata": {},
   "source": [
    "* replacing eq. (9) in eq. (11):"
   ]
  },
  {
   "cell_type": "markdown",
   "metadata": {},
   "source": [
    "$$\n",
    "(H_{A}^{(Pds)} . \\alpha . \\delta V_{p}) + (H_{A}^{(Pds)} . \\alpha . (\\delta V_{p} . \\frac{\\gamma.V_{s0}}{V_{p0}})) - (H_{A}^{(Ppds)} . \\beta . \\delta V_{p}) + (H_{A}^{(Ppds)} . \\beta . (\\delta V_{p} . \\frac{\\gamma.V_{s0}}{V_{p0}})) = \\alpha . \\beta . (H_{A}^{(Ppds)} - H_{A}^{(Pds)})\n",
    "$$"
   ]
  },
  {
   "cell_type": "markdown",
   "metadata": {},
   "source": [
    "$$\n",
    "(\\alpha . \\delta V_{p} . H_{A}^{(Pds)}) + (\\alpha . \\delta V_{p} . H_{A}^{(Pds)} . \\frac{\\gamma.V_{s0}}{V_{p0}}) - (\\beta . \\delta V_{p} . H_{A}^{(Ppds)}) + (\\beta . \\delta V_{p} .  H_{A}^{(Ppds)} . \\frac{\\gamma.V_{s0}}{V_{p0}}) = \\alpha . \\beta . (H_{A}^{(Ppds)} - H_{A}^{(Pds)})\n",
    "$$"
   ]
  },
  {
   "cell_type": "markdown",
   "metadata": {},
   "source": [
    "* isolating $\\delta V_{p}$"
   ]
  },
  {
   "cell_type": "markdown",
   "metadata": {},
   "source": [
    "$$\n",
    "\\delta V_{p} . (\\alpha . H_{A}^{(Pds)} + \\alpha . H_{A}^{(Pds)} . \\frac{\\gamma.V_{s0}}{V_{p0}}) - \\delta V_{p} . (\\beta . H_{A}^{(Ppds)} - \\beta .  H_{A}^{(Ppds)} . \\frac{\\gamma.V_{s0}}{V_{p0}}) = \\alpha . \\beta . (H_{A}^{(Ppds)} - H_{A}^{(Pds)})\n",
    "$$"
   ]
  },
  {
   "cell_type": "markdown",
   "metadata": {},
   "source": [
    "$$\n",
    "\\delta V_{p} . ((\\alpha . H_{A}^{(Pds)} + \\alpha . H_{A}^{(Pds)} . \\frac{\\gamma.V_{s0}}{V_{p0}}) - (\\beta . H_{A}^{(Ppds)} - \\beta .  H_{A}^{(Ppds)} . \\frac{\\gamma.V_{s0}}{V_{p0}})) = \\alpha . \\beta . (H_{A}^{(Ppds)} - H_{A}^{(Pds)})\n",
    "$$"
   ]
  },
  {
   "cell_type": "markdown",
   "metadata": {},
   "source": [
    "$$\n",
    "\\delta V_{p} = \\frac{\\alpha . \\beta . (H_{A}^{(Ppds)} - (H_{A}^{(Pds)})}{(\\alpha . H_{A}^{(Pds)} + \\alpha . H_{A}^{(Pds)} . \\frac{\\gamma.V_{s0}}{V_{p0}}) - (\\beta . H_{A}^{(Ppds)} - \\beta .  H_{A}^{(Ppds)} . \\frac{\\gamma.V_{s0}}{V_{p0}})}\n",
    "$$\n",
    "<br>\n",
    "<br>\n",
    "<br>\n",
    "<br>"
   ]
  },
  {
   "cell_type": "markdown",
   "metadata": {},
   "source": [
    "$$\n",
    "\\delta V_{p} = \\frac{\\alpha . \\beta . (H_{A}^{(Ppds)} - (H_{A}^{(Pds)})}{\\alpha . (1 + \\frac{\\gamma.V_{s0}}{V_{p0}}) . H_{A}^{(Pds)} - \\beta . (1 - \\frac{\\gamma.V_{s0}}{V_{p0}}). H_{A}^{(Ppds)}} (12)\n",
    "$$\n",
    "<br>\n",
    "<br>"
   ]
  },
  {
   "cell_type": "markdown",
   "metadata": {},
   "source": [
    "Once $\\delta V_{p}$ and $\\delta V_{s}$ are determined using Eqs. (12) and (9), respectively, the true depth of the discontinuity, $H_{T}$ , can then be found using Eqs. (5) or (6)."
   ]
  },
  {
   "cell_type": "markdown",
   "metadata": {},
   "source": [
    "$$\n",
    "H_{A}^{(Pds)} = \\frac{V_{p0} . V_{s0}}{V_{p0}-V_{s0}} . \\frac{V_{p0} + \\delta V_{p} - V_{s0} - \\delta V_{s}}{(V_{s0} + \\delta V_{s}) . (V_{p0} + \\delta V_{p})} . H_{T} (5)\n",
    "$$"
   ]
  },
  {
   "cell_type": "markdown",
   "metadata": {},
   "source": [
    "$$\n",
    "H_{A}^{(Ppds)} = \\frac{V_{p0} . V_{s0}}{V_{p0} + V_{s0}} . \\frac{V_{p0} + \\delta V_{p} + V_{s0} + \\delta V_{s}}{(V_{s0} + \\delta V_{s}) . (V_{p0} + \\delta V_{p})} . H_{T} (6)\n",
    "$$\n"
   ]
  },
  {
   "cell_type": "markdown",
   "metadata": {},
   "source": [
    "* isolating $H_{T}$ in the eq. (5):"
   ]
  },
  {
   "cell_type": "markdown",
   "metadata": {},
   "source": [
    "$$\n",
    "H_{A}^{(Pds)} . \\frac{V_{p0}-V_{s0}}{V_{p0} . V_{s0}}  = \\frac{V_{p0} + \\delta V_{p} - V_{s0} - \\delta V_{s}}{(V_{s0} + \\delta V_{s}) . (V_{p0} + \\delta V_{p})} . H_{T}\n",
    "$$"
   ]
  },
  {
   "cell_type": "markdown",
   "metadata": {},
   "source": [
    "$$\n",
    " H_{T} = H_{A}^{(Pds)} . \\frac{V_{p0}-V_{s0}}{V_{p0} . V_{s0}} . \\frac{(V_{s0} + \\delta V_{s}) . (V_{p0} + \\delta V_{p})}{V_{p0} + \\delta V_{p} - V_{s0} - \\delta V_{s}} (13)\n",
    "$$\n",
    "<br>\n",
    "<br>\n",
    "<br>"
   ]
  },
  {
   "cell_type": "markdown",
   "metadata": {},
   "source": [
    "* isolating $H_{T}$ in the eq. (6):"
   ]
  },
  {
   "cell_type": "markdown",
   "metadata": {},
   "source": [
    "$$\n",
    "H_{A}^{(Ppds)} . \\frac{V_{p0} + V_{s0}}{V_{p0} . V_{s0}} = \\frac{V_{p0} + \\delta V_{p} + V_{s0} + \\delta V_{s}}{(V_{s0} + \\delta V_{s}) . (V_{p0} + \\delta V_{p})} . H_{T}\n",
    "$$"
   ]
  },
  {
   "cell_type": "markdown",
   "metadata": {},
   "source": [
    "$$\n",
    "H_{T} = H_{A}^{(Ppds)} . \\frac{V_{p0} + V_{s0}}{V_{p0} . V_{s0}} . \\frac{(V_{s0} + \\delta V_{s}) . (V_{p0} + \\delta V_{p})}{V_{p0} + \\delta V_{p} + V_{s0} + \\delta V_{s}}(14)\n",
    "$$\n",
    "<br>\n",
    "<br>\n",
    "<br>"
   ]
  },
  {
   "cell_type": "markdown",
   "metadata": {},
   "source": [
    "From the resulting true depths of the d410 ($H_{T}^{(4)}$) and d660 ($H_{T}^{(6)}$) and the mean velocities above them ($V_{p}^{(4)}$,$V_{p}^{(6)}$,$V_{s}^{(4)}$, and $V_{s}^{(6)}$), the velocity anomalies of the MTZ ($\\delta V_{p}^{(M)}$ and $\\delta V_{s}^{(M)}$) be found using Eq. (8):"
   ]
  },
  {
   "cell_type": "markdown",
   "metadata": {},
   "source": [
    "$$\n",
    "\\frac{\\delta V_{s}^{(M)}}{V_{s0}^{(M)}}  = \\gamma  \\frac{\\delta V_{p}^{(M)}}{V_{p0}^{(M)}} (15)\n",
    "$$"
   ]
  },
  {
   "cell_type": "markdown",
   "metadata": {},
   "source": [
    " and the following partitioning relationship of the S- and P-wave differential times, i.e"
   ]
  },
  {
   "cell_type": "markdown",
   "metadata": {},
   "source": [
    "$$\n",
    "\\frac{H_{T}^{(6)}}{V_{s}^{(6)}} - \\frac{H_{T}^{(6)}}{V_{p}^{(6)}} - \\frac{H_{T}^{(4)}}{V_{s}^{(4)}} + \\frac{H_{T}^{(4)}}{V_{p}^{(4)}} = \\frac{H_{T}^{(6)} - H_{T}^{(4)}}{V_{s0}^{(M)} + \\delta V_{s}^{(M)}} - \\frac{H_{T}^{(6)} - H_{T}^{(4)}}{V_{p0}^{(M)} + \\delta V_{p}^{(M)}} (16)\n",
    "$$"
   ]
  },
  {
   "cell_type": "code",
   "execution_count": null,
   "metadata": {},
   "outputs": [],
   "source": []
  }
 ],
 "metadata": {
  "kernelspec": {
   "display_name": "Python 3",
   "language": "python",
   "name": "python3"
  },
  "language_info": {
   "codemirror_mode": {
    "name": "ipython",
    "version": 3
   },
   "file_extension": ".py",
   "mimetype": "text/x-python",
   "name": "python",
   "nbconvert_exporter": "python",
   "pygments_lexer": "ipython3",
   "version": "3.6.4"
  }
 },
 "nbformat": 4,
 "nbformat_minor": 2
}
