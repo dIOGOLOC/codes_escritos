{
 "cells": [
  {
   "cell_type": "code",
   "execution_count": 143,
   "metadata": {},
   "outputs": [
    {
     "name": "stdout",
     "output_type": "stream",
     "text": [
      "Populating the interactive namespace from numpy and matplotlib\n"
     ]
    }
   ],
   "source": [
    "%pylab inline"
   ]
  },
  {
   "cell_type": "code",
   "execution_count": 144,
   "metadata": {},
   "outputs": [],
   "source": [
    "import numpy as np\n",
    "import matplotlib.pyplot as plt\n",
    "import glob"
   ]
  },
  {
   "cell_type": "markdown",
   "metadata": {},
   "source": [
    "# Pasta Arquivos"
   ]
  },
  {
   "cell_type": "code",
   "execution_count": 208,
   "metadata": {},
   "outputs": [],
   "source": [
    "folder = '/home/diogo/dados_doutorado/thuany_plot/modelos/NBPA_g2a8/'\n",
    "sta_1 = folder.split('/')[-2]\n",
    "sta = sta_1.split('_')[0]"
   ]
  },
  {
   "cell_type": "markdown",
   "metadata": {},
   "source": [
    "# RF observada"
   ]
  },
  {
   "cell_type": "code",
   "execution_count": 209,
   "metadata": {},
   "outputs": [],
   "source": [
    "RF_obs_lf_path = sorted(glob.glob(folder+'PRFrftn_lf*'))\n",
    "RF_obs_hf_path = sorted(glob.glob(folder+'PRFrftn_hf*'))"
   ]
  },
  {
   "cell_type": "code",
   "execution_count": 210,
   "metadata": {},
   "outputs": [
    {
     "data": {
      "text/plain": [
       "['/home/diogo/dados_doutorado/thuany_plot/modelos/NBPA_g2a8/PRFrftn_lf02.NBPA',\n",
       " '/home/diogo/dados_doutorado/thuany_plot/modelos/NBPA_g2a8/PRFrftn_lf03.NBPA',\n",
       " '/home/diogo/dados_doutorado/thuany_plot/modelos/NBPA_g2a8/PRFrftn_lf04.NBPA',\n",
       " '/home/diogo/dados_doutorado/thuany_plot/modelos/NBPA_g2a8/PRFrftn_lf05.NBPA',\n",
       " '/home/diogo/dados_doutorado/thuany_plot/modelos/NBPA_g2a8/PRFrftn_lf06.NBPA',\n",
       " '/home/diogo/dados_doutorado/thuany_plot/modelos/NBPA_g2a8/PRFrftn_lf07.NBPA',\n",
       " '/home/diogo/dados_doutorado/thuany_plot/modelos/NBPA_g2a8/PRFrftn_lf08.NBPA']"
      ]
     },
     "execution_count": 210,
     "metadata": {},
     "output_type": "execute_result"
    }
   ],
   "source": [
    "RF_obs_lf_path"
   ]
  },
  {
   "cell_type": "code",
   "execution_count": 211,
   "metadata": {},
   "outputs": [
    {
     "data": {
      "text/plain": [
       "['/home/diogo/dados_doutorado/thuany_plot/modelos/NBPA_g2a8/PRFrftn_hf02.NBPA',\n",
       " '/home/diogo/dados_doutorado/thuany_plot/modelos/NBPA_g2a8/PRFrftn_hf03.NBPA',\n",
       " '/home/diogo/dados_doutorado/thuany_plot/modelos/NBPA_g2a8/PRFrftn_hf04.NBPA',\n",
       " '/home/diogo/dados_doutorado/thuany_plot/modelos/NBPA_g2a8/PRFrftn_hf05.NBPA',\n",
       " '/home/diogo/dados_doutorado/thuany_plot/modelos/NBPA_g2a8/PRFrftn_hf06.NBPA',\n",
       " '/home/diogo/dados_doutorado/thuany_plot/modelos/NBPA_g2a8/PRFrftn_hf07.NBPA',\n",
       " '/home/diogo/dados_doutorado/thuany_plot/modelos/NBPA_g2a8/PRFrftn_hf08.NBPA']"
      ]
     },
     "execution_count": 211,
     "metadata": {},
     "output_type": "execute_result"
    }
   ],
   "source": [
    "RF_obs_hf_path"
   ]
  },
  {
   "cell_type": "code",
   "execution_count": 212,
   "metadata": {},
   "outputs": [],
   "source": [
    "RF_obs_lf_file = []\n",
    "for i,j in enumerate(RF_obs_lf_path):\n",
    "    RF_obs_lf_file.append(np.genfromtxt(j))\n",
    "\n",
    "RF_obs_hf_file = []\n",
    "for i,j in enumerate(RF_obs_hf_path):\n",
    "    RF_obs_hf_file.append(np.genfromtxt(j))"
   ]
  },
  {
   "cell_type": "code",
   "execution_count": 213,
   "metadata": {},
   "outputs": [],
   "source": [
    "RF_obs_lf_time = [[]]*len(RF_obs_lf_file)\n",
    "RF_obs_lf_data = [[]]*len(RF_obs_lf_file)\n",
    "\n",
    "for i,j in enumerate(RF_obs_lf_file):\n",
    "    RF_obs_lf_time[i] = [k[0] for l,k in enumerate(j)]\n",
    "    RF_obs_lf_data[i] = [k[1] for l,k in enumerate(j)]\n",
    "            \n",
    "RF_obs_hf_time = [[]]*len(RF_obs_hf_file)\n",
    "RF_obs_hf_data = [[]]*len(RF_obs_hf_file)\n",
    "\n",
    "for i,j in enumerate(RF_obs_hf_file):\n",
    "    for l,k in enumerate(j):\n",
    "            RF_obs_hf_time[i] = [k[0] for l,k in enumerate(j)]\n",
    "            RF_obs_hf_data[i] = [k[1] for l,k in enumerate(j)]"
   ]
  },
  {
   "cell_type": "markdown",
   "metadata": {},
   "source": [
    "# RF calculada"
   ]
  },
  {
   "cell_type": "code",
   "execution_count": 214,
   "metadata": {},
   "outputs": [],
   "source": [
    "RF_syn_hf_lf_path = sorted(glob.glob(folder+'OUT/PDF.PRF.syn.out.*'))"
   ]
  },
  {
   "cell_type": "code",
   "execution_count": 215,
   "metadata": {},
   "outputs": [
    {
     "data": {
      "text/plain": [
       "['/home/diogo/dados_doutorado/thuany_plot/modelos/NBPA_g2a8/OUT/PDF.PRF.syn.out.1',\n",
       " '/home/diogo/dados_doutorado/thuany_plot/modelos/NBPA_g2a8/OUT/PDF.PRF.syn.out.2',\n",
       " '/home/diogo/dados_doutorado/thuany_plot/modelos/NBPA_g2a8/OUT/PDF.PRF.syn.out.3',\n",
       " '/home/diogo/dados_doutorado/thuany_plot/modelos/NBPA_g2a8/OUT/PDF.PRF.syn.out.4',\n",
       " '/home/diogo/dados_doutorado/thuany_plot/modelos/NBPA_g2a8/OUT/PDF.PRF.syn.out.5',\n",
       " '/home/diogo/dados_doutorado/thuany_plot/modelos/NBPA_g2a8/OUT/PDF.PRF.syn.out.6',\n",
       " '/home/diogo/dados_doutorado/thuany_plot/modelos/NBPA_g2a8/OUT/PDF.PRF.syn.out.7',\n",
       " '/home/diogo/dados_doutorado/thuany_plot/modelos/NBPA_g2a8/OUT/PDF.PRF.syn.out.8',\n",
       " '/home/diogo/dados_doutorado/thuany_plot/modelos/NBPA_g2a8/OUT/PDF.PRF.syn.out.9',\n",
       " '/home/diogo/dados_doutorado/thuany_plot/modelos/NBPA_g2a8/OUT/PDF.PRF.syn.out.\\uf021']"
      ]
     },
     "execution_count": 215,
     "metadata": {},
     "output_type": "execute_result"
    }
   ],
   "source": [
    "RF_syn_hf_lf_path"
   ]
  },
  {
   "cell_type": "code",
   "execution_count": 182,
   "metadata": {},
   "outputs": [],
   "source": [
    "#RF_syn_lf_path = RF_syn_hf_lf_path[::2]\n",
    "RF_syn_lf_path = RF_syn_hf_lf_path[:int(len(RF_syn_hf_lf_path)/2)]"
   ]
  },
  {
   "cell_type": "code",
   "execution_count": 183,
   "metadata": {},
   "outputs": [],
   "source": [
    "#RF_syn_hf_path = RF_syn_hf_lf_path[1::2]\n",
    "RF_syn_hf_path = RF_syn_hf_lf_path[int(len(RF_syn_hf_lf_path)/2):]"
   ]
  },
  {
   "cell_type": "code",
   "execution_count": 184,
   "metadata": {},
   "outputs": [],
   "source": [
    "RF_syn_lf_file = []\n",
    "for i,j in enumerate(RF_syn_lf_path):\n",
    "    RF_syn_lf_file.append(np.genfromtxt(j))\n",
    "    \n",
    "RF_syn_hf_file = []\n",
    "for i,j in enumerate(RF_syn_hf_path):\n",
    "    RF_syn_hf_file.append(np.genfromtxt(j))"
   ]
  },
  {
   "cell_type": "code",
   "execution_count": 185,
   "metadata": {},
   "outputs": [],
   "source": [
    "RF_syn_lf_time = [[]]*len(RF_syn_lf_path)\n",
    "RF_syn_lf_data = [[]]*len(RF_syn_lf_path)\n",
    "\n",
    "for i,j in enumerate(RF_syn_lf_file):\n",
    "    RF_syn_lf_time[i] = [k[0] for l,k in enumerate(j) if k[2] != 0 ]\n",
    "    RF_syn_lf_data[i] = [k[1] for l,k in enumerate(j) if k[2] != 0 ]\n",
    "            \n",
    "RF_syn_hf_time = [[]]*len(RF_syn_hf_file)\n",
    "RF_syn_hf_data = [[]]*len(RF_syn_hf_file)\n",
    "\n",
    "for i,j in enumerate(RF_syn_hf_file):\n",
    "    RF_syn_hf_time[i] = [k[0] for l,k in enumerate(j) if k[2] != 0 ]\n",
    "    RF_syn_hf_data[i] = [k[1] for l,k in enumerate(j) if k[2] != 0 ]"
   ]
  },
  {
   "cell_type": "markdown",
   "metadata": {},
   "source": [
    "# SWD calculada"
   ]
  },
  {
   "cell_type": "code",
   "execution_count": 186,
   "metadata": {},
   "outputs": [],
   "source": [
    "SWD_syn_path = sorted(glob.glob(folder+'OUT/PDF.RGV.syn.*'))"
   ]
  },
  {
   "cell_type": "code",
   "execution_count": 187,
   "metadata": {},
   "outputs": [],
   "source": [
    "SWD_syn_file = np.genfromtxt(SWD_syn_path[0])"
   ]
  },
  {
   "cell_type": "code",
   "execution_count": 188,
   "metadata": {},
   "outputs": [],
   "source": [
    "SWD_syn_time = []\n",
    "SWD_syn_data = []\n",
    "\n",
    "for i,j in enumerate(SWD_syn_file):\n",
    "    if j[2] != 0:\n",
    "        SWD_syn_time.append(j[0])\n",
    "        SWD_syn_data.append(j[1])"
   ]
  },
  {
   "cell_type": "markdown",
   "metadata": {},
   "source": [
    "# SWD observada"
   ]
  },
  {
   "cell_type": "code",
   "execution_count": 189,
   "metadata": {},
   "outputs": [],
   "source": [
    "SWD_obs_file = glob.glob(folder+'RGV*')"
   ]
  },
  {
   "cell_type": "code",
   "execution_count": 190,
   "metadata": {},
   "outputs": [],
   "source": [
    "SWD_obs_time = np.genfromtxt(SWD_obs_file[0])[:,0]\n",
    "SWD_obs_data = np.genfromtxt(SWD_obs_file[0])[:,1]"
   ]
  },
  {
   "cell_type": "markdown",
   "metadata": {},
   "source": [
    "# PDF Vs Model "
   ]
  },
  {
   "cell_type": "code",
   "execution_count": 191,
   "metadata": {},
   "outputs": [],
   "source": [
    "PDF_Vs_path = glob.glob(folder+'OUT/*_vs*')"
   ]
  },
  {
   "cell_type": "code",
   "execution_count": 192,
   "metadata": {},
   "outputs": [],
   "source": [
    "PDF_Vs_file = np.genfromtxt(PDF_Vs_path[0])"
   ]
  },
  {
   "cell_type": "code",
   "execution_count": 193,
   "metadata": {},
   "outputs": [],
   "source": [
    "PDF_Vs_depth = []\n",
    "PDF_Vs_data = []\n",
    "\n",
    "for i,j in enumerate(PDF_Vs_file):\n",
    "    if j[2] != 0:\n",
    "        PDF_Vs_depth.append(j[0]*(-1))\n",
    "        PDF_Vs_data.append(j[1])"
   ]
  },
  {
   "cell_type": "markdown",
   "metadata": {},
   "source": [
    "# PDF Vs e VpVs AVG "
   ]
  },
  {
   "cell_type": "code",
   "execution_count": 194,
   "metadata": {},
   "outputs": [],
   "source": [
    "PDF_Vs_AVG_path = glob.glob(folder+'OUT/*AVG*')"
   ]
  },
  {
   "cell_type": "code",
   "execution_count": 195,
   "metadata": {},
   "outputs": [],
   "source": [
    "PDF_Vs_AVG_file = np.genfromtxt(PDF_Vs_AVG_path[0])"
   ]
  },
  {
   "cell_type": "code",
   "execution_count": 196,
   "metadata": {},
   "outputs": [],
   "source": [
    "PDF_Vs_AVG_depth = []\n",
    "PDF_Vs_AVG_data = []\n",
    "PDF_Vs_AVG_erro = []\n",
    "PDF_VpVs_AVG_data = []\n",
    "PDF_VpVs_AVG_erro = []\n",
    "\n",
    "for i,j in enumerate(PDF_Vs_AVG_file):\n",
    "        PDF_Vs_AVG_depth.append(j[0]*(-1))\n",
    "        PDF_Vs_AVG_data.append(j[1])\n",
    "        PDF_Vs_AVG_erro.append(j[2])\n",
    "        PDF_VpVs_AVG_data.append(j[3])\n",
    "        PDF_VpVs_AVG_erro.append(j[4])"
   ]
  },
  {
   "cell_type": "code",
   "execution_count": 197,
   "metadata": {},
   "outputs": [],
   "source": [
    "PDF_Vs_AVG_data_sigma_mais = []\n",
    "PDF_Vs_AVG_data_sigma_menos = []\n",
    "PDF_VpVs_AVG_data_sigma_mais = []\n",
    "PDF_VpVs_AVG_data_sigma_menos = []\n",
    "for i,j in enumerate(PDF_Vs_AVG_data):\n",
    "    PDF_Vs_AVG_data_sigma_mais.append(j + 3*PDF_Vs_AVG_erro[i])\n",
    "    PDF_Vs_AVG_data_sigma_menos.append(j - 3*PDF_Vs_AVG_erro[i])\n",
    "    PDF_VpVs_AVG_data_sigma_mais.append(PDF_VpVs_AVG_data[i] + PDF_VpVs_AVG_erro[i])\n",
    "    PDF_VpVs_AVG_data_sigma_menos.append(PDF_VpVs_AVG_data[i] - PDF_VpVs_AVG_erro[i])"
   ]
  },
  {
   "cell_type": "markdown",
   "metadata": {},
   "source": [
    "# Rosana Vs Model "
   ]
  },
  {
   "cell_type": "code",
   "execution_count": 198,
   "metadata": {},
   "outputs": [],
   "source": [
    "Model_Vs_path = glob.glob(folder+'*model.6.*')"
   ]
  },
  {
   "cell_type": "code",
   "execution_count": 199,
   "metadata": {},
   "outputs": [],
   "source": [
    "Model_Vs_depth = np.genfromtxt(Model_Vs_path[0],usecols=[1])\n",
    "Model_Vs_data_str = np.genfromtxt(Model_Vs_path[0],dtype='str',usecols=[0])"
   ]
  },
  {
   "cell_type": "code",
   "execution_count": 200,
   "metadata": {},
   "outputs": [],
   "source": [
    "Model_Vs_data = []\n",
    "for i,j in enumerate(Model_Vs_data_str):\n",
    "    Model_Vs_data.append(float(j[:-5]))"
   ]
  },
  {
   "cell_type": "markdown",
   "metadata": {},
   "source": [
    "# PDF VpVs Model "
   ]
  },
  {
   "cell_type": "code",
   "execution_count": 201,
   "metadata": {},
   "outputs": [],
   "source": [
    "PDF_VpVs_path = glob.glob(folder+'OUT/*_vpvs*')"
   ]
  },
  {
   "cell_type": "code",
   "execution_count": 202,
   "metadata": {},
   "outputs": [],
   "source": [
    "PDF_VpVs_file = np.genfromtxt(PDF_VpVs_path[0])"
   ]
  },
  {
   "cell_type": "code",
   "execution_count": 203,
   "metadata": {},
   "outputs": [],
   "source": [
    "PDF_VpVs_depth = []\n",
    "PDF_VpVs_data = []\n",
    "\n",
    "for i,j in enumerate(PDF_VpVs_file):\n",
    "    if j[2] != 0:\n",
    "        PDF_VpVs_depth.append(j[0]*(-1))\n",
    "        PDF_VpVs_data.append(j[1])"
   ]
  },
  {
   "cell_type": "markdown",
   "metadata": {},
   "source": [
    "## Gráficos "
   ]
  },
  {
   "cell_type": "code",
   "execution_count": 204,
   "metadata": {},
   "outputs": [
    {
     "ename": "IndexError",
     "evalue": "list index out of range",
     "output_type": "error",
     "traceback": [
      "\u001b[0;31m---------------------------------------------------------------------------\u001b[0m",
      "\u001b[0;31mIndexError\u001b[0m                                Traceback (most recent call last)",
      "\u001b[0;32m<ipython-input-204-f401ed4cdf88>\u001b[0m in \u001b[0;36m<module>\u001b[0;34m()\u001b[0m\n\u001b[1;32m      5\u001b[0m \u001b[0;32mfor\u001b[0m \u001b[0mi\u001b[0m\u001b[0;34m,\u001b[0m\u001b[0mj\u001b[0m \u001b[0;32min\u001b[0m \u001b[0menumerate\u001b[0m\u001b[0;34m(\u001b[0m\u001b[0mRF_obs_lf_time\u001b[0m\u001b[0;34m)\u001b[0m\u001b[0;34m:\u001b[0m\u001b[0;34m\u001b[0m\u001b[0m\n\u001b[1;32m      6\u001b[0m     \u001b[0max1\u001b[0m\u001b[0;34m.\u001b[0m\u001b[0mplot\u001b[0m\u001b[0;34m(\u001b[0m\u001b[0mRF_obs_lf_time\u001b[0m\u001b[0;34m[\u001b[0m\u001b[0mi\u001b[0m\u001b[0;34m]\u001b[0m\u001b[0;34m,\u001b[0m\u001b[0mnp\u001b[0m\u001b[0;34m.\u001b[0m\u001b[0marray\u001b[0m\u001b[0;34m(\u001b[0m\u001b[0mRF_obs_lf_data\u001b[0m\u001b[0;34m[\u001b[0m\u001b[0mi\u001b[0m\u001b[0;34m]\u001b[0m\u001b[0;34m)\u001b[0m\u001b[0;34m+\u001b[0m\u001b[0mi\u001b[0m\u001b[0;34m,\u001b[0m\u001b[0;34m'k'\u001b[0m\u001b[0;34m,\u001b[0m\u001b[0mlw\u001b[0m\u001b[0;34m=\u001b[0m\u001b[0;36m4\u001b[0m\u001b[0;34m,\u001b[0m\u001b[0mlabel\u001b[0m\u001b[0;34m=\u001b[0m\u001b[0;34m'Obs'\u001b[0m\u001b[0;34m)\u001b[0m\u001b[0;34m\u001b[0m\u001b[0m\n\u001b[0;32m----> 7\u001b[0;31m     \u001b[0max1\u001b[0m\u001b[0;34m.\u001b[0m\u001b[0mplot\u001b[0m\u001b[0;34m(\u001b[0m\u001b[0mRF_syn_lf_time\u001b[0m\u001b[0;34m[\u001b[0m\u001b[0mi\u001b[0m\u001b[0;34m]\u001b[0m\u001b[0;34m,\u001b[0m\u001b[0mnp\u001b[0m\u001b[0;34m.\u001b[0m\u001b[0marray\u001b[0m\u001b[0;34m(\u001b[0m\u001b[0mRF_syn_lf_data\u001b[0m\u001b[0;34m[\u001b[0m\u001b[0mi\u001b[0m\u001b[0;34m]\u001b[0m\u001b[0;34m)\u001b[0m\u001b[0;34m+\u001b[0m\u001b[0mi\u001b[0m\u001b[0;34m,\u001b[0m\u001b[0;34m'r'\u001b[0m\u001b[0;34m,\u001b[0m\u001b[0mlw\u001b[0m\u001b[0;34m=\u001b[0m\u001b[0;36m2\u001b[0m\u001b[0;34m,\u001b[0m\u001b[0mlabel\u001b[0m\u001b[0;34m=\u001b[0m\u001b[0;34m'Best'\u001b[0m\u001b[0;34m)\u001b[0m\u001b[0;34m\u001b[0m\u001b[0m\n\u001b[0m\u001b[1;32m      8\u001b[0m \u001b[0;31m#ax1.legend(loc=0)\u001b[0m\u001b[0;34m\u001b[0m\u001b[0;34m\u001b[0m\u001b[0m\n\u001b[1;32m      9\u001b[0m \u001b[0max1\u001b[0m\u001b[0;34m.\u001b[0m\u001b[0mset_xlim\u001b[0m\u001b[0;34m(\u001b[0m\u001b[0;34m-\u001b[0m\u001b[0;36m5\u001b[0m\u001b[0;34m,\u001b[0m\u001b[0;36m40\u001b[0m\u001b[0;34m)\u001b[0m\u001b[0;34m\u001b[0m\u001b[0m\n",
      "\u001b[0;31mIndexError\u001b[0m: list index out of range"
     ]
    },
    {
     "data": {
      "image/png": "[encoded data removed]",
      "text/plain": [
       "<matplotlib.figure.Figure at 0x7f9fcb5089e8>"
      ]
     },
     "metadata": {},
     "output_type": "display_data"
    }
   ],
   "source": [
    "fig = plt.figure(figsize=(20,10))\n",
    "gs = plt.GridSpec(2, 4,height_ratios=[2,1],wspace=0.5,hspace=0.2)\n",
    "\n",
    "ax1 = plt.subplot(gs[0, :1])\n",
    "for i,j in enumerate(RF_obs_lf_time):\n",
    "    ax1.plot(RF_obs_lf_time[i],np.array(RF_obs_lf_data[i])+i,'k',lw=4,label='Obs')\n",
    "    ax1.plot(RF_syn_lf_time[i],np.array(RF_syn_lf_data[i])+i,'r',lw=2,label='Best')\n",
    "#ax1.legend(loc=0)\n",
    "ax1.set_xlim(-5,40)\n",
    "ax1.set_xlabel('Times (s)')\n",
    "ax1.set_ylabel('Amplitude')\n",
    "ax1.text(0.5, 0.95,'a = 1.0', horizontalalignment='center',verticalalignment='center',transform=ax1.transAxes)\n",
    "ax1.set_yticks([])\n",
    "\n",
    "\n",
    "ax2 = plt.subplot(gs[0, 1:2])\n",
    "for i,j in enumerate(RF_obs_hf_time):\n",
    "    ax2.plot(RF_obs_hf_time[i],np.array(RF_obs_hf_data[i])+i,'k',lw=4,label='Obs')\n",
    "    ax2.plot(RF_syn_hf_time[i],np.array(RF_syn_hf_data[i])+i,'r',lw=2,label='Best')\n",
    "#ax2.legend(loc=0)\n",
    "ax2.set_xlim(-5,40)\n",
    "ax2.set_xlabel('Times (s)')\n",
    "ax2.set_ylabel('Amplitude')\n",
    "ax2.text(0.5, 0.95,'a = 2.5', horizontalalignment='center',verticalalignment='center',transform=ax2.transAxes)\n",
    "ax2.set_yticks([])\n",
    "\n",
    "\n",
    "ax5 = plt.subplot(gs[1, :2])\n",
    "ax5.plot(SWD_syn_time,SWD_syn_data,'-r',label='Best')\n",
    "ax5.plot(SWD_obs_time,SWD_obs_data,'^k',label='Obs')\n",
    "ax5.legend(loc=4)\n",
    "ax5.set_xlabel('Period (s)')\n",
    "ax5.set_ylabel('GV (km/s)')\n",
    "    \n",
    "ax3 = plt.subplot(gs[:, 2])\n",
    "ax3.plot(Model_Vs_data,Model_Vs_depth,'--k',label='Lin. Model')\n",
    "ax3.plot(PDF_Vs_AVG_data,PDF_Vs_AVG_depth,'b',label='Mean Model')\n",
    "ax3.plot(PDF_Vs_data,PDF_Vs_depth,'r',label='MAP Model')\n",
    "ax3.fill_betweenx(PDF_Vs_AVG_depth,PDF_Vs_AVG_data_sigma_menos,PDF_Vs_AVG_data_sigma_mais,facecolor='grey',label='3'+r'$\\sigma$')\n",
    "ax3.legend(loc=3)\n",
    "ax3.set_ylim(-90,0)\n",
    "ax3.set_xlim(2,5.5)\n",
    "ax3.set_xlabel('Shear-wave Velocity (km/s)')\n",
    "ax3.set_ylabel('Depth (km)')\n",
    "\n",
    "ax4 = plt.subplot(gs[:, 3])  \n",
    "ax4.plot(PDF_VpVs_data,PDF_VpVs_depth,'sr',label='MAP Vp/Vs',markersize=2)\n",
    "ax4.plot(PDF_VpVs_AVG_data,PDF_Vs_AVG_depth,'sb',label='Mean Vp/Vs',markersize=2)\n",
    "ax4.fill_betweenx(PDF_Vs_AVG_depth,PDF_VpVs_AVG_data_sigma_menos,PDF_VpVs_AVG_data_sigma_mais,facecolor='gainsboro',label=r'$\\sigma$')\n",
    "ax4.legend(loc=0)\n",
    "ax4.set_ylim(-90,0)\n",
    "ax4.set_xlabel('Vp/Vs ratio')\n",
    "ax4.set_ylabel('Depth (km)')\n",
    "\n",
    "fig.text(0.5,0.9,sta,fontsize=20)\n",
    "fig.savefig(folder+sta+'_ALL.pdf',dpi=300)"
   ]
  },
  {
   "cell_type": "code",
   "execution_count": null,
   "metadata": {},
   "outputs": [],
   "source": []
  },
  {
   "cell_type": "code",
   "execution_count": null,
   "metadata": {},
   "outputs": [],
   "source": []
  }
 ],
 "metadata": {
  "kernelspec": {
   "display_name": "Python 3",
   "language": "python",
   "name": "python3"
  },
  "language_info": {
   "codemirror_mode": {
    "name": "ipython",
    "version": 3
   },
   "file_extension": ".py",
   "mimetype": "text/x-python",
   "name": "python",
   "nbconvert_exporter": "python",
   "pygments_lexer": "ipython3",
   "version": "3.6.3"
  }
 },
 "nbformat": 4,
 "nbformat_minor": 2
}
