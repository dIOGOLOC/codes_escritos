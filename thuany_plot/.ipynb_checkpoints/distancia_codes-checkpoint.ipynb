{
 "cells": [
  {
   "cell_type": "code",
   "execution_count": 1,
   "metadata": {},
   "outputs": [],
   "source": [
    "import numpy as np\n",
    "import matplotlib.pyplot as plt\n",
    "import glob"
   ]
  },
  {
   "cell_type": "markdown",
   "metadata": {},
   "source": [
    "## Importando a lista com as coordenadas das estações:"
   ]
  },
  {
   "cell_type": "code",
   "execution_count": 2,
   "metadata": {},
   "outputs": [],
   "source": [
    "filename_sta = '/media/diogo/SISMOVICK/completestations.txt'"
   ]
  },
  {
   "cell_type": "code",
   "execution_count": 14,
   "metadata": {},
   "outputs": [],
   "source": [
    "sta_long_lat = np.genfromtxt(filename_sta,usecols=[0,1])"
   ]
  },
  {
   "cell_type": "code",
   "execution_count": 15,
   "metadata": {},
   "outputs": [],
   "source": [
    "sta_name = np.genfromtxt(filename_sta,usecols=[2],dtype='str')"
   ]
  },
  {
   "cell_type": "code",
   "execution_count": 19,
   "metadata": {},
   "outputs": [],
   "source": [
    "sta_lst = []\n",
    "for i,j in enumerate(sta_long_lat):\n",
    "    sta_lst.append([j[0],j[1],sta_name[i]])"
   ]
  },
  {
   "cell_type": "markdown",
   "metadata": {},
   "source": [
    "## Importando arquivos txt com os períodos"
   ]
  },
  {
   "cell_type": "code",
   "execution_count": 28,
   "metadata": {},
   "outputs": [],
   "source": [
    "filename_vel = '/media/diogo/SISMOVICK/6.sec.grd.txt'"
   ]
  },
  {
   "cell_type": "code",
   "execution_count": 29,
   "metadata": {},
   "outputs": [],
   "source": [
    "xyz = np.genfromtxt(filename_vel)"
   ]
  },
  {
   "cell_type": "markdown",
   "metadata": {},
   "source": [
    "## Calculando a distância entre os pontos do grid  e as estações:"
   ]
  },
  {
   "cell_type": "code",
   "execution_count": 54,
   "metadata": {},
   "outputs": [],
   "source": [
    "dist_lst = [[]]*len(sta_lst)\n",
    "for k,l in enumerate(sta_lst):\n",
    "        dist_lst[k] = [[np.sqrt( (l[0] - j[0])**2 + (l[1] - j[1])**2 ),j[0],j[1],j[2]] for i,j in enumerate(xyz)]"
   ]
  },
  {
   "cell_type": "markdown",
   "metadata": {},
   "source": [
    "## Calculando os 4 pontos mais próximos de cada estaçõe:"
   ]
  },
  {
   "cell_type": "code",
   "execution_count": 65,
   "metadata": {},
   "outputs": [],
   "source": [
    "sort_dist = [[]]*len(sta_lst)\n",
    "for i,j in enumerate(dist_lst):\n",
    "    sort_dist[i] = np.argsort(j,axis=0)"
   ]
  },
  {
   "cell_type": "code",
   "execution_count": 93,
   "metadata": {},
   "outputs": [],
   "source": [
    "min_dist = [[]]*len(sort_dist)\n",
    "for i,j in enumerate(sort_dist):\n",
    "    min_dist[i] = [dist_lst[i][l[0]] for k,l in enumerate(j[:4])]"
   ]
  },
  {
   "cell_type": "markdown",
   "metadata": {},
   "source": [
    "## Exportando resultados"
   ]
  },
  {
   "cell_type": "code",
   "execution_count": 107,
   "metadata": {},
   "outputs": [],
   "source": [
    "result_file = '/home/diogo/Documents/result_'+filename_vel.split('/')[-1]"
   ]
  },
  {
   "cell_type": "code",
   "execution_count": 136,
   "metadata": {},
   "outputs": [],
   "source": [
    "thefile = open(result_file, 'w')\n",
    "for i,j in enumerate(min_dist):\n",
    "    for k,l in enumerate(j):\n",
    "        thefile.write(sta_name[i]+'('+str(sta_long_lat[i][0])+','+str(sta_long_lat[i][1])+')\\n'+str(j[k][1])+' '+str(j[k][2])+' '+str(j[k][3])+'\\n')\n",
    "thefile.close()"
   ]
  },
  {
   "cell_type": "code",
   "execution_count": null,
   "metadata": {},
   "outputs": [],
   "source": []
  }
 ],
 "metadata": {
  "kernelspec": {
   "display_name": "Python 3",
   "language": "python",
   "name": "python3"
  },
  "language_info": {
   "codemirror_mode": {
    "name": "ipython",
    "version": 3
   },
   "file_extension": ".py",
   "mimetype": "text/x-python",
   "name": "python",
   "nbconvert_exporter": "python",
   "pygments_lexer": "ipython3",
   "version": "3.6.4"
  }
 },
 "nbformat": 4,
 "nbformat_minor": 2
}
