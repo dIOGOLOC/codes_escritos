{
 "cells": [
  {
   "cell_type": "markdown",
   "id": "3569cdce",
   "metadata": {},
   "source": [
    "\n",
    "Script to estimate probabilistic power spectral densities for \n",
    "one combination of network/station/location/channel/sampling_rate.\n",
    "(https://docs.obspy.org/tutorial/code_snippets/probabilistic_power_spectral_density.html)\n",
    "\n",
    "Calculations are based on the routine used by [McNamara2004]:\n",
    "McNamara, D. E. and Buland, R. P. (2004),\n",
    "Ambient Noise Levels in the Continental United States,\n",
    "Bulletin of the Seismological Society of America, 94 (4), 1517-1527.\n",
    "http://www.bssaonline.org/content/94/4/1517.abstract. \n",
    "\n",
    "\n",
    "For information on New High/Low Noise Model see [Peterson1993]:\n",
    "Peterson, J. (1993),\n",
    "Observations and Modeling of Seismic Background Noise,\n",
    "U.S. Geological Survey open-file report 93-322, Albuquerque, N.M.\n",
    "http://ehp3-earthquake.wr.usgs.gov/regional/asl/pubs/files/ofr93-322.pdf\n",
    "\n"
   ]
  },
  {
   "cell_type": "markdown",
   "id": "3b18695f",
   "metadata": {},
   "source": [
    "# Importando as livrarias "
   ]
  },
  {
   "cell_type": "code",
   "execution_count": 1,
   "id": "4ea4f7b6",
   "metadata": {},
   "outputs": [],
   "source": [
    "import obspy \n",
    "import numpy as np\n",
    "from obspy import read, Stream,read_inventory\n",
    "import os\n",
    "import glob\n",
    "from obspy import read_inventory\n",
    "from obspy.signal import PPSD\n",
    "from obspy.imaging.cm import pqlx"
   ]
  },
  {
   "cell_type": "markdown",
   "id": "8040c585",
   "metadata": {},
   "source": [
    "------\n",
    "\n",
    "This is an example of configuration file, wherein global paths and parameters\n",
    "related to the analysis of quality of seismological data are defined. \n",
    "\n",
    "The parameters are divided in several sections:\n",
    "- [PATH]                : paths to input/output folders\n",
    "- [PPSD]                 : parameters to estimate PPSD data\n",
    "- [CLIENT]               : parameters to request xml file\n",
    "\n",
    "Before using the scripts, you should at least make sure that the paths in \n",
    "section [paths] are consistent with your own files and folders organization. \n",
    "\n",
    "-------"
   ]
  },
  {
   "cell_type": "markdown",
   "id": "c7f8caea",
   "metadata": {},
   "source": [
    "# PATH\n",
    "\n"
   ]
  },
  {
   "cell_type": "code",
   "execution_count": 2,
   "id": "2fe73bdd",
   "metadata": {},
   "outputs": [],
   "source": [
    "#-------\n",
    "#INPUTs\n",
    "\n",
    "# directory of raw files\n",
    "DIR_DATA = '/home/dIOGOLOC/dados_posdoc/ON_MAR/dados_NANOMETRICS_test/Projeto6Volumes/9822-9283/2023/'\n",
    "\n",
    "# XML File\n",
    "XML_FILE = '/home/dIOGOLOC/dados_posdoc/ON_MAR/dados_NANOMETRICS_test/Projeto6Volumes/9822-9283/responses/ON.S2283_20230920T181425Z.xml'\n",
    "\n",
    "#-------\n",
    "#OUTPUTs\n",
    "\n",
    "#Directory to save Figures\n",
    "OUTPUT_FIGURE_DIR = '/home/dIOGOLOC/dados_posdoc/ON_MAR/dados_NANOMETRICS_test/OUTPUT/FIGURES/'\n",
    "\n",
    "#Directory to save PSD\n",
    "OUTPUT_PSD_DIR = '/home/dIOGOLOC/dados_posdoc/ON_MAR/dados_NANOMETRICS_test/OUTPUT/PPSD/'"
   ]
  },
  {
   "cell_type": "markdown",
   "id": "d6aafe47",
   "metadata": {},
   "source": [
    "# PPSD\n"
   ]
  },
  {
   "cell_type": "code",
   "execution_count": 3,
   "id": "34efd7cc",
   "metadata": {},
   "outputs": [],
   "source": [
    "# Initial date\n",
    "INITIAL_DATE = 2023,9,1\n",
    "\n",
    "# Final date\n",
    "FINAL_DATE = 2023,9,31\n",
    "\n",
    "# Restricts the data that is included in the stack by time of day and weekday:\n",
    "    # Monday is 1, Sunday is 7, -1 for any day of week. \n",
    "    \n",
    "    # For example, using time_of_weekday=[(-1, 22, 24)] \n",
    "    # only individual spectra that have a starttime in between 10pm and 12am are used in the stack for all days of week\n",
    "    # time_of_weekday=[(TIME_OF_WEEKDAY_DAY, TIME_OF_WEEKDAY_START_HOUR, TIME_OF_WEEKDAY_FINAL_HOUR)])\n",
    "    \n",
    "TIME_OF_WEEKDAY_DAY = -1\n",
    "TIME_OF_WEEKDAY_START_HOUR = 0\n",
    "TIME_OF_WEEKDAY_FINAL_HOUR = 24\n",
    "\n",
    "#Maximum and minimum amplitude of the PSD. \n",
    "AMP_PSD_MIN = -155\n",
    "AMP_PSD_MAX = -80"
   ]
  },
  {
   "cell_type": "markdown",
   "id": "eda186ca",
   "metadata": {},
   "source": [
    "# Functions"
   ]
  },
  {
   "cell_type": "code",
   "execution_count": 4,
   "id": "d71bd377",
   "metadata": {},
   "outputs": [],
   "source": [
    "def calc_save_PPSD(dataMSEED,file_xml):\n",
    "    '''\n",
    "    \n",
    "    Function to estimate and save probabilistic power spectral densities \n",
    "    for one combination of network/station/location/channel/sampling_rate.\n",
    "        \n",
    "    Args:\n",
    "        dataMSEED (miniseed): daily file record.\n",
    "        file_xml (StationXML): metadata that describes the data collected.\n",
    "        \n",
    "    Returns:\n",
    "        binary file: Probabilistic power spectral densities of daily miniseed file.\n",
    "    \n",
    "    '''\n",
    "    \n",
    "    # Importing XML file\n",
    "    inv = read_inventory(file_xml)\n",
    "    \n",
    "    # Reading MSEED file\n",
    "\n",
    "    st = read(dataMSEED)\n",
    "\n",
    "    time_data = st[0].stats.starttime\n",
    "    time_data_year = '{:04}'.format(time_data.year)\n",
    "    time_data_julday = '{:03}'.format(time_data.julday)\n",
    "    time_data_hour = '{:02}'.format(time_data.hour)\n",
    "    time_data_minute = '{:02}'.format(time_data.minute)\n",
    "\n",
    "    sta_name = st[0].stats.station\n",
    "    sta_channel = st[0].stats.channel\n",
    "        \n",
    "    print('Calculating PPSD: station: '+sta_name+' / channel: '+sta_channel)\n",
    "\n",
    "    ppsd = PPSD(st[0].stats, metadata=inv)\n",
    "    ppsd.add(st)\n",
    "        \n",
    "    os.makedirs(OUTPUT_PSD_DIR+time_data_year+'/'+sta_name+'/'+sta_channel+'.PPSD'+'/',exist_ok=True)\n",
    "    ppsd.save_npz(OUTPUT_PSD_DIR+time_data_year+'/'+sta_name+'/'+sta_channel+'.PPSD'+'/'+sta_name+'..'+sta_channel+'.PPSD'+'.'+time_data_year+'.'+time_data_julday+'.npz')"
   ]
  },
  {
   "cell_type": "code",
   "execution_count": 6,
   "id": "d01d11bc",
   "metadata": {},
   "outputs": [],
   "source": [
    "def plot_PPSD_TOTAL_data(dataPPSD):\n",
    "    '''\n",
    "    \n",
    "    Function to plot and save probabilistic power spectral densities images.\n",
    "        \n",
    "    Args:\n",
    "        dataPPSD (npz): daily binary file.\n",
    "        \n",
    "    Returns:\n",
    "        image: PDF file.\n",
    "    \n",
    "    '''\n",
    "    \n",
    "    os.chdir(dataPPSD)\n",
    "    files = sorted(glob.glob('*.npz'))\n",
    "    ppsd = PPSD.load_npz(files[0],allow_pickle=True)\n",
    "\n",
    "    [ppsd.add_npz(i,allow_pickle=True) for i in files[1:]]\n",
    "    os.makedirs(OUTPUT_FIGURE_DIR+'TOTAL/'+ppsd.station+'/',exist_ok=True)\n",
    "    ppsd.plot_temporal([0.1, 1, 10],filename=OUTPUT_FIGURE_DIR+'TOTAL/'+ppsd.station+'/'+ppsd.station+'.'+ppsd.channel+'.temporal.pdf')\n",
    "    ppsd.plot_spectrogram(filename=OUTPUT_FIGURE_DIR+'TOTAL/'+ppsd.station+'/'+ppsd.station+'.'+ppsd.channel+'.spectrogram.pdf')\n",
    "    ppsd.plot(cmap=pqlx,filename=OUTPUT_FIGURE_DIR+'TOTAL/'+ppsd.station+'/'+ppsd.station+'.'+ppsd.channel+'.pqlx.pdf')"
   ]
  },
  {
   "cell_type": "markdown",
   "id": "7f36f08c",
   "metadata": {},
   "source": [
    "# PPSD: estimation and visualization"
   ]
  },
  {
   "cell_type": "code",
   "execution_count": 7,
   "id": "68a6f1af",
   "metadata": {},
   "outputs": [],
   "source": [
    "# ========================================\n",
    "# Importing data from raw files directory \n",
    "# ========================================\n",
    "\n",
    "data_lista = []\n",
    "\n",
    "for root, dirs, files in os.walk(DIR_DATA):\n",
    "    for name in files:\n",
    "        data_lista.append(os.path.join(root, name))\n",
    "\n",
    "data_lista = sorted(data_lista)"
   ]
  },
  {
   "cell_type": "code",
   "execution_count": 8,
   "id": "b29dcdb9",
   "metadata": {},
   "outputs": [
    {
     "name": "stdout",
     "output_type": "stream",
     "text": [
      "Calculating PPSD: station: S2283 / channel: HHE\n"
     ]
    },
    {
     "name": "stderr",
     "output_type": "stream",
     "text": [
      "/home/dIOGOLOC/programs/anaconda3/lib/python3.10/site-packages/obspy/signal/spectral_estimation.py:968: UserWarning: Error getting response from provided metadata:\n",
      "Exception: No matching response information found.\n",
      "Skipping time segment(s).\n",
      "  warnings.warn(msg)\n"
     ]
    },
    {
     "name": "stdout",
     "output_type": "stream",
     "text": [
      "Calculating PPSD: station: S2283 / channel: HHE\n",
      "Calculating PPSD: station: S2283 / channel: HHN\n"
     ]
    },
    {
     "name": "stderr",
     "output_type": "stream",
     "text": [
      "/home/dIOGOLOC/programs/anaconda3/lib/python3.10/site-packages/obspy/signal/spectral_estimation.py:968: UserWarning: Error getting response from provided metadata:\n",
      "Exception: No matching response information found.\n",
      "Skipping time segment(s).\n",
      "  warnings.warn(msg)\n"
     ]
    },
    {
     "name": "stdout",
     "output_type": "stream",
     "text": [
      "Calculating PPSD: station: S2283 / channel: HHN\n",
      "Calculating PPSD: station: S2283 / channel: HHZ\n"
     ]
    },
    {
     "name": "stderr",
     "output_type": "stream",
     "text": [
      "/home/dIOGOLOC/programs/anaconda3/lib/python3.10/site-packages/obspy/signal/spectral_estimation.py:968: UserWarning: Error getting response from provided metadata:\n",
      "Exception: No matching response information found.\n",
      "Skipping time segment(s).\n",
      "  warnings.warn(msg)\n"
     ]
    },
    {
     "name": "stdout",
     "output_type": "stream",
     "text": [
      "Calculating PPSD: station: S2283 / channel: HHZ\n"
     ]
    }
   ],
   "source": [
    "# ==============\n",
    "#  Get PPSD Data \n",
    "# ==============\n",
    "\n",
    "for i in data_lista:\n",
    "    calc_save_PPSD(i,XML_FILE)"
   ]
  },
  {
   "cell_type": "code",
   "execution_count": 9,
   "id": "fe94c537",
   "metadata": {},
   "outputs": [],
   "source": [
    "# ===========================\n",
    "# Finding stations PPSD data\n",
    "# ===========================\n",
    "\n",
    "datafile_lst = [] \n",
    "for root, dirs, files in os.walk(OUTPUT_PSD_DIR):\n",
    "    for directories in dirs:\n",
    "        datafile_name = os.path.join(root, directories)\n",
    "        if '.PPSD' in datafile_name:\n",
    "            datafile_lst.append(datafile_name+'/')\n",
    "datafile_lstS = sorted(datafile_lst)"
   ]
  },
  {
   "cell_type": "code",
   "execution_count": 10,
   "id": "68eececc",
   "metadata": {},
   "outputs": [
    {
     "data": {
      "text/plain": [
       "['/home/dIOGOLOC/dados_posdoc/ON_MAR/dados_NANOMETRICS_test/OUTPUT/PPSD/2023/S2283/HHE.PPSD/',\n",
       " '/home/dIOGOLOC/dados_posdoc/ON_MAR/dados_NANOMETRICS_test/OUTPUT/PPSD/2023/S2283/HHN.PPSD/',\n",
       " '/home/dIOGOLOC/dados_posdoc/ON_MAR/dados_NANOMETRICS_test/OUTPUT/PPSD/2023/S2283/HHZ.PPSD/']"
      ]
     },
     "execution_count": 10,
     "metadata": {},
     "output_type": "execute_result"
    }
   ],
   "source": [
    "datafile_lstS"
   ]
  },
  {
   "cell_type": "code",
   "execution_count": 11,
   "id": "6bc61364",
   "metadata": {},
   "outputs": [
    {
     "name": "stderr",
     "output_type": "stream",
     "text": [
      "/home/dIOGOLOC/programs/anaconda3/lib/python3.10/site-packages/obspy/signal/spectral_estimation.py:1042: FutureWarning: In the future `np.bool` will be defined as the corresponding NumPy scalar.\n",
      "  selected = np.ones(len(times_all), dtype=np.bool)\n"
     ]
    },
    {
     "ename": "AttributeError",
     "evalue": "module 'numpy' has no attribute 'bool'.\n`np.bool` was a deprecated alias for the builtin `bool`. To avoid this error in existing code, use `bool` by itself. Doing this will not modify any behavior and is safe. If you specifically wanted the numpy scalar type, use `np.bool_` here.\nThe aliases was originally deprecated in NumPy 1.20; for more details and guidance see the original release note at:\n    https://numpy.org/devdocs/release/1.20.0-notes.html#deprecations",
     "output_type": "error",
     "traceback": [
      "\u001b[0;31m---------------------------------------------------------------------------\u001b[0m",
      "\u001b[0;31mAttributeError\u001b[0m                            Traceback (most recent call last)",
      "Cell \u001b[0;32mIn[11], line 6\u001b[0m\n\u001b[1;32m      1\u001b[0m \u001b[38;5;66;03m# ================\u001b[39;00m\n\u001b[1;32m      2\u001b[0m \u001b[38;5;66;03m#  plot PPSD Data \u001b[39;00m\n\u001b[1;32m      3\u001b[0m \u001b[38;5;66;03m# ================\u001b[39;00m\n\u001b[1;32m      5\u001b[0m \u001b[38;5;28;01mfor\u001b[39;00m i,j \u001b[38;5;129;01min\u001b[39;00m \u001b[38;5;28menumerate\u001b[39m(datafile_lstS):\n\u001b[0;32m----> 6\u001b[0m     \u001b[43mplot_PPSD_TOTAL_data\u001b[49m\u001b[43m(\u001b[49m\u001b[43mj\u001b[49m\u001b[43m)\u001b[49m\n",
      "Cell \u001b[0;32mIn[6], line 22\u001b[0m, in \u001b[0;36mplot_PPSD_TOTAL_data\u001b[0;34m(dataPPSD)\u001b[0m\n\u001b[1;32m     20\u001b[0m ppsd\u001b[38;5;241m.\u001b[39mplot_temporal([\u001b[38;5;241m0.1\u001b[39m, \u001b[38;5;241m1\u001b[39m, \u001b[38;5;241m10\u001b[39m],filename\u001b[38;5;241m=\u001b[39mOUTPUT_FIGURE_DIR\u001b[38;5;241m+\u001b[39m\u001b[38;5;124m'\u001b[39m\u001b[38;5;124mTOTAL/\u001b[39m\u001b[38;5;124m'\u001b[39m\u001b[38;5;241m+\u001b[39mppsd\u001b[38;5;241m.\u001b[39mstation\u001b[38;5;241m+\u001b[39m\u001b[38;5;124m'\u001b[39m\u001b[38;5;124m/\u001b[39m\u001b[38;5;124m'\u001b[39m\u001b[38;5;241m+\u001b[39mppsd\u001b[38;5;241m.\u001b[39mstation\u001b[38;5;241m+\u001b[39m\u001b[38;5;124m'\u001b[39m\u001b[38;5;124m.\u001b[39m\u001b[38;5;124m'\u001b[39m\u001b[38;5;241m+\u001b[39mppsd\u001b[38;5;241m.\u001b[39mchannel\u001b[38;5;241m+\u001b[39m\u001b[38;5;124m'\u001b[39m\u001b[38;5;124m.temporal.pdf\u001b[39m\u001b[38;5;124m'\u001b[39m)\n\u001b[1;32m     21\u001b[0m ppsd\u001b[38;5;241m.\u001b[39mplot_spectrogram(filename\u001b[38;5;241m=\u001b[39mOUTPUT_FIGURE_DIR\u001b[38;5;241m+\u001b[39m\u001b[38;5;124m'\u001b[39m\u001b[38;5;124mTOTAL/\u001b[39m\u001b[38;5;124m'\u001b[39m\u001b[38;5;241m+\u001b[39mppsd\u001b[38;5;241m.\u001b[39mstation\u001b[38;5;241m+\u001b[39m\u001b[38;5;124m'\u001b[39m\u001b[38;5;124m/\u001b[39m\u001b[38;5;124m'\u001b[39m\u001b[38;5;241m+\u001b[39mppsd\u001b[38;5;241m.\u001b[39mstation\u001b[38;5;241m+\u001b[39m\u001b[38;5;124m'\u001b[39m\u001b[38;5;124m.\u001b[39m\u001b[38;5;124m'\u001b[39m\u001b[38;5;241m+\u001b[39mppsd\u001b[38;5;241m.\u001b[39mchannel\u001b[38;5;241m+\u001b[39m\u001b[38;5;124m'\u001b[39m\u001b[38;5;124m.spectrogram.pdf\u001b[39m\u001b[38;5;124m'\u001b[39m)\n\u001b[0;32m---> 22\u001b[0m \u001b[43mppsd\u001b[49m\u001b[38;5;241;43m.\u001b[39;49m\u001b[43mplot\u001b[49m\u001b[43m(\u001b[49m\u001b[43mcmap\u001b[49m\u001b[38;5;241;43m=\u001b[39;49m\u001b[43mpqlx\u001b[49m\u001b[43m,\u001b[49m\u001b[43mfilename\u001b[49m\u001b[38;5;241;43m=\u001b[39;49m\u001b[43mOUTPUT_FIGURE_DIR\u001b[49m\u001b[38;5;241;43m+\u001b[39;49m\u001b[38;5;124;43m'\u001b[39;49m\u001b[38;5;124;43mTOTAL/\u001b[39;49m\u001b[38;5;124;43m'\u001b[39;49m\u001b[38;5;241;43m+\u001b[39;49m\u001b[43mppsd\u001b[49m\u001b[38;5;241;43m.\u001b[39;49m\u001b[43mstation\u001b[49m\u001b[38;5;241;43m+\u001b[39;49m\u001b[38;5;124;43m'\u001b[39;49m\u001b[38;5;124;43m/\u001b[39;49m\u001b[38;5;124;43m'\u001b[39;49m\u001b[38;5;241;43m+\u001b[39;49m\u001b[43mppsd\u001b[49m\u001b[38;5;241;43m.\u001b[39;49m\u001b[43mstation\u001b[49m\u001b[38;5;241;43m+\u001b[39;49m\u001b[38;5;124;43m'\u001b[39;49m\u001b[38;5;124;43m.\u001b[39;49m\u001b[38;5;124;43m'\u001b[39;49m\u001b[38;5;241;43m+\u001b[39;49m\u001b[43mppsd\u001b[49m\u001b[38;5;241;43m.\u001b[39;49m\u001b[43mchannel\u001b[49m\u001b[38;5;241;43m+\u001b[39;49m\u001b[38;5;124;43m'\u001b[39;49m\u001b[38;5;124;43m.pqlx.pdf\u001b[39;49m\u001b[38;5;124;43m'\u001b[39;49m\u001b[43m)\u001b[49m\n",
      "File \u001b[0;32m~/programs/anaconda3/lib/python3.10/site-packages/obspy/signal/spectral_estimation.py:1905\u001b[0m, in \u001b[0;36mPPSD.plot\u001b[0;34m(self, filename, show_coverage, show_histogram, show_percentiles, percentiles, show_noise_models, grid, show, max_percentage, period_lim, show_mode, show_mean, cmap, cumulative, cumulative_number_of_colors, xaxis_frequency, show_earthquakes)\u001b[0m\n\u001b[1;32m   1832\u001b[0m \u001b[38;5;250m\u001b[39m\u001b[38;5;124;03m\"\"\"\u001b[39;00m\n\u001b[1;32m   1833\u001b[0m \u001b[38;5;124;03mPlot the 2D histogram of the current PPSD.\u001b[39;00m\n\u001b[1;32m   1834\u001b[0m \u001b[38;5;124;03mIf a filename is specified the plot is saved to this file, otherwise\u001b[39;00m\n\u001b[0;32m   (...)\u001b[0m\n\u001b[1;32m   1902\u001b[0m \u001b[38;5;124;03m    in Hertz as opposed to the default of period in seconds.\u001b[39;00m\n\u001b[1;32m   1903\u001b[0m \u001b[38;5;124;03m\"\"\"\u001b[39;00m\n\u001b[1;32m   1904\u001b[0m \u001b[38;5;28;01mimport\u001b[39;00m \u001b[38;5;21;01mmatplotlib\u001b[39;00m\u001b[38;5;21;01m.\u001b[39;00m\u001b[38;5;21;01mpyplot\u001b[39;00m \u001b[38;5;28;01mas\u001b[39;00m \u001b[38;5;21;01mplt\u001b[39;00m\n\u001b[0;32m-> 1905\u001b[0m \u001b[38;5;28;43mself\u001b[39;49m\u001b[38;5;241;43m.\u001b[39;49m\u001b[43m__check_histogram\u001b[49m\u001b[43m(\u001b[49m\u001b[43m)\u001b[49m\n\u001b[1;32m   1906\u001b[0m fig \u001b[38;5;241m=\u001b[39m plt\u001b[38;5;241m.\u001b[39mfigure()\n\u001b[1;32m   1907\u001b[0m fig\u001b[38;5;241m.\u001b[39mppsd \u001b[38;5;241m=\u001b[39m AttribDict()\n",
      "File \u001b[0;32m~/programs/anaconda3/lib/python3.10/site-packages/obspy/signal/spectral_estimation.py:813\u001b[0m, in \u001b[0;36mPPSD.__check_histogram\u001b[0;34m(self)\u001b[0m\n\u001b[1;32m    811\u001b[0m \u001b[38;5;28;01mif\u001b[39;00m \u001b[38;5;28mself\u001b[39m\u001b[38;5;241m.\u001b[39m_current_hist_stack \u001b[38;5;129;01mis\u001b[39;00m \u001b[38;5;28;01mNone\u001b[39;00m:\n\u001b[1;32m    812\u001b[0m     \u001b[38;5;28;01mif\u001b[39;00m \u001b[38;5;28mself\u001b[39m\u001b[38;5;241m.\u001b[39m_times_processed:\n\u001b[0;32m--> 813\u001b[0m         \u001b[38;5;28;43mself\u001b[39;49m\u001b[38;5;241;43m.\u001b[39;49m\u001b[43mcalculate_histogram\u001b[49m\u001b[43m(\u001b[49m\u001b[43m)\u001b[49m\n\u001b[1;32m    814\u001b[0m     \u001b[38;5;28;01melse\u001b[39;00m:\n\u001b[1;32m    815\u001b[0m         msg \u001b[38;5;241m=\u001b[39m \u001b[38;5;124m'\u001b[39m\u001b[38;5;124mNo data accumulated\u001b[39m\u001b[38;5;124m'\u001b[39m\n",
      "File \u001b[0;32m~/programs/anaconda3/lib/python3.10/site-packages/obspy/signal/spectral_estimation.py:1179\u001b[0m, in \u001b[0;36mPPSD.calculate_histogram\u001b[0;34m(self, starttime, endtime, time_of_weekday, year, month, isoweek, callback)\u001b[0m\n\u001b[1;32m   1175\u001b[0m     \u001b[38;5;28;01mreturn\u001b[39;00m\n\u001b[1;32m   1177\u001b[0m \u001b[38;5;66;03m# determine which psd pieces should be used in the stack,\u001b[39;00m\n\u001b[1;32m   1178\u001b[0m \u001b[38;5;66;03m# based on all selection criteria specified by user\u001b[39;00m\n\u001b[0;32m-> 1179\u001b[0m selected \u001b[38;5;241m=\u001b[39m \u001b[38;5;28;43mself\u001b[39;49m\u001b[38;5;241;43m.\u001b[39;49m\u001b[43m_stack_selection\u001b[49m\u001b[43m(\u001b[49m\n\u001b[1;32m   1180\u001b[0m \u001b[43m    \u001b[49m\u001b[43mstarttime\u001b[49m\u001b[38;5;241;43m=\u001b[39;49m\u001b[43mstarttime\u001b[49m\u001b[43m,\u001b[49m\u001b[43m \u001b[49m\u001b[43mendtime\u001b[49m\u001b[38;5;241;43m=\u001b[39;49m\u001b[43mendtime\u001b[49m\u001b[43m,\u001b[49m\n\u001b[1;32m   1181\u001b[0m \u001b[43m    \u001b[49m\u001b[43mtime_of_weekday\u001b[49m\u001b[38;5;241;43m=\u001b[39;49m\u001b[43mtime_of_weekday\u001b[49m\u001b[43m,\u001b[49m\u001b[43m \u001b[49m\u001b[43myear\u001b[49m\u001b[38;5;241;43m=\u001b[39;49m\u001b[43myear\u001b[49m\u001b[43m,\u001b[49m\u001b[43m \u001b[49m\u001b[43mmonth\u001b[49m\u001b[38;5;241;43m=\u001b[39;49m\u001b[43mmonth\u001b[49m\u001b[43m,\u001b[49m\n\u001b[1;32m   1182\u001b[0m \u001b[43m    \u001b[49m\u001b[43misoweek\u001b[49m\u001b[38;5;241;43m=\u001b[39;49m\u001b[43misoweek\u001b[49m\u001b[43m,\u001b[49m\u001b[43m \u001b[49m\u001b[43mcallback\u001b[49m\u001b[38;5;241;43m=\u001b[39;49m\u001b[43mcallback\u001b[49m\u001b[43m)\u001b[49m\n\u001b[1;32m   1183\u001b[0m used_indices \u001b[38;5;241m=\u001b[39m selected\u001b[38;5;241m.\u001b[39mnonzero()[\u001b[38;5;241m0\u001b[39m]\n\u001b[1;32m   1184\u001b[0m used_count \u001b[38;5;241m=\u001b[39m \u001b[38;5;28mlen\u001b[39m(used_indices)\n",
      "File \u001b[0;32m~/programs/anaconda3/lib/python3.10/site-packages/obspy/signal/spectral_estimation.py:1042\u001b[0m, in \u001b[0;36mPPSD._stack_selection\u001b[0;34m(self, starttime, endtime, time_of_weekday, year, month, isoweek, callback)\u001b[0m\n\u001b[1;32m   1034\u001b[0m \u001b[38;5;250m\u001b[39m\u001b[38;5;124;03m\"\"\"\u001b[39;00m\n\u001b[1;32m   1035\u001b[0m \u001b[38;5;124;03mFor details on restrictions see :meth:`calculate_histogram`.\u001b[39;00m\n\u001b[1;32m   1036\u001b[0m \n\u001b[0;32m   (...)\u001b[0m\n\u001b[1;32m   1039\u001b[0m \u001b[38;5;124;03m    stack.\u001b[39;00m\n\u001b[1;32m   1040\u001b[0m \u001b[38;5;124;03m\"\"\"\u001b[39;00m\n\u001b[1;32m   1041\u001b[0m times_all \u001b[38;5;241m=\u001b[39m np\u001b[38;5;241m.\u001b[39marray(\u001b[38;5;28mself\u001b[39m\u001b[38;5;241m.\u001b[39m_times_processed)\n\u001b[0;32m-> 1042\u001b[0m selected \u001b[38;5;241m=\u001b[39m np\u001b[38;5;241m.\u001b[39mones(\u001b[38;5;28mlen\u001b[39m(times_all), dtype\u001b[38;5;241m=\u001b[39m\u001b[43mnp\u001b[49m\u001b[38;5;241;43m.\u001b[39;49m\u001b[43mbool\u001b[49m)\n\u001b[1;32m   1043\u001b[0m \u001b[38;5;28;01mif\u001b[39;00m starttime \u001b[38;5;129;01mis\u001b[39;00m \u001b[38;5;129;01mnot\u001b[39;00m \u001b[38;5;28;01mNone\u001b[39;00m:\n\u001b[1;32m   1044\u001b[0m     selected \u001b[38;5;241m&\u001b[39m\u001b[38;5;241m=\u001b[39m times_all \u001b[38;5;241m>\u001b[39m starttime\u001b[38;5;241m.\u001b[39m_ns\n",
      "File \u001b[0;32m~/programs/anaconda3/lib/python3.10/site-packages/numpy/__init__.py:305\u001b[0m, in \u001b[0;36m__getattr__\u001b[0;34m(attr)\u001b[0m\n\u001b[1;32m    300\u001b[0m     warnings\u001b[38;5;241m.\u001b[39mwarn(\n\u001b[1;32m    301\u001b[0m         \u001b[38;5;124mf\u001b[39m\u001b[38;5;124m\"\u001b[39m\u001b[38;5;124mIn the future `np.\u001b[39m\u001b[38;5;132;01m{\u001b[39;00mattr\u001b[38;5;132;01m}\u001b[39;00m\u001b[38;5;124m` will be defined as the \u001b[39m\u001b[38;5;124m\"\u001b[39m\n\u001b[1;32m    302\u001b[0m         \u001b[38;5;124m\"\u001b[39m\u001b[38;5;124mcorresponding NumPy scalar.\u001b[39m\u001b[38;5;124m\"\u001b[39m, \u001b[38;5;167;01mFutureWarning\u001b[39;00m, stacklevel\u001b[38;5;241m=\u001b[39m\u001b[38;5;241m2\u001b[39m)\n\u001b[1;32m    304\u001b[0m \u001b[38;5;28;01mif\u001b[39;00m attr \u001b[38;5;129;01min\u001b[39;00m __former_attrs__:\n\u001b[0;32m--> 305\u001b[0m     \u001b[38;5;28;01mraise\u001b[39;00m \u001b[38;5;167;01mAttributeError\u001b[39;00m(__former_attrs__[attr])\n\u001b[1;32m    307\u001b[0m \u001b[38;5;66;03m# Importing Tester requires importing all of UnitTest which is not a\u001b[39;00m\n\u001b[1;32m    308\u001b[0m \u001b[38;5;66;03m# cheap import Since it is mainly used in test suits, we lazy import it\u001b[39;00m\n\u001b[1;32m    309\u001b[0m \u001b[38;5;66;03m# here to save on the order of 10 ms of import time for most users\u001b[39;00m\n\u001b[1;32m    310\u001b[0m \u001b[38;5;66;03m#\u001b[39;00m\n\u001b[1;32m    311\u001b[0m \u001b[38;5;66;03m# The previous way Tester was imported also had a side effect of adding\u001b[39;00m\n\u001b[1;32m    312\u001b[0m \u001b[38;5;66;03m# the full `numpy.testing` namespace\u001b[39;00m\n\u001b[1;32m    313\u001b[0m \u001b[38;5;28;01mif\u001b[39;00m attr \u001b[38;5;241m==\u001b[39m \u001b[38;5;124m'\u001b[39m\u001b[38;5;124mtesting\u001b[39m\u001b[38;5;124m'\u001b[39m:\n",
      "\u001b[0;31mAttributeError\u001b[0m: module 'numpy' has no attribute 'bool'.\n`np.bool` was a deprecated alias for the builtin `bool`. To avoid this error in existing code, use `bool` by itself. Doing this will not modify any behavior and is safe. If you specifically wanted the numpy scalar type, use `np.bool_` here.\nThe aliases was originally deprecated in NumPy 1.20; for more details and guidance see the original release note at:\n    https://numpy.org/devdocs/release/1.20.0-notes.html#deprecations"
     ]
    }
   ],
   "source": [
    "# ================\n",
    "#  plot PPSD Data \n",
    "# ================\n",
    "\n",
    "for i,j in enumerate(datafile_lstS):\n",
    "    plot_PPSD_TOTAL_data(j)"
   ]
  },
  {
   "cell_type": "code",
   "execution_count": null,
   "id": "19b40a3f",
   "metadata": {},
   "outputs": [],
   "source": []
  }
 ],
 "metadata": {
  "kernelspec": {
   "display_name": "Python 3 (ipykernel)",
   "language": "python",
   "name": "python3"
  },
  "language_info": {
   "codemirror_mode": {
    "name": "ipython",
    "version": 3
   },
   "file_extension": ".py",
   "mimetype": "text/x-python",
   "name": "python",
   "nbconvert_exporter": "python",
   "pygments_lexer": "ipython3",
   "version": "3.10.13"
  }
 },
 "nbformat": 4,
 "nbformat_minor": 5
}
