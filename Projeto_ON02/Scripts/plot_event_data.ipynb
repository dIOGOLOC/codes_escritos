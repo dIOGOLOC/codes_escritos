import os
import glob
from tarfile import StreamError
import obspy as op
from obspy import Stream, Inventory
import pandas as pd
from obspy.taup import TauPyModel
import matplotlib.gridspec as gridspec
import matplotlib.pyplot as plt
from obspy.io.sac.sactrace import SACTrace

import bokeh.models as bkm
import resampy
from bokeh.plotting import figure, output_file, show
from bokeh.layouts import layout
import base64
from io import BytesIO
import numpy as np
from scipy.io import wavfile
from bokeh import palettes

DIR_DATA = '/home/diogoloc/dados_posdoc/ON02_analysis/'


# Event Directory
directory_events = DIR_DATA+'Events_data/'

# Reading events files
for i in glob.glob(directory_events+'*/*/*'):
    stream_all = Stream()
    for st_file in glob.glob(i+'/*Z*'):
        st = op.read(st_file)
        stream_all+=st 
print(stream_all)