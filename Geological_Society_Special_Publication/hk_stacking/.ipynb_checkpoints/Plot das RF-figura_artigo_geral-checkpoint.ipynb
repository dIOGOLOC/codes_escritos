{
 "cells": [
  {
   "cell_type": "code",
   "execution_count": null,
   "metadata": {},
   "outputs": [],
   "source": [
    "%pylab inline"
   ]
  },
  {
   "cell_type": "code",
   "execution_count": null,
   "metadata": {},
   "outputs": [],
   "source": [
    "import numpy as np\n",
    "import matplotlib.pyplot as plt\n",
    "import obspy as op\n",
    "import glob\n",
    "import os\n",
    "import fnmatch\n",
    "import shutil\n",
    "import matplotlib.gridspec as gridspec\n",
    "from scipy import signal,stats,spatial,misc\n",
    "from obspy.taup import TauPyModel\n",
    "import time\n",
    "from IPython import display\n",
    "import matplotlib.gridspec as gridspec\n",
    "from obspy.clients.fdsn import Client\n",
    "from obspy.clients.iris import Client as OldIris_Client\n",
    "from obspy.core.util import NamedTemporaryFile\n",
    "import matplotlib.mlab as mlab\n",
    "import itertools\n",
    "from obspy import UTCDateTime\n",
    "from matplotlib.cbook import get_sample_data\n",
    "from matplotlib.lines import Line2D\n",
    "from matplotlib.text import Text"
   ]
  },
  {
   "cell_type": "markdown",
   "metadata": {},
   "source": [
    "<h3 align=\"center\">Recolhendo as Funções do Receptor</h3>"
   ]
  },
  {
   "cell_type": "code",
   "execution_count": null,
   "metadata": {},
   "outputs": [],
   "source": [
    "datalistr = []\n",
    "datalistSr = []\n",
    "dir_listr = []\n",
    "for root, dirs, files in os.walk('/home/diogo/dados_doutorado/parnaiba_basin/RF_migration/redeBP-BB/RF_Zhu_Kanamori/'):\n",
    "    for datafile in files:\n",
    "        if datafile.endswith('.eqr'):\n",
    "            datalistr.append(os.path.join(root, datafile))\n",
    "datalistSr = sorted(datalistr)\n",
    "\n",
    "datalistt = []\n",
    "datalistSt = []\n",
    "dir_listt = []\n",
    "for root, dirs, files in os.walk('/home/diogo/dados_doutorado/parnaiba_basin/RF_migration/redeBP-BB/RF_Zhu_Kanamori/'):\n",
    "    for datafile in files:\n",
    "        if datafile.endswith('.eqt'):\n",
    "            datalistt.append(os.path.join(root, datafile))\n",
    "datalistSt = sorted(datalistt)"
   ]
  },
  {
   "cell_type": "code",
   "execution_count": null,
   "metadata": {},
   "outputs": [],
   "source": [
    "event_data_R = []\n",
    "for i,j in enumerate(datalistSr):\n",
    "    if 'RF_Zhu_Kanamori' in j:\n",
    "        event_data_R.append(j)\n",
    "\n",
    "event_data_T = []\n",
    "for i,j in enumerate(datalistSt):\n",
    "    if 'RF_Zhu_Kanamori' in j:\n",
    "        event_data_T.append(j)"
   ]
  },
  {
   "cell_type": "code",
   "execution_count": null,
   "metadata": {},
   "outputs": [],
   "source": [
    "a1r = []\n",
    "a25r = []\n",
    "a05r = []\n",
    "\n",
    "for i,j in enumerate(datalistSr):\n",
    "    if '1.0' in j:\n",
    "        a1r.append(j)\n",
    "    elif '2.5' in j:\n",
    "        a25r.append(j)\n",
    "    else:\n",
    "        a05r.append(j)\n",
    "        \n",
    "a1t = []\n",
    "a25t = []\n",
    "a05t = []\n",
    "for i,j in enumerate(datalistSt):\n",
    "    if '1.0' in j:\n",
    "        a1t.append(j)\n",
    "    elif '2.5' in j:\n",
    "        a25t.append(j)\n",
    "    else:\n",
    "        a05t.append(j)"
   ]
  },
  {
   "cell_type": "code",
   "execution_count": null,
   "metadata": {},
   "outputs": [],
   "source": [
    "[i.split('/')[10] for i in a1r][0]"
   ]
  },
  {
   "cell_type": "code",
   "execution_count": null,
   "metadata": {},
   "outputs": [],
   "source": [
    "a1r_name = [i.split('/')[10] for i in a1r]\n",
    "a1t_name = [i.split('/')[10] for i in a1t]\n",
    "a25r_name = [i.split('/')[10] for i in a25r]\n",
    "a25t_name = [i.split('/')[10] for i in a25t]\n",
    "a05r_name = [i.split('/')[10] for i in a05r]\n",
    "a05t_name = [i.split('/')[10] for i in a05t]"
   ]
  },
  {
   "cell_type": "markdown",
   "metadata": {},
   "source": [
    "<h3 align=\"center\">Separando as Funções do Receptor acima de 30 graus de distância</h3>"
   ]
  },
  {
   "cell_type": "markdown",
   "metadata": {},
   "source": [
    "<h3 align=\"center\">a = 1.0</h3>"
   ]
  },
  {
   "cell_type": "code",
   "execution_count": null,
   "metadata": {},
   "outputs": [],
   "source": [
    "RF = []\n",
    "RF_name_r = []\n",
    "\n",
    "for i,j in enumerate(a1r):\n",
    "    a = op.read(j)\n",
    "    if a[0].stats.sac.gcarc > 30:\n",
    "        RF += op.read(j)\n",
    "        RF_name_r.append(j.split('/')[10])"
   ]
  },
  {
   "cell_type": "code",
   "execution_count": null,
   "metadata": {},
   "outputs": [],
   "source": [
    "RF_name = [i.split('.eqr')[0] for i in RF_name_r]"
   ]
  },
  {
   "cell_type": "code",
   "execution_count": null,
   "metadata": {},
   "outputs": [],
   "source": [
    "TF = []\n",
    "for i,j in enumerate(a1t):\n",
    "    for l,k in enumerate(RF_name):\n",
    "        if k in j:\n",
    "            TF += op.read(j)"
   ]
  },
  {
   "cell_type": "markdown",
   "metadata": {},
   "source": [
    "<h3 align=\"center\">a = 2.5</h3>"
   ]
  },
  {
   "cell_type": "code",
   "execution_count": null,
   "metadata": {},
   "outputs": [],
   "source": [
    "RF_25 = []\n",
    "RF_name_r_25 = []\n",
    "\n",
    "for i,j in enumerate(a25r):\n",
    "    a = op.read(j)\n",
    "    if a[0].stats.sac.gcarc > 30:\n",
    "        RF_25 += op.read(j)\n",
    "        RF_name_r_25.append(j.split('/')[9])"
   ]
  },
  {
   "cell_type": "code",
   "execution_count": null,
   "metadata": {},
   "outputs": [],
   "source": [
    "RF_name_25 = [i.split('.eqr')[0] for i in RF_name_r_25]"
   ]
  },
  {
   "cell_type": "code",
   "execution_count": null,
   "metadata": {},
   "outputs": [],
   "source": [
    "TF_25 = []\n",
    "for i,j in enumerate(a25t):\n",
    "    for l,k in enumerate(RF_name_25):\n",
    "        if k in j:\n",
    "            TF_25 += op.read(j)"
   ]
  },
  {
   "cell_type": "markdown",
   "metadata": {},
   "source": [
    "<h3 align=\"center\">Separando as Funções do Receptor pela porcentagem da deconvolução</h3>"
   ]
  },
  {
   "cell_type": "markdown",
   "metadata": {},
   "source": [
    "<h3 align=\"center\">a = 1.0</h3>"
   ]
  },
  {
   "cell_type": "code",
   "execution_count": null,
   "metadata": {},
   "outputs": [],
   "source": [
    "RF_30 = RF\n",
    "TF_30 = TF"
   ]
  },
  {
   "cell_type": "markdown",
   "metadata": {},
   "source": [
    "<h3 align=\"center\">a = 2.5</h3>"
   ]
  },
  {
   "cell_type": "code",
   "execution_count": null,
   "metadata": {},
   "outputs": [],
   "source": [
    "RF_30_25 = RF_25\n",
    "TF_30_25 = TF_25"
   ]
  },
  {
   "cell_type": "markdown",
   "metadata": {},
   "source": [
    "<h3 align=\"center\">Organizando as Funções do Receptor em estações</h3>"
   ]
  },
  {
   "cell_type": "code",
   "execution_count": null,
   "metadata": {},
   "outputs": [],
   "source": [
    "STA = ['BDCO','BPPF','BUCO','GENI','GRJU','PRDT','STSN','STSR','TRZN']"
   ]
  },
  {
   "cell_type": "code",
   "execution_count": null,
   "metadata": {},
   "outputs": [],
   "source": [
    "RF_list_r = [[],[],[],[],[],[],[],[],[]]\n",
    "for i,j in enumerate(RF_30):\n",
    "    for l,k in enumerate(STA):\n",
    "        if k == j.stats.station:\n",
    "            RF_list_r[l].append(j)\n",
    "            \n",
    "RF_list_r_25 = [[],[],[],[],[],[],[],[],[]]\n",
    "for i,j in enumerate(RF_30_25):\n",
    "    for l,k in enumerate(STA):\n",
    "        if k == j.stats.station:\n",
    "            RF_list_r_25[l].append(j)"
   ]
  },
  {
   "cell_type": "code",
   "execution_count": null,
   "metadata": {},
   "outputs": [],
   "source": [
    "RF_list_t = [[],[],[],[],[],[],[],[],[]]\n",
    "for i,j in enumerate(TF_30):\n",
    "    for l,k in enumerate(STA):\n",
    "        if k == j.stats.station:\n",
    "            RF_list_t[l].append(j)\n",
    "            \n",
    "RF_list_t_25 = [[],[],[],[],[],[],[],[],[]]\n",
    "for i,j in enumerate(TF_30_25):\n",
    "    for l,k in enumerate(STA):\n",
    "        if k == j.stats.station:\n",
    "            RF_list_t_25[l].append(j)"
   ]
  },
  {
   "cell_type": "markdown",
   "metadata": {},
   "source": [
    "<h3 align=\"center\">Plotando as Funções do Receptor</h3>"
   ]
  },
  {
   "cell_type": "markdown",
   "metadata": {},
   "source": [
    "<h3 align=\"center\">a = 1.0 </h3>"
   ]
  },
  {
   "cell_type": "code",
   "execution_count": null,
   "metadata": {},
   "outputs": [],
   "source": [
    "RF_stack_r = [[],[],[],[],[],[],[],[],[]]\n",
    "RF_time_stack_r = [[],[],[],[],[],[],[],[],[]]\n",
    "min_y_r = [[],[],[],[],[],[],[],[],[]]\n",
    "max_y_r = [[],[],[],[],[],[],[],[],[]]\n",
    "\n",
    "for i,j in enumerate(RF_list_r):\n",
    "    RF_stack_r[i] = np.array(j).sum(axis=0)/len(j)\n",
    "    RF_time_stack_r[i] = j[0].times()\n",
    "    min_y_r[i] = [min(a) for a in zip(*j)]\n",
    "    max_y_r[i] = [max(a) for a in zip(*j)]\n",
    "            \n",
    "RF_stack_r_25 = [[],[],[],[],[],[],[],[],[]]\n",
    "RF_time_stack_r_25 = [[],[],[],[],[],[],[],[],[]]\n",
    "min_y_r_25 = [[],[],[],[],[],[],[],[],[]]\n",
    "max_y_r_25 = [[],[],[],[],[],[],[],[],[]]\n",
    "for i,j in enumerate(RF_list_r_25):\n",
    "    RF_stack_r_25[i] = np.array(j).sum(axis=0)/len(j)\n",
    "    RF_time_stack_r_25[i] = j[0].times()\n",
    "    min_y_r_25[i] = [min(a) for a in zip(*j)]\n",
    "    max_y_r_25[i] = [max(a) for a in zip(*j)]"
   ]
  },
  {
   "cell_type": "code",
   "execution_count": null,
   "metadata": {},
   "outputs": [],
   "source": [
    "RF_stack_t = [[],[],[],[],[],[],[],[],[]]\n",
    "RF_time_stack_t = [[],[],[],[],[],[],[],[],[]]\n",
    "min_y_t = [[],[],[],[],[],[],[],[],[]]\n",
    "max_y_t = [[],[],[],[],[],[],[],[],[]]\n",
    "for i,j in enumerate(RF_list_t):\n",
    "    RF_stack_t[i] = np.array(j).sum(axis=0)/len(j)\n",
    "    RF_time_stack_t[i] = j[0].times()\n",
    "    min_y_t[i] = [min(a) for a in zip(*j)]\n",
    "    max_y_t[i] = [max(a) for a in zip(*j)]\n",
    "            \n",
    "RF_stack_t_25 = [[],[],[],[],[],[],[],[],[]]\n",
    "RF_time_stack_t_25 = [[],[],[],[],[],[],[],[],[]]\n",
    "min_y_t_25 = [[],[],[],[],[],[],[],[],[]]\n",
    "max_y_t_25 = [[],[],[],[],[],[],[],[],[]]\n",
    "for i,j in enumerate(RF_list_t_25):\n",
    "    RF_stack_t_25[i] = np.array(j).sum(axis=0)/len(j)\n",
    "    RF_time_stack_t_25[i] = j[0].times()\n",
    "    min_y_t_25[i] = [min(a) for a in zip(*j)]\n",
    "    max_y_t_25[i] = [max(a) for a in zip(*j)]"
   ]
  },
  {
   "cell_type": "code",
   "execution_count": null,
   "metadata": {},
   "outputs": [],
   "source": [
    "fig = plt.figure(figsize=(10,6),facecolor='white')\n",
    "# set up subplot grid\n",
    "gs = gridspec.GridSpec(2,1, wspace=1,hspace=0,height_ratios=[3, 1])\n",
    "a = 5\n",
    "\n",
    "ax1 = fig.add_subplot(gs[0])\n",
    "ax1.plot(RF_time_stack_r_25[a]-10,RF_stack_r_25[a],'k',linewidth=3)\n",
    "plt.fill_between(RF_time_stack_r_25[a]-10,min_y_r_25[a],max_y_r_25[a], facecolor='grey',alpha=0.2, interpolate=True)\n",
    "ax1.set_yticks([])\n",
    "ax1.spines['right'].set_visible(False)\n",
    "ax1.spines['left'].set_visible(False)\n",
    "ax1.spines['top'].set_visible(False)\n",
    "ax1.text(0.8, 0.9,STA[a],fontsize=15,fontweight='bold', horizontalalignment='center',verticalalignment='center',transform=ax1.transAxes)\n",
    "ax1.set_xlim(-4,49)\n",
    "\n",
    "# small subplot 2\n",
    "ax2 = fig.add_subplot(gs[1],sharex=ax1)\n",
    "ax2.plot(RF_time_stack_r_25[a]-10,RF_stack_t_25[a],'k',linewidth=3)\n",
    "plt.fill_between(RF_time_stack_t_25[a]-10,min_y_t_25[a],max_y_t_25[a], facecolor='grey',alpha=0.2, interpolate=True)\n",
    "ax2.set_yticks([])\n",
    "ax2.spines['right'].set_visible(False)\n",
    "ax2.spines['left'].set_visible(False)\n",
    "ax2.spines['top'].set_visible(False)\n",
    "ax2.set_xlim(-4,49)"
   ]
  },
  {
   "cell_type": "markdown",
   "metadata": {},
   "source": [
    "<h3 align=\"center\">a = 2.5 </h3>"
   ]
  },
  {
   "cell_type": "code",
   "execution_count": null,
   "metadata": {},
   "outputs": [],
   "source": [
    "par = np.arange(0,18,2)\n",
    "impar = np.arange(1,18,2)\n",
    "\n",
    "fig = plt.figure(figsize=(20,20),facecolor='white')\n",
    "# set up subplot grid\n",
    "gs = gridspec.GridSpec(9,2, wspace=0.1,hspace=0)\n",
    "\n",
    "fig.text(0.3, 0.91,'Radial',fontsize=25,fontweight='bold', horizontalalignment='center',verticalalignment='center')\n",
    "fig.text(0.7, 0.91,'Transversal',fontsize=25,fontweight='bold', horizontalalignment='center',verticalalignment='center')\n",
    "\n",
    "for i, j in enumerate(RF_stack_r): \n",
    "    # Função do Receptor Radial\n",
    "\n",
    "    ax1 = fig.add_subplot(gs[par[i]],sharey=ax2,sharex=ax2)\n",
    "    \n",
    "    ax1.plot(RF_time_stack_r[i]-10,j,'k',linewidth=3)\n",
    "    ax1.fill_between(RF_time_stack_r[i]-10,min_y_r[i],max_y_r[i], facecolor='grey',alpha=0.2, interpolate=True)\n",
    "    ax1.set_yticks([])\n",
    "    ax1.spines['right'].set_visible(False)\n",
    "    ax1.spines['left'].set_visible(False)\n",
    "    ax1.spines['top'].set_visible(False)\n",
    "    ax1.spines['bottom'].set_visible(False)\n",
    "    ax1.tick_params(\n",
    "    axis='x',          # changes apply to the x-axis\n",
    "    which='both',      # both major and minor ticks are affected\n",
    "    bottom='off',      # ticks along the bottom edge are off\n",
    "    top='off',         # ticks along the top edge are off\n",
    "    labelbottom='on',\n",
    "    labelsize=20)\n",
    "    ax1.text(0.025, 0.8,STA[i]+'('+str(len(RF_list_r[i]))+')',fontsize=12,fontweight='bold', horizontalalignment='center',verticalalignment='center',transform=ax1.transAxes)\n",
    "    ax1.set_xlim((-4,39))\n",
    "    ax1.set_xlabel('Time (s)')\n",
    "\n",
    "xmin, xmax = ax1.get_xaxis().get_view_interval()\n",
    "ymin, ymax = ax1.get_yaxis().get_view_interval()\n",
    "ax1.add_artist(Line2D((xmin, xmax), (ymin, ymin), color='black', linewidth=2))\n",
    "    # Função do Receptor Transversal\n",
    "\n",
    "    # Função do Receptor Transversal\n",
    "for i, j in enumerate(RF_stack_r): \n",
    "    ax2 = fig.add_subplot(gs[impar[i]],sharey=ax1,sharex=ax1)\n",
    "    \n",
    "    ax2.plot(RF_time_stack_t[i]-10,RF_stack_t[i],'k',linewidth=3)\n",
    "    plt.fill_between(RF_time_stack_t[i]-10,min_y_t[i],max_y_t[i], facecolor='grey',alpha=0.2, interpolate=True)\n",
    "    ax2.set_yticks([])\n",
    "    ax2.tick_params(\n",
    "    axis='x',          # changes apply to the x-axis\n",
    "    which='both',      # both major and minor ticks are affected\n",
    "    bottom='off',      # ticks along the bottom edge are off\n",
    "    top='off',         # ticks along the top edge are off\n",
    "    labelbottom='on',\n",
    "    labelsize=20)\n",
    "    ax2.set_xlabel('Time (s)')\n",
    "    ax2.spines['right'].set_visible(False)\n",
    "    ax2.spines['left'].set_visible(False)\n",
    "    ax2.spines['top'].set_visible(False)\n",
    "    ax2.spines['bottom'].set_visible(False)\n",
    "    ax2.set_xlim((-4,39))\n",
    "xmin, xmax = ax2.get_xaxis().get_view_interval()\n",
    "ymin, ymax = ax2.get_yaxis().get_view_interval()\n",
    "ax2.add_artist(Line2D((xmin, xmax), (ymin, ymin), color='black', linewidth=2))\n"
   ]
  },
  {
   "cell_type": "code",
   "execution_count": null,
   "metadata": {},
   "outputs": [],
   "source": [
    "par = np.arange(0,18,2)\n",
    "impar = np.arange(1,18,2)\n",
    "\n",
    "fig = plt.figure(figsize=(20,20),facecolor='white')\n",
    "# set up subplot grid\n",
    "gs = gridspec.GridSpec(9,2, wspace=0.1,hspace=0)\n",
    "\n",
    "fig.text(0.3, 0.91,'Radial',fontsize=25,fontweight='bold', horizontalalignment='center',verticalalignment='center')\n",
    "fig.text(0.7, 0.91,'Transversal',fontsize=25,fontweight='bold', horizontalalignment='center',verticalalignment='center')\n",
    "\n",
    "for i, j in enumerate(RF_stack_r_25): \n",
    "    \n",
    "    # Função do Receptor Radial\n",
    "\n",
    "    ax1 = fig.add_subplot(gs[par[i]],sharey=ax2,sharex=ax2)\n",
    "    \n",
    "    ax1.plot(RF_time_stack_r_25[i]-10,j,'k',linewidth=3)\n",
    "    ax1.fill_between(RF_time_stack_r_25[i]-10,min_y_r_25[i],max_y_r_25[i], facecolor='grey',alpha=0.2, interpolate=True)\n",
    "    ax1.set_yticks([])\n",
    "    ax1.spines['right'].set_visible(False)\n",
    "    ax1.spines['left'].set_visible(False)\n",
    "    ax1.spines['top'].set_visible(False)\n",
    "    ax1.spines['bottom'].set_visible(False)\n",
    "    ax1.tick_params(\n",
    "    axis='x',          # changes apply to the x-axis\n",
    "    which='both',      # both major and minor ticks are affected\n",
    "    bottom='off',      # ticks along the bottom edge are off\n",
    "    top='off',         # ticks along the top edge are off\n",
    "    labelbottom='on',\n",
    "    labelsize=20)\n",
    "    ax1.text(0.025, 0.8,STA[i]+'('+str(len(RF_list_r_25[i]))+')',fontsize=12,fontweight='bold', horizontalalignment='center',verticalalignment='center',transform=ax1.transAxes)\n",
    "    ax1.set_xlim((-4,39))\n",
    "    ax1.set_xlabel('Time (s)')\n",
    "\n",
    "xmin, xmax = ax1.get_xaxis().get_view_interval()\n",
    "ymin, ymax = ax1.get_yaxis().get_view_interval()\n",
    "ax1.add_artist(Line2D((xmin, xmax), (ymin, ymin), color='black', linewidth=2))\n",
    "    # Função do Receptor Transversal\n",
    "    \n",
    "    \n",
    "for i, j in enumerate(RF_stack_r_25): \n",
    "    \n",
    "    ax2 = fig.add_subplot(gs[impar[i]],sharey=ax1,sharex=ax1)\n",
    "    \n",
    "    ax2.plot(RF_time_stack_t_25[i]-10,RF_stack_t_25[i],'k',linewidth=3)\n",
    "    plt.fill_between(RF_time_stack_t_25[i]-10,min_y_t_25[i],max_y_t_25[i], facecolor='grey',alpha=0.2, interpolate=True)\n",
    "    ax2.set_yticks([])\n",
    "    ax2.tick_params(\n",
    "    axis='x',          # changes apply to the x-axis\n",
    "    which='both',      # both major and minor ticks are affected\n",
    "    bottom='off',      # ticks along the bottom edge are off\n",
    "    top='off',         # ticks along the top edge are off\n",
    "    labelbottom='on',\n",
    "    labelsize=20)\n",
    "    ax2.set_xlabel('Time (s)')\n",
    "    ax2.spines['right'].set_visible(False)\n",
    "    ax2.spines['left'].set_visible(False)\n",
    "    ax2.spines['top'].set_visible(False)\n",
    "    ax2.spines['bottom'].set_visible(False)\n",
    "    ax2.set_xlim((-4,39))\n",
    "xmin, xmax = ax2.get_xaxis().get_view_interval()\n",
    "ymin, ymax = ax2.get_yaxis().get_view_interval()\n",
    "ax2.add_artist(Line2D((xmin, xmax), (ymin, ymin), color='black', linewidth=2))\n",
    "#fig.savefig('/home/diogo/dados_doutorado/parnaiba_basin/redeBP-BB/stations_FR.pdf')"
   ]
  },
  {
   "cell_type": "code",
   "execution_count": null,
   "metadata": {},
   "outputs": [],
   "source": []
  }
 ],
 "metadata": {
  "anaconda-cloud": {},
  "kernelspec": {
   "display_name": "Python 3",
   "language": "python",
   "name": "python3"
  },
  "language_info": {
   "codemirror_mode": {
    "name": "ipython",
    "version": 3
   },
   "file_extension": ".py",
   "mimetype": "text/x-python",
   "name": "python",
   "nbconvert_exporter": "python",
   "pygments_lexer": "ipython3",
   "version": "3.6.4"
  }
 },
 "nbformat": 4,
 "nbformat_minor": 1
}
