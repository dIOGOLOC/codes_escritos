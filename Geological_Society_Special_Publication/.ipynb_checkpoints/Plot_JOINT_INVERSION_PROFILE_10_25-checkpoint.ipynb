{
 "cells": [
  {
   "cell_type": "code",
   "execution_count": 82,
   "metadata": {},
   "outputs": [
    {
     "name": "stdout",
     "output_type": "stream",
     "text": [
      "Populating the interactive namespace from numpy and matplotlib\n"
     ]
    },
    {
     "name": "stderr",
     "output_type": "stream",
     "text": [
      "/home/diogo/programs/anaconda3/lib/python3.6/site-packages/IPython/core/magics/pylab.py:161: UserWarning: pylab import has clobbered these variables: ['display']\n",
      "`%matplotlib` prevents importing * from pylab and numpy\n",
      "  \"\\n`%matplotlib` prevents importing * from pylab and numpy\"\n"
     ]
    }
   ],
   "source": [
    "%pylab inline"
   ]
  },
  {
   "cell_type": "code",
   "execution_count": 83,
   "metadata": {
    "collapsed": true
   },
   "outputs": [],
   "source": [
    "import numpy as np\n",
    "import matplotlib.pyplot as plt\n",
    "import matplotlib.ticker as ticker\n",
    "import obspy as op\n",
    "import glob\n",
    "import os\n",
    "import fnmatch\n",
    "import shutil\n",
    "import matplotlib.gridspec as gridspec\n",
    "from scipy import signal,stats,spatial,misc\n",
    "from obspy.taup import TauPyModel\n",
    "import time\n",
    "from IPython import display\n",
    "import matplotlib.gridspec as gridspec\n",
    "from obspy.clients.fdsn import Client\n",
    "from obspy.clients.iris import Client as OldIris_Client\n",
    "from obspy.core.util import NamedTemporaryFile\n",
    "import matplotlib.mlab as mlab\n",
    "import itertools\n",
    "from obspy import UTCDateTime\n",
    "from matplotlib.cbook import get_sample_data\n",
    "from mpl_toolkits.basemap import Basemap\n",
    "from matplotlib.ticker import FormatStrFormatter\n"
   ]
  },
  {
   "cell_type": "markdown",
   "metadata": {},
   "source": [
    "<h2 align=\"center\">Estações Sismográficas</h2>"
   ]
  },
  {
   "cell_type": "code",
   "execution_count": 84,
   "metadata": {
    "collapsed": true
   },
   "outputs": [],
   "source": [
    "STA = ['BPPF','STSN','GRJU','GENI','BDCO','PRDT','STSR','BUCO','TRZN']"
   ]
  },
  {
   "cell_type": "markdown",
   "metadata": {},
   "source": [
    "BDCO = 0, BPPF = 1 ,BUCO = 2, GENI = 3, GRJU = 4, PRDT = 5, STNS = 6, STSR = 7, TRZN = 8"
   ]
  },
  {
   "cell_type": "markdown",
   "metadata": {},
   "source": [
    "<h2 align=\"center\">Recolhendo as listas com os grupos de BAZ das Funções do Receptor</h2>"
   ]
  },
  {
   "cell_type": "code",
   "execution_count": 85,
   "metadata": {
    "collapsed": true
   },
   "outputs": [],
   "source": [
    "RF_list_BAZ = []\n",
    "RF_list_BAZS = []\n",
    "\n",
    "for root, dirs, files in os.walk('/home/diogo/dados_doutorado/parnaiba_basin/RF_migration/redeBP-BB/joint_inversion/JI_10_25/'):\n",
    "    for datafile in files:\n",
    "        if datafile.endswith('mean_velocity_model.txt'):\n",
    "            RF_list_BAZ.append(os.path.join(root, datafile))\n",
    "RF_list_BAZS = sorted(RF_list_BAZ)\n",
    "\n",
    "RF_list_BAZ_0 = []\n",
    "RF_list_BAZS_0 = []\n",
    "\n",
    "for root, dirs, files in os.walk('/home/diogo/dados_doutorado/parnaiba_basin/RF_migration/redeBP-BB/joint_inversion/JI_10_25/'):\n",
    "    for datafile in files:\n",
    "        if datafile.endswith('initial_velocity_model.txt'):\n",
    "            RF_list_BAZ_0.append(os.path.join(root, datafile))\n",
    "RF_list_BAZS_0 = sorted(RF_list_BAZ_0)\n",
    "\n",
    "JI_list_BAZ = []\n",
    "JI_list_BAZS = []\n",
    "\n",
    "for root, dirs, files in os.walk('/home/diogo/dados_doutorado/parnaiba_basin/RF_migration/redeBP-BB/joint_inversion/JI_10_25/'):\n",
    "    for datafile in files:\n",
    "        if datafile.endswith('velocity_model_BAZ.txt'):\n",
    "            JI_list_BAZ.append(os.path.join(root, datafile))\n",
    "JI_list_BAZS = sorted(JI_list_BAZ)"
   ]
  },
  {
   "cell_type": "markdown",
   "metadata": {},
   "source": [
    "<h2 align=\"center\">Transformando os arquivos das pastas para poder Plotar a Inversão Conjunta</h2>"
   ]
  },
  {
   "cell_type": "code",
   "execution_count": 86,
   "metadata": {
    "collapsed": true
   },
   "outputs": [],
   "source": [
    "model_joint_0 = [[] for x in range(len(STA))]\n",
    "model_joint_9 = [[] for x in range(len(STA))]\n",
    "\n",
    "for i,j in enumerate(RF_list_BAZS_0):\n",
    "    with open(j) as inputfile:\n",
    "        for line in inputfile:\n",
    "            model_joint_0[i].append(line.strip().split())\n",
    "            \n",
    "for i,j in enumerate(RF_list_BAZS):\n",
    "    with open(j) as inputfile:\n",
    "        for line in inputfile:\n",
    "            model_joint_9[i].append(line.strip().split())\n",
    "            \n",
    "vs_9 = [[] for x in range(len(STA))]\n",
    "prof_9 = [[] for x in range(len(STA))]\n",
    "\n",
    "for i,j in enumerate(model_joint_9):\n",
    "    for k,l in enumerate(j):\n",
    "        vs_9[i].append(float(l[0]))\n",
    "        prof_9[i].append(float(l[1]))\n",
    "\n",
    "vs_0 = [[] for x in range(len(STA))]\n",
    "prof_0 = [[] for x in range(len(STA))]\n",
    "for i,j in enumerate(model_joint_0):\n",
    "    for k,l in enumerate(j):\n",
    "        vs_0[i].append(float(l[0]))\n",
    "        prof_0[i].append(float(l[1]))"
   ]
  },
  {
   "cell_type": "markdown",
   "metadata": {},
   "source": [
    "<h2 align=\"center\">Plotando a inversão conjunta entre as Funções do Receptor e as Curvas de Dispersão</h2>"
   ]
  },
  {
   "cell_type": "code",
   "execution_count": 87,
   "metadata": {
    "collapsed": true
   },
   "outputs": [],
   "source": [
    "org_STA = [1,6,4,3,0,5,7,2,8]\n",
    "basin_depth = [-3,-3,-3,-3,-2,-2,-2,-2,-2]\n",
    "moho_depth = [-42,-3,-3,-3,-2,-2,-2,-2,-2]"
   ]
  },
  {
   "cell_type": "code",
   "execution_count": 88,
   "metadata": {
    "collapsed": true
   },
   "outputs": [],
   "source": [
    "zhu_kanamori_H = np.genfromtxt('/home/diogo/dados_doutorado/parnaiba_basin/RF_migration/redeBP-BB/RF_Zhu_Kanamori/H_VP_mean_std.txt')[:,0]\n",
    "zhu_kanamori_H_e = np.genfromtxt('/home/diogo/dados_doutorado/parnaiba_basin/RF_migration/redeBP-BB/RF_Zhu_Kanamori/H_VP_mean_std.txt')[:,1]\n",
    "zhu_kanamori_VP_VS = np.genfromtxt('/home/diogo/dados_doutorado/parnaiba_basin/RF_migration/redeBP-BB/RF_Zhu_Kanamori/H_VP_mean_std.txt')[:,2]\n",
    "zhu_kanamori_VP_VS_e = np.genfromtxt('/home/diogo/dados_doutorado/parnaiba_basin/RF_migration/redeBP-BB/RF_Zhu_Kanamori/H_VP_mean_std.txt')[:,3]\n",
    "\n",
    "zhu_kanamori_H_10 = np.genfromtxt('/home/diogo/dados_doutorado/parnaiba_basin/RF_migration/redeBP-BB/RF_Zhu_Kanamori/H_VP_mean_std_10.txt')[:,0]\n",
    "zhu_kanamori_H_e_10 = np.genfromtxt('/home/diogo/dados_doutorado/parnaiba_basin/RF_migration/redeBP-BB/RF_Zhu_Kanamori/H_VP_mean_std_10.txt')[:,1]\n",
    "zhu_kanamori_VP_VS_10 = np.genfromtxt('/home/diogo/dados_doutorado/parnaiba_basin/RF_migration/redeBP-BB/RF_Zhu_Kanamori/H_VP_mean_std_10.txt')[:,2]\n",
    "zhu_kanamori_VP_VS_e_10 = np.genfromtxt('/home/diogo/dados_doutorado/parnaiba_basin/RF_migration/redeBP-BB/RF_Zhu_Kanamori/H_VP_mean_std_10.txt')[:,3]\n",
    "\n",
    "zhu_kanamori_H_25 = np.genfromtxt('/home/diogo/dados_doutorado/parnaiba_basin/RF_migration/redeBP-BB/RF_Zhu_Kanamori/H_VP_mean_std_25.txt')[:,0]\n",
    "zhu_kanamori_H_e_25 = np.genfromtxt('/home/diogo/dados_doutorado/parnaiba_basin/RF_migration/redeBP-BB/RF_Zhu_Kanamori/H_VP_mean_std_25.txt')[:,1]\n",
    "zhu_kanamori_VP_VS_25 = np.genfromtxt('/home/diogo/dados_doutorado/parnaiba_basin/RF_migration/redeBP-BB/RF_Zhu_Kanamori/H_VP_mean_std_25.txt')[:,2]\n",
    "zhu_kanamori_VP_VS_e_25 = np.genfromtxt('/home/diogo/dados_doutorado/parnaiba_basin/RF_migration/redeBP-BB/RF_Zhu_Kanamori/H_VP_mean_std_25.txt')[:,3]\n",
    "\n",
    "zhu_kanamori_H_25 = np.genfromtxt('/home/diogo/dados_doutorado/parnaiba_basin/RF_migration/redeBP-BB/RF_Zhu_Kanamori/H_VP_mean_std_25.txt')[:,0]\n",
    "zhu_kanamori_H_e_25 = np.genfromtxt('/home/diogo/dados_doutorado/parnaiba_basin/RF_migration/redeBP-BB/RF_Zhu_Kanamori/H_VP_mean_std_25.txt')[:,1]\n",
    "zhu_kanamori_VP_VS_25 = np.genfromtxt('/home/diogo/dados_doutorado/parnaiba_basin/RF_migration/redeBP-BB/RF_Zhu_Kanamori/H_VP_mean_std_25.txt')[:,2]\n",
    "zhu_kanamori_VP_VS_e_25 = np.genfromtxt('/home/diogo/dados_doutorado/parnaiba_basin/RF_migration/redeBP-BB/RF_Zhu_Kanamori/H_VP_mean_std_25.txt')[:,3]"
   ]
  },
  {
   "cell_type": "code",
   "execution_count": 89,
   "metadata": {
    "collapsed": true
   },
   "outputs": [],
   "source": [
    "zhu_kanamori_H_25_vp_65 = np.genfromtxt('/home/diogo/dados_doutorado/parnaiba_basin/RF_migration/redeBP-BB/RF_Zhu_Kanamori/H_VP_mean_std_25_vp_65.txt')[:,0]\n",
    "zhu_kanamori_H_e_25_vp_65 = np.genfromtxt('/home/diogo/dados_doutorado/parnaiba_basin/RF_migration/redeBP-BB/RF_Zhu_Kanamori/H_VP_mean_std_25_vp_65.txt')[:,1]\n",
    "zhu_kanamori_VP_VS_25_vp_65 = np.genfromtxt('/home/diogo/dados_doutorado/parnaiba_basin/RF_migration/redeBP-BB/RF_Zhu_Kanamori/H_VP_mean_std_25_vp_65.txt')[:,2]\n",
    "zhu_kanamori_VP_VS_e_25_vp_65 = np.genfromtxt('/home/diogo/dados_doutorado/parnaiba_basin/RF_migration/redeBP-BB/RF_Zhu_Kanamori/H_VP_mean_std_25_vp_65.txt')[:,3]"
   ]
  },
  {
   "cell_type": "code",
   "execution_count": 90,
   "metadata": {},
   "outputs": [
    {
     "data": {
      "image/png": "[encoded data removed]",
      "text/plain": [
       "<matplotlib.figure.Figure at 0x7fe0107e6390>"
      ]
     },
     "metadata": {},
     "output_type": "display_data"
    }
   ],
   "source": [
    "fig = plt.figure(figsize=(20,10),facecolor='white')\n",
    "gs1 = gridspec.GridSpec(1,len(org_STA),wspace=0.5, hspace=0.3)\n",
    "\n",
    "for j,i in enumerate(org_STA):\n",
    "    ax1 = fig.add_subplot(gs1[j])\n",
    "  #  ax1.hlines(basin_depth[j],3.2,6,linestyles='dashed',lw=3)\n",
    "    ax1.fill_betweenx(prof_9[i],0,vs_9[i],where=[i >=0 and i <=5 for i in vs_9[i]],facecolor='lightgray')\n",
    "    ax1.fill_betweenx(prof_9[i],0,vs_9[i],where=[i <=2.99 for i in vs_9[i]],facecolor='w')\n",
    "    ax1.fill_betweenx(prof_9[i],0,vs_9[i],where=[i >=3.0 and i <=3.6 for i in vs_9[i]],facecolor='lightgray')\n",
    "    ax1.fill_betweenx(prof_9[i],0,vs_9[i],where=[i >=3.7 and i <=4.0 for i in vs_9[i]],facecolor='darkgray')\n",
    "    ax1.fill_betweenx(prof_9[i],0,vs_9[i],where=[i >=4.0 and i <=4.3 for i in vs_9[i]],facecolor='dimgrey')\n",
    "    ax1.fill_betweenx(prof_9[i],0,vs_9[i],where=[i >=4.3 for i in vs_9[i]],facecolor='k',alpha=0.7)\n",
    "    #ax1.step(vs_0[i],prof_0[i],'grey',lw= 2, where='post',label='Initial Model')\n",
    "    ax1.step(vs_9[i],prof_9[i],'k',lw= 3, where='post',label='Final Model')\n",
    "    plt.tick_params(top='off', bottom='on', left='on', right='on')\n",
    "    if zhu_kanamori_H[i] != 0:\n",
    "        ax1.errorbar(2.5,-1*(zhu_kanamori_H[i]), yerr=zhu_kanamori_H_e[i], color='k',capsize=5,capthick=3,elinewidth=3)\n",
    "        ax1.plot(2.5,-1*zhu_kanamori_H[i], 'ko')\n",
    "        ax1.text(0.15,0.6,str(\"{0:.2f}\".format(zhu_kanamori_VP_VS[i])), transform=ax1.transAxes, fontsize=12)\n",
    "    else:\n",
    "        pass\n",
    "#    if zhu_kanamori_H_10[i] != 0:\n",
    "#        ax1.errorbar(2.5,-1*(zhu_kanamori_H_10[i]), yerr=zhu_kanamori_H_e_10[i], color='k',capsize=5,capthick=3,elinewidth=3)\n",
    "#        ax1.plot(2.5,-1*zhu_kanamori_H_10[i], 'ko')\n",
    "#        ax1.text(0.15,0.6,str(\"{0:.2f}\".format(zhu_kanamori_VP_VS_10[i])), transform=ax1.transAxes, fontsize=12)\n",
    "#    else:\n",
    "#        pass\n",
    "#    if zhu_kanamori_H_25_vp_65[i] != 0:\n",
    "#        ax1.errorbar(2.5,-1*(zhu_kanamori_H_25_vp_65[i]), yerr=zhu_kanamori_H_e_25_vp_65[i], color='k',capsize=5,capthick=3,elinewidth=3)\n",
    "#        ax1.plot(2.5,-1*zhu_kanamori_H_25_vp_65[i], 'ko')\n",
    "#        ax1.text(0.15,0.6,str(\"{0:.2f}\".format(zhu_kanamori_VP_VS_25_vp_65[i])), transform=ax1.transAxes, fontsize=12)\n",
    "#    else:\n",
    "#        pass\n",
    "    ax1.set_xlim([0,6])\n",
    "    ax1.set_ylim([-80,-0.0])\n",
    "    ax1.set_title(STA[j])\n",
    "    ax1.set_xlabel('S-Velocity (km/s)')\n",
    "    ax1.axes.grid('on') \n",
    "fig.text(0.09, 0.5, 'Depth (km)', va='center', rotation='vertical',fontsize='large')\n",
    "fig.text(0.37, 0.95,'Joint Invertion Models + Zhu&Kanamori - mean 1.0 & 2.5', va='center',fontsize='xx-large')\n",
    "\n",
    "fig.savefig('/home/diogo/dados_doutorado/parnaiba_basin/RF_migration/redeBP-BB/joint_inversion/JI_10_25/joint_inversion_velocity_models_average_10_25.pdf')\n"
   ]
  },
  {
   "cell_type": "code",
   "execution_count": null,
   "metadata": {
    "collapsed": true
   },
   "outputs": [],
   "source": []
  },
  {
   "cell_type": "code",
   "execution_count": null,
   "metadata": {
    "collapsed": true
   },
   "outputs": [],
   "source": []
  }
 ],
 "metadata": {
  "anaconda-cloud": {},
  "kernelspec": {
   "display_name": "Python 3",
   "language": "python",
   "name": "python3"
  },
  "language_info": {
   "codemirror_mode": {
    "name": "ipython",
    "version": 3
   },
   "file_extension": ".py",
   "mimetype": "text/x-python",
   "name": "python",
   "nbconvert_exporter": "python",
   "pygments_lexer": "ipython3",
   "version": "3.6.1"
  }
 },
 "nbformat": 4,
 "nbformat_minor": 1
}
