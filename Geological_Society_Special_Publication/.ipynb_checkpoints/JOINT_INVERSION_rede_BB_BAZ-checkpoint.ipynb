{
 "cells": [
  {
   "cell_type": "code",
   "execution_count": 7,
   "metadata": {},
   "outputs": [
    {
     "name": "stdout",
     "output_type": "stream",
     "text": [
      "Populating the interactive namespace from numpy and matplotlib\n"
     ]
    },
    {
     "name": "stderr",
     "output_type": "stream",
     "text": [
      "/home/diogo/programs/anaconda3/lib/python3.6/site-packages/IPython/core/magics/pylab.py:161: UserWarning: pylab import has clobbered these variables: ['display']\n",
      "`%matplotlib` prevents importing * from pylab and numpy\n",
      "  \"\\n`%matplotlib` prevents importing * from pylab and numpy\"\n"
     ]
    }
   ],
   "source": [
    "%pylab inline"
   ]
  },
  {
   "cell_type": "code",
   "execution_count": 8,
   "metadata": {
    "collapsed": true
   },
   "outputs": [],
   "source": [
    "import numpy as np\n",
    "import matplotlib.pyplot as plt\n",
    "import matplotlib.ticker as ticker\n",
    "import obspy as op\n",
    "import glob\n",
    "import os\n",
    "import fnmatch\n",
    "import shutil\n",
    "import matplotlib.gridspec as gridspec\n",
    "from scipy import signal,stats,spatial,misc\n",
    "from obspy.taup import TauPyModel\n",
    "import time\n",
    "from IPython import display\n",
    "import matplotlib.gridspec as gridspec\n",
    "from obspy.clients.fdsn import Client\n",
    "from obspy.clients.iris import Client as OldIris_Client\n",
    "from obspy.core.util import NamedTemporaryFile\n",
    "import matplotlib.mlab as mlab\n",
    "import itertools\n",
    "from obspy import UTCDateTime\n",
    "from matplotlib.cbook import get_sample_data\n",
    "from mpl_toolkits.basemap import Basemap"
   ]
  },
  {
   "cell_type": "markdown",
   "metadata": {},
   "source": [
    "<h3 align=\"center\">Recolhendo as Funções do Receptor Empilhadas para cada BAZ</h3>"
   ]
  },
  {
   "cell_type": "code",
   "execution_count": 9,
   "metadata": {
    "collapsed": true
   },
   "outputs": [],
   "source": [
    "datalist_10 = []\n",
    "datalistS_10 = []\n",
    "for root, dirs, files in os.walk('/home/diogo/dados_doutorado/parnaiba_basin/RF_migration/redeBP-BB/joint_inversion/gcarc_30_1.0/'):\n",
    "    for datafile in files:\n",
    "        if datafile.endswith('.stacking.a.1.0.eqr'):\n",
    "            datalist_10.append(os.path.join(root, datafile))\n",
    "datalistS_10 = sorted(datalist_10)\n",
    "\n",
    "datalist_25 = []\n",
    "datalistS_25 = []\n",
    "for root, dirs, files in os.walk('/home/diogo/dados_doutorado/parnaiba_basin/RF_migration/redeBP-BB/joint_inversion/gcarc_30_2.5/'):\n",
    "    for datafile in files:\n",
    "        if datafile.endswith('.stacking.a.2.5.eqr'):\n",
    "            datalist_25.append(os.path.join(root, datafile))\n",
    "datalistS_25 = sorted(datalist_25)"
   ]
  },
  {
   "cell_type": "code",
   "execution_count": 10,
   "metadata": {
    "collapsed": true
   },
   "outputs": [],
   "source": [
    "a10_STA_name = [i.split('/')[9] for i in datalistS_10]\n",
    "a25_STA_name = [i.split('/')[9] for i in datalistS_25]\n",
    "\n",
    "a10_folder_name = [i.split('/')[10] for i in datalistS_10]\n",
    "a25_folder_name = [i.split('/')[10] for i in datalistS_25]\n",
    "\n",
    "a10_file_name = [i.split('BAZ_')[1] for i in a10_folder_name]\n",
    "a25_file_name = [i.split('BAZ_')[1] for i in a25_folder_name]"
   ]
  },
  {
   "cell_type": "markdown",
   "metadata": {},
   "source": [
    "<h3 align=\"center\">Separando as Funções do Receptor Empilhadas por Estação</h3>"
   ]
  },
  {
   "cell_type": "markdown",
   "metadata": {},
   "source": [
    "<h3 align=\"center\">a = 1.0</h3>"
   ]
  },
  {
   "cell_type": "code",
   "execution_count": 11,
   "metadata": {
    "collapsed": true
   },
   "outputs": [],
   "source": [
    "for i,j in enumerate(datalistS_10):\n",
    "    os.makedirs('/home/diogo/dados_doutorado/parnaiba_basin/RF_migration/redeBP-BB/joint_inversion/JI_10_25/'+a10_STA_name[i]+'/'+a10_folder_name[i],exist_ok=True)\n",
    "    shutil.copy2(j,'/home/diogo/dados_doutorado/parnaiba_basin/RF_migration/redeBP-BB/joint_inversion/JI_10_25/'+a10_STA_name[i]+'/'+a10_folder_name[i]+'/rftn_lf'+a10_file_name[i]+'.'+a10_STA_name[i])"
   ]
  },
  {
   "cell_type": "markdown",
   "metadata": {},
   "source": [
    "<h3 align=\"center\">a = 2.5</h3>"
   ]
  },
  {
   "cell_type": "code",
   "execution_count": 12,
   "metadata": {
    "collapsed": true
   },
   "outputs": [],
   "source": [
    "for i,j in enumerate(datalistS_25):\n",
    "    os.makedirs('/home/diogo/dados_doutorado/parnaiba_basin/RF_migration/redeBP-BB/joint_inversion/JI_10_25/'+a25_STA_name[i]+'/'+a25_folder_name[i],exist_ok=True)\n",
    "    shutil.copy2(j,'/home/diogo/dados_doutorado/parnaiba_basin/RF_migration/redeBP-BB/joint_inversion/JI_10_25/'+a25_STA_name[i]+'/'+a25_folder_name[i]+'/rftn_hf'+a25_file_name[i]+'.'+a25_STA_name[i])"
   ]
  },
  {
   "cell_type": "code",
   "execution_count": null,
   "metadata": {
    "collapsed": true
   },
   "outputs": [],
   "source": []
  },
  {
   "cell_type": "code",
   "execution_count": null,
   "metadata": {
    "collapsed": true
   },
   "outputs": [],
   "source": []
  }
 ],
 "metadata": {
  "anaconda-cloud": {},
  "kernelspec": {
   "display_name": "Python 3",
   "language": "python",
   "name": "python3"
  },
  "language_info": {
   "codemirror_mode": {
    "name": "ipython",
    "version": 3
   },
   "file_extension": ".py",
   "mimetype": "text/x-python",
   "name": "python",
   "nbconvert_exporter": "python",
   "pygments_lexer": "ipython3",
   "version": "3.6.1"
  }
 },
 "nbformat": 4,
 "nbformat_minor": 1
}
