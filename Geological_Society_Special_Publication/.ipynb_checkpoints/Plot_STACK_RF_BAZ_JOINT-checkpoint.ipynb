{
 "cells": [
  {
   "cell_type": "code",
   "execution_count": 1,
   "metadata": {},
   "outputs": [
    {
     "name": "stdout",
     "output_type": "stream",
     "text": [
      "Populating the interactive namespace from numpy and matplotlib\n"
     ]
    }
   ],
   "source": [
    "%pylab inline"
   ]
  },
  {
   "cell_type": "code",
   "execution_count": 2,
   "metadata": {
    "collapsed": true
   },
   "outputs": [],
   "source": [
    "import numpy as np\n",
    "import matplotlib.pyplot as plt\n",
    "import matplotlib.ticker as ticker\n",
    "import obspy as op\n",
    "import glob\n",
    "import os\n",
    "import fnmatch\n",
    "import shutil\n",
    "import matplotlib.gridspec as gridspec\n",
    "from scipy import signal,stats,spatial,misc\n",
    "from obspy.taup import TauPyModel\n",
    "import time\n",
    "from IPython import display\n",
    "import matplotlib.gridspec as gridspec\n",
    "from obspy.clients.fdsn import Client\n",
    "from obspy.clients.iris import Client as OldIris_Client\n",
    "from obspy.core.util import NamedTemporaryFile\n",
    "import matplotlib.mlab as mlab\n",
    "import itertools\n",
    "from obspy import UTCDateTime\n",
    "from matplotlib.cbook import get_sample_data\n",
    "from mpl_toolkits.basemap import Basemap"
   ]
  },
  {
   "cell_type": "markdown",
   "metadata": {},
   "source": [
    "<h3 align=\"center\">Estações Sismográficas</h3>"
   ]
  },
  {
   "cell_type": "code",
   "execution_count": 3,
   "metadata": {
    "collapsed": true
   },
   "outputs": [],
   "source": [
    "STA = ['BDCO','BPPF','BUCO','GENI','GRJU','PRDT','STSN','STSR','TRZN']"
   ]
  },
  {
   "cell_type": "markdown",
   "metadata": {},
   "source": [
    "BDCO = 0, BPPF = 1 ,BUCO = 2, GENI = 3, GRJU = 4, PRDT = 5, STNS = 6, STSR = 7, TRZN = 8"
   ]
  },
  {
   "cell_type": "code",
   "execution_count": 4,
   "metadata": {
    "collapsed": true
   },
   "outputs": [],
   "source": [
    "z = 3"
   ]
  },
  {
   "cell_type": "markdown",
   "metadata": {},
   "source": [
    "<h3 align=\"center\">Recolhendo as listas com os grupos de BAZ das Funções do Receptor</h3>"
   ]
  },
  {
   "cell_type": "code",
   "execution_count": 5,
   "metadata": {
    "collapsed": true
   },
   "outputs": [],
   "source": [
    "RF_list_BAZ = []\n",
    "for root, dirs, files in os.walk('/home/diogo/dados_doutorado/parnaiba_basin/RF_migration/redeBP-BB/joint_inversion/'):\n",
    "    for datafile in files:\n",
    "        if datafile.startswith('org_BAZ_RAY_PARAMETER_list'):\n",
    "            RF_list_BAZ.append(os.path.join(root, datafile))"
   ]
  },
  {
   "cell_type": "code",
   "execution_count": 6,
   "metadata": {
    "collapsed": true
   },
   "outputs": [],
   "source": [
    "RF_list_BAZ_10 = []\n",
    "RF_list_BAZ_25 = []\n",
    "for i in RF_list_BAZ:\n",
    "        if 'gcarc_30_1.0' in i:\n",
    "            RF_list_BAZ_10.append(i)\n",
    "        else:\n",
    "            RF_list_BAZ_25.append(i)"
   ]
  },
  {
   "cell_type": "markdown",
   "metadata": {},
   "source": [
    "<h2 align=\"center\">Organizando pastas para Empilhar as Funções do Receptor a = 1.0</h2>"
   ]
  },
  {
   "cell_type": "code",
   "execution_count": 7,
   "metadata": {},
   "outputs": [],
   "source": [
    "for i in RF_list_BAZ_10:\n",
    "        if STA[z] in i:\n",
    "            sta_txt_10 =+ np.genfromtxt(i,dtype='str')"
   ]
  },
  {
   "cell_type": "code",
   "execution_count": 8,
   "metadata": {
    "collapsed": true
   },
   "outputs": [],
   "source": [
    "baz_folder_name_10 = []\n",
    "baz_folder_name_10 = [i[3] for i in sta_txt_10]\n",
    "\n",
    "RF_baz_name_10 = [] \n",
    "RF_baz_name_10 = [i[0] for i in sta_txt_10]\n",
    "\n",
    "baz_folders_10 = sorted(list(set(baz_folder_name_10)))"
   ]
  },
  {
   "cell_type": "code",
   "execution_count": 9,
   "metadata": {
    "collapsed": true
   },
   "outputs": [],
   "source": [
    "for i,j in enumerate(RF_baz_name_10):\n",
    "    os.makedirs('/home/diogo/dados_doutorado/parnaiba_basin/RF_migration/redeBP-BB/joint_inversion/gcarc_30_1.0/'+STA[z]+'/'+baz_folder_name_10[i],exist_ok=True)\n",
    "    shutil.copy2('/home/diogo/dados_doutorado/parnaiba_basin/RF_migration/redeBP-BB/joint_inversion/gcarc_30_1.0/'+STA[z]+'/'+j,'/home/diogo/dados_doutorado/parnaiba_basin/RF_migration/redeBP-BB/joint_inversion/gcarc_30_1.0/'+STA[z]+'/'+baz_folder_name_10[i]+'/'+j)"
   ]
  },
  {
   "cell_type": "markdown",
   "metadata": {},
   "source": [
    "<h2 align=\"center\">Calculando o Empilhamento para as Funções do Receptor a = 1.0</h2>"
   ]
  },
  {
   "cell_type": "code",
   "execution_count": 10,
   "metadata": {
    "collapsed": true
   },
   "outputs": [],
   "source": [
    "RF = []\n",
    "for i,j in enumerate(baz_folders_10):\n",
    "    os.chdir('/home/diogo/dados_doutorado/parnaiba_basin/RF_migration/redeBP-BB/joint_inversion/gcarc_30_1.0/'+STA[z]+'/'+j)\n",
    "    RF_10 = op.read('BP.'+STA[z]+'.20*')\n",
    "    number_RF_10 = len(RF_10)\n",
    "    RF_stack_10 = (np.array(RF_10).sum(axis=0)/len(RF_10))/0.564\n",
    "    RF_stack_10_user8 = sum([i.stats.sac.user8 for i in RF_10])/len(RF_10)\n",
    "    RF_stack_10_baz = sum([i.stats.sac.baz for i in RF_10])/len(RF_10)\n",
    "    RF_stack_10_user8_list = [i.stats.sac.user8 for i in RF_10]\n",
    "    RF_stack_10_baz_list = [i.stats.sac.baz for i in RF_10]\n",
    "    RF_stack_10_user8_mean = np.mean(RF_stack_10_user8_list)\n",
    "    RF_stack_10_baz_mean = np.mean(RF_stack_10_baz_list)\n",
    "    RF_stack_10_user8_std = np.std(RF_stack_10_user8_list)\n",
    "    RF_stack_10_baz_std = np.std(RF_stack_10_baz_list)\n",
    "    list_baz_std_baz_std_10 = [number_RF_10,\"{0:.0f}\".format(RF_stack_10_baz_mean),\"{0:.3f}\".format(RF_stack_10_baz_std),\"{0:.3f}\".format(RF_stack_10_user8_mean),\"{0:.5f}\".format(RF_stack_10_user8_std)]\n",
    "    header = {'kstnm': RF_10[0].stats.sac.kstnm,'stla': RF_10[0].stats.sac.stla,\n",
    "              'stlo': RF_10[0].stats.sac.stlo,'user8':RF_stack_10_user8,'delta': RF_10[0].stats.sac.delta,'baz':RF_stack_10_baz}\n",
    "    sac = op.io.sac.SACTrace(data=RF_stack_10, **header)\n",
    "    sac.write('/home/diogo/dados_doutorado/parnaiba_basin/RF_migration/redeBP-BB/joint_inversion/gcarc_30_1.0/'+STA[z]+'/'+j+'/BP.'+STA[z]+'.stacking.a.1.0.eqr')\n",
    "    np.savetxt('/home/diogo/dados_doutorado/parnaiba_basin/RF_migration/redeBP-BB/joint_inversion/gcarc_30_1.0/'+STA[z]+'/'+j+'/BP_'+STA[z]+'_stacking_mean_std_10.txt',np.column_stack(list_baz_std_baz_std_10),fmt='%s',delimiter=' ')"
   ]
  },
  {
   "cell_type": "markdown",
   "metadata": {},
   "source": [
    "<h2 align=\"center\">Organizando pastas para Empilhar as Funções do Receptor a = 2.5</h2>"
   ]
  },
  {
   "cell_type": "code",
   "execution_count": 11,
   "metadata": {
    "collapsed": true
   },
   "outputs": [],
   "source": [
    "for i in RF_list_BAZ_25:\n",
    "        if STA[z] in i:\n",
    "            sta_txt_25 =+ np.genfromtxt(i,dtype='str')"
   ]
  },
  {
   "cell_type": "code",
   "execution_count": 12,
   "metadata": {
    "collapsed": true
   },
   "outputs": [],
   "source": [
    "baz_folder_name_25 = []\n",
    "baz_folder_name_25 = [i[3] for i in sta_txt_25]\n",
    "\n",
    "RF_baz_name_25 = [] \n",
    "RF_baz_name_25 = [i[0] for i in sta_txt_25]\n",
    "\n",
    "baz_folders_25 = sorted(list(set(baz_folder_name_25)))"
   ]
  },
  {
   "cell_type": "code",
   "execution_count": 13,
   "metadata": {
    "collapsed": true
   },
   "outputs": [],
   "source": [
    "for i,j in enumerate(RF_baz_name_25):\n",
    "    os.makedirs('/home/diogo/dados_doutorado/parnaiba_basin/RF_migration/redeBP-BB/joint_inversion/gcarc_30_2.5/'+STA[z]+'/'+baz_folder_name_25[i],exist_ok=True)\n",
    "    shutil.copy2('/home/diogo/dados_doutorado/parnaiba_basin/RF_migration/redeBP-BB/joint_inversion/gcarc_30_2.5/'+STA[z]+'/'+j,'/home/diogo/dados_doutorado/parnaiba_basin/RF_migration/redeBP-BB/joint_inversion/gcarc_30_2.5/'+STA[z]+'/'+baz_folder_name_25[i]+'/'+j)"
   ]
  },
  {
   "cell_type": "markdown",
   "metadata": {},
   "source": [
    "<h2 align=\"center\">Calculando o Empilhamento para as Funções do Receptor a = 2.5</h2>"
   ]
  },
  {
   "cell_type": "code",
   "execution_count": 14,
   "metadata": {
    "collapsed": true
   },
   "outputs": [],
   "source": [
    "RF = []\n",
    "for i,j in enumerate(baz_folders_25):\n",
    "    os.chdir('/home/diogo/dados_doutorado/parnaiba_basin/RF_migration/redeBP-BB/joint_inversion/gcarc_30_2.5/'+STA[z]+'/'+j)\n",
    "    RF_25 = op.read('BP.'+STA[z]+'.20*')\n",
    "    number_RF_25 = len(RF_25)\n",
    "    RF_stack_25 = (np.array(RF_25).sum(axis=0)/len(RF_25))/1.41\n",
    "    RF_stack_25_user8 = sum([i.stats.sac.user8 for i in RF_25])/len(RF_25)\n",
    "    RF_stack_25_baz = sum([i.stats.sac.baz for i in RF_25])/len(RF_25)\n",
    "    RF_stack_25_user8_list = [i.stats.sac.user8 for i in RF_25]\n",
    "    RF_stack_25_baz_list = [i.stats.sac.baz for i in RF_25]\n",
    "    RF_stack_25_user8_mean = np.mean(RF_stack_25_user8_list)\n",
    "    RF_stack_25_baz_mean = np.mean(RF_stack_25_baz_list)\n",
    "    RF_stack_25_user8_std = np.std(RF_stack_25_user8_list)\n",
    "    RF_stack_25_baz_std = np.std(RF_stack_25_baz_list)\n",
    "    list_baz_std_user8_std_25 = [number_RF_25,\"{0:.0f}\".format(RF_stack_25_baz_mean),\"{0:.3f}\".format(RF_stack_25_baz_std),\"{0:.3f}\".format(RF_stack_25_user8_mean),\"{0:.5f}\".format(RF_stack_25_user8_std)]\n",
    "    header = {'kstnm': RF_25[0].stats.sac.kstnm,'stla': RF_25[0].stats.sac.stla,\n",
    "              'stlo': RF_25[0].stats.sac.stlo,'user8':RF_stack_25_user8,'delta': RF_25[0].stats.sac.delta,'baz':RF_stack_25_baz}\n",
    "    sac = op.io.sac.SACTrace(data=RF_stack_25, **header)\n",
    "    sac.write('/home/diogo/dados_doutorado/parnaiba_basin/RF_migration/redeBP-BB/joint_inversion/gcarc_30_2.5/'+STA[z]+'/'+j+'/BP.'+STA[z]+'.stacking.a.2.5.eqr')\n",
    "    np.savetxt('/home/diogo/dados_doutorado/parnaiba_basin/RF_migration/redeBP-BB/joint_inversion/gcarc_30_2.5/'+STA[z]+'/'+j+'/BP_'+STA[z]+'_stacking_mean_std_25.txt',np.column_stack(list_baz_std_user8_std_25),fmt='%s',delimiter=' ')"
   ]
  },
  {
   "cell_type": "code",
   "execution_count": null,
   "metadata": {
    "collapsed": true
   },
   "outputs": [],
   "source": []
  },
  {
   "cell_type": "code",
   "execution_count": null,
   "metadata": {
    "collapsed": true
   },
   "outputs": [],
   "source": []
  }
 ],
 "metadata": {
  "anaconda-cloud": {},
  "kernelspec": {
   "display_name": "Python 3",
   "language": "python",
   "name": "python3"
  },
  "language_info": {
   "codemirror_mode": {
    "name": "ipython",
    "version": 3
   },
   "file_extension": ".py",
   "mimetype": "text/x-python",
   "name": "python",
   "nbconvert_exporter": "python",
   "pygments_lexer": "ipython3",
   "version": "3.6.1"
  }
 },
 "nbformat": 4,
 "nbformat_minor": 1
}
