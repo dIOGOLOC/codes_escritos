{
 "cells": [
  {
   "cell_type": "code",
   "execution_count": 13,
   "metadata": {},
   "outputs": [
    {
     "name": "stdout",
     "output_type": "stream",
     "text": [
      "Populating the interactive namespace from numpy and matplotlib\n"
     ]
    },
    {
     "name": "stderr",
     "output_type": "stream",
     "text": [
      "/home/diogo/programs/anaconda3/lib/python3.6/site-packages/IPython/core/magics/pylab.py:161: UserWarning: pylab import has clobbered these variables: ['display']\n",
      "`%matplotlib` prevents importing * from pylab and numpy\n",
      "  \"\\n`%matplotlib` prevents importing * from pylab and numpy\"\n"
     ]
    }
   ],
   "source": [
    "%pylab inline"
   ]
  },
  {
   "cell_type": "code",
   "execution_count": 14,
   "metadata": {
    "collapsed": true
   },
   "outputs": [],
   "source": [
    "import numpy as np\n",
    "import matplotlib.pyplot as plt\n",
    "import matplotlib.ticker as ticker\n",
    "import obspy as op\n",
    "import glob\n",
    "import os\n",
    "import fnmatch\n",
    "import shutil\n",
    "import matplotlib.gridspec as gridspec\n",
    "from scipy import signal,stats,spatial,misc\n",
    "from obspy.taup import TauPyModel\n",
    "import time\n",
    "from IPython import display\n",
    "import matplotlib.gridspec as gridspec\n",
    "from obspy.clients.fdsn import Client\n",
    "from obspy.clients.iris import Client as OldIris_Client\n",
    "from obspy.core.util import NamedTemporaryFile\n",
    "import matplotlib.mlab as mlab\n",
    "import itertools\n",
    "from obspy import UTCDateTime\n",
    "from matplotlib.cbook import get_sample_data\n",
    "from mpl_toolkits.basemap import Basemap\n",
    "from matplotlib.ticker import FormatStrFormatter\n"
   ]
  },
  {
   "cell_type": "markdown",
   "metadata": {},
   "source": [
    "<h2 align=\"center\">Estações Sismográficas</h2>"
   ]
  },
  {
   "cell_type": "code",
   "execution_count": 15,
   "metadata": {
    "collapsed": true
   },
   "outputs": [],
   "source": [
    "STA = ['BDCO','BPPF','BUCO','GENI','GRJU','PRDT','STSN','STSR','TRZN']"
   ]
  },
  {
   "cell_type": "markdown",
   "metadata": {},
   "source": [
    "BDCO = 0, BPPF = 1 ,BUCO = 2, GENI = 3, GRJU = 4, PRDT = 5, STNS = 6, STSR = 7, TRZN = 8"
   ]
  },
  {
   "cell_type": "markdown",
   "metadata": {},
   "source": [
    "<h2 align=\"center\">Recolhendo as listas com o resultados do HK STACKING para as estações</h2>"
   ]
  },
  {
   "cell_type": "code",
   "execution_count": 16,
   "metadata": {
    "collapsed": true
   },
   "outputs": [],
   "source": [
    "JI_list = []\n",
    "JI_listS = []\n",
    "\n",
    "for root, dirs, files in os.walk('/home/diogo/dados_doutorado/parnaiba_basin/RF_migration/redeBP-BB/joint_inversion/JI_10_25/'):\n",
    "    for datafile in files:\n",
    "        if datafile.endswith('moho_error.txt'):\n",
    "            JI_list.append(os.path.join(root, datafile))\n",
    "JI_listS = sorted(JI_list)\n",
    "\n",
    "\n",
    "ZHU_list = []\n",
    "ZHU_listS = []\n",
    "\n",
    "for root, dirs, files in os.walk('/home/diogo/dados_doutorado/parnaiba_basin/RF_migration/redeBP-BB/RF_Zhu_Kanamori/'):\n",
    "    for datafile in files:\n",
    "        if datafile.startswith('H_VP_mean_std.'):\n",
    "            ZHU_list.append(os.path.join(root, datafile))\n",
    "ZHU_listS = sorted(ZHU_list)\n",
    "\n",
    "\n",
    "ZHU_list_25 = []\n",
    "ZHU_list_25S = []\n",
    "\n",
    "for root, dirs, files in os.walk('/home/diogo/dados_doutorado/parnaiba_basin/RF_migration/redeBP-BB/RF_Zhu_Kanamori/'):\n",
    "    for datafile in files:\n",
    "        if datafile.startswith('H_VP_mean_std_25_vp_65.'):\n",
    "            ZHU_list_25.append(os.path.join(root, datafile))\n",
    "ZHU_list_25S = sorted(ZHU_list_25)"
   ]
  },
  {
   "cell_type": "markdown",
   "metadata": {},
   "source": [
    "<h2 align=\"center\">Importando as listas com o resultados da espessura crustal</h2>"
   ]
  },
  {
   "cell_type": "code",
   "execution_count": 17,
   "metadata": {
    "collapsed": true
   },
   "outputs": [],
   "source": [
    "STA_JI_list = [[] for x in range(len(STA))]\n",
    "\n",
    "for i,j in enumerate(JI_listS):\n",
    "    for l,k in enumerate(STA):\n",
    "        if k in j:\n",
    "            STA_JI_list[l].append(j)\n",
    "           "
   ]
  },
  {
   "cell_type": "markdown",
   "metadata": {},
   "source": [
    "<h2 align=\"center\">Importando os arquivos TXT</h2>"
   ]
  },
  {
   "cell_type": "code",
   "execution_count": 18,
   "metadata": {
    "collapsed": true
   },
   "outputs": [],
   "source": [
    "H_JI = []\n",
    "H_error_JI = []\n",
    "for i,j in enumerate(STA_JI_list):\n",
    "    H_JI.append(np.genfromtxt(j[0])[0])\n",
    "    H_error_JI.append(np.genfromtxt(j[0])[1])"
   ]
  },
  {
   "cell_type": "code",
   "execution_count": 19,
   "metadata": {
    "collapsed": true
   },
   "outputs": [],
   "source": [
    "H_ZHU = np.genfromtxt(ZHU_listS[0])[:,0]\n",
    "H_error_ZHU = np.genfromtxt(ZHU_listS[0])[:,1]"
   ]
  },
  {
   "cell_type": "code",
   "execution_count": 20,
   "metadata": {
    "collapsed": true
   },
   "outputs": [],
   "source": [
    "H_ZHU_25 = np.genfromtxt(ZHU_list_25S[0])[:,0]\n",
    "H_error_ZHU_25 = np.genfromtxt(ZHU_list_25S[0])[:,1]"
   ]
  },
  {
   "cell_type": "code",
   "execution_count": 21,
   "metadata": {
    "collapsed": true
   },
   "outputs": [],
   "source": [
    "H_JORDI = [42.7,42.2,43.6,0,43.7,41.1,40.0,39.3,40.3]\n",
    "H_error__JORDI = [1.5,0.7,0.7,0,0.5,1.9,0.4,0.5,1.1]"
   ]
  },
  {
   "cell_type": "markdown",
   "metadata": {},
   "source": [
    "<h2 align=\"center\">Plotando as espessuras crustais</h2>"
   ]
  },
  {
   "cell_type": "code",
   "execution_count": 22,
   "metadata": {
    "collapsed": true
   },
   "outputs": [],
   "source": [
    "org_STA = [1,6,4,3,0,5,7,2,8]\n",
    "STA_y = (H_JI+H_ZHU_25)/2"
   ]
  },
  {
   "cell_type": "code",
   "execution_count": 23,
   "metadata": {},
   "outputs": [
    {
     "data": {
      "text/plain": [
       "[0.22988505747126217,\n",
       " 0.098039215686275341,\n",
       " 0.0,\n",
       " -0.10416666666666667,\n",
       " -0.6696428571428541,\n",
       " -0.8392857142857153,\n",
       " 0.072463768115942642,\n",
       " 0.4642857142857153,\n",
       " 0.0]"
      ]
     },
     "execution_count": 23,
     "metadata": {},
     "output_type": "execute_result"
    }
   ],
   "source": [
    "H_error_JI"
   ]
  },
  {
   "cell_type": "code",
   "execution_count": 26,
   "metadata": {},
   "outputs": [
    {
     "data": {
      "image/png": "[encoded data removed]",
      "text/plain": [
       "<matplotlib.figure.Figure at 0x7f4cbc13a518>"
      ]
     },
     "metadata": {},
     "output_type": "display_data"
    }
   ],
   "source": [
    "fig = plt.figure(figsize=(20,10),facecolor='white')\n",
    "\n",
    "for i,j in enumerate(org_STA):\n",
    "    #if H_ZHU_25[i] != 0:\n",
    "        l1 = plt.plot(i,H_ZHU_25[j],marker='o',c='k',markersize=10,alpha=0.5)\n",
    "        plt.errorbar(i,H_ZHU_25[j],yerr=H_error_ZHU[j],marker='o',c='k',capsize=5,capthick=3,elinewidth=3,alpha=0.5)\n",
    "        l2 = plt.plot(i,H_JI[j],marker='^',c='grey',markersize=10)\n",
    "        plt.errorbar(i,H_JI[j],yerr=H_error_JI[j],c='grey',capsize=5,capthick=3,elinewidth=3)\n",
    "        l3 = plt.plot(i,H_JORDI[i],marker='s',c='k',markersize=10,alpha=0.5)\n",
    "        plt.errorbar(i,H_JORDI[i],yerr=H_error__JORDI[i],c='k',capsize=5,capthick=3,elinewidth=3)\n",
    "        plt.ylim(50,20)\n",
    "        plt.text(i-0.2,25,STA[j],fontsize=20)\n",
    "        plt.grid('on')\n",
    "        plt.legend(('Zhu&Kanamori_dIOGO', 'Joint Inversion', 'Zhu&Kanamori_Jordi'), loc='lower left',fontsize=15)\n",
    "plt.savefig('/home/diogo/dados_doutorado/parnaiba_basin/RF_migration/redeBP-BB/joint_inversion/JI_10_25/comparacao_ZHU_JI.pdf')"
   ]
  },
  {
   "cell_type": "code",
   "execution_count": null,
   "metadata": {
    "collapsed": true
   },
   "outputs": [],
   "source": []
  }
 ],
 "metadata": {
  "anaconda-cloud": {},
  "kernelspec": {
   "display_name": "Python 3",
   "language": "python",
   "name": "python3"
  },
  "language_info": {
   "codemirror_mode": {
    "name": "ipython",
    "version": 3
   },
   "file_extension": ".py",
   "mimetype": "text/x-python",
   "name": "python",
   "nbconvert_exporter": "python",
   "pygments_lexer": "ipython3",
   "version": "3.6.1"
  }
 },
 "nbformat": 4,
 "nbformat_minor": 1
}
