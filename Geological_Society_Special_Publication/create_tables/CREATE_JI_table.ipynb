{
 "cells": [
  {
   "cell_type": "code",
   "execution_count": 1,
   "metadata": {},
   "outputs": [
    {
     "name": "stdout",
     "output_type": "stream",
     "text": [
      "Populating the interactive namespace from numpy and matplotlib\n"
     ]
    }
   ],
   "source": [
    "%pylab inline"
   ]
  },
  {
   "cell_type": "code",
   "execution_count": 28,
   "metadata": {
    "collapsed": true
   },
   "outputs": [],
   "source": [
    "import numpy as np\n",
    "import matplotlib.pyplot as plt\n",
    "import matplotlib.ticker as ticker\n",
    "import obspy as op\n",
    "import glob\n",
    "import os\n",
    "import fnmatch\n",
    "import shutil\n",
    "import matplotlib.gridspec as gridspec\n",
    "import itertools"
   ]
  },
  {
   "cell_type": "markdown",
   "metadata": {},
   "source": [
    "<h2 align=\"center\">Estações Sismográficas</h2>"
   ]
  },
  {
   "cell_type": "code",
   "execution_count": 4,
   "metadata": {
    "collapsed": true
   },
   "outputs": [],
   "source": [
    "STA = ['BDCO','BPPF','BUCO','GENI','GRJU','PRDT','STSN','STSR','TRZN']"
   ]
  },
  {
   "cell_type": "markdown",
   "metadata": {},
   "source": [
    "BDCO = 0, BPPF = 1 ,BUCO = 2, GENI = 3, GRJU = 4, PRDT = 5, STNS = 6, STSR = 7, TRZN = 8"
   ]
  },
  {
   "cell_type": "markdown",
   "metadata": {},
   "source": [
    "<h2 align=\"center\">Recolhendo as listas com o resultados do JI para as estações</h2>"
   ]
  },
  {
   "cell_type": "code",
   "execution_count": 5,
   "metadata": {
    "collapsed": true
   },
   "outputs": [],
   "source": [
    "list_JI = []\n",
    "list_JIS = []\n",
    "\n",
    "for root, dirs, files in os.walk('/home/diogo/dados_doutorado/parnaiba_basin/RF_migration/redeBP-BB/joint_inversion/JI_10_25_all/'):\n",
    "    for datafile in files:\n",
    "        if datafile.endswith('JI_estimates_error_table.txt'):\n",
    "            list_JI.append(os.path.join(root, datafile))\n",
    "list_JIS = sorted(list_JI)"
   ]
  },
  {
   "cell_type": "code",
   "execution_count": 8,
   "metadata": {},
   "outputs": [
    {
     "data": {
      "text/plain": [
       "['/home/diogo/dados_doutorado/parnaiba_basin/RF_migration/redeBP-BB/joint_inversion/JI_10_25_all/BDCO/BDCO_JI_estimates_error_table.txt',\n",
       " '/home/diogo/dados_doutorado/parnaiba_basin/RF_migration/redeBP-BB/joint_inversion/JI_10_25_all/BPPF/BPPF_JI_estimates_error_table.txt',\n",
       " '/home/diogo/dados_doutorado/parnaiba_basin/RF_migration/redeBP-BB/joint_inversion/JI_10_25_all/BUCO/BUCO_JI_estimates_error_table.txt',\n",
       " '/home/diogo/dados_doutorado/parnaiba_basin/RF_migration/redeBP-BB/joint_inversion/JI_10_25_all/GENI/GENI_JI_estimates_error_table.txt',\n",
       " '/home/diogo/dados_doutorado/parnaiba_basin/RF_migration/redeBP-BB/joint_inversion/JI_10_25_all/GRJU/GRJU_JI_estimates_error_table.txt',\n",
       " '/home/diogo/dados_doutorado/parnaiba_basin/RF_migration/redeBP-BB/joint_inversion/JI_10_25_all/PRDT/PRDT_JI_estimates_error_table.txt',\n",
       " '/home/diogo/dados_doutorado/parnaiba_basin/RF_migration/redeBP-BB/joint_inversion/JI_10_25_all/STSN/STSN_JI_estimates_error_table.txt',\n",
       " '/home/diogo/dados_doutorado/parnaiba_basin/RF_migration/redeBP-BB/joint_inversion/JI_10_25_all/STSR/STSR_JI_estimates_error_table.txt',\n",
       " '/home/diogo/dados_doutorado/parnaiba_basin/RF_migration/redeBP-BB/joint_inversion/JI_10_25_all/TRZN/TRZN_JI_estimates_error_table.txt']"
      ]
     },
     "execution_count": 8,
     "metadata": {},
     "output_type": "execute_result"
    }
   ],
   "source": [
    "list_JIS"
   ]
  },
  {
   "cell_type": "markdown",
   "metadata": {},
   "source": [
    "<h2 align=\"center\">Importando as listas com o resultados do HK STACKING</h2>"
   ]
  },
  {
   "cell_type": "code",
   "execution_count": 16,
   "metadata": {},
   "outputs": [],
   "source": [
    "STA_THICKNESS_list = []\n",
    "for i,j in enumerate(list_JIS):\n",
    "    STA_THICKNESS_list.append(np.genfromtxt(j,dtype='str')[0])\n",
    "\n",
    "    \n",
    "STA_VS_list = []\n",
    "for i,j in enumerate(list_JIS):\n",
    "    STA_VS_list.append(np.genfromtxt(j,dtype='str')[1])\n"
   ]
  },
  {
   "cell_type": "code",
   "execution_count": 17,
   "metadata": {},
   "outputs": [
    {
     "data": {
      "text/plain": [
       "['BDCO&2.5$\\\\pm$0.00&22.5$\\\\pm$2.36&40.0$\\\\pm$2.36\\\\\\\\',\n",
       " 'BPPF&2.0$\\\\pm$0.00&17.0$\\\\pm$10.80&39.5$\\\\pm$4.08\\\\\\\\',\n",
       " 'BUCO&2.5$\\\\pm$0.43&27.5$\\\\pm$6.50&37.5$\\\\pm$0.00\\\\\\\\',\n",
       " 'GENI&3.5$\\\\pm$0.00&23.5$\\\\pm$2.36&41.0$\\\\pm$4.71\\\\\\\\',\n",
       " 'GRJU&3.5$\\\\pm$0.17&18.5$\\\\pm$6.35&41.0$\\\\pm$2.40\\\\\\\\',\n",
       " 'PRDT&2.0$\\\\pm$0.00&24.5$\\\\pm$4.00&37.0$\\\\pm$3.74\\\\\\\\',\n",
       " 'STSN&2.5$\\\\pm$0.00&27.5$\\\\pm$10.30&37.5$\\\\pm$4.95\\\\\\\\',\n",
       " 'STSR&2.0$\\\\pm$0.43&17.0$\\\\pm$5.71&39.5$\\\\pm$5.43\\\\\\\\',\n",
       " 'TRZN&2.0$\\\\pm$0.00&20.0$\\\\pm$5.80&40.0$\\\\pm$2.67\\\\\\\\']"
      ]
     },
     "execution_count": 17,
     "metadata": {},
     "output_type": "execute_result"
    }
   ],
   "source": [
    "STA_THICKNESS_list"
   ]
  },
  {
   "cell_type": "code",
   "execution_count": 19,
   "metadata": {},
   "outputs": [
    {
     "data": {
      "text/plain": [
       "['BDCO&2.65$\\\\pm$0.012&3.84$\\\\pm$0.080&4.29$\\\\pm$0.065\\\\\\\\',\n",
       " 'BPPF&2.10$\\\\pm$0.020&3.87$\\\\pm$0.095&4.31$\\\\pm$0.114\\\\\\\\',\n",
       " 'BUCO&2.73$\\\\pm$0.037&3.83$\\\\pm$0.173&4.35$\\\\pm$0.037\\\\\\\\',\n",
       " 'GENI&2.67$\\\\pm$0.045&3.83$\\\\pm$0.013&4.26$\\\\pm$0.106\\\\\\\\',\n",
       " 'GRJU&2.70$\\\\pm$0.150&3.83$\\\\pm$0.145&4.31$\\\\pm$0.295\\\\\\\\',\n",
       " 'PRDT&2.58$\\\\pm$0.035&3.92$\\\\pm$0.152&4.32$\\\\pm$0.224\\\\\\\\',\n",
       " 'STSN&2.27$\\\\pm$0.043&3.90$\\\\pm$0.168&4.29$\\\\pm$0.149\\\\\\\\',\n",
       " 'STSR&2.70$\\\\pm$0.163&3.79$\\\\pm$0.240&4.35$\\\\pm$0.116\\\\\\\\',\n",
       " 'TRZN&2.65$\\\\pm$0.012&3.94$\\\\pm$0.070&4.39$\\\\pm$0.102\\\\\\\\']"
      ]
     },
     "execution_count": 19,
     "metadata": {},
     "output_type": "execute_result"
    }
   ],
   "source": [
    "STA_VS_list"
   ]
  },
  {
   "cell_type": "code",
   "execution_count": 22,
   "metadata": {
    "collapsed": true
   },
   "outputs": [],
   "source": [
    "title_thickness = 'Station & Basin (km) & MRC (km) & Moho (km) \\\\ \\hline'"
   ]
  },
  {
   "cell_type": "code",
   "execution_count": 43,
   "metadata": {},
   "outputs": [
    {
     "data": {
      "text/plain": [
       "'Station & Basin (km) & MRC (km) & Moho (km) \\\\ \\\\hline'"
      ]
     },
     "execution_count": 43,
     "metadata": {},
     "output_type": "execute_result"
    }
   ],
   "source": [
    "title_thickness"
   ]
  },
  {
   "cell_type": "code",
   "execution_count": 26,
   "metadata": {
    "collapsed": true
   },
   "outputs": [],
   "source": [
    "title_vs = 'Station & Basin (km/s) & MRC (km/s) & Moho (km/s) \\\\ \\hline'"
   ]
  },
  {
   "cell_type": "code",
   "execution_count": 27,
   "metadata": {},
   "outputs": [
    {
     "data": {
      "text/plain": [
       "'Station & Basin (km/s) & MRC (km/s) & Moho (km/s) \\\\ \\\\hline'"
      ]
     },
     "execution_count": 27,
     "metadata": {},
     "output_type": "execute_result"
    }
   ],
   "source": [
    "title_vs"
   ]
  },
  {
   "cell_type": "code",
   "execution_count": 50,
   "metadata": {},
   "outputs": [],
   "source": [
    "np.savetxt('/home/diogo/dados_doutorado/parnaiba_basin/RF_migration/redeBP-BB/joint_inversion/JI_10_25_all/latex_table_JI_thickness.txt',STA_THICKNESS_list,fmt=['%s'],delimiter='\\n')"
   ]
  },
  {
   "cell_type": "code",
   "execution_count": 49,
   "metadata": {},
   "outputs": [
    {
     "data": {
      "text/plain": [
       "['BDCO&2.5$\\\\pm$0.00&22.5$\\\\pm$2.36&40.0$\\\\pm$2.36\\\\\\\\',\n",
       " 'BPPF&2.0$\\\\pm$0.00&17.0$\\\\pm$10.80&39.5$\\\\pm$4.08\\\\\\\\',\n",
       " 'BUCO&2.5$\\\\pm$0.43&27.5$\\\\pm$6.50&37.5$\\\\pm$0.00\\\\\\\\',\n",
       " 'GENI&3.5$\\\\pm$0.00&23.5$\\\\pm$2.36&41.0$\\\\pm$4.71\\\\\\\\',\n",
       " 'GRJU&3.5$\\\\pm$0.17&18.5$\\\\pm$6.35&41.0$\\\\pm$2.40\\\\\\\\',\n",
       " 'PRDT&2.0$\\\\pm$0.00&24.5$\\\\pm$4.00&37.0$\\\\pm$3.74\\\\\\\\',\n",
       " 'STSN&2.5$\\\\pm$0.00&27.5$\\\\pm$10.30&37.5$\\\\pm$4.95\\\\\\\\',\n",
       " 'STSR&2.0$\\\\pm$0.43&17.0$\\\\pm$5.71&39.5$\\\\pm$5.43\\\\\\\\',\n",
       " 'TRZN&2.0$\\\\pm$0.00&20.0$\\\\pm$5.80&40.0$\\\\pm$2.67\\\\\\\\']"
      ]
     },
     "execution_count": 49,
     "metadata": {},
     "output_type": "execute_result"
    }
   ],
   "source": [
    "STA_THICKNESS_list"
   ]
  },
  {
   "cell_type": "code",
   "execution_count": 51,
   "metadata": {
    "collapsed": true
   },
   "outputs": [],
   "source": [
    "np.savetxt('/home/diogo/dados_doutorado/parnaiba_basin/RF_migration/redeBP-BB/joint_inversion/JI_10_25_all/latex_table_JI_vs.txt',STA_VS_list,fmt=['%s'],delimiter='\\n')"
   ]
  },
  {
   "cell_type": "code",
   "execution_count": null,
   "metadata": {
    "collapsed": true
   },
   "outputs": [],
   "source": []
  }
 ],
 "metadata": {
  "anaconda-cloud": {},
  "kernelspec": {
   "display_name": "Python 3",
   "language": "python",
   "name": "python3"
  },
  "language_info": {
   "codemirror_mode": {
    "name": "ipython",
    "version": 3
   },
   "file_extension": ".py",
   "mimetype": "text/x-python",
   "name": "python",
   "nbconvert_exporter": "python",
   "pygments_lexer": "ipython3",
   "version": "3.6.1"
  }
 },
 "nbformat": 4,
 "nbformat_minor": 1
}
