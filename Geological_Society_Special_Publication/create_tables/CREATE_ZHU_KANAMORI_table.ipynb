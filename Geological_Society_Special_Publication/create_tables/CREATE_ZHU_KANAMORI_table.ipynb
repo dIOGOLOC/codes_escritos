{
 "cells": [
  {
   "cell_type": "code",
   "execution_count": 1,
   "metadata": {},
   "outputs": [
    {
     "name": "stdout",
     "output_type": "stream",
     "text": [
      "Populating the interactive namespace from numpy and matplotlib\n"
     ]
    }
   ],
   "source": [
    "%pylab inline"
   ]
  },
  {
   "cell_type": "code",
   "execution_count": 2,
   "metadata": {
    "collapsed": true
   },
   "outputs": [],
   "source": [
    "import numpy as np\n",
    "import matplotlib.pyplot as plt\n",
    "import matplotlib.ticker as ticker\n",
    "import obspy as op\n",
    "import glob\n",
    "import os\n",
    "import fnmatch\n",
    "import shutil\n",
    "import matplotlib.gridspec as gridspec\n",
    "from scipy import signal,stats,spatial,misc\n",
    "from obspy.taup import TauPyModel\n",
    "import time\n",
    "from IPython import display\n",
    "import matplotlib.gridspec as gridspec\n",
    "from obspy.clients.fdsn import Client\n",
    "from obspy.clients.iris import Client as OldIris_Client\n",
    "from obspy.core.util import NamedTemporaryFile\n",
    "import matplotlib.mlab as mlab\n",
    "import itertools\n",
    "from obspy import UTCDateTime\n",
    "from matplotlib.cbook import get_sample_data\n",
    "from mpl_toolkits.basemap import Basemap\n",
    "from matplotlib.ticker import FormatStrFormatter\n"
   ]
  },
  {
   "cell_type": "markdown",
   "metadata": {},
   "source": [
    "<h2 align=\"center\">Estações Sismográficas</h2>"
   ]
  },
  {
   "cell_type": "code",
   "execution_count": 3,
   "metadata": {
    "collapsed": true
   },
   "outputs": [],
   "source": [
    "STA = ['BDCO','BPPF','BUCO','GENI','GRJU','PRDT','STSN','STSR','TRZN']"
   ]
  },
  {
   "cell_type": "markdown",
   "metadata": {},
   "source": [
    "BDCO = 0, BPPF = 1 ,BUCO = 2, GENI = 3, GRJU = 4, PRDT = 5, STNS = 6, STSR = 7, TRZN = 8"
   ]
  },
  {
   "cell_type": "markdown",
   "metadata": {},
   "source": [
    "<h2 align=\"center\">Recolhendo as listas com o resultados do HK STACKING para as estações</h2>"
   ]
  },
  {
   "cell_type": "code",
   "execution_count": 4,
   "metadata": {
    "collapsed": true
   },
   "outputs": [],
   "source": [
    "ZHU_list_10 = []\n",
    "ZHU_list_10S = []\n",
    "\n",
    "for root, dirs, files in os.walk('/home/diogo/dados_doutorado/parnaiba_basin/RF_migration/redeBP-BB/RF_Zhu_Kanamori/gcarc_30_1.0/'):\n",
    "    for datafile in files:\n",
    "        if datafile.endswith('VALUES.TXT'):\n",
    "            ZHU_list_10.append(os.path.join(root, datafile))\n",
    "ZHU_list_10S = sorted(ZHU_list_10)\n",
    "\n",
    "\n",
    "list_list_10 = []\n",
    "list_list_10S = []\n",
    "\n",
    "for root, dirs, files in os.walk('/home/diogo/dados_doutorado/parnaiba_basin/RF_migration/redeBP-BB/RF_Zhu_Kanamori/gcarc_30_1.0/'):\n",
    "    for datafile in files:\n",
    "        if datafile.endswith('list'):\n",
    "            list_list_10.append(os.path.join(root, datafile))\n",
    "list_list_10S = sorted(list_list_10)\n",
    "\n",
    "\n",
    "ZHU_list_25 = []\n",
    "ZHU_list_25S = []\n",
    "\n",
    "for root, dirs, files in os.walk('/home/diogo/dados_doutorado/parnaiba_basin/RF_migration/redeBP-BB/RF_Zhu_Kanamori/gcarc_30_2.5/'):\n",
    "    for datafile in files:\n",
    "        if datafile.endswith('VALUES.TXT'):\n",
    "            ZHU_list_25.append(os.path.join(root, datafile))\n",
    "ZHU_list_25S = sorted(ZHU_list_25)\n",
    "\n",
    "\n",
    "list_list_25 = []\n",
    "list_list_25S = []\n",
    "\n",
    "for root, dirs, files in os.walk('/home/diogo/dados_doutorado/parnaiba_basin/RF_migration/redeBP-BB/RF_Zhu_Kanamori/gcarc_30_2.5/'):\n",
    "    for datafile in files:\n",
    "        if datafile.endswith('list'):\n",
    "            list_list_25.append(os.path.join(root, datafile))\n",
    "list_list_25S = sorted(list_list_25)"
   ]
  },
  {
   "cell_type": "markdown",
   "metadata": {},
   "source": [
    "<h2 align=\"center\">Importando as listas com o resultados do HK STACKING</h2>"
   ]
  },
  {
   "cell_type": "code",
   "execution_count": 5,
   "metadata": {
    "collapsed": true
   },
   "outputs": [],
   "source": [
    "STA_VALUE_list_10 = [[] for x in range(len(STA))]\n",
    "\n",
    "for i,j in enumerate(ZHU_list_10S):\n",
    "    for l,k in enumerate(STA):\n",
    "        if k in j:\n",
    "            STA_VALUE_list_10[l].append(j)\n",
    "\n",
    "STA_VALUE_list_25 = [[] for x in range(len(STA))]\n",
    "\n",
    "for i,j in enumerate(ZHU_list_25S):\n",
    "    for l,k in enumerate(STA):\n",
    "        if k in j:\n",
    "            STA_VALUE_list_25[l].append(j)            "
   ]
  },
  {
   "cell_type": "code",
   "execution_count": 6,
   "metadata": {
    "collapsed": true
   },
   "outputs": [],
   "source": [
    "H_10 = [[] for x in range(len(STA))]\n",
    "Hs_10 = [[] for x in range(len(STA))]\n",
    "VP_VS_10 = [[] for x in range(len(STA))]\n",
    "VP_VS_10s = [[] for x in range(len(STA))]\n",
    "\n",
    "for i,j in enumerate(STA_VALUE_list_10):\n",
    "    for k,l in enumerate(j):\n",
    "        VP_VS_10[i].append(np.genfromtxt(l)[0])\n",
    "        VP_VS_10s[i].append(np.genfromtxt(l)[1])\n",
    "        H_10[i].append(np.genfromtxt(l)[2])\n",
    "        Hs_10[i].append(np.genfromtxt(l)[3])\n",
    "\n",
    "\n",
    "H_25 = [[] for x in range(len(STA))]\n",
    "Hs_25 = [[] for x in range(len(STA))]\n",
    "VP_VS_25 = [[] for x in range(len(STA))]\n",
    "VP_VS_25s = [[] for x in range(len(STA))]\n",
    "        \n",
    "        \n",
    "for i,j in enumerate(STA_VALUE_list_25):\n",
    "    for k,l in enumerate(j):\n",
    "        VP_VS_25[i].append(np.genfromtxt(l)[0])\n",
    "        VP_VS_25s[i].append(np.genfromtxt(l)[1])\n",
    "        H_25[i].append(np.genfromtxt(l)[2])\n",
    "        Hs_25[i].append(np.genfromtxt(l)[3])"
   ]
  },
  {
   "cell_type": "code",
   "execution_count": 7,
   "metadata": {
    "collapsed": true
   },
   "outputs": [],
   "source": [
    "number_FR_list_10 = [[] for x in range(len(STA))]\n",
    "\n",
    "for i,j in enumerate(list_list_10S):\n",
    "    with open(j) as f:\n",
    "        number_FR_list_10[i].append(sum(1 for _ in f))\n",
    "\n",
    "number_FR_list_25 = [[] for x in range(len(STA))]\n",
    "\n",
    "for i,j in enumerate(list_list_25S):\n",
    "    with open(j) as f:\n",
    "        number_FR_list_25[i].append(sum(1 for _ in f))  "
   ]
  },
  {
   "cell_type": "markdown",
   "metadata": {},
   "source": [
    "<h2 align=\"center\">Salvando a tabela em formato LATEX com o resultados do HK STACKING</h2>"
   ]
  },
  {
   "cell_type": "code",
   "execution_count": 8,
   "metadata": {
    "collapsed": true
   },
   "outputs": [],
   "source": [
    "pesos_10 = [[0.4,0.2,0.4],[0.5,0.0,0.5],[0.4,0.3,0.3],[],[0.5,0.0,0.5],[0.5,0.5,0.0],[0.5,0.0,0.5],[0.4,0.3,0.3],[0.4,0.4,0.2]]\n",
    "pesos_25 = [[0.4,0.3,0.3],[0.4,0.3,0.3],[0.4,0.3,0.3],[],[0.4,0.3,0.3],[0.4,0.3,0.3],[0.4,0.3,0.3],[0.4,0.3,0.3],[0.4,0.3,0.3]]"
   ]
  },
  {
   "cell_type": "markdown",
   "metadata": {
    "collapsed": true
   },
   "source": []
  },
  {
   "cell_type": "code",
   "execution_count": 9,
   "metadata": {
    "collapsed": true
   },
   "outputs": [],
   "source": [
    "title = 'Station & n & w1,w2,w3 & Vp 6.3 & Vp 6.4 & Vp 6.5 & Vp 6.6 & Vp 6.7 & Vp 6.3 & Vp 6.4 & Vp 6.5 & Vp 6.6 & Vp 6.7 \\\\ \\hline'"
   ]
  },
  {
   "cell_type": "code",
   "execution_count": 10,
   "metadata": {
    "collapsed": true
   },
   "outputs": [],
   "source": [
    "table_latex_10 = [[] for x in range(len(STA))]\n",
    "\n",
    "for i,j in enumerate(table_latex_10):\n",
    "    if pesos_10[i] != []:\n",
    "        j.append(STA[i]+'&'+''.join(map(str,number_FR_list_10[i]))+'&'+','.join(map(str,pesos_10[i]))+'&'+str(\"{0:.0f}\".format(H_10[i][0]))+'$\\pm$'+str(\"{0:.1f}\".format(Hs_10[i][0]))+'&'+str(\"{0:.0f}\".format(H_10[i][1]))+'$\\pm$'+str(\"{0:.1f}\".format(Hs_10[i][1]))+'&'+str(\"{0:.0f}\".format(H_10[i][2]))+'$\\pm$'+str(\"{0:.1f}\".format(Hs_10[i][2]))+'&'+str(\"{0:.0f}\".format(H_10[i][3]))+'$\\pm$'+str(\"{0:.1f}\".format(Hs_10[i][3]))+'&'+str(\"{0:.0f}\".format(H_10[i][4]))+'$\\pm$'+str(\"{0:.1f}\".format(Hs_10[i][4]))+'&'+str(\"{0:.2f}\".format(VP_VS_10[i][0]))+'$\\pm$'+str(\"{0:.2f}\".format(VP_VS_10s[i][0]))+'&'+str(\"{0:.2f}\".format(VP_VS_10[i][1]))+'$\\pm$'+str(\"{0:.2f}\".format(VP_VS_10s[i][1]))+'&'+str(\"{0:.2f}\".format(VP_VS_10[i][2]))+'$\\pm$'+str(\"{0:.2f}\".format(VP_VS_10s[i][2]))+'&'+str(\"{0:.2f}\".format(VP_VS_10[i][3]))+'$\\pm$'+str(\"{0:.2f}\".format(VP_VS_10s[i][3]))+'&'+str(\"{0:.2f}\".format(VP_VS_10[i][4]))+'$\\pm$'+str(\"{0:.2f}\".format(VP_VS_10s[i][4]))+'\\\\\\\\')\n",
    "    else:\n",
    "        j.append(STA[i]+'&'+'-'+'&'+'-'+'&'+'-'+'&'+'-'+'&'+'-'+'&'+'-'+'&'+'-'+'&'+'-'+'&'+'-'+'&'+'-'+'&'+'-'+'&'+'-'+'\\\\\\\\')\n"
   ]
  },
  {
   "cell_type": "code",
   "execution_count": 11,
   "metadata": {
    "collapsed": true
   },
   "outputs": [],
   "source": [
    "np.savetxt('/home/diogo/dados_doutorado/parnaiba_basin/RF_migration/redeBP-BB/RF_Zhu_Kanamori/gcarc_30_1.0/latex_list_10.txt',table_latex_10,fmt=['%s'],delimiter='\\n')"
   ]
  },
  {
   "cell_type": "code",
   "execution_count": 12,
   "metadata": {
    "collapsed": true
   },
   "outputs": [],
   "source": [
    "table_latex_25 = [[] for x in range(len(STA))]\n",
    "\n",
    "for i,j in enumerate(table_latex_25):\n",
    "    if pesos_25[i] != []:\n",
    "        j.append(STA[i]+'&'+''.join(map(str,number_FR_list_25[i]))+'&'+','.join(map(str,pesos_25[i]))+'&'+str(\"{0:.0f}\".format(H_25[i][0]))+'$\\pm$'+str(\"{0:.1f}\".format(Hs_25[i][0]))+'&'+str(\"{0:.0f}\".format(H_25[i][1]))+'$\\pm$'+str(\"{0:.1f}\".format(Hs_25[i][1]))+'&'+str(\"{0:.0f}\".format(H_25[i][2]))+'$\\pm$'+str(\"{0:.1f}\".format(Hs_25[i][2]))+'&'+str(\"{0:.0f}\".format(H_25[i][3]))+'$\\pm$'+str(\"{0:.1f}\".format(Hs_25[i][3]))+'&'+str(\"{0:.0f}\".format(H_25[i][4]))+'$\\pm$'+str(\"{0:.1f}\".format(Hs_25[i][4]))+'&'+str(\"{0:.2f}\".format(VP_VS_25[i][0]))+'$\\pm$'+str(\"{0:.2f}\".format(VP_VS_25s[i][0]))+'&'+str(\"{0:.2f}\".format(VP_VS_25[i][1]))+'$\\pm$'+str(\"{0:.2f}\".format(VP_VS_25s[i][1]))+'&'+str(\"{0:.2f}\".format(VP_VS_25[i][2]))+'$\\pm$'+str(\"{0:.2f}\".format(VP_VS_25s[i][2]))+'&'+str(\"{0:.2f}\".format(VP_VS_25[i][3]))+'$\\pm$'+str(\"{0:.2f}\".format(VP_VS_25s[i][3]))+'&'+str(\"{0:.2f}\".format(VP_VS_25[i][4]))+'$\\pm$'+str(\"{0:.2f}\".format(VP_VS_25s[i][4]))+'\\\\\\\\')\n",
    "    else:\n",
    "        j.append(STA[i]+'&'+'-'+'&'+'-'+'&'+'-'+'&'+'-'+'&'+'-'+'&'+'-'+'&'+'-'+'&'+'-'+'&'+'-'+'&'+'-'+'&'+'-'+'&'+'-'+'\\\\\\\\')\n"
   ]
  },
  {
   "cell_type": "code",
   "execution_count": 13,
   "metadata": {
    "collapsed": true
   },
   "outputs": [],
   "source": [
    "np.savetxt('/home/diogo/dados_doutorado/parnaiba_basin/RF_migration/redeBP-BB/RF_Zhu_Kanamori/gcarc_30_2.5/latex_list_25.txt',table_latex_25,fmt=['%s'],delimiter='\\n')"
   ]
  },
  {
   "cell_type": "markdown",
   "metadata": {},
   "source": [
    "<h2 align=\"center\">Salvando a média e desvio padrão dos resultados do HK STACKING</h2>"
   ]
  },
  {
   "cell_type": "code",
   "execution_count": 14,
   "metadata": {},
   "outputs": [
    {
     "name": "stderr",
     "output_type": "stream",
     "text": [
      "/home/diogo/programs/anaconda3/lib/python3.6/site-packages/numpy/lib/function_base.py:1110: RuntimeWarning: Mean of empty slice.\n",
      "  avg = a.mean(axis)\n",
      "/home/diogo/programs/anaconda3/lib/python3.6/site-packages/numpy/core/_methods.py:80: RuntimeWarning: invalid value encountered in double_scalars\n",
      "  ret = ret.dtype.type(ret / rcount)\n"
     ]
    }
   ],
   "source": [
    "H_media_10 = []\n",
    "VP_VS_media_10 = []\n",
    "for i,j in enumerate(H_10):\n",
    "    if j == '[]':\n",
    "        H_media_10.append(0)\n",
    "        VP_VS_media_10.append(0)\n",
    "    else:\n",
    "        H_media_10.append(np.average(j, axis=0))\n",
    "        VP_VS_media_10.append(np.average(VP_VS_10[i], axis=0))"
   ]
  },
  {
   "cell_type": "code",
   "execution_count": 15,
   "metadata": {},
   "outputs": [
    {
     "name": "stderr",
     "output_type": "stream",
     "text": [
      "/home/diogo/programs/anaconda3/lib/python3.6/site-packages/numpy/lib/function_base.py:1110: RuntimeWarning: Mean of empty slice.\n",
      "  avg = a.mean(axis)\n",
      "/home/diogo/programs/anaconda3/lib/python3.6/site-packages/numpy/core/_methods.py:80: RuntimeWarning: invalid value encountered in double_scalars\n",
      "  ret = ret.dtype.type(ret / rcount)\n"
     ]
    }
   ],
   "source": [
    "H_media_25 = []\n",
    "VP_VS_media_25 = []\n",
    "for i,j in enumerate(H_25):\n",
    "    if j == '[]':\n",
    "        H_media_25.append(0)\n",
    "        VP_VS_media_25.append(0)\n",
    "\n",
    "    else:\n",
    "        H_media_25.append(np.average(j, axis=0))\n",
    "        VP_VS_media_25.append(np.average(VP_VS_25[i], axis=0))"
   ]
  },
  {
   "cell_type": "code",
   "execution_count": 16,
   "metadata": {
    "collapsed": true
   },
   "outputs": [],
   "source": [
    "H_media = []\n",
    "VP_VS_media = []\n",
    "for i,j in enumerate(H_media_10):\n",
    "    if j == '[]':\n",
    "        H_media.append(0)\n",
    "        VP_VS_media.append(0)\n",
    "    else:\n",
    "        H_media.append((j+H_media_10[i])/2)\n",
    "        VP_VS_media.append((VP_VS_media_10[i]+VP_VS_media_25[i])/2)"
   ]
  },
  {
   "cell_type": "code",
   "execution_count": 17,
   "metadata": {},
   "outputs": [
    {
     "name": "stderr",
     "output_type": "stream",
     "text": [
      "/home/diogo/programs/anaconda3/lib/python3.6/site-packages/numpy/core/_methods.py:135: RuntimeWarning: Degrees of freedom <= 0 for slice\n",
      "  keepdims=keepdims)\n",
      "/home/diogo/programs/anaconda3/lib/python3.6/site-packages/numpy/core/_methods.py:105: RuntimeWarning: invalid value encountered in true_divide\n",
      "  arrmean, rcount, out=arrmean, casting='unsafe', subok=False)\n",
      "/home/diogo/programs/anaconda3/lib/python3.6/site-packages/numpy/core/_methods.py:127: RuntimeWarning: invalid value encountered in double_scalars\n",
      "  ret = ret.dtype.type(ret / rcount)\n"
     ]
    }
   ],
   "source": [
    "H_std_10 = []\n",
    "VP_VS_std_10 = []\n",
    "for i,j in enumerate(H_10):\n",
    "    if j == '[]':\n",
    "        H_std_10.append(0)\n",
    "        VP_VS_std_10.append(0)\n",
    "    else:\n",
    "        H_std_10.append(np.std(j, axis=0))\n",
    "        VP_VS_std_10.append(np.std(VP_VS_10[i], axis=0))"
   ]
  },
  {
   "cell_type": "code",
   "execution_count": 18,
   "metadata": {},
   "outputs": [
    {
     "name": "stderr",
     "output_type": "stream",
     "text": [
      "/home/diogo/programs/anaconda3/lib/python3.6/site-packages/numpy/core/_methods.py:135: RuntimeWarning: Degrees of freedom <= 0 for slice\n",
      "  keepdims=keepdims)\n",
      "/home/diogo/programs/anaconda3/lib/python3.6/site-packages/numpy/core/_methods.py:105: RuntimeWarning: invalid value encountered in true_divide\n",
      "  arrmean, rcount, out=arrmean, casting='unsafe', subok=False)\n",
      "/home/diogo/programs/anaconda3/lib/python3.6/site-packages/numpy/core/_methods.py:127: RuntimeWarning: invalid value encountered in double_scalars\n",
      "  ret = ret.dtype.type(ret / rcount)\n"
     ]
    }
   ],
   "source": [
    "H_std_25 = []\n",
    "VP_VS_std_25 = []\n",
    "for i,j in enumerate(H_25):\n",
    "    if j == '[]':\n",
    "        H_std_25.append(0)\n",
    "        VP_VS_std_25.append(0)\n",
    "    else:\n",
    "        H_std_25.append(np.std(j, axis=0))\n",
    "        VP_VS_std_25.append(np.std(VP_VS_25[i], axis=0))"
   ]
  },
  {
   "cell_type": "code",
   "execution_count": 19,
   "metadata": {
    "collapsed": true
   },
   "outputs": [],
   "source": [
    "H_std = []\n",
    "VP_VS_std = []\n",
    "\n",
    "for i,j in enumerate(H_std_10):\n",
    "    if j == '[]':\n",
    "        H_std.append(0)\n",
    "        VP_VS_std.append(0)\n",
    "    else:\n",
    "        H_std.append((j+H_std_25[i])/2)\n",
    "        VP_VS_std.append((VP_VS_std_10[i]+VP_VS_std_25[i])/2)"
   ]
  },
  {
   "cell_type": "code",
   "execution_count": 20,
   "metadata": {
    "collapsed": true
   },
   "outputs": [],
   "source": [
    "H_media_C = [] \n",
    "VP_VS_media_C = []\n",
    "H_std_C = [] \n",
    "VP_VS_std_C = []\n",
    "\n",
    "for i,j in enumerate(H_std):\n",
    "    if numpy.isnan(j) == True:\n",
    "        H_media_C.append(0)\n",
    "        VP_VS_media_C.append(0)\n",
    "        H_std_C.append(0)\n",
    "        VP_VS_std_C.append(0)\n",
    "    else:\n",
    "        H_media_C.append(H_media[i])\n",
    "        VP_VS_media_C.append(VP_VS_media[i])\n",
    "        H_std_C.append(j)\n",
    "        VP_VS_std_C.append(VP_VS_std[i])"
   ]
  },
  {
   "cell_type": "code",
   "execution_count": 21,
   "metadata": {
    "collapsed": true
   },
   "outputs": [],
   "source": [
    "H_media_C_10 = [] \n",
    "VP_VS_media_C_10 = []\n",
    "H_std_C_10 = [] \n",
    "VP_VS_std_C_10 = []\n",
    "\n",
    "for i,j in enumerate(H_std_10):\n",
    "    if numpy.isnan(j) == True:\n",
    "        H_media_C_10.append(0)\n",
    "        VP_VS_media_C_10.append(0)\n",
    "        H_std_C_10.append(0)\n",
    "        VP_VS_std_C_10.append(0)\n",
    "    else:\n",
    "        H_media_C_10.append(H_media_10[i])\n",
    "        VP_VS_media_C_10.append(VP_VS_media_10[i])\n",
    "        H_std_C_10.append(j)\n",
    "        VP_VS_std_C_10.append(VP_VS_std_10[i])"
   ]
  },
  {
   "cell_type": "code",
   "execution_count": 22,
   "metadata": {
    "collapsed": true
   },
   "outputs": [],
   "source": [
    "H_media_C_25 = [] \n",
    "VP_VS_media_C_25 = []\n",
    "H_std_C_25 = [] \n",
    "VP_VS_std_C_25 = []\n",
    "\n",
    "for i,j in enumerate(H_std_25):\n",
    "    if numpy.isnan(j) == True:\n",
    "        H_media_C_25.append(0)\n",
    "        VP_VS_media_C_25.append(0)\n",
    "        H_std_C_25.append(0)\n",
    "        VP_VS_std_C_25.append(0)\n",
    "    else:\n",
    "        H_media_C_25.append(H_media_25[i])\n",
    "        VP_VS_media_C_25.append(VP_VS_media_25[i])\n",
    "        H_std_C_25.append(j)\n",
    "        VP_VS_std_C_25.append(VP_VS_std_25[i])"
   ]
  },
  {
   "cell_type": "code",
   "execution_count": 23,
   "metadata": {
    "collapsed": true
   },
   "outputs": [],
   "source": [
    "np.savetxt('/home/diogo/dados_doutorado/parnaiba_basin/RF_migration/redeBP-BB/RF_Zhu_Kanamori/H_VP_mean_std.txt',np.c_[H_media_C,H_std_C,VP_VS_media_C,VP_VS_std_C])\n",
    "np.savetxt('/home/diogo/dados_doutorado/parnaiba_basin/RF_migration/redeBP-BB/RF_Zhu_Kanamori/H_VP_mean_std_10.txt',np.c_[H_media_C_10,H_std_C_10,VP_VS_media_C_10,VP_VS_std_C_10])\n",
    "np.savetxt('/home/diogo/dados_doutorado/parnaiba_basin/RF_migration/redeBP-BB/RF_Zhu_Kanamori/H_VP_mean_std_25.txt',np.c_[H_media_C_25,H_std_C_25,VP_VS_media_C_25,VP_VS_std_C_25])"
   ]
  },
  {
   "cell_type": "code",
   "execution_count": 24,
   "metadata": {
    "collapsed": true
   },
   "outputs": [],
   "source": [
    "vp_65_H = []\n",
    "vp_65_He = []\n",
    "vp_65_VP_VS = []\n",
    "vp_65_VP_VSe = []\n",
    "for i,j in enumerate(Hs_25):\n",
    "    if j != []:\n",
    "        vp_65_H.append(H_25[i][2])\n",
    "        vp_65_He.append(j[2])\n",
    "        vp_65_VP_VS.append(VP_VS_25[i][2])\n",
    "        vp_65_VP_VSe.append(VP_VS_25[i][2])\n",
    "    else:\n",
    "        vp_65_H.append(0)\n",
    "        vp_65_He.append(0)\n",
    "        vp_65_VP_VS.append(0)\n",
    "        vp_65_VP_VSe.append(0)"
   ]
  },
  {
   "cell_type": "code",
   "execution_count": 25,
   "metadata": {
    "collapsed": true
   },
   "outputs": [],
   "source": [
    "np.savetxt('/home/diogo/dados_doutorado/parnaiba_basin/RF_migration/redeBP-BB/RF_Zhu_Kanamori/H_VP_mean_std_25_vp_65.txt',np.c_[vp_65_H,vp_65_He,vp_65_VP_VS,vp_65_VP_VSe])"
   ]
  },
  {
   "cell_type": "code",
   "execution_count": null,
   "metadata": {
    "collapsed": true
   },
   "outputs": [],
   "source": []
  }
 ],
 "metadata": {
  "anaconda-cloud": {},
  "kernelspec": {
   "display_name": "Python 3",
   "language": "python",
   "name": "python3"
  },
  "language_info": {
   "codemirror_mode": {
    "name": "ipython",
    "version": 3
   },
   "file_extension": ".py",
   "mimetype": "text/x-python",
   "name": "python",
   "nbconvert_exporter": "python",
   "pygments_lexer": "ipython3",
   "version": "3.6.1"
  }
 },
 "nbformat": 4,
 "nbformat_minor": 1
}
