{
 "cells": [
  {
   "cell_type": "code",
   "execution_count": null,
   "metadata": {},
   "outputs": [],
   "source": [
    "%matplotlib inline"
   ]
  },
  {
   "cell_type": "code",
   "execution_count": null,
   "metadata": {},
   "outputs": [],
   "source": [
    "import matplotlib.pyplot as plt\n",
    "import matplotlib as mpl\n",
    "import numpy as np\n",
    "import obspy\n",
    "import os\n",
    "from obspy.taup import TauPyModel\n",
    "from obspy.geodetics import kilometer2degrees\n",
    "import copy\n",
    "import matplotlib\n",
    "from matplotlib.cm import get_cmap\n",
    "from mpl_toolkits.mplot3d import Axes3D\n",
    "from mpl_toolkits.basemap import Basemap\n",
    "import shapefile\n",
    "from fatiando import gridder, utils\n",
    "import scipy.io\n",
    "import matplotlib.cm as cm\n",
    "from matplotlib.ticker import MultipleLocator, FormatStrFormatter"
   ]
  },
  {
   "cell_type": "markdown",
   "metadata": {},
   "source": [
    "# Coletando os dados das estações BP"
   ]
  },
  {
   "cell_type": "code",
   "execution_count": null,
   "metadata": {},
   "outputs": [],
   "source": [
    "ev_list = []\n",
    "ev_listS = []\n",
    "#for root, dirs, files in os.walk('/home/diogo/dados_doutorado/parnaiba_basin/RF_migration/redeBP-BB/transition_zone/syngine_filtered_PP/a_05/'):\n",
    "for root, dirs, files in os.walk('/home/diogo/dados_doutorado/parnaiba_basin/RF_migration/redeBP-BB/transition_zone/rede_BB/event_data_PP_selected/a_05/'):\n",
    "    for datafile in files:\n",
    "        if datafile.endswith('.eqr'):\n",
    "            ev_list.append(os.path.join(root, datafile))\n",
    "ev_listS = sorted(ev_list)"
   ]
  },
  {
   "cell_type": "code",
   "execution_count": null,
   "metadata": {},
   "outputs": [],
   "source": [
    "ev = obspy.Stream()\n",
    "for i,j in enumerate(ev_listS):\n",
    "    ev += obspy.read(j)"
   ]
  },
  {
   "cell_type": "code",
   "execution_count": null,
   "metadata": {},
   "outputs": [],
   "source": [
    "event_DD = []\n",
    "event_MM = []\n",
    "event_YYYY = []\n",
    "event_hh = []\n",
    "event_mm = []\n",
    "event_julday = []\n",
    "event_depth = []\n",
    "event_lat = []\n",
    "event_long = []\n",
    "event_dist = []\n",
    "event_gcarc = []\n",
    "event_sta = []\n",
    "event_channel = []\n",
    "event_ray = []\n",
    "sta_lat = []\n",
    "sta_long = []\n",
    "sta_channel = []\n",
    "sta_data = []\n",
    "sta_time = []\n",
    "event_starttime = []\n",
    "event_endtime = []\n",
    "\n",
    "\n",
    "for i,j in enumerate(ev):\n",
    "    if j.stats.sac.gcarc > 30:\n",
    "            event_time = (j.stats.starttime)\n",
    "            event_starttime.append(j.stats.starttime)\n",
    "            event_endtime.append(j.stats.endtime)\n",
    "            event_DD.append(\"{0:02.0f}\".format(event_time.day))\n",
    "            event_MM.append(\"{0:02.0f}\".format(event_time.month))\n",
    "            event_YYYY.append(event_time.year)\n",
    "            event_hh.append(\"{0:02.0f}\".format(event_time.hour))\n",
    "            event_mm.append(\"{0:02.0f}\".format(event_time.minute))\n",
    "            event_julday.append(event_time.julday)\n",
    "            event_depth.append(j.stats.sac.evdp)\n",
    "            #event_depth.append(j.stats.sac.evdp/1000) #para os dados sintéticos\n",
    "            event_lat.append(j.stats.sac.evla)\n",
    "            event_long.append(j.stats.sac.evlo)\n",
    "            event_dist.append(j.stats.sac.dist)\n",
    "            event_gcarc.append(j.stats.sac.gcarc)\n",
    "            event_sta.append(j.stats.station)\n",
    "            event_ray.append(j.stats.sac.user8)\n",
    "            sta_lat.append(j.stats.sac.stla)\n",
    "            sta_long.append(j.stats.sac.stlo)\n",
    "            sta_data.append(j.data[100:2700])\n",
    "            sta_time.append(j.times()[100:2700]-10)"
   ]
  },
  {
   "cell_type": "code",
   "execution_count": null,
   "metadata": {},
   "outputs": [],
   "source": [
    "fig=plt.figure(figsize=(20,10))\n",
    "\n",
    "\n",
    "project_Lat = -5\n",
    "project_Lon = -45\n",
    "\n",
    "m = Basemap(resolution='l',projection='cyl',lat_0=project_Lat, lon_0=project_Lon,llcrnrlon=-170.,\n",
    "            llcrnrlat=-85.,urcrnrlon=65.,urcrnrlat=85.)\n",
    "\n",
    "\n",
    "sf = shapefile.Reader('/home/diogo/dados_doutorado/parnaiba_basin/SIG_dados/shapes/bacia_parnaiba/bacia_parnaiba.shp')\n",
    "for shape in sf.shapes():\n",
    "    # adding polygon(s)\n",
    "    parts = list(shape.parts) + [len(shape.points)]\n",
    "    partlims = zip(parts[:-1], parts[1:])\n",
    "    for i1, i2 in partlims:\n",
    "        points = shape.points[i1:i2]\n",
    "        lon, lat = zip(*points)\n",
    "        x,y = m(lon, lat)\n",
    "        m.plot(x, y, '-', lw=0.75, color='k')\n",
    "\n",
    "\n",
    "for lon, lat in zip(event_long,event_lat):\n",
    "    x,y = m(lon, lat)\n",
    "    msize = 10\n",
    "    m.plot(x, y, '*',markersize=msize,markeredgecolor='k',markerfacecolor='y')\n",
    "\n",
    "for lon, lat in zip(sta_long,sta_lat):\n",
    "    x,y = m(lon, lat)\n",
    "    msize = 10\n",
    "    m.plot(x, y, '^',markersize=msize,markeredgecolor='k',markerfacecolor='grey')\n",
    "\n",
    "for evlon_0, evlat_0, evlon_c,evlat_c in zip(sta_long,sta_lat,event_long,event_lat):\n",
    "    m.drawgreatcircle(evlon_0, evlat_0, evlon_c,evlat_c,linewidth=2,color='grey',alpha=0.1)\n",
    "\n",
    "    \n",
    "m.fillcontinents(color='whitesmoke',lake_color=None)\n",
    "m.drawcoastlines(color='k',zorder=10)\n",
    "m.drawmeridians(np.arange(0, 360, 20),color='lightgrey')\n",
    "m.drawparallels(np.arange(-90, 90, 10),color='lightgrey')\n",
    "\n",
    "sf = shapefile.Reader('/home/diogo/dados_doutorado/parnaiba_basin/SIG_dados/shapes/bacia_parnaiba/bacia_parnaiba.shp')\n",
    "for shape in sf.shapes():\n",
    "    # adding polygon(s)\n",
    "    parts = list(shape.parts) + [len(shape.points)]\n",
    "    partlims = zip(parts[:-1], parts[1:])\n",
    "    for i1, i2 in partlims:\n",
    "        points = shape.points[i1:i2]\n",
    "        x, y = zip(*points)\n",
    "        m.plot(x, y, '-', lw=3, color='k')\n",
    "\n",
    "plt.title('Events Selected Locataion')"
   ]
  },
  {
   "cell_type": "markdown",
   "metadata": {},
   "source": [
    "## Criando um modelo de terra através do obspy.taup.taup_create.build_taup_model"
   ]
  },
  {
   "cell_type": "code",
   "execution_count": null,
   "metadata": {},
   "outputs": [],
   "source": [
    "obspy.taup.taup_create.build_taup_model('/home/diogo/dados_doutorado/parnaiba_basin/RF_migration/redeBP-BB/transition_zone/velocity_model/IASP91_velocity_model/iasp91_10.tvel',output_folder='/home/diogo/dados_doutorado/parnaiba_basin/RF_migration/redeBP-BB/transition_zone/velocity_model/IASP91_velocity_model/')"
   ]
  },
  {
   "cell_type": "code",
   "execution_count": null,
   "metadata": {},
   "outputs": [],
   "source": [
    "model_10_km = TauPyModel(model='/home/diogo/dados_doutorado/parnaiba_basin/RF_migration/redeBP-BB/transition_zone/velocity_model/IASP91_velocity_model/iasp91_10.npz')"
   ]
  },
  {
   "cell_type": "markdown",
   "metadata": {},
   "source": [
    "dtype=[('top_depth', '<f8'), ('bot_depth', '<f8'), ('top_p_velocity', '<f8'), ('bot_p_velocity', '<f8'), ('top_s_velocity', '<f8'), ('bot_s_velocity', '<f8'), ('top_density', '<f8'), ('bot_density', '<f8'), ('top_qp', '<f8'), ('bot_qp', '<f8'), ('top_qs', '<f8'), ('bot_qs', '<f8')])"
   ]
  },
  {
   "cell_type": "code",
   "execution_count": null,
   "metadata": {},
   "outputs": [],
   "source": [
    "top_depth = []\n",
    "bot_depth = []\n",
    "top_p_velocity = []\n",
    "bot_p_velocity = []\n",
    "top_s_velocity = []\n",
    "bot_s_velocity = []\n",
    "top_density = []\n",
    "bot_density = []\n",
    "top_qp = []\n",
    "bot_qp = []\n",
    "top_qs = []\n",
    "bot_qs = []\n",
    "for i,j in enumerate(model_10_km.model.s_mod.v_mod.layers):\n",
    "    top_depth.append(j[0])\n",
    "    bot_depth.append(j[1])\n",
    "    top_p_velocity.append(j[2])\n",
    "    bot_p_velocity.append(j[3])\n",
    "    top_s_velocity.append(j[4])\n",
    "    bot_s_velocity.append(j[5])\n",
    "    top_density.append(j[6])\n",
    "    bot_density.append(j[7])\n",
    "    top_qp.append(j[8])\n",
    "    bot_qp.append(j[9])\n",
    "    top_qs.append(j[10])\n",
    "    bot_qs.append(j[11])"
   ]
  },
  {
   "cell_type": "code",
   "execution_count": null,
   "metadata": {},
   "outputs": [],
   "source": [
    "plt.figure(figsize=(5,10))\n",
    "plt.title('IASP91 Earth Model 10 km thick')\n",
    "plt.plot(top_p_velocity,top_depth,'b',label='P Velocity km/s')\n",
    "plt.plot(top_s_velocity,top_depth,'g',label='S Velocity km/s')\n",
    "plt.plot(top_density,top_depth,'r',label='Density')\n",
    "plt.legend()\n",
    "plt.ylim(6400,0)\n",
    "plt.xlim(-0.5,14)"
   ]
  },
  {
   "cell_type": "code",
   "execution_count": null,
   "metadata": {},
   "outputs": [],
   "source": [
    "radius = model_10_km.model.radius_of_planet\n",
    "camadas = model_10_km.model.s_mod.v_mod.get_discontinuity_depths()"
   ]
  },
  {
   "cell_type": "code",
   "execution_count": null,
   "metadata": {},
   "outputs": [],
   "source": [
    "print(camadas)"
   ]
  },
  {
   "cell_type": "markdown",
   "metadata": {},
   "source": [
    "# Calculando os caminhos dos raios para os eventos das estações BP"
   ]
  },
  {
   "cell_type": "markdown",
   "metadata": {},
   "source": [
    "# Onda P"
   ]
  },
  {
   "cell_type": "code",
   "execution_count": null,
   "metadata": {},
   "outputs": [],
   "source": [
    "arrivalsP = []\n",
    "for i,j in enumerate(event_depth):\n",
    "    arrivalsP.append(model_10_km.get_travel_times_geo(\n",
    "                                    source_depth_in_km=j, source_latitude_in_deg=event_lat[i], \n",
    "                                    source_longitude_in_deg=event_long[i], receiver_latitude_in_deg=sta_lat[i], \n",
    "                                    receiver_longitude_in_deg=sta_long[i], phase_list='P'))"
   ]
  },
  {
   "cell_type": "markdown",
   "metadata": {},
   "source": [
    "# Onda Ps de 300 a 800"
   ]
  },
  {
   "cell_type": "code",
   "execution_count": null,
   "metadata": {},
   "outputs": [],
   "source": [
    "phase_lst = ['P'+str(i)+'s' for i in range(300,810,10)]"
   ]
  },
  {
   "cell_type": "code",
   "execution_count": null,
   "metadata": {},
   "outputs": [],
   "source": [
    "print(phase_lst)"
   ]
  },
  {
   "cell_type": "code",
   "execution_count": null,
   "metadata": {},
   "outputs": [],
   "source": [
    "arrivals = []\n",
    "for i,j in enumerate(event_depth):\n",
    "    arrivals.append(model_10_km.get_travel_times_geo(\n",
    "                                    source_depth_in_km=j, source_latitude_in_deg=event_lat[i], \n",
    "                                    source_longitude_in_deg=event_long[i], receiver_latitude_in_deg=sta_lat[i], \n",
    "                                    receiver_longitude_in_deg=sta_long[i], phase_list=phase_lst))"
   ]
  },
  {
   "cell_type": "code",
   "execution_count": null,
   "metadata": {},
   "outputs": [],
   "source": [
    "dist_event = [[]]*len(arrivals)\n",
    "depth = [[]]*len(arrivals)\n",
    "time = [[]]*len(arrivals)\n",
    "\n",
    "for i,j in enumerate(arrivals):\n",
    "    for k,l in enumerate(j):\n",
    "            time[i].append(l.time - arrivalsP[i][0].time)\n",
    "            depth[i].append(float(l.name[1:-1]))\n",
    "            dist_event[i].append(l.distance)"
   ]
  },
  {
   "cell_type": "markdown",
   "metadata": {},
   "source": [
    "### Salvando os arquivos TXT com os tempos, lat, long, e distância:"
   ]
  },
  {
   "cell_type": "code",
   "execution_count": null,
   "metadata": {},
   "outputs": [],
   "source": [
    "dist_event_txt = open('/home/diogo/dados_doutorado/parnaiba_basin/RF_migration/redeBP-BB/transition_zone/velocity_model/Phases/dist_event/P_dist_event.txt', 'w')\n",
    "\n",
    "for i,j in enumerate(dist_event):\n",
    "    dist_event_txt.write(str(list(j))+'\\n')\n",
    "dist_event_txt.close()"
   ]
  },
  {
   "cell_type": "code",
   "execution_count": null,
   "metadata": {},
   "outputs": [],
   "source": [
    "depth_txt = open('/home/diogo/dados_doutorado/parnaiba_basin/RF_migration/redeBP-BB/transition_zone/velocity_model/Phases/depth/P_depth.txt', 'w')\n",
    "\n",
    "for i,j in enumerate(depth):\n",
    "    depth_txt.write(str(list(j))+'\\n')\n",
    "depth_txt.close()"
   ]
  },
  {
   "cell_type": "code",
   "execution_count": null,
   "metadata": {},
   "outputs": [],
   "source": [
    "time_txt = open('/home/diogo/dados_doutorado/parnaiba_basin/RF_migration/redeBP-BB/transition_zone/velocity_model/Phases/time/P_time.txt', 'w')\n",
    "\n",
    "for i,j in enumerate(time):\n",
    "    time_txt.write(str(list(j))+'\\n')\n",
    "time_txt.close()"
   ]
  },
  {
   "cell_type": "markdown",
   "metadata": {},
   "source": [
    "# Onda PpPs de 300 a 800"
   ]
  },
  {
   "cell_type": "code",
   "execution_count": null,
   "metadata": {},
   "outputs": [],
   "source": [
    "phase_lst_PpPs = ['PPv'+str(i)+'s' for i in range(300,810,10)]"
   ]
  },
  {
   "cell_type": "code",
   "execution_count": null,
   "metadata": {},
   "outputs": [],
   "source": [
    "print(phase_lst_PpPs)"
   ]
  },
  {
   "cell_type": "code",
   "execution_count": null,
   "metadata": {},
   "outputs": [],
   "source": [
    "arrivals_PpPs = []\n",
    "for i,j in enumerate(event_depth):\n",
    "    arrivals_PpPs.append(model_10_km.get_pierce_points_geo(\n",
    "                                    source_depth_in_km=j, source_latitude_in_deg=event_lat[i], \n",
    "                                    source_longitude_in_deg=event_long[i], receiver_latitude_in_deg=sta_lat[i], \n",
    "                                    receiver_longitude_in_deg=sta_long[i], phase_list=phase_lst_PpPs))"
   ]
  },
  {
   "cell_type": "code",
   "execution_count": null,
   "metadata": {},
   "outputs": [],
   "source": [
    "dist_event_PpPs = [[]]*len(arrivals_PpPs)\n",
    "depth_PpPs = [[]]*len(arrivals_PpPs)\n",
    "time_PpPs = [[]]*len(arrivals_PpPs)\n",
    "\n",
    "for i,j in enumerate(arrivals_PpPs):\n",
    "    for k,l in enumerate(j):\n",
    "            time_PpPs[i].append(l.time - arrivalsP[i][0].time)\n",
    "            depth_PpPs[i].append(float(l.name[-4:-1]))\n",
    "            dist_event_PpPs[i].append(l.distance)"
   ]
  },
  {
   "cell_type": "markdown",
   "metadata": {},
   "source": [
    "### Salvando os arquivos TXT com os tempos, lat, long, e distância:"
   ]
  },
  {
   "cell_type": "code",
   "execution_count": null,
   "metadata": {},
   "outputs": [],
   "source": [
    "dist_event_txt_PpPs = open('/home/diogo/dados_doutorado/parnaiba_basin/RF_migration/redeBP-BB/transition_zone/velocity_model/Phases/dist_event/PpPs_dist_event.txt', 'w')\n",
    "\n",
    "for i,j in enumerate(dist_event_PpPs):\n",
    "    dist_event_txt_PpPs.write(str(list(j))+'\\n')\n",
    "dist_event_txt_PpPs.close()"
   ]
  },
  {
   "cell_type": "code",
   "execution_count": null,
   "metadata": {},
   "outputs": [],
   "source": [
    "depth_txt_PpPs = open('/home/diogo/dados_doutorado/parnaiba_basin/RF_migration/redeBP-BB/transition_zone/velocity_model/Phases/depth/PpPs_depth.txt', 'w')\n",
    "\n",
    "for i,j in enumerate(depth_PpPs):\n",
    "    depth_txt_PpPs.write(str(list(j))+'\\n')\n",
    "depth_txt_PpPs.close()"
   ]
  },
  {
   "cell_type": "code",
   "execution_count": null,
   "metadata": {},
   "outputs": [],
   "source": [
    "time_txt_PpPs = open('/home/diogo/dados_doutorado/parnaiba_basin/RF_migration/redeBP-BB/transition_zone/velocity_model/Phases/time/PpPs_time.txt', 'w')\n",
    "\n",
    "for i,j in enumerate(time_PpPs):\n",
    "    time_txt_PpPs.write(str(list(j))+'\\n')\n",
    "time_txt_PpPs.close()"
   ]
  }
 ],
 "metadata": {
  "kernelspec": {
   "display_name": "Python 3",
   "language": "python",
   "name": "python3"
  },
  "language_info": {
   "codemirror_mode": {
    "name": "ipython",
    "version": 3
   },
   "file_extension": ".py",
   "mimetype": "text/x-python",
   "name": "python",
   "nbconvert_exporter": "python",
   "pygments_lexer": "ipython3",
   "version": "3.6.4"
  }
 },
 "nbformat": 4,
 "nbformat_minor": 2
}
