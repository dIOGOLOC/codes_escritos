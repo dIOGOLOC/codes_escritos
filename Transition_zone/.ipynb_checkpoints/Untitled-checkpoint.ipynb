{
 "cells": [
  {
   "cell_type": "code",
   "execution_count": 1,
   "metadata": {},
   "outputs": [
    {
     "name": "stdout",
     "output_type": "stream",
     "text": [
      "Populating the interactive namespace from numpy and matplotlib\n"
     ]
    }
   ],
   "source": [
    "%pylab inline"
   ]
  },
  {
   "cell_type": "code",
   "execution_count": 2,
   "metadata": {},
   "outputs": [],
   "source": [
    "import numpy as np\n",
    "import matplotlib.pyplot as plt\n",
    "import obspy as op\n",
    "import glob\n",
    "import os\n",
    "import fnmatch\n",
    "import shutil\n",
    "import matplotlib.gridspec as gridspec\n",
    "from scipy import signal,stats,spatial,misc\n",
    "from obspy.taup import TauPyModel\n",
    "import time\n",
    "from IPython import display\n",
    "import matplotlib.gridspec as gridspec\n",
    "from obspy.clients.fdsn import Client\n",
    "from obspy.clients.iris import Client as OldIris_Client\n",
    "from obspy.core.util import NamedTemporaryFile\n",
    "from mpl_toolkits.basemap import Basemap\n",
    "import matplotlib.mlab as mlab\n",
    "import itertools\n",
    "from obspy import UTCDateTime\n",
    "from matplotlib.cbook import get_sample_data\n",
    "import re"
   ]
  },
  {
   "cell_type": "code",
   "execution_count": 3,
   "metadata": {},
   "outputs": [],
   "source": [
    "STA = ['BDCO','BPPF','BUCO','GENI','GRJU','PRDT','STSN','STSR','TRZN']"
   ]
  },
  {
   "cell_type": "code",
   "execution_count": 4,
   "metadata": {},
   "outputs": [],
   "source": [
    "datalistr = []\n",
    "datalistSr = []\n",
    "dir_listr = []\n",
    "for root, dirs, files in os.walk('/home/diogo/dados_doutorado/parnaiba_basin/RF_migration/redeBP-BB/event_data'):\n",
    "    for datafile in files:\n",
    "        if datafile.endswith('.eqr'):\n",
    "            datalistr.append(os.path.join(root, datafile))\n",
    "datalistSr = sorted(datalistr)\n",
    "\n",
    "datalistt = []\n",
    "datalistSt = []\n",
    "dir_listt = []\n",
    "for root, dirs, files in os.walk('/home/diogo/dados_doutorado/parnaiba_basin/RF_migration/redeBP-BB/event_data'):\n",
    "    for datafile in files:\n",
    "        if datafile.endswith('.eqt'):\n",
    "            datalistt.append(os.path.join(root, datafile))\n",
    "datalistSt = sorted(datalistt)"
   ]
  },
  {
   "cell_type": "code",
   "execution_count": null,
   "metadata": {},
   "outputs": [],
   "source": [
    "a1r = []\n",
    "a25r = []\n",
    "a05r = []\n",
    "\n",
    "for i,j in enumerate(datalistSr):\n",
    "    if 'a=1.0' in j:\n",
    "        a1r.append(j)\n",
    "    elif 'a=2.5' in j:\n",
    "        a25r.append(j)\n",
    "    else:\n",
    "        a05r.append(j)\n",
    "        \n",
    "a1t = []\n",
    "a25t = []\n",
    "a05t = []\n",
    "for i,j in enumerate(datalistSt):\n",
    "    if 'a=1.0' in j:\n",
    "        a1t.append(j)\n",
    "    elif 'a=2.5' in j:\n",
    "        a25t.append(j)\n",
    "    else:\n",
    "        a05t.append(j)"
   ]
  }
 ],
 "metadata": {
  "kernelspec": {
   "display_name": "Python 3",
   "language": "python",
   "name": "python3"
  },
  "language_info": {
   "codemirror_mode": {
    "name": "ipython",
    "version": 3
   },
   "file_extension": ".py",
   "mimetype": "text/x-python",
   "name": "python",
   "nbconvert_exporter": "python",
   "pygments_lexer": "ipython3",
   "version": "3.6.3"
  }
 },
 "nbformat": 4,
 "nbformat_minor": 2
}
