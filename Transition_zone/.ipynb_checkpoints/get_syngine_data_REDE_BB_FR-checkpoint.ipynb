{
 "cells": [
  {
   "cell_type": "code",
   "execution_count": 694,
   "metadata": {},
   "outputs": [],
   "source": [
    "%matplotlib inline"
   ]
  },
  {
   "cell_type": "code",
   "execution_count": 695,
   "metadata": {},
   "outputs": [],
   "source": [
    "import matplotlib.pyplot as plt\n",
    "import numpy as np\n",
    "plt.style.use('ggplot')\n",
    "import obspy\n",
    "import os\n",
    "from obspy.clients.fdsn import Client\n",
    "from obspy.clients.syngine import Client as SyngineClient\n",
    "from obspy.taup import TauPyModel\n",
    "from obspy.geodetics import kilometer2degrees\n",
    "from obspy.io.xseed import Parser\n",
    "from obspy.signal.cross_correlation import xcorr,xcorr_3c"
   ]
  },
  {
   "cell_type": "markdown",
   "metadata": {},
   "source": [
    "# Coletando os dados das estações BP"
   ]
  },
  {
   "cell_type": "code",
   "execution_count": 696,
   "metadata": {},
   "outputs": [],
   "source": [
    "STA = ['BDCO','BPPF','BUCO','GENI','GRJU','PRDT','STSN','STSR','TRZN']\n",
    "z = 8"
   ]
  },
  {
   "cell_type": "code",
   "execution_count": 697,
   "metadata": {},
   "outputs": [],
   "source": [
    "filter_folder = 'a_25'"
   ]
  },
  {
   "cell_type": "code",
   "execution_count": 698,
   "metadata": {},
   "outputs": [],
   "source": [
    "ev_list = []\n",
    "ev_listS = []\n",
    "\n",
    "for root, dirs, files in os.walk('/home/diogo/dados_doutorado/parnaiba_basin/RF_migration/redeBP-BB/transition_zone/rede_BB/event_data_PP_selected/'+filter_folder+'/'+STA[z]):\n",
    "    for datafile in files:\n",
    "        if datafile.endswith('.eqr'):\n",
    "            ev_list.append(os.path.join(root, datafile))\n",
    "ev_listS = sorted(ev_list)"
   ]
  },
  {
   "cell_type": "code",
   "execution_count": 699,
   "metadata": {},
   "outputs": [],
   "source": [
    "ev = obspy.Stream()\n",
    "for i,j in enumerate(ev_listS):\n",
    "    ev += obspy.read(j,headonly=True)"
   ]
  },
  {
   "cell_type": "code",
   "execution_count": 700,
   "metadata": {},
   "outputs": [],
   "source": [
    "event_DD = []\n",
    "event_MM = []\n",
    "event_YYYY = []\n",
    "event_hh = []\n",
    "event_mm = []\n",
    "event_julday = []\n",
    "event_depth = []\n",
    "event_lat = []\n",
    "event_long = []\n",
    "event_dist = []\n",
    "event_sta = []\n",
    "event_channel = []\n",
    "sta_lat = []\n",
    "sta_long = []\n",
    "sta_channel = []\n",
    "event_starttime = []\n",
    "event_endtime = []\n",
    "\n",
    "\n",
    "for i,j in enumerate(ev):\n",
    "    event_time = (j.stats.starttime)\n",
    "    event_starttime.append(j.stats.starttime)\n",
    "    event_endtime.append(j.stats.endtime)\n",
    "    event_DD.append(\"{0:02.0f}\".format(event_time.day))\n",
    "    event_MM.append(\"{0:02.0f}\".format(event_time.month))\n",
    "    event_YYYY.append(event_time.year)\n",
    "    event_hh.append(\"{0:02.0f}\".format(event_time.hour))\n",
    "    event_mm.append(\"{0:02.0f}\".format(event_time.minute))\n",
    "    event_julday.append(event_time.julday)\n",
    "    event_depth.append(j.stats.sac.evdp)\n",
    "    event_lat.append(j.stats.sac.evla)\n",
    "    event_long.append(j.stats.sac.evlo)\n",
    "    event_dist.append(j.stats.sac.dist)\n",
    "    event_sta.append(j.stats.station)\n",
    "    sta_lat.append(j.stats.sac.stla)\n",
    "    sta_long.append(j.stats.sac.stlo)"
   ]
  },
  {
   "cell_type": "code",
   "execution_count": 701,
   "metadata": {},
   "outputs": [],
   "source": [
    "eventid_lst = []\n",
    "for k,l in enumerate(ev):\n",
    "    eventid_lst.append('GCMT:C'+str(event_YYYY[k])+str(event_MM[k])+str(event_DD[k])+str(event_hh[k])+str(event_mm[k])+'A')\n",
    "\n",
    "eventid_lst = sorted(list(set(eventid_lst)))"
   ]
  },
  {
   "cell_type": "code",
   "execution_count": 702,
   "metadata": {},
   "outputs": [],
   "source": [
    "initial_time = [str(i) for i in event_starttime]\n",
    "initial_time = sorted(list(set(initial_time)))\n",
    "starttime_lst = [obspy.UTCDateTime(i) for i in initial_time] "
   ]
  },
  {
   "cell_type": "code",
   "execution_count": 703,
   "metadata": {},
   "outputs": [],
   "source": [
    "lat_lst = list(set(sta_lat))\n",
    "long_lst = list(set(sta_long))\n",
    "sta_lst = list(set(event_sta))"
   ]
  },
  {
   "cell_type": "markdown",
   "metadata": {},
   "source": [
    "## Calculando os sismogramas sintéticos através do servidor da Syngine IRIS"
   ]
  },
  {
   "cell_type": "code",
   "execution_count": 704,
   "metadata": {},
   "outputs": [
    {
     "name": "stdout",
     "output_type": "stream",
     "text": [
      "Evento GCMT:C201605180757A\n",
      "Evento GCMT:C201605181646A\n",
      "Evento GCMT:C201605280946A\n",
      "Problema no Evento: GCMT:C201605280946A\n",
      "Evento GCMT:C201606071051A\n",
      "Evento GCMT:C201606100325A\n",
      "Evento GCMT:C201607251726A\n",
      "Evento GCMT:C201608190732A\n",
      "Evento GCMT:C201608210345A\n",
      "Evento GCMT:C201608240136A\n",
      "Evento GCMT:C201610300640A\n",
      "Evento GCMT:C201611080455A\n",
      "Evento GCMT:C201611202057A\n",
      "Evento GCMT:C201611241843A\n",
      "Evento GCMT:C201612251422A\n",
      "Evento GCMT:C201704031740A\n",
      "Evento GCMT:C201704242138A\n",
      "Evento GCMT:C201705102323A\n",
      "Evento GCMT:C201706140729A\n",
      "Evento GCMT:C201706221231A\n",
      "Evento GCMT:C201707202231A\n",
      "Evento GCMT:C201709080449A\n",
      "Evento GCMT:C201709191814A\n",
      "Evento GCMT:C201710101853A\n",
      "CPU times: user 692 ms, sys: 138 ms, total: 831 ms\n",
      "Wall time: 2min 19s\n"
     ]
    }
   ],
   "source": [
    "%%time\n",
    "\n",
    "c_s = SyngineClient()\n",
    "#model = [\"ak135f_2s\", \"iasp91_2s\", \"prem_a_2s\",\"prem_i_2s\"]\n",
    "model = \"iasp91_2s\"\n",
    "\n",
    "\n",
    "st_synth = []\n",
    "for k,l in enumerate(eventid_lst):\n",
    "    try:\n",
    "        print('Evento '+l)\n",
    "        st_synth.append(obspy.Stream(c_s.get_waveforms(model=model, \n",
    "                                                receiverlatitude=lat_lst[0],\n",
    "                                                receiverlongitude=long_lst[0],\n",
    "                                                networkcode='BP',\n",
    "                                                stationcode=sta_lst[0],\n",
    "                                                eventid=eventid_lst[k],\n",
    "                                                dt=\"0.01\",units=\"displacement\",starttime=\"P-10\", endtime=\"P+260\",\n",
    "                                                format='saczip')))\n",
    "    except:\n",
    "        print('Problema no Evento: '+eventid_lst[k])"
   ]
  },
  {
   "cell_type": "code",
   "execution_count": 705,
   "metadata": {},
   "outputs": [],
   "source": [
    "loc_folder = '/home/diogo/dados_doutorado/parnaiba_basin/RF_migration/redeBP-BB/transition_zone/syngine_PP/'+filter_folder+'/'"
   ]
  },
  {
   "cell_type": "code",
   "execution_count": 706,
   "metadata": {},
   "outputs": [
    {
     "name": "stdout",
     "output_type": "stream",
     "text": [
      "CPU times: user 3.83 s, sys: 27.2 ms, total: 3.86 s\n",
      "Wall time: 3.86 s\n"
     ]
    }
   ],
   "source": [
    "%%time\n",
    "\n",
    "for k,l in enumerate(st_synth):\n",
    "    for r,t in enumerate(l):\n",
    "        evdp = t.stats.sac.evdp/1000\n",
    "        gcarc = t.stats.sac.gcarc\n",
    "            #Calculando o parâmetro do raio\n",
    "        model = TauPyModel(model=\"iasp91\")\n",
    "        arrivals = model.get_travel_times(source_depth_in_km=evdp, distance_in_degree=gcarc, phase_list=[\"P\"])\n",
    "        arr = arrivals[0]\n",
    "        j = t.stats.starttime\n",
    "        t.stats.sac.user8 = arr.ray_param/6371\n",
    "        folder_loc_string = loc_folder+t.stats.station+'/'+str(j.year)+'/'+str(\"{0:0=3d}\".format(j.julday))+'/'+str(j.year)+'.'+str(j.hour)+'.'+str(j.minute)+'.'+str(j.second)\n",
    "        os.makedirs(folder_loc_string,exist_ok=True)\n",
    "        t.write(folder_loc_string+'/SYN.'+t.stats.network+'.'+t.stats.station+'.'+str(j.year)+'.'+str(j.hour)+'.'+str(j.minute)+'.'+str(j.second)+'.'+t.stats.channel[-1],format='SAC')"
   ]
  },
  {
   "cell_type": "code",
   "execution_count": null,
   "metadata": {},
   "outputs": [],
   "source": []
  }
 ],
 "metadata": {
  "kernelspec": {
   "display_name": "Python 3",
   "language": "python",
   "name": "python3"
  },
  "language_info": {
   "codemirror_mode": {
    "name": "ipython",
    "version": 3
   },
   "file_extension": ".py",
   "mimetype": "text/x-python",
   "name": "python",
   "nbconvert_exporter": "python",
   "pygments_lexer": "ipython3",
   "version": "3.6.4"
  }
 },
 "nbformat": 4,
 "nbformat_minor": 2
}
